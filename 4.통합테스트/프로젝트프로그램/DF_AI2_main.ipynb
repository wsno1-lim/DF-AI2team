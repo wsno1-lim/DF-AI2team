{
 "cells": [
  {
   "cell_type": "code",
   "execution_count": null,
   "metadata": {},
   "outputs": [],
   "source": [
    "from model import makeFeatures, makeMLModel, makeDLModel\n",
    "from predict import readMe, backTesting, predictNext\n",
    "from get_feature_list import get_trading_trend, get_trading_trend_fix, get_feature_info_get, get_shift_feature, get_model_scaler, get_model_heatmap, get_graph\n",
    "from get_peakntopword import get_SAMSUNG_dataframe, get_SAMSUNG_Peaks, get_news, get_top_words\n",
    "\n",
    "def predict_stock(mode) :\n",
    "    if mode == \"1\" :\n",
    "        data = makeFeatures() \n",
    "        makeMLModel(data)\n",
    "        makeDLModel(data)\n",
    "    elif mode == \"2\" :\n",
    "        backTesting()    \n",
    "    elif mode == \"3\" :\n",
    "        predictNext()\n",
    "\n",
    "    elif mode == \"4\" :\n",
    "        print(\"분석리포트를 생성 중입니다.\")\n",
    "        samsung_etc = get_trading_trend_fix() \n",
    "        model_samsung = get_feature_info_get(samsung_etc)\n",
    "        model_samsung = get_shift_feature(model_samsung)\n",
    "        scaler_samsung = get_model_scaler(model_samsung)\n",
    "        get_model_heatmap(scaler_samsung)\n",
    "        get_graph(scaler_samsung)\n",
    "    \n",
    "    elif mode ==\"5\" :\n",
    "        print(\"PEAK출력/TOP10 WORD를 생성 중입니다.\")\n",
    "        output,model_samsung = get_SAMSUNG_dataframe()\n",
    "        get_SAMSUNG_Peaks(output)\n",
    "        pivot_df = get_news()\n",
    "        get_top_words(pivot_df, model_samsung,output)\n",
    "        \n",
    "def main():\n",
    "\n",
    "    print(\"*** 아래 모드를 선택해주세요. ***\\n\")\n",
    "    print(\"1. 데이터 불러오기\")\n",
    "    print(\"   머신러닝 모델 만들기\")\n",
    "    print(\"   딥러닝 모델 만들기\")\n",
    "    print(\"2. 만든 모델로 백테스팅 해보기\")\n",
    "    print(\"3. 만든 모델로 Up/Down 익일예측하기\")  \n",
    "    print(\"4. 분석리포트 만들기\")\n",
    "    print(\"5. PEAK출력/TOP10 WORD 만들기\\n\\n\")\n",
    "        \n",
    "    mode = input(\"모드를 입력해주세요 :\")\n",
    "    predict_stock(mode) \n",
    " \n",
    "main()"
   ]
  }
 ],
 "metadata": {
  "kernelspec": {
   "display_name": "Python 3",
   "language": "python",
   "name": "python3"
  },
  "language_info": {
   "codemirror_mode": {
    "name": "ipython",
    "version": 3
   },
   "file_extension": ".py",
   "mimetype": "text/x-python",
   "name": "python",
   "nbconvert_exporter": "python",
   "pygments_lexer": "ipython3",
   "version": "3.8.5"
  }
 },
 "nbformat": 4,
 "nbformat_minor": 4
}
