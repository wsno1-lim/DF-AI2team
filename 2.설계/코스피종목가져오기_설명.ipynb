{
  "nbformat": 4,
  "nbformat_minor": 0,
  "metadata": {
    "colab": {
      "name": "코스피종목가져오기.ipynb",
      "provenance": []
    },
    "kernelspec": {
      "name": "python3",
      "display_name": "Python 3"
    },
    "accelerator": "TPU"
  },
  "cells": [
    {
      "cell_type": "code",
      "metadata": {
        "colab": {
          "base_uri": "https://localhost:8080/"
        },
        "id": "pHoIbcY1sLKF",
        "outputId": "d440b7ff-ffee-407c-cb44-255e34ec6428"
      },
      "source": [
        "pip install -U finance_datareader\n"
      ],
      "execution_count": null,
      "outputs": [
        {
          "output_type": "stream",
          "text": [
            "Collecting finance_datareader\n",
            "  Downloading https://files.pythonhosted.org/packages/ed/10/1f819839aae5d08e6cc7b29425d278c10104a18e0155282aa2ce552e3fa2/finance_datareader-0.9.10-py3-none-any.whl\n",
            "Requirement already satisfied, skipping upgrade: requests>=2.3.0 in /usr/local/lib/python3.6/dist-packages (from finance_datareader) (2.23.0)\n",
            "Requirement already satisfied, skipping upgrade: tqdm in /usr/local/lib/python3.6/dist-packages (from finance_datareader) (4.41.1)\n",
            "Collecting requests-file\n",
            "  Downloading https://files.pythonhosted.org/packages/77/86/cdb5e8eaed90796aa83a6d9f75cfbd37af553c47a291cd47bc410ef9bdb2/requests_file-1.5.1-py2.py3-none-any.whl\n",
            "Requirement already satisfied, skipping upgrade: lxml in /usr/local/lib/python3.6/dist-packages (from finance_datareader) (4.2.6)\n",
            "Requirement already satisfied, skipping upgrade: pandas>=0.19.2 in /usr/local/lib/python3.6/dist-packages (from finance_datareader) (1.1.4)\n",
            "Requirement already satisfied, skipping upgrade: idna<3,>=2.5 in /usr/local/lib/python3.6/dist-packages (from requests>=2.3.0->finance_datareader) (2.10)\n",
            "Requirement already satisfied, skipping upgrade: urllib3!=1.25.0,!=1.25.1,<1.26,>=1.21.1 in /usr/local/lib/python3.6/dist-packages (from requests>=2.3.0->finance_datareader) (1.24.3)\n",
            "Requirement already satisfied, skipping upgrade: chardet<4,>=3.0.2 in /usr/local/lib/python3.6/dist-packages (from requests>=2.3.0->finance_datareader) (3.0.4)\n",
            "Requirement already satisfied, skipping upgrade: certifi>=2017.4.17 in /usr/local/lib/python3.6/dist-packages (from requests>=2.3.0->finance_datareader) (2020.11.8)\n",
            "Requirement already satisfied, skipping upgrade: six in /usr/local/lib/python3.6/dist-packages (from requests-file->finance_datareader) (1.15.0)\n",
            "Requirement already satisfied, skipping upgrade: python-dateutil>=2.7.3 in /usr/local/lib/python3.6/dist-packages (from pandas>=0.19.2->finance_datareader) (2.8.1)\n",
            "Requirement already satisfied, skipping upgrade: pytz>=2017.2 in /usr/local/lib/python3.6/dist-packages (from pandas>=0.19.2->finance_datareader) (2018.9)\n",
            "Requirement already satisfied, skipping upgrade: numpy>=1.15.4 in /usr/local/lib/python3.6/dist-packages (from pandas>=0.19.2->finance_datareader) (1.18.5)\n",
            "Installing collected packages: requests-file, finance-datareader\n",
            "Successfully installed finance-datareader-0.9.10 requests-file-1.5.1\n"
          ],
          "name": "stdout"
        }
      ]
    },
    {
      "cell_type": "code",
      "metadata": {
        "colab": {
          "base_uri": "https://localhost:8080/"
        },
        "id": "SFT2EOBJ9q4A",
        "outputId": "f1da0467-896f-4624-917c-58003b7102a3"
      },
      "source": [
        "pip install xmltodict"
      ],
      "execution_count": null,
      "outputs": [
        {
          "output_type": "stream",
          "text": [
            "Collecting xmltodict\n",
            "  Downloading https://files.pythonhosted.org/packages/28/fd/30d5c1d3ac29ce229f6bdc40bbc20b28f716e8b363140c26eff19122d8a5/xmltodict-0.12.0-py2.py3-none-any.whl\n",
            "Installing collected packages: xmltodict\n",
            "Successfully installed xmltodict-0.12.0\n"
          ],
          "name": "stdout"
        }
      ]
    },
    {
      "cell_type": "code",
      "metadata": {
        "id": "BUnexau5LgPc"
      },
      "source": [
        "import pandas as pd\n",
        "import FinanceDataReader as fdr\n",
        "from time import time\n",
        "from concurrent.futures import ProcessPoolExecutor"
      ],
      "execution_count": null,
      "outputs": []
    },
    {
      "cell_type": "code",
      "metadata": {
        "id": "tUVVdORhKlWg"
      },
      "source": [
        "#from google.colab import drive\n",
        "#drive.mount('/content/drive')\n",
        "#from google.colab import files\n",
        "#myfile = files.upload()"
      ],
      "execution_count": null,
      "outputs": []
    },
    {
      "cell_type": "code",
      "metadata": {
        "id": "vN6VzvgIKnxV"
      },
      "source": [
        "#filename = 'data.csv'\n",
        "#new_stock_code = pd.read_csv(filename)\n",
        "#new_stock_code.head()"
      ],
      "execution_count": null,
      "outputs": []
    },
    {
      "cell_type": "code",
      "metadata": {
        "colab": {
          "base_uri": "https://localhost:8080/",
          "height": 377
        },
        "id": "N3HV4I7Asctb",
        "outputId": "1516d7fe-7a3a-4f59-9c09-34fca1cbce2d"
      },
      "source": [
        "df_ksp = fdr.StockListing('KOSPI')\n",
        "df_ksp.head()\n"
      ],
      "execution_count": null,
      "outputs": [
        {
          "output_type": "execute_result",
          "data": {
            "text/html": [
              "<div>\n",
              "<style scoped>\n",
              "    .dataframe tbody tr th:only-of-type {\n",
              "        vertical-align: middle;\n",
              "    }\n",
              "\n",
              "    .dataframe tbody tr th {\n",
              "        vertical-align: top;\n",
              "    }\n",
              "\n",
              "    .dataframe thead th {\n",
              "        text-align: right;\n",
              "    }\n",
              "</style>\n",
              "<table border=\"1\" class=\"dataframe\">\n",
              "  <thead>\n",
              "    <tr style=\"text-align: right;\">\n",
              "      <th></th>\n",
              "      <th>Symbol</th>\n",
              "      <th>Market</th>\n",
              "      <th>Name</th>\n",
              "      <th>Sector</th>\n",
              "      <th>Industry</th>\n",
              "      <th>ListingDate</th>\n",
              "      <th>SettleMonth</th>\n",
              "      <th>Representative</th>\n",
              "      <th>HomePage</th>\n",
              "      <th>Region</th>\n",
              "    </tr>\n",
              "  </thead>\n",
              "  <tbody>\n",
              "    <tr>\n",
              "      <th>1</th>\n",
              "      <td>095570</td>\n",
              "      <td>KOSPI</td>\n",
              "      <td>AJ네트웍스</td>\n",
              "      <td>산업용 기계 및 장비 임대업</td>\n",
              "      <td>렌탈(파렛트, OA장비, 건설장비)</td>\n",
              "      <td>2015-08-21</td>\n",
              "      <td>12월</td>\n",
              "      <td>이현우</td>\n",
              "      <td>http://www.ajnet.co.kr</td>\n",
              "      <td>서울특별시</td>\n",
              "    </tr>\n",
              "    <tr>\n",
              "      <th>2</th>\n",
              "      <td>006840</td>\n",
              "      <td>KOSPI</td>\n",
              "      <td>AK홀딩스</td>\n",
              "      <td>기타 금융업</td>\n",
              "      <td>지주사업</td>\n",
              "      <td>1999-08-11</td>\n",
              "      <td>12월</td>\n",
              "      <td>채형석, 이석주(각자 대표이사)</td>\n",
              "      <td>http://www.aekyunggroup.co.kr</td>\n",
              "      <td>서울특별시</td>\n",
              "    </tr>\n",
              "    <tr>\n",
              "      <th>6</th>\n",
              "      <td>027410</td>\n",
              "      <td>KOSPI</td>\n",
              "      <td>BGF</td>\n",
              "      <td>기타 금융업</td>\n",
              "      <td>지주회사</td>\n",
              "      <td>2014-05-19</td>\n",
              "      <td>12월</td>\n",
              "      <td>홍정국</td>\n",
              "      <td>http://www.bgf.co.kr</td>\n",
              "      <td>서울특별시</td>\n",
              "    </tr>\n",
              "    <tr>\n",
              "      <th>7</th>\n",
              "      <td>282330</td>\n",
              "      <td>KOSPI</td>\n",
              "      <td>BGF리테일</td>\n",
              "      <td>종합 소매업</td>\n",
              "      <td>체인화 편의점</td>\n",
              "      <td>2017-12-08</td>\n",
              "      <td>12월</td>\n",
              "      <td>이건준</td>\n",
              "      <td>http://www.bgfretail.com</td>\n",
              "      <td>서울특별시</td>\n",
              "    </tr>\n",
              "    <tr>\n",
              "      <th>8</th>\n",
              "      <td>138930</td>\n",
              "      <td>KOSPI</td>\n",
              "      <td>BNK금융지주</td>\n",
              "      <td>기타 금융업</td>\n",
              "      <td>금융지주회사</td>\n",
              "      <td>2011-03-30</td>\n",
              "      <td>12월</td>\n",
              "      <td>김지완</td>\n",
              "      <td>http://www.bnkfg.com</td>\n",
              "      <td>부산광역시</td>\n",
              "    </tr>\n",
              "  </tbody>\n",
              "</table>\n",
              "</div>"
            ],
            "text/plain": [
              "   Symbol Market  ...                       HomePage Region\n",
              "1  095570  KOSPI  ...         http://www.ajnet.co.kr  서울특별시\n",
              "2  006840  KOSPI  ...  http://www.aekyunggroup.co.kr  서울특별시\n",
              "6  027410  KOSPI  ...           http://www.bgf.co.kr  서울특별시\n",
              "7  282330  KOSPI  ...       http://www.bgfretail.com  서울특별시\n",
              "8  138930  KOSPI  ...           http://www.bnkfg.com  부산광역시\n",
              "\n",
              "[5 rows x 10 columns]"
            ]
          },
          "metadata": {
            "tags": []
          },
          "execution_count": 6
        }
      ]
    },
    {
      "cell_type": "code",
      "metadata": {
        "id": "ltAnGcsCtDp5"
      },
      "source": [
        "stock_code = df_ksp[['Symbol','Name']]\n",
        "#stock_code.to_excel('code.xlsx')\n"
      ],
      "execution_count": null,
      "outputs": []
    },
    {
      "cell_type": "code",
      "metadata": {
        "id": "vlmnVhEW4fG0"
      },
      "source": [
        "import requests\n",
        "from bs4 import BeautifulSoup\n",
        "import pandas as pd\n",
        "import xmltodict\n",
        "import json"
      ],
      "execution_count": null,
      "outputs": []
    },
    {
      "cell_type": "code",
      "metadata": {
        "id": "qk6J0MIvs6y7"
      },
      "source": [
        "def get_daily_stock_price(stockCode,name,count):\n",
        "  global df\n",
        "  if (len(stockCode) == 6 ) :\n",
        "    headers = {'User-Agent':'Mozilla/5.0 (Windows NT 6.3; Win64; x64) AppleWebKit/537.36 (KHTML, like Gecko) Chrome/63.0.3239.132 Safari/537.36'}\n",
        "    url=f'https://fchart.stock.naver.com/sise.nhn?symbol={stockCode}&timeframe=day&count={count}&requestType=0'\n",
        "    #print(url)\n",
        "    rs = requests.get(url,headers = headers)\n",
        "    dt = xmltodict.parse(rs.text) # 변환된 xml 파일을 dictionary 형태로 변환\n",
        "    js = json.dumps(dt,indent=4)  # data 가공 편의를 위해서 json 형식으로 변환\n",
        "    js = json.loads(js)\n",
        "    data = pd.json_normalize(js['protocol']['chartdata']['item']) ## json_normalize를 이용해서 계층 구조를 없애고 dataframe으로 불러옴 \n",
        "    df = data['@data'].str.split('|',expand=True) ## data 행에서 '|'기호 기준으로 split 한후 다시 결합... 그리고 data type 이 string 이어야 split 할 수 있으므로 str.split사용\n",
        "    df.columns = ['data','open','high','low','close','Volume']\n",
        "    df['name'] = str(name)  ## NAME 행을 만들어 기업명 추가\n",
        "  return df"
      ],
      "execution_count": null,
      "outputs": []
    },
    {
      "cell_type": "markdown",
      "metadata": {
        "id": "w78Xq4hiLBvS"
      },
      "source": [
        "![xml내용.png](data:image/png;base64,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)"
      ]
    },
    {
      "cell_type": "markdown",
      "metadata": {
        "id": "ynflkPBoPRl2"
      },
      "source": [
        "![script내용.png](data:image/png;base64,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)"
      ]
    },
    {
      "cell_type": "code",
      "metadata": {
        "id": "IpAkmB3d_G71"
      },
      "source": [
        "tmp=[]\n",
        "\n",
        "for index,row in stock_code.iterrows():\n",
        "  tmp.append(get_daily_stock_price(row['Symbol'],row['Name'],'2500'))\n",
        "  #tmp.append(get_daily_stock_price(row['종목코드'],row['기업명'],'2'))\n",
        "  #print(tmp)\n",
        "  #tmp.append(get_daily_stock_price(row['종목코드']))"
      ],
      "execution_count": null,
      "outputs": []
    },
    {
      "cell_type": "code",
      "metadata": {
        "id": "g4B6bzKF2iJi"
      },
      "source": [
        "df_final = pd.concat(tmp,ignore_index=True)"
      ],
      "execution_count": null,
      "outputs": []
    },
    {
      "cell_type": "code",
      "metadata": {
        "colab": {
          "base_uri": "https://localhost:8080/",
          "height": 419
        },
        "id": "1nzjkJYeXBNX",
        "outputId": "b6ff8409-16b2-434f-9aea-969e556c7521"
      },
      "source": [
        "df_final.head()"
      ],
      "execution_count": null,
      "outputs": [
        {
          "output_type": "execute_result",
          "data": {
            "text/html": [
              "<div>\n",
              "<style scoped>\n",
              "    .dataframe tbody tr th:only-of-type {\n",
              "        vertical-align: middle;\n",
              "    }\n",
              "\n",
              "    .dataframe tbody tr th {\n",
              "        vertical-align: top;\n",
              "    }\n",
              "\n",
              "    .dataframe thead th {\n",
              "        text-align: right;\n",
              "    }\n",
              "</style>\n",
              "<table border=\"1\" class=\"dataframe\">\n",
              "  <thead>\n",
              "    <tr style=\"text-align: right;\">\n",
              "      <th></th>\n",
              "      <th>data</th>\n",
              "      <th>open</th>\n",
              "      <th>high</th>\n",
              "      <th>low</th>\n",
              "      <th>close</th>\n",
              "      <th>Volume</th>\n",
              "      <th>name</th>\n",
              "    </tr>\n",
              "  </thead>\n",
              "  <tbody>\n",
              "    <tr>\n",
              "      <th>0</th>\n",
              "      <td>20150821</td>\n",
              "      <td>6180</td>\n",
              "      <td>7300</td>\n",
              "      <td>5600</td>\n",
              "      <td>7100</td>\n",
              "      <td>1994022</td>\n",
              "      <td>AJ네트웍스</td>\n",
              "    </tr>\n",
              "    <tr>\n",
              "      <th>1</th>\n",
              "      <td>20150824</td>\n",
              "      <td>6700</td>\n",
              "      <td>6940</td>\n",
              "      <td>6240</td>\n",
              "      <td>6480</td>\n",
              "      <td>392831</td>\n",
              "      <td>AJ네트웍스</td>\n",
              "    </tr>\n",
              "    <tr>\n",
              "      <th>2</th>\n",
              "      <td>20150825</td>\n",
              "      <td>6610</td>\n",
              "      <td>6730</td>\n",
              "      <td>6189</td>\n",
              "      <td>6220</td>\n",
              "      <td>242730</td>\n",
              "      <td>AJ네트웍스</td>\n",
              "    </tr>\n",
              "    <tr>\n",
              "      <th>3</th>\n",
              "      <td>20150826</td>\n",
              "      <td>6260</td>\n",
              "      <td>7760</td>\n",
              "      <td>6260</td>\n",
              "      <td>7090</td>\n",
              "      <td>703721</td>\n",
              "      <td>AJ네트웍스</td>\n",
              "    </tr>\n",
              "    <tr>\n",
              "      <th>4</th>\n",
              "      <td>20150827</td>\n",
              "      <td>7239</td>\n",
              "      <td>8060</td>\n",
              "      <td>6960</td>\n",
              "      <td>7570</td>\n",
              "      <td>499913</td>\n",
              "      <td>AJ네트웍스</td>\n",
              "    </tr>\n",
              "    <tr>\n",
              "      <th>...</th>\n",
              "      <td>...</td>\n",
              "      <td>...</td>\n",
              "      <td>...</td>\n",
              "      <td>...</td>\n",
              "      <td>...</td>\n",
              "      <td>...</td>\n",
              "      <td>...</td>\n",
              "    </tr>\n",
              "    <tr>\n",
              "      <th>2236123</th>\n",
              "      <td>20201201</td>\n",
              "      <td>0</td>\n",
              "      <td>0</td>\n",
              "      <td>0</td>\n",
              "      <td>258</td>\n",
              "      <td>0</td>\n",
              "      <td>흥아해운</td>\n",
              "    </tr>\n",
              "    <tr>\n",
              "      <th>2236124</th>\n",
              "      <td>20201202</td>\n",
              "      <td>0</td>\n",
              "      <td>0</td>\n",
              "      <td>0</td>\n",
              "      <td>258</td>\n",
              "      <td>0</td>\n",
              "      <td>흥아해운</td>\n",
              "    </tr>\n",
              "    <tr>\n",
              "      <th>2236125</th>\n",
              "      <td>20201203</td>\n",
              "      <td>0</td>\n",
              "      <td>0</td>\n",
              "      <td>0</td>\n",
              "      <td>258</td>\n",
              "      <td>0</td>\n",
              "      <td>흥아해운</td>\n",
              "    </tr>\n",
              "    <tr>\n",
              "      <th>2236126</th>\n",
              "      <td>20201204</td>\n",
              "      <td>0</td>\n",
              "      <td>0</td>\n",
              "      <td>0</td>\n",
              "      <td>258</td>\n",
              "      <td>0</td>\n",
              "      <td>흥아해운</td>\n",
              "    </tr>\n",
              "    <tr>\n",
              "      <th>2236127</th>\n",
              "      <td>20201207</td>\n",
              "      <td>0</td>\n",
              "      <td>0</td>\n",
              "      <td>0</td>\n",
              "      <td>258</td>\n",
              "      <td>0</td>\n",
              "      <td>흥아해운</td>\n",
              "    </tr>\n",
              "  </tbody>\n",
              "</table>\n",
              "<p>2236128 rows × 7 columns</p>\n",
              "</div>"
            ],
            "text/plain": [
              "             data  open  high   low close   Volume    name\n",
              "0        20150821  6180  7300  5600  7100  1994022  AJ네트웍스\n",
              "1        20150824  6700  6940  6240  6480   392831  AJ네트웍스\n",
              "2        20150825  6610  6730  6189  6220   242730  AJ네트웍스\n",
              "3        20150826  6260  7760  6260  7090   703721  AJ네트웍스\n",
              "4        20150827  7239  8060  6960  7570   499913  AJ네트웍스\n",
              "...           ...   ...   ...   ...   ...      ...     ...\n",
              "2236123  20201201     0     0     0   258        0    흥아해운\n",
              "2236124  20201202     0     0     0   258        0    흥아해운\n",
              "2236125  20201203     0     0     0   258        0    흥아해운\n",
              "2236126  20201204     0     0     0   258        0    흥아해운\n",
              "2236127  20201207     0     0     0   258        0    흥아해운\n",
              "\n",
              "[2236128 rows x 7 columns]"
            ]
          },
          "metadata": {
            "tags": []
          },
          "execution_count": 20
        }
      ]
    },
    {
      "cell_type": "code",
      "metadata": {
        "id": "5wofBPBjs9FT"
      },
      "source": [
        "\n",
        "df_final.to_csv('NEW_KOSPI_10_years_data.csv',encoding='euc-kr')\n"
      ],
      "execution_count": null,
      "outputs": []
    },
    {
      "cell_type": "code",
      "metadata": {
        "id": "Sn-xtFEK2hB-"
      },
      "source": [
        ""
      ],
      "execution_count": null,
      "outputs": []
    }
  ]
}