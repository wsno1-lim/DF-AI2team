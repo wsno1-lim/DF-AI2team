{
 "cells": [
  {
   "cell_type": "code",
   "execution_count": 414,
   "metadata": {},
   "outputs": [],
   "source": [
    "import numpy as np # linear algebra\n",
    "import pandas as pd # data processing, CSV file I/O (e.g. pd.read_csv)"
   ]
  },
  {
   "cell_type": "code",
   "execution_count": 415,
   "metadata": {},
   "outputs": [],
   "source": [
    "#conda install -c conda-forge scikit-plot"
   ]
  },
  {
   "cell_type": "code",
   "execution_count": 416,
   "metadata": {},
   "outputs": [],
   "source": [
    "#!pip install yfinance\n",
    "#!pip install investpy\n",
    "#!pip install pykrx\n",
    "#!pip install seaborn\n",
    "#!pip install workalendar\n",
    "#!pip install --upgrade finance-datareader\n",
    "#!pip install TA_Lib-0.4.19-cp38-cp38-win_amd64.whl\n",
    "#!pip install -U finance-datareader\n",
    "#!pip install keras"
   ]
  },
  {
   "cell_type": "code",
   "execution_count": 417,
   "metadata": {},
   "outputs": [],
   "source": [
    "#!pip install TA_Lib-0.4.19-cp38-cp38-win_amd64.whl"
   ]
  },
  {
   "cell_type": "code",
   "execution_count": 418,
   "metadata": {},
   "outputs": [],
   "source": [
    "from pandas_datareader import data, wb\n",
    "import pandas as pd\n",
    "import numpy as np\n",
    "import datetime\n",
    "import yfinance as yf # yahoo finance API    # pip install yfinance\n",
    "import investpy # investing.com API          # pip install investpy\n",
    "from pykrx import stock # krx API           # pip instasll pykrx\n",
    "import talib as ta # 기술적 분석 (보조지표)\n",
    "import FinanceDataReader as fdr\n",
    "import matplotlib.pyplot as plt\n",
    "%matplotlib inline"
   ]
  },
  {
   "cell_type": "code",
   "execution_count": 576,
   "metadata": {},
   "outputs": [
    {
     "name": "stdout",
     "output_type": "stream",
     "text": [
      "YYYY-MM-DD 형식을 지켜 입력해주세요 ex) 2018-01-01 : 2009-01-01\n",
      "YYYY-MM-DD 형식을 지켜 입력해주세요 ex) 2020-10-13 : 2021-01-31\n",
      "YYYY-MM-DD 형식을 지켜 입력해주세요 ex) 2020-10-13 : 2019-12-31\n"
     ]
    }
   ],
   "source": [
    "# 크롤링 start_date, end_date\n",
    "start_date=input('YYYY-MM-DD 형식을 지켜 입력해주세요 ex) 2018-01-01 : ')\n",
    "end_date=input('YYYY-MM-DD 형식을 지켜 입력해주세요 ex) 2020-10-13 : ')\n",
    "train_date =input('YYYY-MM-DD 형식을 지켜 입력해주세요 ex) 2020-10-13 : ')"
   ]
  },
  {
   "cell_type": "code",
   "execution_count": 577,
   "metadata": {},
   "outputs": [],
   "source": [
    "# 데이터 수집기간 입력\n",
    "# yahoo finance 양식, ex) yyyy-mm-dd\n",
    "#start_date = '2018-01-01'\n",
    "#end_date = '2020-10-13'\n",
    "\n",
    "# investing.com 양식, ex) dd/mm/yyyy\n",
    "start_date_ = start_date[8:] + '/' + start_date[5:7] + '/' + start_date[:4]\n",
    "end_date_ = end_date[8:] + '/' + end_date[5:7] + '/' + end_date[:4]\n",
    "\n",
    "# krx 양식 ex) yyyymmdd\n",
    "start_date__ = start_date[0:4] + start_date[5:7] + start_date[8:10]\n",
    "end_date__ = end_date[0:4] + end_date[5:7] + end_date[8:10]"
   ]
  },
  {
   "cell_type": "code",
   "execution_count": 578,
   "metadata": {},
   "outputs": [
    {
     "name": "stdout",
     "output_type": "stream",
     "text": [
      "[*********************100%***********************]  1 of 1 completed\n",
      "[*********************100%***********************]  1 of 1 completed\n",
      "[*********************100%***********************]  1 of 1 completed\n",
      "[*********************100%***********************]  1 of 1 completed\n"
     ]
    }
   ],
   "source": [
    "# 주요 3개국 대비 원 환율\n",
    "\n",
    "# 달러/원\n",
    "exchange_rate_usd_ = investpy.get_currency_cross_historical_data(currency_cross='USD/KRW', from_date=start_date_, to_date=end_date_)\n",
    "exchange_rate_usd_.columns = ['exchange_rate_usd_Open', 'exchange_rate_usd_High', 'exchange_rate_usd_Low', 'exchange_rate_usd_Close', 'exchange_rate_usd_Currency']\n",
    "exchange_rate_usd_ = exchange_rate_usd_.drop(['exchange_rate_usd_Open','exchange_rate_usd_High','exchange_rate_usd_Low','exchange_rate_usd_Currency'], axis=1)\n",
    "\n",
    "# NASDAQ\n",
    "nasdaq_ = yf.download(\"^IXIC\", start=start_date, end=end_date)\n",
    "nasdaq_.columns = ['nasdaq_Open','nasdaq_High','nasdaq_Low','nasdaq_Close','nasdaq_Adj Close','nasdaq_Volume']\n",
    "nasdaq_ = nasdaq_.drop(['nasdaq_Open','nasdaq_High','nasdaq_Low','nasdaq_Adj Close','nasdaq_Volume'], axis=1)\n",
    "\n",
    "# Russell 2000\n",
    "russell_2000_ = yf.download(\"^RUT\", start=start_date, end=end_date)\n",
    "russell_2000_.columns = ['russell_2000_Open','russell_2000_High','russell_2000_Low','russell_2000_Close','russell_2000_Adj Close','russell_2000_Volume']\n",
    "russell_2000_ = russell_2000_.drop(['russell_2000_Open','russell_2000_High','russell_2000_Low','russell_2000_Adj Close','russell_2000_Volume'], axis=1)\n",
    "\n",
    "# 삼성 차트 데이터\n",
    "sam_ = stock.get_market_ohlcv_by_date(start_date__, end_date__, \"005930\")\n",
    "sam_.columns = ['Open','High','Low','Close','Volume']\n",
    "model_samsung = sam_.copy()\n",
    "\n",
    "# 3) MACD 이동평균수렴확산 (단기(EMA12)와 장기(EMA26) EMA로 모멘텀을 추정)\n",
    "macd, macdsignal9, macdhist = ta.MACD(model_samsung.Close, fastperiod=12, slowperiod=26, signalperiod=9)\n",
    "model_samsung['macd'] = macd\n",
    "model_samsung['macdsignal9'] = macdsignal9\n",
    "model_samsung['macdhist'] = macdhist\n",
    "\n",
    "# 2) 볼린저밴드 (주가의 이동평균선을 중심으로 표준편차 범위를 표시)\n",
    "ubb, mbb, lbb = ta.BBANDS(model_samsung.Close, 20, 2)\n",
    "model_samsung['ubb'] = ubb\n",
    "model_samsung['mbb'] = mbb\n",
    "model_samsung['lbb'] = lbb\n",
    "\n",
    "# 1) 이평선(SMA, EMA, WMA) (w = 5,10,15,20,30,60,120)\n",
    "model_samsung['ma_5'] = ta.SMA(model_samsung.Close, timeperiod=5)\n",
    "model_samsung['ma_10'] = ta.SMA(model_samsung.Close, timeperiod=10)\n",
    "model_samsung['ma_15'] = ta.SMA(model_samsung.Close, timeperiod=15)\n",
    "model_samsung['ma_20'] = ta.SMA(model_samsung.Close, timeperiod=20)\n",
    "model_samsung['ma_30'] = ta.SMA(model_samsung.Close, timeperiod=30)\n",
    "model_samsung['ma_60'] = ta.SMA(model_samsung.Close, timeperiod=60)\n",
    "model_samsung['ma_120'] = ta.SMA(model_samsung.Close, timeperiod=120)\n",
    "\n",
    "MSCI_KR = fdr.DataReader('156080', start_date,end_date) #MSCI KOREA\n",
    "MSCI_KR = MSCI_KR.drop(['Open','High','Low', 'Change','Volume'], axis=1) \n",
    "MSCI_KR.columns = ['MSCI_KR']\n",
    "\n",
    "# SOX 지수\n",
    "SOX = yf.download(\"^SOX\", start=start_date, end=end_date)\n",
    "SOX.columns = ['SOXX_Open','SOXX_High','SOXX_Low','SOXX_Close','SOXX_Adj Close','SOXX_Volume']\n",
    "SOX = SOX.drop(['SOXX_Open','SOXX_High','SOXX_Low','SOXX_Adj Close','SOXX_Volume'], axis=1)\n",
    "\n",
    "# 미국 국채 수익률 (5년)\n",
    "treasury_5y_ = yf.download(\"^FVX\", start=start_date, end=end_date)\n",
    "treasury_5y_.columns = ['treasury_5y_Open','treasury_5y_High','treasury_5y_Low','treasury_5y_Close','treasury_5y_Adj Close','treasury_5y_Volume']\n",
    "treasury_5y_ = treasury_5y_.drop(['treasury_5y_Open','treasury_5y_High','treasury_5y_Low','treasury_5y_Adj Close','treasury_5y_Volume'], axis=1)\n"
   ]
  },
  {
   "cell_type": "code",
   "execution_count": 579,
   "metadata": {},
   "outputs": [],
   "source": [
    "model_samsung['exchange_rate_usd'] = exchange_rate_usd_\n",
    "model_samsung['nasdaq'] = nasdaq_\n",
    "model_samsung['russell_2000'] = russell_2000_\n",
    "model_samsung['MSCI_KR'] = MSCI_KR\n",
    "model_samsung['SOX'] = SOX\n",
    "model_samsung['treasury_5y'] = treasury_5y_"
   ]
  },
  {
   "cell_type": "code",
   "execution_count": 580,
   "metadata": {},
   "outputs": [
    {
     "data": {
      "text/html": [
       "<div>\n",
       "<style scoped>\n",
       "    .dataframe tbody tr th:only-of-type {\n",
       "        vertical-align: middle;\n",
       "    }\n",
       "\n",
       "    .dataframe tbody tr th {\n",
       "        vertical-align: top;\n",
       "    }\n",
       "\n",
       "    .dataframe thead th {\n",
       "        text-align: right;\n",
       "    }\n",
       "</style>\n",
       "<table border=\"1\" class=\"dataframe\">\n",
       "  <thead>\n",
       "    <tr style=\"text-align: right;\">\n",
       "      <th></th>\n",
       "      <th>Open</th>\n",
       "      <th>High</th>\n",
       "      <th>Low</th>\n",
       "      <th>Close</th>\n",
       "      <th>Volume</th>\n",
       "      <th>macd</th>\n",
       "      <th>macdsignal9</th>\n",
       "      <th>macdhist</th>\n",
       "      <th>ubb</th>\n",
       "      <th>mbb</th>\n",
       "      <th>...</th>\n",
       "      <th>ma_30</th>\n",
       "      <th>ma_60</th>\n",
       "      <th>ma_120</th>\n",
       "      <th>exchange_rate_usd</th>\n",
       "      <th>nasdaq</th>\n",
       "      <th>russell_2000</th>\n",
       "      <th>MSCI_KR</th>\n",
       "      <th>SOX</th>\n",
       "      <th>treasury_5y</th>\n",
       "      <th>Labeling</th>\n",
       "    </tr>\n",
       "    <tr>\n",
       "      <th>날짜</th>\n",
       "      <th></th>\n",
       "      <th></th>\n",
       "      <th></th>\n",
       "      <th></th>\n",
       "      <th></th>\n",
       "      <th></th>\n",
       "      <th></th>\n",
       "      <th></th>\n",
       "      <th></th>\n",
       "      <th></th>\n",
       "      <th></th>\n",
       "      <th></th>\n",
       "      <th></th>\n",
       "      <th></th>\n",
       "      <th></th>\n",
       "      <th></th>\n",
       "      <th></th>\n",
       "      <th></th>\n",
       "      <th></th>\n",
       "      <th></th>\n",
       "      <th></th>\n",
       "    </tr>\n",
       "  </thead>\n",
       "  <tbody>\n",
       "    <tr>\n",
       "      <th>2012-04-30</th>\n",
       "      <td>27900</td>\n",
       "      <td>28180</td>\n",
       "      <td>27540</td>\n",
       "      <td>27800</td>\n",
       "      <td>315924</td>\n",
       "      <td>514.972445</td>\n",
       "      <td>386.143049</td>\n",
       "      <td>128.829397</td>\n",
       "      <td>27568.172985</td>\n",
       "      <td>26146.0</td>\n",
       "      <td>...</td>\n",
       "      <td>25918.000000</td>\n",
       "      <td>24566.000000</td>\n",
       "      <td>22634.000000</td>\n",
       "      <td>1130.15</td>\n",
       "      <td>3046.360107</td>\n",
       "      <td>816.880005</td>\n",
       "      <td>10609.0</td>\n",
       "      <td>413.390015</td>\n",
       "      <td>0.811</td>\n",
       "      <td>28200.0</td>\n",
       "    </tr>\n",
       "    <tr>\n",
       "      <th>2012-05-02</th>\n",
       "      <td>28200</td>\n",
       "      <td>28360</td>\n",
       "      <td>27980</td>\n",
       "      <td>28200</td>\n",
       "      <td>368585</td>\n",
       "      <td>619.193325</td>\n",
       "      <td>432.753104</td>\n",
       "      <td>186.440222</td>\n",
       "      <td>27933.771899</td>\n",
       "      <td>26257.0</td>\n",
       "      <td>...</td>\n",
       "      <td>26018.000000</td>\n",
       "      <td>24680.666667</td>\n",
       "      <td>22707.333333</td>\n",
       "      <td>1130.20</td>\n",
       "      <td>3059.850098</td>\n",
       "      <td>818.599976</td>\n",
       "      <td>10718.0</td>\n",
       "      <td>416.809998</td>\n",
       "      <td>0.819</td>\n",
       "      <td>28020.0</td>\n",
       "    </tr>\n",
       "    <tr>\n",
       "      <th>2012-05-03</th>\n",
       "      <td>28040</td>\n",
       "      <td>28200</td>\n",
       "      <td>27960</td>\n",
       "      <td>28020</td>\n",
       "      <td>206721</td>\n",
       "      <td>679.432553</td>\n",
       "      <td>482.088994</td>\n",
       "      <td>197.343559</td>\n",
       "      <td>28160.532041</td>\n",
       "      <td>26323.0</td>\n",
       "      <td>...</td>\n",
       "      <td>26107.333333</td>\n",
       "      <td>24789.666667</td>\n",
       "      <td>22776.666667</td>\n",
       "      <td>1131.25</td>\n",
       "      <td>3024.300049</td>\n",
       "      <td>806.590027</td>\n",
       "      <td>10655.0</td>\n",
       "      <td>406.489990</td>\n",
       "      <td>0.817</td>\n",
       "      <td>27200.0</td>\n",
       "    </tr>\n",
       "    <tr>\n",
       "      <th>2012-05-04</th>\n",
       "      <td>27499</td>\n",
       "      <td>27960</td>\n",
       "      <td>26980</td>\n",
       "      <td>27200</td>\n",
       "      <td>410013</td>\n",
       "      <td>653.472602</td>\n",
       "      <td>516.365715</td>\n",
       "      <td>137.106887</td>\n",
       "      <td>28239.902768</td>\n",
       "      <td>26363.0</td>\n",
       "      <td>...</td>\n",
       "      <td>26186.000000</td>\n",
       "      <td>24878.666667</td>\n",
       "      <td>22847.500000</td>\n",
       "      <td>1135.85</td>\n",
       "      <td>2956.340088</td>\n",
       "      <td>791.840027</td>\n",
       "      <td>10578.0</td>\n",
       "      <td>397.940002</td>\n",
       "      <td>0.784</td>\n",
       "      <td>26840.0</td>\n",
       "    </tr>\n",
       "    <tr>\n",
       "      <th>2012-05-07</th>\n",
       "      <td>26840</td>\n",
       "      <td>27060</td>\n",
       "      <td>26500</td>\n",
       "      <td>26840</td>\n",
       "      <td>378463</td>\n",
       "      <td>596.968679</td>\n",
       "      <td>532.486308</td>\n",
       "      <td>64.482371</td>\n",
       "      <td>28260.857895</td>\n",
       "      <td>26375.0</td>\n",
       "      <td>...</td>\n",
       "      <td>26242.000000</td>\n",
       "      <td>24962.000000</td>\n",
       "      <td>22907.333333</td>\n",
       "      <td>1138.50</td>\n",
       "      <td>2957.760010</td>\n",
       "      <td>793.809998</td>\n",
       "      <td>10377.0</td>\n",
       "      <td>396.920013</td>\n",
       "      <td>0.782</td>\n",
       "      <td>26820.0</td>\n",
       "    </tr>\n",
       "    <tr>\n",
       "      <th>...</th>\n",
       "      <td>...</td>\n",
       "      <td>...</td>\n",
       "      <td>...</td>\n",
       "      <td>...</td>\n",
       "      <td>...</td>\n",
       "      <td>...</td>\n",
       "      <td>...</td>\n",
       "      <td>...</td>\n",
       "      <td>...</td>\n",
       "      <td>...</td>\n",
       "      <td>...</td>\n",
       "      <td>...</td>\n",
       "      <td>...</td>\n",
       "      <td>...</td>\n",
       "      <td>...</td>\n",
       "      <td>...</td>\n",
       "      <td>...</td>\n",
       "      <td>...</td>\n",
       "      <td>...</td>\n",
       "      <td>...</td>\n",
       "      <td>...</td>\n",
       "    </tr>\n",
       "    <tr>\n",
       "      <th>2021-01-11</th>\n",
       "      <td>90000</td>\n",
       "      <td>96800</td>\n",
       "      <td>89500</td>\n",
       "      <td>91000</td>\n",
       "      <td>90306177</td>\n",
       "      <td>4877.198339</td>\n",
       "      <td>3842.490073</td>\n",
       "      <td>1034.708266</td>\n",
       "      <td>89159.064709</td>\n",
       "      <td>78040.0</td>\n",
       "      <td>...</td>\n",
       "      <td>75356.666667</td>\n",
       "      <td>68418.333333</td>\n",
       "      <td>62972.500000</td>\n",
       "      <td>1097.23</td>\n",
       "      <td>13036.429688</td>\n",
       "      <td>2091.010010</td>\n",
       "      <td>21055.0</td>\n",
       "      <td>2969.919922</td>\n",
       "      <td>0.498</td>\n",
       "      <td>90600.0</td>\n",
       "    </tr>\n",
       "    <tr>\n",
       "      <th>2021-01-12</th>\n",
       "      <td>90300</td>\n",
       "      <td>91400</td>\n",
       "      <td>87800</td>\n",
       "      <td>90600</td>\n",
       "      <td>48682416</td>\n",
       "      <td>5175.725651</td>\n",
       "      <td>4109.137188</td>\n",
       "      <td>1066.588463</td>\n",
       "      <td>91039.763720</td>\n",
       "      <td>78925.0</td>\n",
       "      <td>...</td>\n",
       "      <td>76110.000000</td>\n",
       "      <td>68928.333333</td>\n",
       "      <td>63279.166667</td>\n",
       "      <td>1094.48</td>\n",
       "      <td>13072.429688</td>\n",
       "      <td>2127.959961</td>\n",
       "      <td>20870.0</td>\n",
       "      <td>2988.020020</td>\n",
       "      <td>0.503</td>\n",
       "      <td>89700.0</td>\n",
       "    </tr>\n",
       "    <tr>\n",
       "      <th>2021-01-13</th>\n",
       "      <td>89800</td>\n",
       "      <td>91200</td>\n",
       "      <td>89100</td>\n",
       "      <td>89700</td>\n",
       "      <td>36068848</td>\n",
       "      <td>5278.837071</td>\n",
       "      <td>4343.077165</td>\n",
       "      <td>935.759906</td>\n",
       "      <td>92437.464314</td>\n",
       "      <td>79740.0</td>\n",
       "      <td>...</td>\n",
       "      <td>76826.666667</td>\n",
       "      <td>69431.666667</td>\n",
       "      <td>63573.333333</td>\n",
       "      <td>1097.12</td>\n",
       "      <td>13128.950195</td>\n",
       "      <td>2111.969971</td>\n",
       "      <td>21075.0</td>\n",
       "      <td>2991.949951</td>\n",
       "      <td>0.476</td>\n",
       "      <td>89700.0</td>\n",
       "    </tr>\n",
       "    <tr>\n",
       "      <th>2021-01-14</th>\n",
       "      <td>88700</td>\n",
       "      <td>90000</td>\n",
       "      <td>88700</td>\n",
       "      <td>89700</td>\n",
       "      <td>26393970</td>\n",
       "      <td>5299.464684</td>\n",
       "      <td>4534.354669</td>\n",
       "      <td>765.110015</td>\n",
       "      <td>93630.079228</td>\n",
       "      <td>80535.0</td>\n",
       "      <td>...</td>\n",
       "      <td>77593.333333</td>\n",
       "      <td>69926.666667</td>\n",
       "      <td>63869.166667</td>\n",
       "      <td>1095.88</td>\n",
       "      <td>13112.639648</td>\n",
       "      <td>2155.350098</td>\n",
       "      <td>20960.0</td>\n",
       "      <td>3055.639893</td>\n",
       "      <td>0.484</td>\n",
       "      <td>88000.0</td>\n",
       "    </tr>\n",
       "    <tr>\n",
       "      <th>2021-01-15</th>\n",
       "      <td>89800</td>\n",
       "      <td>91800</td>\n",
       "      <td>88000</td>\n",
       "      <td>88000</td>\n",
       "      <td>33431809</td>\n",
       "      <td>5119.620624</td>\n",
       "      <td>4651.407860</td>\n",
       "      <td>468.212764</td>\n",
       "      <td>94342.247802</td>\n",
       "      <td>81245.0</td>\n",
       "      <td>...</td>\n",
       "      <td>78266.666667</td>\n",
       "      <td>70378.333333</td>\n",
       "      <td>64141.666667</td>\n",
       "      <td>1103.27</td>\n",
       "      <td>12998.500000</td>\n",
       "      <td>2123.199951</td>\n",
       "      <td>20540.0</td>\n",
       "      <td>2992.770020</td>\n",
       "      <td>0.455</td>\n",
       "      <td>85000.0</td>\n",
       "    </tr>\n",
       "  </tbody>\n",
       "</table>\n",
       "<p>2060 rows × 25 columns</p>\n",
       "</div>"
      ],
      "text/plain": [
       "             Open   High    Low  Close    Volume         macd  macdsignal9  \\\n",
       "날짜                                                                           \n",
       "2012-04-30  27900  28180  27540  27800    315924   514.972445   386.143049   \n",
       "2012-05-02  28200  28360  27980  28200    368585   619.193325   432.753104   \n",
       "2012-05-03  28040  28200  27960  28020    206721   679.432553   482.088994   \n",
       "2012-05-04  27499  27960  26980  27200    410013   653.472602   516.365715   \n",
       "2012-05-07  26840  27060  26500  26840    378463   596.968679   532.486308   \n",
       "...           ...    ...    ...    ...       ...          ...          ...   \n",
       "2021-01-11  90000  96800  89500  91000  90306177  4877.198339  3842.490073   \n",
       "2021-01-12  90300  91400  87800  90600  48682416  5175.725651  4109.137188   \n",
       "2021-01-13  89800  91200  89100  89700  36068848  5278.837071  4343.077165   \n",
       "2021-01-14  88700  90000  88700  89700  26393970  5299.464684  4534.354669   \n",
       "2021-01-15  89800  91800  88000  88000  33431809  5119.620624  4651.407860   \n",
       "\n",
       "               macdhist           ubb      mbb  ...         ma_30  \\\n",
       "날짜                                              ...                 \n",
       "2012-04-30   128.829397  27568.172985  26146.0  ...  25918.000000   \n",
       "2012-05-02   186.440222  27933.771899  26257.0  ...  26018.000000   \n",
       "2012-05-03   197.343559  28160.532041  26323.0  ...  26107.333333   \n",
       "2012-05-04   137.106887  28239.902768  26363.0  ...  26186.000000   \n",
       "2012-05-07    64.482371  28260.857895  26375.0  ...  26242.000000   \n",
       "...                 ...           ...      ...  ...           ...   \n",
       "2021-01-11  1034.708266  89159.064709  78040.0  ...  75356.666667   \n",
       "2021-01-12  1066.588463  91039.763720  78925.0  ...  76110.000000   \n",
       "2021-01-13   935.759906  92437.464314  79740.0  ...  76826.666667   \n",
       "2021-01-14   765.110015  93630.079228  80535.0  ...  77593.333333   \n",
       "2021-01-15   468.212764  94342.247802  81245.0  ...  78266.666667   \n",
       "\n",
       "                   ma_60        ma_120  exchange_rate_usd        nasdaq  \\\n",
       "날짜                                                                        \n",
       "2012-04-30  24566.000000  22634.000000            1130.15   3046.360107   \n",
       "2012-05-02  24680.666667  22707.333333            1130.20   3059.850098   \n",
       "2012-05-03  24789.666667  22776.666667            1131.25   3024.300049   \n",
       "2012-05-04  24878.666667  22847.500000            1135.85   2956.340088   \n",
       "2012-05-07  24962.000000  22907.333333            1138.50   2957.760010   \n",
       "...                  ...           ...                ...           ...   \n",
       "2021-01-11  68418.333333  62972.500000            1097.23  13036.429688   \n",
       "2021-01-12  68928.333333  63279.166667            1094.48  13072.429688   \n",
       "2021-01-13  69431.666667  63573.333333            1097.12  13128.950195   \n",
       "2021-01-14  69926.666667  63869.166667            1095.88  13112.639648   \n",
       "2021-01-15  70378.333333  64141.666667            1103.27  12998.500000   \n",
       "\n",
       "            russell_2000  MSCI_KR          SOX  treasury_5y  Labeling  \n",
       "날짜                                                                     \n",
       "2012-04-30    816.880005  10609.0   413.390015        0.811   28200.0  \n",
       "2012-05-02    818.599976  10718.0   416.809998        0.819   28020.0  \n",
       "2012-05-03    806.590027  10655.0   406.489990        0.817   27200.0  \n",
       "2012-05-04    791.840027  10578.0   397.940002        0.784   26840.0  \n",
       "2012-05-07    793.809998  10377.0   396.920013        0.782   26820.0  \n",
       "...                  ...      ...          ...          ...       ...  \n",
       "2021-01-11   2091.010010  21055.0  2969.919922        0.498   90600.0  \n",
       "2021-01-12   2127.959961  20870.0  2988.020020        0.503   89700.0  \n",
       "2021-01-13   2111.969971  21075.0  2991.949951        0.476   89700.0  \n",
       "2021-01-14   2155.350098  20960.0  3055.639893        0.484   88000.0  \n",
       "2021-01-15   2123.199951  20540.0  2992.770020        0.455   85000.0  \n",
       "\n",
       "[2060 rows x 25 columns]"
      ]
     },
     "execution_count": 580,
     "metadata": {},
     "output_type": "execute_result"
    }
   ],
   "source": [
    "# samsung 모델\n",
    "model_samsung['Labeling'] = model_samsung['Close'].shift(-1)\n",
    "model_samsung = model_samsung.dropna() # 결측치가 있는 행 제거\n",
    "model_samsung"
   ]
  },
  {
   "cell_type": "code",
   "execution_count": 581,
   "metadata": {},
   "outputs": [],
   "source": [
    "from sklearn.preprocessing import StandardScaler\n",
    "from sklearn.preprocessing import MinMaxScaler\n",
    "\n",
    "from sklearn import preprocessing\n",
    "from sklearn.model_selection import TimeSeriesSplit\n",
    "from sklearn.model_selection import GridSearchCV"
   ]
  },
  {
   "cell_type": "code",
   "execution_count": 582,
   "metadata": {
    "scrolled": false
   },
   "outputs": [
    {
     "name": "stdout",
     "output_type": "stream",
     "text": [
      "(2060, 21)\n",
      "(1811, 21)\n"
     ]
    }
   ],
   "source": [
    "#4 test, train 나누기\n",
    "df_scaled = model_samsung.copy()\n",
    "df_scaled.drop(['Open', 'High', 'Low', 'Volume'], axis=1, inplace=True)\n",
    "train_set = df_scaled[:train_date].values\n",
    "\n",
    "print(df_scaled.shape)\n",
    "print(train_set.shape)\n",
    "#print(test_set.shape)"
   ]
  },
  {
   "cell_type": "code",
   "execution_count": 583,
   "metadata": {
    "scrolled": true
   },
   "outputs": [
    {
     "data": {
      "text/plain": [
       "21"
      ]
     },
     "execution_count": 583,
     "metadata": {},
     "output_type": "execute_result"
    }
   ],
   "source": [
    "train_set.shape[1]"
   ]
  },
  {
   "cell_type": "code",
   "execution_count": 590,
   "metadata": {},
   "outputs": [],
   "source": [
    "time_seq = 3\n",
    "X_train = []\n",
    "y_train = []\n",
    "for i in range(time_seq, train_set.shape[0]):\n",
    "    X_train.append(train_set[i-time_seq:i, 0:train_set.shape[1]-1])\n",
    "    y_train.append(train_set[i, train_set.shape[1]-1:])\n",
    "X_train, y_train = np.array(X_train), np.array(y_train)"
   ]
  },
  {
   "cell_type": "code",
   "execution_count": 591,
   "metadata": {},
   "outputs": [],
   "source": [
    "scalers = {}\n",
    "#sc2 = StandardScaler()\n",
    "sc2 = MinMaxScaler()\n",
    "for i in range(X_train.shape[1]):\n",
    "    scalers[i] = MinMaxScaler()\n",
    "    X_train[:, i, :] = scalers[i].fit_transform(X_train[:, i, :]) \n",
    "    \n",
    "y_train = sc2.fit_transform(y_train)"
   ]
  },
  {
   "cell_type": "code",
   "execution_count": 592,
   "metadata": {
    "scrolled": true
   },
   "outputs": [
    {
     "name": "stdout",
     "output_type": "stream",
     "text": [
      "(1808, 3, 20)\n",
      "(1808, 1)\n"
     ]
    }
   ],
   "source": [
    "print(X_train.shape)\n",
    "print(y_train.shape)"
   ]
  },
  {
   "cell_type": "code",
   "execution_count": 593,
   "metadata": {},
   "outputs": [],
   "source": [
    "X_test = []\n",
    "y_test = []\n",
    "for i in range(train_set.shape[0], df_scaled.shape[0]):\n",
    "    X_test.append(df_scaled.values[i-time_seq:i, 0:train_set.shape[1]-1])\n",
    "    y_test.append(df_scaled.values[i, train_set.shape[1]-1:])\n",
    "X_test, y_test = np.array(X_test), np.array(y_test)\n",
    "\n",
    "for i in range(X_test.shape[1]):\n",
    "    X_test[:, i, :] = scalers[i].transform(X_test[:, i, :]) \n",
    "\n",
    "y_test = sc2.transform(y_test)"
   ]
  },
  {
   "cell_type": "code",
   "execution_count": 594,
   "metadata": {},
   "outputs": [],
   "source": [
    "from keras.models import Sequential\n",
    "from keras.layers import Dense, LSTM, Dropout, GRU, Bidirectional"
   ]
  },
  {
   "cell_type": "code",
   "execution_count": 595,
   "metadata": {},
   "outputs": [
    {
     "name": "stdout",
     "output_type": "stream",
     "text": [
      "Epoch 00278: early stopping\n"
     ]
    }
   ],
   "source": [
    "#7 딥러닝에 적용하기\n",
    "from keras.callbacks import EarlyStopping\n",
    "# LSTM 모델 만들기\n",
    "model = Sequential()\n",
    "# LSTM 레이어를 쌓아올릴 때는 return_sequences 를 True로 설정한다\n",
    "# LSTM 을 사용하기 위해서는 3차원 데이터가 필요(batch_size, timesteps, input_dim)\n",
    "model.add(LSTM(60, return_sequences=True, input_shape=(X_train.shape[1], X_train.shape[2])))\n",
    "model.add(LSTM(30, return_sequences=False))\n",
    "model.add(Dense(1))\n",
    "\n",
    "model.compile(optimizer='adam', loss='mean_squared_error')\n",
    "es = EarlyStopping(monitor='val_loss', mode='min', patience=200, verbose=1)\n",
    "history = model.fit(X_train, y_train, batch_size=50, epochs=300, validation_data=(X_test, y_test), verbose=0, callbacks=[es]) #verbose=0, callbacks=[es])"
   ]
  },
  {
   "cell_type": "code",
   "execution_count": 596,
   "metadata": {},
   "outputs": [],
   "source": [
    "def drawLossChart(history):\n",
    "    from matplotlib import pyplot\n",
    "    # evaluate the model\n",
    "    train_loss = model.evaluate(X_train, y_train, verbose=0)\n",
    "    test_loss = model.evaluate(X_test, y_test, verbose=0)\n",
    "    print('Train: %.3f, Test: %.3f' % (train_loss, test_loss))\n",
    "    # plot training history\n",
    "    pyplot.plot(history.history['loss'], c=\"blue\",label='train')\n",
    "    pyplot.plot(history.history['val_loss'], c=\"red\", label='test')\n",
    "    pyplot.legend(loc='upper right')\n",
    "    pyplot.grid()\n",
    "    pyplot.xlabel('epoch')\n",
    "    pyplot.ylabel('loss')\n",
    "    pyplot.show()"
   ]
  },
  {
   "cell_type": "code",
   "execution_count": 597,
   "metadata": {
    "scrolled": false
   },
   "outputs": [
    {
     "name": "stdout",
     "output_type": "stream",
     "text": [
      "Train: 0.001, Test: 0.009\n"
     ]
    },
    {
     "data": {
      "image/png": "[encoded data removed]",
      "text/plain": [
       "<Figure size 432x288 with 1 Axes>"
      ]
     },
     "metadata": {
      "needs_background": "light"
     },
     "output_type": "display_data"
    }
   ],
   "source": [
    "#과적합 예방을 위해서는 epoch 3 정도에서 멈춘 모델을 사용하는 것이 좋을 것 같다\n",
    "drawLossChart(history)"
   ]
  },
  {
   "cell_type": "code",
   "execution_count": 598,
   "metadata": {},
   "outputs": [
    {
     "data": {
      "text/plain": [
       "0.09512424171573988"
      ]
     },
     "execution_count": 598,
     "metadata": {},
     "output_type": "execute_result"
    }
   ],
   "source": [
    "predictions = model.predict(X_test)\n",
    "rmse = np.sqrt(np.mean(((predictions - y_test) ** 2)))\n",
    "rmse"
   ]
  },
  {
   "cell_type": "code",
   "execution_count": 599,
   "metadata": {},
   "outputs": [
    {
     "data": {
      "text/plain": [
       "0.7066663294011718"
      ]
     },
     "execution_count": 599,
     "metadata": {},
     "output_type": "execute_result"
    }
   ],
   "source": [
    "# train set의 평균을 예측값으로 했을 때의 오차\n",
    "mu = y_train.mean()\n",
    "np.sqrt(np.mean((y_test - mu) ** 2))"
   ]
  },
  {
   "cell_type": "code",
   "execution_count": 600,
   "metadata": {
    "scrolled": true
   },
   "outputs": [
    {
     "data": {
      "image/png": "[encoded data removed]",
      "text/plain": [
       "<Figure size 1152x576 with 1 Axes>"
      ]
     },
     "metadata": {
      "needs_background": "light"
     },
     "output_type": "display_data"
    }
   ],
   "source": [
    "# 그래프로 확인\n",
    "train = df_scaled[:train_date][['Labeling']]\n",
    "valid = df_scaled[train_date:][['Labeling']]\n",
    "valid['Predictions'] = sc2.inverse_transform(predictions)\n",
    "\n",
    "plt.figure(figsize=(16, 8))\n",
    "plt.title('Model')\n",
    "plt.xlabel('Date', fontsize=18)\n",
    "plt.ylabel('prediction', fontsize=18)\n",
    "#plt.plot(train)\n",
    "plt.plot(valid['Labeling'])\n",
    "plt.plot(valid['Predictions'])\n",
    "plt.legend(['Val', 'Predictions'], loc='lower right')\n",
    "plt.show()"
   ]
  },
  {
   "cell_type": "code",
   "execution_count": 601,
   "metadata": {
    "scrolled": true
   },
   "outputs": [
    {
     "data": {
      "text/plain": [
       "'2020-01-30'"
      ]
     },
     "execution_count": 601,
     "metadata": {},
     "output_type": "execute_result"
    }
   ],
   "source": [
    "import datetime\n",
    "date_1 = pd.to_datetime(train_date)\n",
    "view_date = date_1 + datetime.timedelta(days=30)\n",
    "view_date = str(view_date)\n",
    "view_date = view_date[:10]\n",
    "view_date"
   ]
  },
  {
   "cell_type": "code",
   "execution_count": 602,
   "metadata": {
    "scrolled": true
   },
   "outputs": [
    {
     "data": {
      "image/png": "[encoded data removed]",
      "text/plain": [
       "<Figure size 1152x576 with 1 Axes>"
      ]
     },
     "metadata": {
      "needs_background": "light"
     },
     "output_type": "display_data"
    }
   ],
   "source": [
    "# 일부분 확대\n",
    "valid = df_scaled[train_date:][['Labeling']]\n",
    "valid['Predictions'] = sc2.inverse_transform(predictions)\n",
    "\n",
    "valid = valid[train_date:view_date]\n",
    "\n",
    "plt.figure(figsize=(16, 8))\n",
    "plt.title('Model')\n",
    "plt.xlabel('Date', fontsize=18)\n",
    "plt.ylabel('prediction', fontsize=18)\n",
    "#plt.plot(train)\n",
    "plt.plot(valid['Labeling'])\n",
    "plt.plot(valid['Predictions'])\n",
    "plt.legend(['Val', 'Predictions'], loc='lower right')\n",
    "plt.show()"
   ]
  },
  {
   "cell_type": "code",
   "execution_count": null,
   "metadata": {},
   "outputs": [],
   "source": []
  }
 ],
 "metadata": {
  "kernelspec": {
   "display_name": "Python 3",
   "language": "python",
   "name": "python3"
  },
  "language_info": {
   "codemirror_mode": {
    "name": "ipython",
    "version": 3
   },
   "file_extension": ".py",
   "mimetype": "text/x-python",
   "name": "python",
   "nbconvert_exporter": "python",
   "pygments_lexer": "ipython3",
   "version": "3.8.5"
  }
 },
 "nbformat": 4,
 "nbformat_minor": 4
}
