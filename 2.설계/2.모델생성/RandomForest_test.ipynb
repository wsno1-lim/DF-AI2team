{
 "cells": [
  {
   "cell_type": "code",
   "execution_count": 1,
   "metadata": {},
   "outputs": [],
   "source": [
    "#conda install -c conda-forge scikit-plot"
   ]
  },
  {
   "cell_type": "code",
   "execution_count": 2,
   "metadata": {},
   "outputs": [],
   "source": [
    "from pandas_datareader import data, wb\n",
    "import pandas as pd\n",
    "import numpy as np\n",
    "import datetime\n",
    "import yfinance as yf # yahoo finance API    # pip install yfinance\n",
    "import investpy # investing.com API          # pip install investpy\n",
    "from pykrx import stock # krx API           # pip instasll pykrx\n",
    "import talib as ta # 기술적 분석 (보조지표)\n",
    "import FinanceDataReader as fdr\n",
    "import matplotlib.pyplot as plt\n",
    "%matplotlib inline"
   ]
  },
  {
   "cell_type": "code",
   "execution_count": 3,
   "metadata": {},
   "outputs": [
    {
     "name": "stdout",
     "output_type": "stream",
     "text": [
      "YYYY-MM-DD 형식을 지켜 입력해주세요 ex) 2018-01-01 : 2017-01-01\n",
      "YYYY-MM-DD 형식을 지켜 입력해주세요 ex) 2020-10-13 : 2021-01-01\n"
     ]
    }
   ],
   "source": [
    "# 크롤링 start_date, end_date\n",
    "start_date=input('YYYY-MM-DD 형식을 지켜 입력해주세요 ex) 2018-01-01 : ')\n",
    "end_date=input('YYYY-MM-DD 형식을 지켜 입력해주세요 ex) 2020-10-13 : ')"
   ]
  },
  {
   "cell_type": "code",
   "execution_count": 115,
   "metadata": {},
   "outputs": [],
   "source": [
    "# 데이터 수집기간 입력\n",
    "# yahoo finance 양식, ex) yyyy-mm-dd\n",
    "#start_date = '2018-01-01'\n",
    "#end_date = '2020-10-13'\n",
    "\n",
    "# investing.com 양식, ex) dd/mm/yyyy\n",
    "start_date_ = start_date[8:] + '/' + start_date[5:7] + '/' + start_date[:4]\n",
    "end_date_ = end_date[8:] + '/' + end_date[5:7] + '/' + end_date[:4]\n",
    "\n",
    "# krx 양식 ex) yyyymmdd\n",
    "start_date__ = start_date[0:4] + start_date[5:7] + start_date[8:10]\n",
    "end_date__ = end_date[0:4] + end_date[5:7] + end_date[8:10]"
   ]
  },
  {
   "cell_type": "code",
   "execution_count": 116,
   "metadata": {},
   "outputs": [
    {
     "name": "stdout",
     "output_type": "stream",
     "text": [
      "[*********************100%***********************]  1 of 1 completed\n",
      "[*********************100%***********************]  1 of 1 completed\n",
      "[*********************100%***********************]  1 of 1 completed\n",
      "[*********************100%***********************]  1 of 1 completed\n",
      "[*********************100%***********************]  1 of 1 completed\n",
      "[*********************100%***********************]  1 of 1 completed\n"
     ]
    }
   ],
   "source": [
    "# 주요 3개국 대비 원 환율\n",
    "\n",
    "# 달러/원\n",
    "exchange_rate_usd_ = investpy.get_currency_cross_historical_data(currency_cross='USD/KRW', from_date=start_date_, to_date=end_date_)\n",
    "exchange_rate_usd_.columns = ['exchange_rate_usd_Open', 'exchange_rate_usd_High', 'exchange_rate_usd_Low', 'exchange_rate_usd_Close', 'exchange_rate_usd_Currency']\n",
    "exchange_rate_usd_ = exchange_rate_usd_.drop(['exchange_rate_usd_Open','exchange_rate_usd_High','exchange_rate_usd_Low','exchange_rate_usd_Currency'], axis=1)\n",
    "\n",
    "# S&P 500\n",
    "snp_500_ = yf.download(\"^GSPC\", start=start_date, end=end_date)\n",
    "snp_500_.columns = ['snp_500_Open','snp_500_High','snp_500_Low','snp_500_Close','snp_500_Adj Close','snp_500_Volume']\n",
    "snp_500_ = snp_500_.drop(['snp_500_Open','snp_500_High','snp_500_Low','snp_500_Adj Close','snp_500_Volume'], axis=1)\n",
    "\n",
    "# NASDAQ\n",
    "nasdaq_ = yf.download(\"^IXIC\", start=start_date, end=end_date)\n",
    "nasdaq_.columns = ['nasdaq_Open','nasdaq_High','nasdaq_Low','nasdaq_Close','nasdaq_Adj Close','nasdaq_Volume']\n",
    "nasdaq_ = nasdaq_.drop(['nasdaq_Open','nasdaq_High','nasdaq_Low','nasdaq_Adj Close','nasdaq_Volume'], axis=1)\n",
    "\n",
    "# Russell 2000\n",
    "russell_2000_ = yf.download(\"^RUT\", start=start_date, end=end_date)\n",
    "russell_2000_.columns = ['russell_2000_Open','russell_2000_High','russell_2000_Low','russell_2000_Close','russell_2000_Adj Close','russell_2000_Volume']\n",
    "russell_2000_ = russell_2000_.drop(['russell_2000_Open','russell_2000_High','russell_2000_Low','russell_2000_Adj Close','russell_2000_Volume'], axis=1)\n",
    "\n",
    "# 삼성 차트 데이터\n",
    "sam_ = stock.get_market_ohlcv_by_date(start_date__, end_date__, \"005930\")\n",
    "sam_.columns = ['Open','High','Low','Close','Volume']\n",
    "model_samsung = sam_.copy()\n",
    "\n",
    "# 3) MACD 이동평균수렴확산 (단기(EMA12)와 장기(EMA26) EMA로 모멘텀을 추정)\n",
    "macd, macdsignal9, macdhist = ta.MACD(model_samsung.Close, fastperiod=12, slowperiod=26, signalperiod=9)\n",
    "model_samsung['macd'] = macd\n",
    "model_samsung['macdsignal9'] = macdsignal9\n",
    "model_samsung['macdhist'] = macdhist\n",
    "\n",
    "MSCI_KR = fdr.DataReader('156080', start_date,end_date) #MSCI KOREA\n",
    "MSCI_KR = MSCI_KR.drop(['Open','High','Low', 'Change','Volume'], axis=1) \n",
    "MSCI_KR.columns = ['MSCI_KR']\n",
    "\n",
    "# 미국 국채 수익률 (5년)\n",
    "treasury_5y_ = yf.download(\"^FVX\", start=start_date, end=end_date)\n",
    "treasury_5y_.columns = ['treasury_5y_Open','treasury_5y_High','treasury_5y_Low','treasury_5y_Close','treasury_5y_Adj Close','treasury_5y_Volume']\n",
    "treasury_5y_ = treasury_5y_.drop(['treasury_5y_Open','treasury_5y_High','treasury_5y_Low','treasury_5y_Adj Close','treasury_5y_Volume'], axis=1)\n",
    "\n",
    "# 미국 국채 수익률 (10년)\n",
    "treasury_10y_ = yf.download(\"^TNX\", start=start_date, end=end_date)\n",
    "treasury_10y_.columns = ['treasury_10y_Open','treasury_10y_High','treasury_10y_Low','treasury_10y_Close','treasury_10y_Adj Close','treasury_10y_Volume']\n",
    "treasury_10y_ = treasury_10y_.drop(['treasury_10y_Open','treasury_10y_High','treasury_10y_Low','treasury_10y_Adj Close','treasury_10y_Volume'], axis=1)\n",
    "\n",
    "# 미국 국채 수익률 (30년)\n",
    "treasury_30y_ = yf.download(\"^TYX\", start=start_date, end=end_date)\n",
    "treasury_30y_.columns = ['treasury_30y_Open','treasury_30y_High','treasury_30y_Low','treasury_30y_Close','treasury_30y_Adj Close','treasury_30y_Volume']\n",
    "treasury_30y_ = treasury_30y_.drop(['treasury_30y_Open','treasury_30y_High','treasury_30y_Low','treasury_30y_Adj Close','treasury_30y_Volume'], axis=1)"
   ]
  },
  {
   "cell_type": "code",
   "execution_count": 117,
   "metadata": {},
   "outputs": [
    {
     "name": "stdout",
     "output_type": "stream",
     "text": [
      "[*********************100%***********************]  1 of 1 completed\n"
     ]
    }
   ],
   "source": [
    "# SOX 지수\n",
    "SOX = yf.download(\"^SOX\", start=start_date, end=end_date)\n",
    "SOX.columns = ['SOXX_Open','SOXX_High','SOXX_Low','SOXX_Close','SOXX_Adj Close','SOXX_Volume']\n",
    "SOX = SOX.drop(['SOXX_Open','SOXX_High','SOXX_Low','SOXX_Adj Close','SOXX_Volume'], axis=1)"
   ]
  },
  {
   "cell_type": "code",
   "execution_count": 118,
   "metadata": {},
   "outputs": [],
   "source": [
    "#model_samsung['US'] = exchange_rate_usd_\n",
    "model_samsung['SNP500'] = snp_500_\n",
    "model_samsung['RUSSELL2000'] = russell_2000_\n",
    "model_samsung['NASDAQ'] = nasdaq_\n",
    "model_samsung['MSCI_KR'] = MSCI_KR\n",
    "model_samsung['SOX'] = SOX\n",
    "#model_samsung['TREASURY_5Y']=treasury_5y_\n",
    "model_samsung['TREASURY_10Y']=treasury_10y_\n",
    "#model_samsung['TREASURY_30Y']=treasury_30y_"
   ]
  },
  {
   "cell_type": "code",
   "execution_count": 119,
   "metadata": {},
   "outputs": [],
   "source": [
    "model_samsung = model_samsung.dropna() # 결측치가 있는 행 제거"
   ]
  },
  {
   "cell_type": "code",
   "execution_count": 120,
   "metadata": {},
   "outputs": [],
   "source": [
    "df = model_samsung"
   ]
  },
  {
   "cell_type": "code",
   "execution_count": 121,
   "metadata": {},
   "outputs": [],
   "source": [
    "# Importing Libraries\n",
    "import seaborn as sns\n",
    "import matplotlib.pyplot as plt\n",
    "get_ipython().run_line_magic('matplotlib', 'inline')"
   ]
  },
  {
   "cell_type": "code",
   "execution_count": 122,
   "metadata": {},
   "outputs": [
    {
     "name": "stdout",
     "output_type": "stream",
     "text": [
      "<class 'pandas.core.frame.DataFrame'>\n",
      "DatetimeIndex: 910 entries, 2017-02-21 to 2020-12-30\n",
      "Data columns (total 14 columns):\n",
      " #   Column        Non-Null Count  Dtype  \n",
      "---  ------        --------------  -----  \n",
      " 0   Open          910 non-null    int32  \n",
      " 1   High          910 non-null    int32  \n",
      " 2   Low           910 non-null    int32  \n",
      " 3   Close         910 non-null    int32  \n",
      " 4   Volume        910 non-null    int32  \n",
      " 5   macd          910 non-null    float64\n",
      " 6   macdsignal9   910 non-null    float64\n",
      " 7   macdhist      910 non-null    float64\n",
      " 8   SNP500        910 non-null    float64\n",
      " 9   RUSSELL2000   910 non-null    float64\n",
      " 10  NASDAQ        910 non-null    float64\n",
      " 11  MSCI_KR       910 non-null    int64  \n",
      " 12  SOX           910 non-null    float64\n",
      " 13  TREASURY_10Y  910 non-null    float64\n",
      "dtypes: float64(8), int32(5), int64(1)\n",
      "memory usage: 88.9 KB\n"
     ]
    }
   ],
   "source": [
    "df.info()"
   ]
  },
  {
   "cell_type": "code",
   "execution_count": 123,
   "metadata": {},
   "outputs": [
    {
     "name": "stdout",
     "output_type": "stream",
     "text": [
      "                Open      High       Low     Close    Volume      macd  \\\n",
      "2017-02-21  0.487848  0.486593  0.491304  0.034214  0.003327  0.591511   \n",
      "2017-02-22  0.493671  0.483887  0.498465  0.042480  0.002690  0.598004   \n",
      "2017-02-23  0.493924  0.485117  0.498977  0.039724  0.003218  0.601011   \n",
      "2017-02-24  0.493165  0.480935  0.486701  0.017681  0.002929  0.591482   \n",
      "2017-02-27  0.481266  0.469127  0.482097  0.014007  0.002846  0.581545   \n",
      "\n",
      "            macdsignal9  macdhist    SNP500  RUSSELL2000    NASDAQ   MSCI_KR  \\\n",
      "2017-02-21     0.607806  0.522061  0.085436     0.412603  0.010150  0.213913   \n",
      "2017-02-22     0.602296  0.562403  0.083727     0.406225  0.009401  0.212315   \n",
      "2017-02-23     0.598610  0.584525  0.084388     0.397130  0.005866  0.218068   \n",
      "2017-02-24     0.593374  0.565727  0.086745     0.397031  0.007245  0.200916   \n",
      "2017-02-27     0.586800  0.549499  0.088354     0.410270  0.009580  0.194311   \n",
      "\n",
      "                 SOX  TREASURY_10Y  \n",
      "2017-02-21  0.016393      0.704936  \n",
      "2017-02-22  0.016194      0.701645  \n",
      "2017-02-23  0.007467      0.690676  \n",
      "2017-02-24  0.007235      0.664717  \n",
      "2017-02-27  0.012062      0.683729  \n"
     ]
    }
   ],
   "source": [
    "# 차트 비교분석을 위한 정규화\n",
    "from sklearn.preprocessing import MinMaxScaler\n",
    "min_max_scaler = MinMaxScaler()\n",
    "fitted = min_max_scaler.fit(df)\n",
    "output = min_max_scaler.transform(df)\n",
    "output = pd.DataFrame(output, columns=df.columns, index=list(df.index.values))\n",
    "print(output.head())"
   ]
  },
  {
   "cell_type": "code",
   "execution_count": 124,
   "metadata": {},
   "outputs": [
    {
     "data": {
      "image/png": "[encoded data removed]",
      "text/plain": [
       "<Figure size 432x288 with 1 Axes>"
      ]
     },
     "metadata": {
      "needs_background": "light"
     },
     "output_type": "display_data"
    }
   ],
   "source": [
    "# Line graph by seaborn\n",
    "ax = sns.lineplot(data=output[['Close', 'Volume', 'SOX']])\n",
    "\n",
    "plt.title('Line Graph  EDA DataFrame by seaborn', fontsize=20)\n",
    "plt.ylabel('Value', fontsize=14)\n",
    "plt.xlabel('Date', fontsize=14)\n",
    "plt.legend(fontsize=12, loc='best')\n",
    "plt.show()"
   ]
  },
  {
   "cell_type": "code",
   "execution_count": 131,
   "metadata": {},
   "outputs": [
    {
     "data": {
      "image/png": "[encoded data removed]",
      "text/plain": [
       "<Figure size 432x288 with 1 Axes>"
      ]
     },
     "metadata": {
      "needs_background": "light"
     },
     "output_type": "display_data"
    }
   ],
   "source": [
    "# Line graph by seaborn\n",
    "ax = sns.lineplot(data=output[['Close', 'macd', 'RUSSELL2000']])\n",
    "\n",
    "plt.title('Line Graph  EDA DataFrame by seaborn', fontsize=20)\n",
    "plt.ylabel('Value', fontsize=14)\n",
    "plt.xlabel('Date', fontsize=14)\n",
    "plt.legend(fontsize=12, loc='best')\n",
    "plt.show()"
   ]
  },
  {
   "cell_type": "code",
   "execution_count": 132,
   "metadata": {},
   "outputs": [],
   "source": [
    "from sklearn.preprocessing import StandardScaler\n",
    "\n",
    "from sklearn import preprocessing\n",
    "from sklearn.model_selection import TimeSeriesSplit\n",
    "from sklearn.model_selection import GridSearchCV"
   ]
  },
  {
   "cell_type": "code",
   "execution_count": 133,
   "metadata": {},
   "outputs": [],
   "source": [
    "# samsung 모델\n",
    "lst_label = ['a']\n",
    "for i in range(len(model_samsung)-1):\n",
    "    if model_samsung.iloc[i+1]['Close'] == model_samsung.iloc[i]['Close']:\n",
    "        lst_label.append(2) # 전일 주가 = 당일 주가 : 2\n",
    "    elif model_samsung.iloc[i+1]['Close'] > model_samsung.iloc[i]['Close']:\n",
    "        lst_label.append(0) # 전일 주가 < 당일 주가 : 0\n",
    "    else:\n",
    "        lst_label.append(1) # 전일 주가 > 당일 주가 : 1\n",
    "model_samsung['Labeling'] = lst_label\n",
    "model_samsung = model_samsung.drop(model_samsung[model_samsung['Labeling'] == 'a'].index) # 첫 행 삭제\n",
    "model_samsung = model_samsung.drop(model_samsung[model_samsung['Labeling'] == 2].index) # 전일 주가 = 당일 주가인 행 삭제\n",
    "model_samsung['Labeling'] = model_samsung['Labeling'].astype(\"category\")\n",
    "model_samsung = model_samsung.dropna() # 결측치가 있는 행 제거"
   ]
  },
  {
   "cell_type": "code",
   "execution_count": 134,
   "metadata": {},
   "outputs": [
    {
     "data": {
      "text/html": [
       "<div>\n",
       "<style scoped>\n",
       "    .dataframe tbody tr th:only-of-type {\n",
       "        vertical-align: middle;\n",
       "    }\n",
       "\n",
       "    .dataframe tbody tr th {\n",
       "        vertical-align: top;\n",
       "    }\n",
       "\n",
       "    .dataframe thead th {\n",
       "        text-align: right;\n",
       "    }\n",
       "</style>\n",
       "<table border=\"1\" class=\"dataframe\">\n",
       "  <thead>\n",
       "    <tr style=\"text-align: right;\">\n",
       "      <th></th>\n",
       "      <th>Close</th>\n",
       "      <th>macd</th>\n",
       "      <th>macdsignal9</th>\n",
       "      <th>macdhist</th>\n",
       "      <th>SNP500</th>\n",
       "      <th>RUSSELL2000</th>\n",
       "      <th>NASDAQ</th>\n",
       "      <th>MSCI_KR</th>\n",
       "      <th>SOX</th>\n",
       "      <th>TREASURY_10Y</th>\n",
       "      <th>Labeling</th>\n",
       "    </tr>\n",
       "    <tr>\n",
       "      <th>날짜</th>\n",
       "      <th></th>\n",
       "      <th></th>\n",
       "      <th></th>\n",
       "      <th></th>\n",
       "      <th></th>\n",
       "      <th></th>\n",
       "      <th></th>\n",
       "      <th></th>\n",
       "      <th></th>\n",
       "      <th></th>\n",
       "      <th></th>\n",
       "    </tr>\n",
       "  </thead>\n",
       "  <tbody>\n",
       "    <tr>\n",
       "      <th>2017-02-23</th>\n",
       "      <td>-1.599416</td>\n",
       "      <td>0.230985</td>\n",
       "      <td>0.359041</td>\n",
       "      <td>-0.314740</td>\n",
       "      <td>-1.486791</td>\n",
       "      <td>-0.934600</td>\n",
       "      <td>-1.356424</td>\n",
       "      <td>-1.424400</td>\n",
       "      <td>-1.320482</td>\n",
       "      <td>0.424903</td>\n",
       "      <td>1</td>\n",
       "    </tr>\n",
       "    <tr>\n",
       "      <th>2017-02-24</th>\n",
       "      <td>-1.747533</td>\n",
       "      <td>0.158902</td>\n",
       "      <td>0.323086</td>\n",
       "      <td>-0.439438</td>\n",
       "      <td>-1.475883</td>\n",
       "      <td>-0.935328</td>\n",
       "      <td>-1.350301</td>\n",
       "      <td>-1.556328</td>\n",
       "      <td>-1.321554</td>\n",
       "      <td>0.335891</td>\n",
       "      <td>1</td>\n",
       "    </tr>\n",
       "    <tr>\n",
       "      <th>2017-02-27</th>\n",
       "      <td>-1.772219</td>\n",
       "      <td>0.083729</td>\n",
       "      <td>0.277945</td>\n",
       "      <td>-0.547088</td>\n",
       "      <td>-1.468436</td>\n",
       "      <td>-0.837344</td>\n",
       "      <td>-1.339935</td>\n",
       "      <td>-1.607132</td>\n",
       "      <td>-1.299219</td>\n",
       "      <td>0.401082</td>\n",
       "      <td>1</td>\n",
       "    </tr>\n",
       "    <tr>\n",
       "      <th>2017-02-28</th>\n",
       "      <td>-1.713590</td>\n",
       "      <td>0.054498</td>\n",
       "      <td>0.235464</td>\n",
       "      <td>-0.515917</td>\n",
       "      <td>-1.487316</td>\n",
       "      <td>-0.992443</td>\n",
       "      <td>-1.362716</td>\n",
       "      <td>-1.526828</td>\n",
       "      <td>-1.331674</td>\n",
       "      <td>0.387292</td>\n",
       "      <td>0</td>\n",
       "    </tr>\n",
       "    <tr>\n",
       "      <th>2017-03-02</th>\n",
       "      <td>-1.516099</td>\n",
       "      <td>0.140774</td>\n",
       "      <td>0.220275</td>\n",
       "      <td>-0.196087</td>\n",
       "      <td>-1.430832</td>\n",
       "      <td>-0.926950</td>\n",
       "      <td>-1.340360</td>\n",
       "      <td>-1.486676</td>\n",
       "      <td>-1.319335</td>\n",
       "      <td>0.551525</td>\n",
       "      <td>0</td>\n",
       "    </tr>\n",
       "    <tr>\n",
       "      <th>...</th>\n",
       "      <td>...</td>\n",
       "      <td>...</td>\n",
       "      <td>...</td>\n",
       "      <td>...</td>\n",
       "      <td>...</td>\n",
       "      <td>...</td>\n",
       "      <td>...</td>\n",
       "      <td>...</td>\n",
       "      <td>...</td>\n",
       "      <td>...</td>\n",
       "      <td>...</td>\n",
       "    </tr>\n",
       "    <tr>\n",
       "      <th>2020-12-22</th>\n",
       "      <td>3.510641</td>\n",
       "      <td>2.347503</td>\n",
       "      <td>2.936102</td>\n",
       "      <td>-1.110330</td>\n",
       "      <td>2.602632</td>\n",
       "      <td>3.401931</td>\n",
       "      <td>3.000146</td>\n",
       "      <td>3.434811</td>\n",
       "      <td>3.091802</td>\n",
       "      <td>-1.418021</td>\n",
       "      <td>1</td>\n",
       "    </tr>\n",
       "    <tr>\n",
       "      <th>2020-12-23</th>\n",
       "      <td>3.757503</td>\n",
       "      <td>2.288489</td>\n",
       "      <td>2.848682</td>\n",
       "      <td>-1.042544</td>\n",
       "      <td>2.611130</td>\n",
       "      <td>3.527380</td>\n",
       "      <td>2.977146</td>\n",
       "      <td>3.664251</td>\n",
       "      <td>3.040852</td>\n",
       "      <td>-1.371634</td>\n",
       "      <td>0</td>\n",
       "    </tr>\n",
       "    <tr>\n",
       "      <th>2020-12-28</th>\n",
       "      <td>4.498091</td>\n",
       "      <td>2.813667</td>\n",
       "      <td>2.883918</td>\n",
       "      <td>0.530210</td>\n",
       "      <td>2.751260</td>\n",
       "      <td>3.448337</td>\n",
       "      <td>3.057318</td>\n",
       "      <td>3.967440</td>\n",
       "      <td>3.092625</td>\n",
       "      <td>-1.399215</td>\n",
       "      <td>0</td>\n",
       "    </tr>\n",
       "    <tr>\n",
       "      <th>2020-12-29</th>\n",
       "      <td>4.436376</td>\n",
       "      <td>2.945105</td>\n",
       "      <td>2.949983</td>\n",
       "      <td>0.756112</td>\n",
       "      <td>2.725551</td>\n",
       "      <td>3.179589</td>\n",
       "      <td>3.026576</td>\n",
       "      <td>4.299308</td>\n",
       "      <td>3.077046</td>\n",
       "      <td>-1.396708</td>\n",
       "      <td>1</td>\n",
       "    </tr>\n",
       "    <tr>\n",
       "      <th>2020-12-30</th>\n",
       "      <td>4.852956</td>\n",
       "      <td>3.249247</td>\n",
       "      <td>3.069096</td>\n",
       "      <td>1.377750</td>\n",
       "      <td>2.741001</td>\n",
       "      <td>3.329881</td>\n",
       "      <td>3.038935</td>\n",
       "      <td>4.590205</td>\n",
       "      <td>3.191011</td>\n",
       "      <td>-1.407991</td>\n",
       "      <td>0</td>\n",
       "    </tr>\n",
       "  </tbody>\n",
       "</table>\n",
       "<p>868 rows × 11 columns</p>\n",
       "</div>"
      ],
      "text/plain": [
       "               Close      macd  macdsignal9  macdhist    SNP500  RUSSELL2000  \\\n",
       "날짜                                                                             \n",
       "2017-02-23 -1.599416  0.230985     0.359041 -0.314740 -1.486791    -0.934600   \n",
       "2017-02-24 -1.747533  0.158902     0.323086 -0.439438 -1.475883    -0.935328   \n",
       "2017-02-27 -1.772219  0.083729     0.277945 -0.547088 -1.468436    -0.837344   \n",
       "2017-02-28 -1.713590  0.054498     0.235464 -0.515917 -1.487316    -0.992443   \n",
       "2017-03-02 -1.516099  0.140774     0.220275 -0.196087 -1.430832    -0.926950   \n",
       "...              ...       ...          ...       ...       ...          ...   \n",
       "2020-12-22  3.510641  2.347503     2.936102 -1.110330  2.602632     3.401931   \n",
       "2020-12-23  3.757503  2.288489     2.848682 -1.042544  2.611130     3.527380   \n",
       "2020-12-28  4.498091  2.813667     2.883918  0.530210  2.751260     3.448337   \n",
       "2020-12-29  4.436376  2.945105     2.949983  0.756112  2.725551     3.179589   \n",
       "2020-12-30  4.852956  3.249247     3.069096  1.377750  2.741001     3.329881   \n",
       "\n",
       "              NASDAQ   MSCI_KR       SOX  TREASURY_10Y Labeling  \n",
       "날짜                                                               \n",
       "2017-02-23 -1.356424 -1.424400 -1.320482      0.424903        1  \n",
       "2017-02-24 -1.350301 -1.556328 -1.321554      0.335891        1  \n",
       "2017-02-27 -1.339935 -1.607132 -1.299219      0.401082        1  \n",
       "2017-02-28 -1.362716 -1.526828 -1.331674      0.387292        0  \n",
       "2017-03-02 -1.340360 -1.486676 -1.319335      0.551525        0  \n",
       "...              ...       ...       ...           ...      ...  \n",
       "2020-12-22  3.000146  3.434811  3.091802     -1.418021        1  \n",
       "2020-12-23  2.977146  3.664251  3.040852     -1.371634        0  \n",
       "2020-12-28  3.057318  3.967440  3.092625     -1.399215        0  \n",
       "2020-12-29  3.026576  4.299308  3.077046     -1.396708        1  \n",
       "2020-12-30  3.038935  4.590205  3.191011     -1.407991        0  \n",
       "\n",
       "[868 rows x 11 columns]"
      ]
     },
     "execution_count": 134,
     "metadata": {},
     "output_type": "execute_result"
    }
   ],
   "source": [
    "# 데이터 정규화하기 \n",
    "sc = StandardScaler()\n",
    "df_scaled = pd.DataFrame(sc.fit_transform(model_samsung), columns=model_samsung.columns, index=model_samsung.index)\n",
    "\n",
    "# 값 넣기\n",
    "df_scaled.drop(['Open', 'High', 'Low', 'Volume', 'Labeling'], axis=1, inplace=True)\n",
    "df_scaled['Labeling'] = model_samsung['Labeling']\n",
    "df_scaled = df_scaled[1:]\n",
    "df_scaled"
   ]
  },
  {
   "cell_type": "code",
   "execution_count": 135,
   "metadata": {},
   "outputs": [],
   "source": [
    "df_scaled = df_scaled.dropna()\n",
    "y_var = df_scaled['Labeling']\n",
    "x_var = df_scaled.drop(['Labeling'], axis=1)"
   ]
  },
  {
   "cell_type": "code",
   "execution_count": 136,
   "metadata": {},
   "outputs": [
    {
     "data": {
      "text/html": [
       "<div>\n",
       "<style scoped>\n",
       "    .dataframe tbody tr th:only-of-type {\n",
       "        vertical-align: middle;\n",
       "    }\n",
       "\n",
       "    .dataframe tbody tr th {\n",
       "        vertical-align: top;\n",
       "    }\n",
       "\n",
       "    .dataframe thead th {\n",
       "        text-align: right;\n",
       "    }\n",
       "</style>\n",
       "<table border=\"1\" class=\"dataframe\">\n",
       "  <thead>\n",
       "    <tr style=\"text-align: right;\">\n",
       "      <th></th>\n",
       "      <th>Close</th>\n",
       "      <th>macd</th>\n",
       "      <th>macdsignal9</th>\n",
       "      <th>macdhist</th>\n",
       "      <th>SNP500</th>\n",
       "      <th>RUSSELL2000</th>\n",
       "      <th>NASDAQ</th>\n",
       "      <th>MSCI_KR</th>\n",
       "      <th>SOX</th>\n",
       "      <th>TREASURY_10Y</th>\n",
       "    </tr>\n",
       "    <tr>\n",
       "      <th>날짜</th>\n",
       "      <th></th>\n",
       "      <th></th>\n",
       "      <th></th>\n",
       "      <th></th>\n",
       "      <th></th>\n",
       "      <th></th>\n",
       "      <th></th>\n",
       "      <th></th>\n",
       "      <th></th>\n",
       "      <th></th>\n",
       "    </tr>\n",
       "  </thead>\n",
       "  <tbody>\n",
       "    <tr>\n",
       "      <th>2017-02-23</th>\n",
       "      <td>-1.599416</td>\n",
       "      <td>0.230985</td>\n",
       "      <td>0.359041</td>\n",
       "      <td>-0.314740</td>\n",
       "      <td>-1.486791</td>\n",
       "      <td>-0.934600</td>\n",
       "      <td>-1.356424</td>\n",
       "      <td>-1.424400</td>\n",
       "      <td>-1.320482</td>\n",
       "      <td>0.424903</td>\n",
       "    </tr>\n",
       "    <tr>\n",
       "      <th>2017-02-24</th>\n",
       "      <td>-1.747533</td>\n",
       "      <td>0.158902</td>\n",
       "      <td>0.323086</td>\n",
       "      <td>-0.439438</td>\n",
       "      <td>-1.475883</td>\n",
       "      <td>-0.935328</td>\n",
       "      <td>-1.350301</td>\n",
       "      <td>-1.556328</td>\n",
       "      <td>-1.321554</td>\n",
       "      <td>0.335891</td>\n",
       "    </tr>\n",
       "    <tr>\n",
       "      <th>2017-02-27</th>\n",
       "      <td>-1.772219</td>\n",
       "      <td>0.083729</td>\n",
       "      <td>0.277945</td>\n",
       "      <td>-0.547088</td>\n",
       "      <td>-1.468436</td>\n",
       "      <td>-0.837344</td>\n",
       "      <td>-1.339935</td>\n",
       "      <td>-1.607132</td>\n",
       "      <td>-1.299219</td>\n",
       "      <td>0.401082</td>\n",
       "    </tr>\n",
       "    <tr>\n",
       "      <th>2017-02-28</th>\n",
       "      <td>-1.713590</td>\n",
       "      <td>0.054498</td>\n",
       "      <td>0.235464</td>\n",
       "      <td>-0.515917</td>\n",
       "      <td>-1.487316</td>\n",
       "      <td>-0.992443</td>\n",
       "      <td>-1.362716</td>\n",
       "      <td>-1.526828</td>\n",
       "      <td>-1.331674</td>\n",
       "      <td>0.387292</td>\n",
       "    </tr>\n",
       "    <tr>\n",
       "      <th>2017-03-02</th>\n",
       "      <td>-1.516099</td>\n",
       "      <td>0.140774</td>\n",
       "      <td>0.220275</td>\n",
       "      <td>-0.196087</td>\n",
       "      <td>-1.430832</td>\n",
       "      <td>-0.926950</td>\n",
       "      <td>-1.340360</td>\n",
       "      <td>-1.486676</td>\n",
       "      <td>-1.319335</td>\n",
       "      <td>0.551525</td>\n",
       "    </tr>\n",
       "    <tr>\n",
       "      <th>...</th>\n",
       "      <td>...</td>\n",
       "      <td>...</td>\n",
       "      <td>...</td>\n",
       "      <td>...</td>\n",
       "      <td>...</td>\n",
       "      <td>...</td>\n",
       "      <td>...</td>\n",
       "      <td>...</td>\n",
       "      <td>...</td>\n",
       "      <td>...</td>\n",
       "    </tr>\n",
       "    <tr>\n",
       "      <th>2020-12-22</th>\n",
       "      <td>3.510641</td>\n",
       "      <td>2.347503</td>\n",
       "      <td>2.936102</td>\n",
       "      <td>-1.110330</td>\n",
       "      <td>2.602632</td>\n",
       "      <td>3.401931</td>\n",
       "      <td>3.000146</td>\n",
       "      <td>3.434811</td>\n",
       "      <td>3.091802</td>\n",
       "      <td>-1.418021</td>\n",
       "    </tr>\n",
       "    <tr>\n",
       "      <th>2020-12-23</th>\n",
       "      <td>3.757503</td>\n",
       "      <td>2.288489</td>\n",
       "      <td>2.848682</td>\n",
       "      <td>-1.042544</td>\n",
       "      <td>2.611130</td>\n",
       "      <td>3.527380</td>\n",
       "      <td>2.977146</td>\n",
       "      <td>3.664251</td>\n",
       "      <td>3.040852</td>\n",
       "      <td>-1.371634</td>\n",
       "    </tr>\n",
       "    <tr>\n",
       "      <th>2020-12-28</th>\n",
       "      <td>4.498091</td>\n",
       "      <td>2.813667</td>\n",
       "      <td>2.883918</td>\n",
       "      <td>0.530210</td>\n",
       "      <td>2.751260</td>\n",
       "      <td>3.448337</td>\n",
       "      <td>3.057318</td>\n",
       "      <td>3.967440</td>\n",
       "      <td>3.092625</td>\n",
       "      <td>-1.399215</td>\n",
       "    </tr>\n",
       "    <tr>\n",
       "      <th>2020-12-29</th>\n",
       "      <td>4.436376</td>\n",
       "      <td>2.945105</td>\n",
       "      <td>2.949983</td>\n",
       "      <td>0.756112</td>\n",
       "      <td>2.725551</td>\n",
       "      <td>3.179589</td>\n",
       "      <td>3.026576</td>\n",
       "      <td>4.299308</td>\n",
       "      <td>3.077046</td>\n",
       "      <td>-1.396708</td>\n",
       "    </tr>\n",
       "    <tr>\n",
       "      <th>2020-12-30</th>\n",
       "      <td>4.852956</td>\n",
       "      <td>3.249247</td>\n",
       "      <td>3.069096</td>\n",
       "      <td>1.377750</td>\n",
       "      <td>2.741001</td>\n",
       "      <td>3.329881</td>\n",
       "      <td>3.038935</td>\n",
       "      <td>4.590205</td>\n",
       "      <td>3.191011</td>\n",
       "      <td>-1.407991</td>\n",
       "    </tr>\n",
       "  </tbody>\n",
       "</table>\n",
       "<p>868 rows × 10 columns</p>\n",
       "</div>"
      ],
      "text/plain": [
       "               Close      macd  macdsignal9  macdhist    SNP500  RUSSELL2000  \\\n",
       "날짜                                                                             \n",
       "2017-02-23 -1.599416  0.230985     0.359041 -0.314740 -1.486791    -0.934600   \n",
       "2017-02-24 -1.747533  0.158902     0.323086 -0.439438 -1.475883    -0.935328   \n",
       "2017-02-27 -1.772219  0.083729     0.277945 -0.547088 -1.468436    -0.837344   \n",
       "2017-02-28 -1.713590  0.054498     0.235464 -0.515917 -1.487316    -0.992443   \n",
       "2017-03-02 -1.516099  0.140774     0.220275 -0.196087 -1.430832    -0.926950   \n",
       "...              ...       ...          ...       ...       ...          ...   \n",
       "2020-12-22  3.510641  2.347503     2.936102 -1.110330  2.602632     3.401931   \n",
       "2020-12-23  3.757503  2.288489     2.848682 -1.042544  2.611130     3.527380   \n",
       "2020-12-28  4.498091  2.813667     2.883918  0.530210  2.751260     3.448337   \n",
       "2020-12-29  4.436376  2.945105     2.949983  0.756112  2.725551     3.179589   \n",
       "2020-12-30  4.852956  3.249247     3.069096  1.377750  2.741001     3.329881   \n",
       "\n",
       "              NASDAQ   MSCI_KR       SOX  TREASURY_10Y  \n",
       "날짜                                                      \n",
       "2017-02-23 -1.356424 -1.424400 -1.320482      0.424903  \n",
       "2017-02-24 -1.350301 -1.556328 -1.321554      0.335891  \n",
       "2017-02-27 -1.339935 -1.607132 -1.299219      0.401082  \n",
       "2017-02-28 -1.362716 -1.526828 -1.331674      0.387292  \n",
       "2017-03-02 -1.340360 -1.486676 -1.319335      0.551525  \n",
       "...              ...       ...       ...           ...  \n",
       "2020-12-22  3.000146  3.434811  3.091802     -1.418021  \n",
       "2020-12-23  2.977146  3.664251  3.040852     -1.371634  \n",
       "2020-12-28  3.057318  3.967440  3.092625     -1.399215  \n",
       "2020-12-29  3.026576  4.299308  3.077046     -1.396708  \n",
       "2020-12-30  3.038935  4.590205  3.191011     -1.407991  \n",
       "\n",
       "[868 rows x 10 columns]"
      ]
     },
     "execution_count": 136,
     "metadata": {},
     "output_type": "execute_result"
    }
   ],
   "source": [
    "x_var"
   ]
  },
  {
   "cell_type": "code",
   "execution_count": 137,
   "metadata": {},
   "outputs": [
    {
     "data": {
      "text/plain": [
       "날짜\n",
       "2017-02-23    1\n",
       "2017-02-24    1\n",
       "2017-02-27    1\n",
       "2017-02-28    0\n",
       "2017-03-02    0\n",
       "             ..\n",
       "2020-12-22    1\n",
       "2020-12-23    0\n",
       "2020-12-28    0\n",
       "2020-12-29    1\n",
       "2020-12-30    0\n",
       "Name: Labeling, Length: 868, dtype: category\n",
       "Categories (2, int64): [0, 1]"
      ]
     },
     "execution_count": 137,
     "metadata": {},
     "output_type": "execute_result"
    }
   ],
   "source": [
    "y_var"
   ]
  },
  {
   "cell_type": "code",
   "execution_count": 138,
   "metadata": {},
   "outputs": [],
   "source": [
    "from sklearn.model_selection import train_test_split\n",
    "from sklearn.ensemble import RandomForestClassifier\n",
    "from sklearn.metrics import accuracy_score\n",
    "from sklearn.metrics import precision_score, recall_score, confusion_matrix, roc_auc_score\n",
    "from sklearn.metrics import f1_score\n",
    "from sklearn.metrics import mean_squared_error, r2_score"
   ]
  },
  {
   "cell_type": "code",
   "execution_count": 139,
   "metadata": {},
   "outputs": [
    {
     "name": "stdout",
     "output_type": "stream",
     "text": [
      "train set label ratio\n",
      "0    0.52883\n",
      "1    0.47117\n",
      "Name: Labeling, dtype: float64\n",
      "test set label ratio\n",
      "0    0.544061\n",
      "1    0.455939\n",
      "Name: Labeling, dtype: float64\n"
     ]
    }
   ],
   "source": [
    "#훈련 세트와 테스트 세트를 나눈다.\n",
    "X_train, X_test, y_train, y_test = train_test_split(x_var, \n",
    "                                                    y_var, \n",
    "                                                    test_size=0.3, \n",
    "                                                    shuffle=False, \n",
    "                                                    random_state=3)\n",
    "\n",
    "#훈련 세트와 테스트 세트에 포함된 양성 샘플(up) 비율을 확인한다.\n",
    "train_count = y_train.count()\n",
    "test_count = y_test.count()\n",
    "\n",
    "print('train set label ratio')\n",
    "print(y_train.value_counts()/train_count)\n",
    "print('test set label ratio')\n",
    "print(y_test.value_counts()/test_count)"
   ]
  },
  {
   "cell_type": "code",
   "execution_count": 140,
   "metadata": {},
   "outputs": [],
   "source": [
    "def get_confusion_matrix(y_test, pred):\n",
    "    confusion = confusion_matrix(y_test, pred)\n",
    "    accuracy = accuracy_score(y_test, pred)\n",
    "    precision = precision_score(y_test, pred)\n",
    "    recall = recall_score(y_test, pred)\n",
    "    f1 = f1_score(y_test, pred)\n",
    "    roc_score = roc_auc_score(y_test, pred)\n",
    "    print('confusion matrix')\n",
    "    print('accuracy:{0:.4f},precision:{1:.4f},recall:{2:.4f},F1:{3:.4f},ROC AUC score:{4:.4f}'.format(accuracy, precision, recall, f1,roc_score))"
   ]
  },
  {
   "cell_type": "code",
   "execution_count": 141,
   "metadata": {},
   "outputs": [
    {
     "name": "stdout",
     "output_type": "stream",
     "text": [
      "[22:09:34] WARNING: C:/Users/Administrator/workspace/xgboost-win64_release_1.3.0/src/learner.cc:1061: Starting in XGBoost 1.3.0, the default evaluation metric used with the objective 'binary:logistic' was changed from 'error' to 'logloss'. Explicitly set eval_metric if you'd like to restore the old behavior.\n"
     ]
    },
    {
     "name": "stderr",
     "output_type": "stream",
     "text": [
      "C:\\Users\\song\\Anaconda3\\lib\\site-packages\\xgboost\\sklearn.py:888: UserWarning: The use of label encoder in XGBClassifier is deprecated and will be removed in a future release. To remove this warning, do the following: 1) Pass option use_label_encoder=False when constructing XGBClassifier object; and 2) Encode your labels (y) as integers starting with 0, i.e. 0, 1, 2, ..., [num_class - 1].\n",
      "  warnings.warn(label_encoder_deprecation_msg, UserWarning)\n"
     ]
    }
   ],
   "source": [
    "xgb_dis = XGBClassifier(n_estimators=400, learning_rate=0.1, max_depth=3)\n",
    "xgb_dis.fit(X_train, y_train)\n",
    "xgb_pred = xgb_dis.predict(X_test)"
   ]
  },
  {
   "cell_type": "code",
   "execution_count": 142,
   "metadata": {},
   "outputs": [
    {
     "data": {
      "text/plain": [
       "XGBClassifier(base_score=0.5, booster='gbtree', colsample_bylevel=1,\n",
       "              colsample_bynode=1, colsample_bytree=1, gamma=0, gpu_id=-1,\n",
       "              importance_type='gain', interaction_constraints='',\n",
       "              learning_rate=0.1, max_delta_step=0, max_depth=3,\n",
       "              min_child_weight=1, missing=nan, monotone_constraints='()',\n",
       "              n_estimators=400, n_jobs=4, num_parallel_tree=1, random_state=0,\n",
       "              reg_alpha=0, reg_lambda=1, scale_pos_weight=1, subsample=1,\n",
       "              tree_method='exact', validate_parameters=1, verbosity=None)"
      ]
     },
     "execution_count": 142,
     "metadata": {},
     "output_type": "execute_result"
    }
   ],
   "source": [
    "xgb_dis"
   ]
  },
  {
   "cell_type": "code",
   "execution_count": 143,
   "metadata": {},
   "outputs": [
    {
     "name": "stdout",
     "output_type": "stream",
     "text": [
      "0.9917627677100495\n"
     ]
    }
   ],
   "source": [
    "print(xgb_dis.score(X_train, y_train))\n"
   ]
  },
  {
   "cell_type": "code",
   "execution_count": 144,
   "metadata": {},
   "outputs": [
    {
     "name": "stdout",
     "output_type": "stream",
     "text": [
      "confusion matrix\n",
      "accuracy:0.5479,precision:1.0000,recall:0.0084,F1:0.0167,ROC AUC score:0.5042\n"
     ]
    }
   ],
   "source": [
    "get_confusion_matrix(y_test, xgb_pred)"
   ]
  },
  {
   "cell_type": "code",
   "execution_count": 145,
   "metadata": {},
   "outputs": [],
   "source": [
    "n_estimators = range(10,20,5)\n",
    "\n",
    "params = {\n",
    "    'bootstrap': [True],\n",
    "    'n_estimators':n_estimators,\n",
    "    'max_depth':[2,3],\n",
    "    'min_samples_leaf': [2, 3],\n",
    "    'min_samples_split': [2, 4, 6, 8],\n",
    "    'max_features':[2]\n",
    "}"
   ]
  },
  {
   "cell_type": "code",
   "execution_count": 146,
   "metadata": {},
   "outputs": [],
   "source": [
    "my_cv = TimeSeriesSplit(n_splits=5).split(X_train)"
   ]
  },
  {
   "cell_type": "code",
   "execution_count": 147,
   "metadata": {},
   "outputs": [
    {
     "data": {
      "text/plain": [
       "GridSearchCV(cv=<generator object TimeSeriesSplit.split at 0x000002681A3B80B0>,\n",
       "             estimator=RandomForestClassifier(), n_jobs=-1,\n",
       "             param_grid={'bootstrap': [True], 'max_depth': [2, 3],\n",
       "                         'max_features': [2], 'min_samples_leaf': [2, 3],\n",
       "                         'min_samples_split': [2, 4, 6, 8],\n",
       "                         'n_estimators': range(10, 20, 5)})"
      ]
     },
     "execution_count": 147,
     "metadata": {},
     "output_type": "execute_result"
    }
   ],
   "source": [
    "clf = GridSearchCV(RandomForestClassifier(), params, cv=my_cv, n_jobs=-1)\n",
    "clf.fit(X_train, y_train)\n"
   ]
  },
  {
   "cell_type": "code",
   "execution_count": 148,
   "metadata": {},
   "outputs": [
    {
     "name": "stdout",
     "output_type": "stream",
     "text": [
      "best parameter:\n",
      " {'bootstrap': True, 'max_depth': 2, 'max_features': 2, 'min_samples_leaf': 2, 'min_samples_split': 8, 'n_estimators': 10}\n",
      "best prediction:0.5505\n"
     ]
    }
   ],
   "source": [
    "print('best parameter:\\n', clf.best_params_)\n",
    "print('best prediction:{0:.4f}'.format(clf.best_score_))"
   ]
  },
  {
   "cell_type": "code",
   "execution_count": 149,
   "metadata": {},
   "outputs": [
    {
     "name": "stdout",
     "output_type": "stream",
     "text": [
      "accuracy:0.5364\n",
      "confusion matrix\n",
      "accuracy:0.5364,precision:0.4800,recall:0.2017,F1:0.2840,ROC AUC score:0.5093\n"
     ]
    }
   ],
   "source": [
    "pred_con = clf.predict(X_test)\n",
    "accuracy_con = accuracy_score(y_test, pred_con)\n",
    "print('accuracy:{0:.4f}'.format(accuracy_con))\n",
    "get_confusion_matrix(y_test, pred_con)"
   ]
  },
  {
   "cell_type": "code",
   "execution_count": null,
   "metadata": {},
   "outputs": [],
   "source": []
  },
  {
   "cell_type": "code",
   "execution_count": null,
   "metadata": {},
   "outputs": [],
   "source": []
  },
  {
   "cell_type": "code",
   "execution_count": null,
   "metadata": {},
   "outputs": [],
   "source": []
  }
 ],
 "metadata": {
  "kernelspec": {
   "display_name": "Python 3",
   "language": "python",
   "name": "python3"
  },
  "language_info": {
   "codemirror_mode": {
    "name": "ipython",
    "version": 3
   },
   "file_extension": ".py",
   "mimetype": "text/x-python",
   "name": "python",
   "nbconvert_exporter": "python",
   "pygments_lexer": "ipython3",
   "version": "3.8.5"
  }
 },
 "nbformat": 4,
 "nbformat_minor": 4
}
