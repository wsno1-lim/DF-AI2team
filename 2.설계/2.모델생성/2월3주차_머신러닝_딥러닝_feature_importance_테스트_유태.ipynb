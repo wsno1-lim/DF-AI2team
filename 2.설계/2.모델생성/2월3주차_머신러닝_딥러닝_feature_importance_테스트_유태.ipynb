{
 "cells": [
  {
   "cell_type": "code",
   "execution_count": 1,
   "metadata": {},
   "outputs": [],
   "source": [
    "import numpy as np\n",
    "import pandas as pd\n",
    "import os\n",
    "import matplotlib.pyplot as plt\n",
    "import seaborn as sns\n",
    "\n",
    "from sklearn.ensemble import RandomForestClassifier, GradientBoostingClassifier\n",
    "from sklearn.svm import SVC\n",
    "from sklearn.neighbors import KNeighborsClassifier\n",
    "from sklearn.model_selection import train_test_split\n",
    "from sklearn.model_selection import GridSearchCV, train_test_split\n",
    "from sklearn.metrics import accuracy_score\n",
    "from sklearn.model_selection import RandomizedSearchCV, GridSearchCV\n",
    "\n",
    "from xgboost import XGBClassifier\n",
    "from lightgbm import LGBMClassifier\n",
    "\n",
    "from tensorflow.keras.models import Sequential\n",
    "from tensorflow.keras.layers import Dense\n",
    "from sklearn.preprocessing import LabelEncoder\n",
    "\n",
    "import tensorflow as tf"
   ]
  },
  {
   "cell_type": "code",
   "execution_count": 2,
   "metadata": {},
   "outputs": [
    {
     "name": "stdout",
     "output_type": "stream",
     "text": [
      "Collecting package metadata (current_repodata.json): ...working... done\n",
      "Solving environment: ...working... done\n",
      "\n",
      "# All requested packages already installed.\n",
      "\n",
      "\n",
      "Note: you may need to restart the kernel to use updated packages.\n"
     ]
    }
   ],
   "source": [
    "conda install -c conda-forge scikit-plot"
   ]
  },
  {
   "cell_type": "code",
   "execution_count": 3,
   "metadata": {},
   "outputs": [
    {
     "name": "stdout",
     "output_type": "stream",
     "text": [
      "Requirement already satisfied: yfinance in c:\\users\\user\\anaconda3\\envs\\py38_64\\lib\\site-packages (0.1.55)\n",
      "Requirement already satisfied: numpy>=1.15 in c:\\users\\user\\anaconda3\\envs\\py38_64\\lib\\site-packages (from yfinance) (1.19.5)\n",
      "Requirement already satisfied: pandas>=0.24 in c:\\users\\user\\anaconda3\\envs\\py38_64\\lib\\site-packages (from yfinance) (1.2.0)\n",
      "Requirement already satisfied: requests>=2.20 in c:\\users\\user\\anaconda3\\envs\\py38_64\\lib\\site-packages (from yfinance) (2.25.1)\n",
      "Requirement already satisfied: multitasking>=0.0.7 in c:\\users\\user\\anaconda3\\envs\\py38_64\\lib\\site-packages (from yfinance) (0.0.9)\n",
      "Requirement already satisfied: lxml>=4.5.1 in c:\\users\\user\\anaconda3\\envs\\py38_64\\lib\\site-packages (from yfinance) (4.6.2)\n",
      "Requirement already satisfied: python-dateutil>=2.7.3 in c:\\users\\user\\anaconda3\\envs\\py38_64\\lib\\site-packages (from pandas>=0.24->yfinance) (2.8.1)\n",
      "Requirement already satisfied: pytz>=2017.3 in c:\\users\\user\\anaconda3\\envs\\py38_64\\lib\\site-packages (from pandas>=0.24->yfinance) (2020.5)\n",
      "Requirement already satisfied: six>=1.5 in c:\\users\\user\\anaconda3\\envs\\py38_64\\lib\\site-packages (from python-dateutil>=2.7.3->pandas>=0.24->yfinance) (1.15.0)\n",
      "Requirement already satisfied: certifi>=2017.4.17 in c:\\users\\user\\anaconda3\\envs\\py38_64\\lib\\site-packages (from requests>=2.20->yfinance) (2020.12.5)\n",
      "Requirement already satisfied: chardet<5,>=3.0.2 in c:\\users\\user\\anaconda3\\envs\\py38_64\\lib\\site-packages (from requests>=2.20->yfinance) (4.0.0)\n",
      "Requirement already satisfied: urllib3<1.27,>=1.21.1 in c:\\users\\user\\anaconda3\\envs\\py38_64\\lib\\site-packages (from requests>=2.20->yfinance) (1.26.2)\n",
      "Requirement already satisfied: idna<3,>=2.5 in c:\\users\\user\\anaconda3\\envs\\py38_64\\lib\\site-packages (from requests>=2.20->yfinance) (2.10)\n"
     ]
    },
    {
     "name": "stderr",
     "output_type": "stream",
     "text": [
      "WARNING: You are using pip version 20.3.3; however, version 21.0.1 is available.\n",
      "You should consider upgrading via the 'C:\\Users\\user\\anaconda3\\envs\\py38_64\\python.exe -m pip install --upgrade pip' command.\n"
     ]
    },
    {
     "name": "stdout",
     "output_type": "stream",
     "text": [
      "Requirement already satisfied: investpy in c:\\users\\user\\anaconda3\\envs\\py38_64\\lib\\site-packages (1.0)\n",
      "Requirement already satisfied: Unidecode>=1.1.1 in c:\\users\\user\\anaconda3\\envs\\py38_64\\lib\\site-packages (from investpy) (1.1.2)\n",
      "Requirement already satisfied: pytz>=2019.3 in c:\\users\\user\\anaconda3\\envs\\py38_64\\lib\\site-packages (from investpy) (2020.5)\n",
      "Requirement already satisfied: lxml>=4.4.1 in c:\\users\\user\\anaconda3\\envs\\py38_64\\lib\\site-packages (from investpy) (4.6.2)\n",
      "Requirement already satisfied: numpy>=1.17.2 in c:\\users\\user\\anaconda3\\envs\\py38_64\\lib\\site-packages (from investpy) (1.19.5)\n",
      "Requirement already satisfied: requests>=2.22.0 in c:\\users\\user\\anaconda3\\envs\\py38_64\\lib\\site-packages (from investpy) (2.25.1)\n",
      "Requirement already satisfied: pandas>=0.25.1 in c:\\users\\user\\anaconda3\\envs\\py38_64\\lib\\site-packages (from investpy) (1.2.0)\n",
      "Requirement already satisfied: setuptools>=41.2.0 in c:\\users\\user\\anaconda3\\envs\\py38_64\\lib\\site-packages (from investpy) (51.0.0.post20201207)\n",
      "Requirement already satisfied: python-dateutil>=2.7.3 in c:\\users\\user\\anaconda3\\envs\\py38_64\\lib\\site-packages (from pandas>=0.25.1->investpy) (2.8.1)\n",
      "Requirement already satisfied: six>=1.5 in c:\\users\\user\\anaconda3\\envs\\py38_64\\lib\\site-packages (from python-dateutil>=2.7.3->pandas>=0.25.1->investpy) (1.15.0)\n",
      "Requirement already satisfied: idna<3,>=2.5 in c:\\users\\user\\anaconda3\\envs\\py38_64\\lib\\site-packages (from requests>=2.22.0->investpy) (2.10)\n",
      "Requirement already satisfied: chardet<5,>=3.0.2 in c:\\users\\user\\anaconda3\\envs\\py38_64\\lib\\site-packages (from requests>=2.22.0->investpy) (4.0.0)\n",
      "Requirement already satisfied: urllib3<1.27,>=1.21.1 in c:\\users\\user\\anaconda3\\envs\\py38_64\\lib\\site-packages (from requests>=2.22.0->investpy) (1.26.2)\n",
      "Requirement already satisfied: certifi>=2017.4.17 in c:\\users\\user\\anaconda3\\envs\\py38_64\\lib\\site-packages (from requests>=2.22.0->investpy) (2020.12.5)\n"
     ]
    },
    {
     "name": "stderr",
     "output_type": "stream",
     "text": [
      "WARNING: You are using pip version 20.3.3; however, version 21.0.1 is available.\n",
      "You should consider upgrading via the 'C:\\Users\\user\\anaconda3\\envs\\py38_64\\python.exe -m pip install --upgrade pip' command.\n"
     ]
    },
    {
     "name": "stdout",
     "output_type": "stream",
     "text": [
      "Requirement already satisfied: pykrx in c:\\users\\user\\anaconda3\\envs\\py38_64\\lib\\site-packages (0.1.42)\n",
      "Requirement already satisfied: datetime in c:\\users\\user\\anaconda3\\envs\\py38_64\\lib\\site-packages (from pykrx) (4.3)\n",
      "Requirement already satisfied: xlrd in c:\\users\\user\\anaconda3\\envs\\py38_64\\lib\\site-packages (from pykrx) (2.0.1)\n",
      "Requirement already satisfied: pandas in c:\\users\\user\\anaconda3\\envs\\py38_64\\lib\\site-packages (from pykrx) (1.2.0)\n",
      "Requirement already satisfied: numpy in c:\\users\\user\\anaconda3\\envs\\py38_64\\lib\\site-packages (from pykrx) (1.19.5)\n",
      "Requirement already satisfied: requests in c:\\users\\user\\anaconda3\\envs\\py38_64\\lib\\site-packages (from pykrx) (2.25.1)\n",
      "Requirement already satisfied: zope.interface in c:\\users\\user\\anaconda3\\envs\\py38_64\\lib\\site-packages (from datetime->pykrx) (5.2.0)\n",
      "Requirement already satisfied: pytz in c:\\users\\user\\anaconda3\\envs\\py38_64\\lib\\site-packages (from datetime->pykrx) (2020.5)\n",
      "Requirement already satisfied: python-dateutil>=2.7.3 in c:\\users\\user\\anaconda3\\envs\\py38_64\\lib\\site-packages (from pandas->pykrx) (2.8.1)\n",
      "Requirement already satisfied: six>=1.5 in c:\\users\\user\\anaconda3\\envs\\py38_64\\lib\\site-packages (from python-dateutil>=2.7.3->pandas->pykrx) (1.15.0)\n",
      "Requirement already satisfied: urllib3<1.27,>=1.21.1 in c:\\users\\user\\anaconda3\\envs\\py38_64\\lib\\site-packages (from requests->pykrx) (1.26.2)\n",
      "Requirement already satisfied: idna<3,>=2.5 in c:\\users\\user\\anaconda3\\envs\\py38_64\\lib\\site-packages (from requests->pykrx) (2.10)\n",
      "Requirement already satisfied: chardet<5,>=3.0.2 in c:\\users\\user\\anaconda3\\envs\\py38_64\\lib\\site-packages (from requests->pykrx) (4.0.0)\n",
      "Requirement already satisfied: certifi>=2017.4.17 in c:\\users\\user\\anaconda3\\envs\\py38_64\\lib\\site-packages (from requests->pykrx) (2020.12.5)\n",
      "Requirement already satisfied: setuptools in c:\\users\\user\\anaconda3\\envs\\py38_64\\lib\\site-packages (from zope.interface->datetime->pykrx) (51.0.0.post20201207)\n"
     ]
    },
    {
     "name": "stderr",
     "output_type": "stream",
     "text": [
      "WARNING: You are using pip version 20.3.3; however, version 21.0.1 is available.\n",
      "You should consider upgrading via the 'C:\\Users\\user\\anaconda3\\envs\\py38_64\\python.exe -m pip install --upgrade pip' command.\n"
     ]
    },
    {
     "name": "stdout",
     "output_type": "stream",
     "text": [
      "Requirement already satisfied: seaborn in c:\\users\\user\\anaconda3\\envs\\py38_64\\lib\\site-packages (0.11.1)\n",
      "Requirement already satisfied: numpy>=1.15 in c:\\users\\user\\anaconda3\\envs\\py38_64\\lib\\site-packages (from seaborn) (1.19.5)\n",
      "Requirement already satisfied: scipy>=1.0 in c:\\users\\user\\anaconda3\\envs\\py38_64\\lib\\site-packages (from seaborn) (1.6.0)\n",
      "Requirement already satisfied: matplotlib>=2.2 in c:\\users\\user\\anaconda3\\envs\\py38_64\\lib\\site-packages (from seaborn) (3.3.3)\n",
      "Requirement already satisfied: pandas>=0.23 in c:\\users\\user\\anaconda3\\envs\\py38_64\\lib\\site-packages (from seaborn) (1.2.0)\n",
      "Requirement already satisfied: pillow>=6.2.0 in c:\\users\\user\\anaconda3\\envs\\py38_64\\lib\\site-packages (from matplotlib>=2.2->seaborn) (8.1.0)\n",
      "Requirement already satisfied: pyparsing!=2.0.4,!=2.1.2,!=2.1.6,>=2.0.3 in c:\\users\\user\\anaconda3\\envs\\py38_64\\lib\\site-packages (from matplotlib>=2.2->seaborn) (2.4.7)\n",
      "Requirement already satisfied: cycler>=0.10 in c:\\users\\user\\anaconda3\\envs\\py38_64\\lib\\site-packages (from matplotlib>=2.2->seaborn) (0.10.0)\n",
      "Requirement already satisfied: python-dateutil>=2.1 in c:\\users\\user\\anaconda3\\envs\\py38_64\\lib\\site-packages (from matplotlib>=2.2->seaborn) (2.8.1)\n",
      "Requirement already satisfied: kiwisolver>=1.0.1 in c:\\users\\user\\anaconda3\\envs\\py38_64\\lib\\site-packages (from matplotlib>=2.2->seaborn) (1.3.1)\n",
      "Requirement already satisfied: six in c:\\users\\user\\anaconda3\\envs\\py38_64\\lib\\site-packages (from cycler>=0.10->matplotlib>=2.2->seaborn) (1.15.0)\n",
      "Requirement already satisfied: pytz>=2017.3 in c:\\users\\user\\anaconda3\\envs\\py38_64\\lib\\site-packages (from pandas>=0.23->seaborn) (2020.5)\n"
     ]
    },
    {
     "name": "stderr",
     "output_type": "stream",
     "text": [
      "WARNING: You are using pip version 20.3.3; however, version 21.0.1 is available.\n",
      "You should consider upgrading via the 'C:\\Users\\user\\anaconda3\\envs\\py38_64\\python.exe -m pip install --upgrade pip' command.\n"
     ]
    },
    {
     "name": "stdout",
     "output_type": "stream",
     "text": [
      "Requirement already satisfied: workalendar in c:\\users\\user\\anaconda3\\envs\\py38_64\\lib\\site-packages (14.2.0)\n",
      "Requirement already satisfied: setuptools>=1.0 in c:\\users\\user\\anaconda3\\envs\\py38_64\\lib\\site-packages (from workalendar) (51.0.0.post20201207)\n",
      "Requirement already satisfied: pyluach in c:\\users\\user\\anaconda3\\envs\\py38_64\\lib\\site-packages (from workalendar) (1.2.1)\n",
      "Requirement already satisfied: skyfield-data in c:\\users\\user\\anaconda3\\envs\\py38_64\\lib\\site-packages (from workalendar) (3.0.0)\n",
      "Requirement already satisfied: lunardate in c:\\users\\user\\anaconda3\\envs\\py38_64\\lib\\site-packages (from workalendar) (0.2.0)\n",
      "Requirement already satisfied: pyCalverter in c:\\users\\user\\anaconda3\\envs\\py38_64\\lib\\site-packages (from workalendar) (1.6.1)\n",
      "Requirement already satisfied: pytz in c:\\users\\user\\anaconda3\\envs\\py38_64\\lib\\site-packages (from workalendar) (2020.5)\n",
      "Requirement already satisfied: python-dateutil in c:\\users\\user\\anaconda3\\envs\\py38_64\\lib\\site-packages (from workalendar) (2.8.1)\n",
      "Requirement already satisfied: skyfield in c:\\users\\user\\anaconda3\\envs\\py38_64\\lib\\site-packages (from workalendar) (1.35)\n",
      "Requirement already satisfied: six>=1.5 in c:\\users\\user\\anaconda3\\envs\\py38_64\\lib\\site-packages (from python-dateutil->workalendar) (1.15.0)\n",
      "Requirement already satisfied: numpy in c:\\users\\user\\anaconda3\\envs\\py38_64\\lib\\site-packages (from skyfield->workalendar) (1.19.5)\n",
      "Requirement already satisfied: sgp4>=2.2 in c:\\users\\user\\anaconda3\\envs\\py38_64\\lib\\site-packages (from skyfield->workalendar) (2.15)\n",
      "Requirement already satisfied: certifi>=2017.4.17 in c:\\users\\user\\anaconda3\\envs\\py38_64\\lib\\site-packages (from skyfield->workalendar) (2020.12.5)\n",
      "Requirement already satisfied: jplephem>=2.13 in c:\\users\\user\\anaconda3\\envs\\py38_64\\lib\\site-packages (from skyfield->workalendar) (2.15)\n"
     ]
    },
    {
     "name": "stderr",
     "output_type": "stream",
     "text": [
      "WARNING: You are using pip version 20.3.3; however, version 21.0.1 is available.\n",
      "You should consider upgrading via the 'C:\\Users\\user\\anaconda3\\envs\\py38_64\\python.exe -m pip install --upgrade pip' command.\n"
     ]
    },
    {
     "name": "stdout",
     "output_type": "stream",
     "text": [
      "Requirement already satisfied: finance-datareader in c:\\users\\user\\anaconda3\\envs\\py38_64\\lib\\site-packages (0.9.20)\n",
      "Requirement already satisfied: pandas>=0.19.2 in c:\\users\\user\\anaconda3\\envs\\py38_64\\lib\\site-packages (from finance-datareader) (1.2.0)\n",
      "Requirement already satisfied: lxml in c:\\users\\user\\anaconda3\\envs\\py38_64\\lib\\site-packages (from finance-datareader) (4.6.2)\n",
      "Requirement already satisfied: tqdm in c:\\users\\user\\anaconda3\\envs\\py38_64\\lib\\site-packages (from finance-datareader) (4.56.0)\n",
      "Requirement already satisfied: requests-file in c:\\users\\user\\anaconda3\\envs\\py38_64\\lib\\site-packages (from finance-datareader) (1.5.1)\n",
      "Requirement already satisfied: requests>=2.3.0 in c:\\users\\user\\anaconda3\\envs\\py38_64\\lib\\site-packages (from finance-datareader) (2.25.1)\n",
      "Requirement already satisfied: python-dateutil>=2.7.3 in c:\\users\\user\\anaconda3\\envs\\py38_64\\lib\\site-packages (from pandas>=0.19.2->finance-datareader) (2.8.1)\n",
      "Requirement already satisfied: pytz>=2017.3 in c:\\users\\user\\anaconda3\\envs\\py38_64\\lib\\site-packages (from pandas>=0.19.2->finance-datareader) (2020.5)\n",
      "Requirement already satisfied: numpy>=1.16.5 in c:\\users\\user\\anaconda3\\envs\\py38_64\\lib\\site-packages (from pandas>=0.19.2->finance-datareader) (1.19.5)\n",
      "Requirement already satisfied: six>=1.5 in c:\\users\\user\\anaconda3\\envs\\py38_64\\lib\\site-packages (from python-dateutil>=2.7.3->pandas>=0.19.2->finance-datareader) (1.15.0)\n",
      "Requirement already satisfied: certifi>=2017.4.17 in c:\\users\\user\\anaconda3\\envs\\py38_64\\lib\\site-packages (from requests>=2.3.0->finance-datareader) (2020.12.5)\n",
      "Requirement already satisfied: idna<3,>=2.5 in c:\\users\\user\\anaconda3\\envs\\py38_64\\lib\\site-packages (from requests>=2.3.0->finance-datareader) (2.10)\n",
      "Requirement already satisfied: urllib3<1.27,>=1.21.1 in c:\\users\\user\\anaconda3\\envs\\py38_64\\lib\\site-packages (from requests>=2.3.0->finance-datareader) (1.26.2)\n",
      "Requirement already satisfied: chardet<5,>=3.0.2 in c:\\users\\user\\anaconda3\\envs\\py38_64\\lib\\site-packages (from requests>=2.3.0->finance-datareader) (4.0.0)\n"
     ]
    },
    {
     "name": "stderr",
     "output_type": "stream",
     "text": [
      "WARNING: You are using pip version 20.3.3; however, version 21.0.1 is available.\n",
      "You should consider upgrading via the 'C:\\Users\\user\\anaconda3\\envs\\py38_64\\python.exe -m pip install --upgrade pip' command.\n"
     ]
    },
    {
     "name": "stdout",
     "output_type": "stream",
     "text": [
      "Processing c:\\users\\user\\downloads\\ta_lib-0.4.19-cp38-cp38-win_amd64.whl\n",
      "TA-Lib is already installed with the same version as the provided wheel. Use --force-reinstall to force an installation of the wheel.\n"
     ]
    },
    {
     "name": "stderr",
     "output_type": "stream",
     "text": [
      "WARNING: You are using pip version 20.3.3; however, version 21.0.1 is available.\n",
      "You should consider upgrading via the 'C:\\Users\\user\\anaconda3\\envs\\py38_64\\python.exe -m pip install --upgrade pip' command.\n"
     ]
    },
    {
     "name": "stdout",
     "output_type": "stream",
     "text": [
      "Requirement already satisfied: finance-datareader in c:\\users\\user\\anaconda3\\envs\\py38_64\\lib\\site-packages (0.9.20)\n",
      "Requirement already satisfied: tqdm in c:\\users\\user\\anaconda3\\envs\\py38_64\\lib\\site-packages (from finance-datareader) (4.56.0)\n",
      "Requirement already satisfied: lxml in c:\\users\\user\\anaconda3\\envs\\py38_64\\lib\\site-packages (from finance-datareader) (4.6.2)\n",
      "Requirement already satisfied: requests>=2.3.0 in c:\\users\\user\\anaconda3\\envs\\py38_64\\lib\\site-packages (from finance-datareader) (2.25.1)\n",
      "Requirement already satisfied: requests-file in c:\\users\\user\\anaconda3\\envs\\py38_64\\lib\\site-packages (from finance-datareader) (1.5.1)\n",
      "Requirement already satisfied: pandas>=0.19.2 in c:\\users\\user\\anaconda3\\envs\\py38_64\\lib\\site-packages (from finance-datareader) (1.2.0)\n",
      "Requirement already satisfied: python-dateutil>=2.7.3 in c:\\users\\user\\anaconda3\\envs\\py38_64\\lib\\site-packages (from pandas>=0.19.2->finance-datareader) (2.8.1)\n",
      "Requirement already satisfied: pytz>=2017.3 in c:\\users\\user\\anaconda3\\envs\\py38_64\\lib\\site-packages (from pandas>=0.19.2->finance-datareader) (2020.5)\n",
      "Requirement already satisfied: numpy>=1.16.5 in c:\\users\\user\\anaconda3\\envs\\py38_64\\lib\\site-packages (from pandas>=0.19.2->finance-datareader) (1.19.5)\n",
      "Requirement already satisfied: six>=1.5 in c:\\users\\user\\anaconda3\\envs\\py38_64\\lib\\site-packages (from python-dateutil>=2.7.3->pandas>=0.19.2->finance-datareader) (1.15.0)\n",
      "Requirement already satisfied: urllib3<1.27,>=1.21.1 in c:\\users\\user\\anaconda3\\envs\\py38_64\\lib\\site-packages (from requests>=2.3.0->finance-datareader) (1.26.2)\n",
      "Requirement already satisfied: chardet<5,>=3.0.2 in c:\\users\\user\\anaconda3\\envs\\py38_64\\lib\\site-packages (from requests>=2.3.0->finance-datareader) (4.0.0)\n",
      "Requirement already satisfied: idna<3,>=2.5 in c:\\users\\user\\anaconda3\\envs\\py38_64\\lib\\site-packages (from requests>=2.3.0->finance-datareader) (2.10)\n",
      "Requirement already satisfied: certifi>=2017.4.17 in c:\\users\\user\\anaconda3\\envs\\py38_64\\lib\\site-packages (from requests>=2.3.0->finance-datareader) (2020.12.5)\n"
     ]
    },
    {
     "name": "stderr",
     "output_type": "stream",
     "text": [
      "WARNING: You are using pip version 20.3.3; however, version 21.0.1 is available.\n",
      "You should consider upgrading via the 'C:\\Users\\user\\anaconda3\\envs\\py38_64\\python.exe -m pip install --upgrade pip' command.\n"
     ]
    },
    {
     "name": "stdout",
     "output_type": "stream",
     "text": [
      "Requirement already satisfied: keras in c:\\users\\user\\anaconda3\\envs\\py38_64\\lib\\site-packages (2.4.3)\n",
      "Requirement already satisfied: numpy>=1.9.1 in c:\\users\\user\\anaconda3\\envs\\py38_64\\lib\\site-packages (from keras) (1.19.5)\n",
      "Requirement already satisfied: scipy>=0.14 in c:\\users\\user\\anaconda3\\envs\\py38_64\\lib\\site-packages (from keras) (1.6.0)\n",
      "Requirement already satisfied: h5py in c:\\users\\user\\anaconda3\\envs\\py38_64\\lib\\site-packages (from keras) (2.10.0)\n",
      "Requirement already satisfied: pyyaml in c:\\users\\user\\anaconda3\\envs\\py38_64\\lib\\site-packages (from keras) (5.3.1)\n",
      "Requirement already satisfied: six in c:\\users\\user\\anaconda3\\envs\\py38_64\\lib\\site-packages (from h5py->keras) (1.15.0)\n"
     ]
    },
    {
     "name": "stderr",
     "output_type": "stream",
     "text": [
      "WARNING: You are using pip version 20.3.3; however, version 21.0.1 is available.\n",
      "You should consider upgrading via the 'C:\\Users\\user\\anaconda3\\envs\\py38_64\\python.exe -m pip install --upgrade pip' command.\n"
     ]
    }
   ],
   "source": [
    "!pip install yfinance\n",
    "!pip install investpy\n",
    "!pip install pykrx\n",
    "!pip install seaborn\n",
    "!pip install workalendar\n",
    "!pip install --upgrade finance-datareader\n",
    "!pip install TA_Lib-0.4.19-cp38-cp38-win_amd64.whl\n",
    "!pip install -U finance-datareader\n",
    "!pip install keras"
   ]
  },
  {
   "cell_type": "code",
   "execution_count": 4,
   "metadata": {},
   "outputs": [],
   "source": [
    "from pandas_datareader import data, wb\n",
    "import pandas as pd\n",
    "import numpy as np\n",
    "import datetime\n",
    "import yfinance as yf # yahoo finance API    # pip install yfinance\n",
    "import investpy # investing.com API          # pip install investpy\n",
    "from pykrx import stock # krx API           # pip instasll pykrx\n",
    "import talib as ta # 기술적 분석 (보조지표)\n",
    "import FinanceDataReader as fdr\n",
    "import matplotlib.pyplot as plt\n",
    "from sklearn.metrics import precision_score, recall_score, confusion_matrix, roc_auc_score\n",
    "from sklearn.metrics import f1_score\n",
    "from sklearn.metrics import mean_squared_error, r2_score\n",
    "from sklearn.metrics import accuracy_score\n",
    "%matplotlib inline"
   ]
  },
  {
   "cell_type": "code",
   "execution_count": 5,
   "metadata": {},
   "outputs": [],
   "source": [
    "# 크롤링 start_date, end_date\n",
    "#start_date='2017-01-05'\n",
    "#input('YYYY-MM-DD 형식을 지켜 입력해주세요 ex) 2018-01-01 : ')\n",
    "#end_date='2021-01-01'\n",
    "#input('YYYY-MM-DD 형식을 지켜 입력해주세요 ex) 2020-10-13 : ')\n",
    "#train_date = '2020-01-01'\n",
    "start_date = '2015-01-01'\n",
    "end_date = '2021-01-27'\n",
    "train_date = '2019-12-01'"
   ]
  },
  {
   "cell_type": "code",
   "execution_count": 6,
   "metadata": {},
   "outputs": [],
   "source": [
    "# 데이터 수집기간 입력\n",
    "# yahoo finance 양식, ex) yyyy-mm-dd\n",
    "#start_date = '2018-01-01'\n",
    "#end_date = '2020-10-13'\n",
    "\n",
    "# investing.com 양식, ex) dd/mm/yyyy\n",
    "start_date_ = start_date[8:] + '/' + start_date[5:7] + '/' + start_date[:4]\n",
    "end_date_ = end_date[8:] + '/' + end_date[5:7] + '/' + end_date[:4]\n",
    "\n",
    "# krx 양식 ex) yyyymmdd\n",
    "start_date__ = start_date[0:4] + start_date[5:7] + start_date[8:10]\n",
    "end_date__ = end_date[0:4] + end_date[5:7] + end_date[8:10]"
   ]
  },
  {
   "cell_type": "code",
   "execution_count": 7,
   "metadata": {},
   "outputs": [
    {
     "name": "stdout",
     "output_type": "stream",
     "text": [
      "[*********************100%***********************]  1 of 1 completed\n",
      "[*********************100%***********************]  1 of 1 completed\n",
      "[*********************100%***********************]  1 of 1 completed\n",
      "[*********************100%***********************]  1 of 1 completed\n",
      "[*********************100%***********************]  1 of 1 completed\n",
      "[*********************100%***********************]  1 of 1 completed\n",
      "[*********************100%***********************]  1 of 1 completed\n",
      "[*********************100%***********************]  1 of 1 completed\n",
      "[*********************100%***********************]  1 of 1 completed\n",
      "[*********************100%***********************]  1 of 1 completed\n",
      "[*********************100%***********************]  1 of 1 completed\n",
      "[*********************100%***********************]  1 of 1 completed\n",
      "[*********************100%***********************]  1 of 1 completed\n"
     ]
    }
   ],
   "source": [
    "# 주요 3개국 대비 원 환율\n",
    "\n",
    "# 달러/원\n",
    "exchange_rate_usd_ = investpy.get_currency_cross_historical_data(currency_cross='USD/KRW', from_date=start_date_, to_date=end_date_)\n",
    "exchange_rate_usd_.columns = ['exchange_rate_usd_Open', 'exchange_rate_usd_High', 'exchange_rate_usd_Low', 'exchange_rate_usd_Close', 'exchange_rate_usd_Currency']\n",
    "exchange_rate_usd_ = exchange_rate_usd_.drop(['exchange_rate_usd_Open','exchange_rate_usd_High','exchange_rate_usd_Low','exchange_rate_usd_Currency'], axis=1)\n",
    "\n",
    "# S&P 500\n",
    "snp_500_ = yf.download(\"^GSPC\", start=start_date, end=end_date)\n",
    "snp_500_.columns = ['snp_500_Open','snp_500_High','snp_500_Low','snp_500_Close','snp_500_Adj Close','snp_500_Volume']\n",
    "snp_500_ = snp_500_.drop(['snp_500_Open','snp_500_High','snp_500_Low','snp_500_Adj Close','snp_500_Volume'], axis=1)\n",
    "\n",
    "# NASDAQ\n",
    "nasdaq_ = yf.download(\"^IXIC\", start=start_date, end=end_date)\n",
    "nasdaq_.columns = ['nasdaq_Open','nasdaq_High','nasdaq_Low','nasdaq_Close','nasdaq_Adj Close','nasdaq_Volume']\n",
    "nasdaq_ = nasdaq_.drop(['nasdaq_Open','nasdaq_High','nasdaq_Low','nasdaq_Adj Close','nasdaq_Volume'], axis=1)\n",
    "\n",
    "# Russell 2000\n",
    "russell_2000_ = yf.download(\"^RUT\", start=start_date, end=end_date)\n",
    "russell_2000_.columns = ['russell_2000_Open','russell_2000_High','russell_2000_Low','russell_2000_Close','russell_2000_Adj Close','russell_2000_Volume']\n",
    "russell_2000_ = russell_2000_.drop(['russell_2000_Open','russell_2000_High','russell_2000_Low','russell_2000_Adj Close','russell_2000_Volume'], axis=1)\n",
    "\n",
    "# 삼성 차트 데이터\n",
    "sam_ = stock.get_market_ohlcv_by_date(start_date__, end_date__, \"005930\")\n",
    "sam_.columns = ['Open','High','Low','Close','Volume']\n",
    "model_samsung = sam_.copy()\n",
    "\n",
    "# 3) MACD 이동평균수렴확산 (단기(EMA12)와 장기(EMA26) EMA로 모멘텀을 추정)\n",
    "macd, macdsignal9, macdhist = ta.MACD(model_samsung.Close, fastperiod=12, slowperiod=26, signalperiod=9)\n",
    "model_samsung['macd'] = macd\n",
    "model_samsung['macdsignal9'] = macdsignal9\n",
    "model_samsung['macdhist'] = macdhist\n",
    "\n",
    "MSCI_KR = fdr.DataReader('156080', start_date,end_date) #MSCI KOREA\n",
    "MSCI_KR = MSCI_KR.drop(['Open','High','Low', 'Change','Volume'], axis=1) \n",
    "MSCI_KR.columns = ['MSCI_KR']\n",
    "\n",
    "# HANG SENG\n",
    "hang_seng_ = yf.download(\"^HSI\", start=start_date, end=end_date)\n",
    "hang_seng_.columns = ['hang_seng_Open','hang_seng_High','hang_seng_Low','hang_seng_Close','hang_seng_Adj Close','hang_seng_Volume']\n",
    "hang_seng_ = hang_seng_.drop(['hang_seng_Open','hang_seng_High','hang_seng_Low','hang_seng_Adj Close','hang_seng_Volume'], axis=1)\n",
    "\n",
    "# 미국 국채 수익률 (5년)\n",
    "treasury_5y_ = yf.download(\"^FVX\", start=start_date, end=end_date)\n",
    "treasury_5y_.columns = ['treasury_5y_Open','treasury_5y_High','treasury_5y_Low','treasury_5y_Close','treasury_5y_Adj Close','treasury_5y_Volume']\n",
    "treasury_5y_ = treasury_5y_.drop(['treasury_5y_Open','treasury_5y_High','treasury_5y_Low','treasury_5y_Adj Close','treasury_5y_Volume'], axis=1)\n",
    "\n",
    "# 미국 국채 수익률 (10년)\n",
    "treasury_10y_ = yf.download(\"^TNX\", start=start_date, end=end_date)\n",
    "treasury_10y_.columns = ['treasury_10y_Open','treasury_10y_High','treasury_10y_Low','treasury_10y_Close','treasury_10y_Adj Close','treasury_10y_Volume']\n",
    "treasury_10y_ = treasury_10y_.drop(['treasury_10y_Open','treasury_10y_High','treasury_10y_Low','treasury_10y_Adj Close','treasury_10y_Volume'], axis=1)\n",
    "\n",
    "# 미국 국채 수익률 (30년)\n",
    "treasury_30y_ = yf.download(\"^TYX\", start=start_date, end=end_date)\n",
    "treasury_30y_.columns = ['treasury_30y_Open','treasury_30y_High','treasury_30y_Low','treasury_30y_Close','treasury_30y_Adj Close','treasury_30y_Volume']\n",
    "treasury_30y_ = treasury_30y_.drop(['treasury_30y_Open','treasury_30y_High','treasury_30y_Low','treasury_30y_Adj Close','treasury_30y_Volume'], axis=1)\n",
    "\n",
    "# [*에너지*]\n",
    "# WTI유 시세\n",
    "crude_oil_ = yf.download(\"CL=F\", start=start_date, end=end_date)\n",
    "crude_oil_.columns = ['crude_oil_Open','crude_oil_High','crude_oil_Low','crude_oil_Close','crude_oil_Adj Close','crude_oil_Volume']\n",
    "crude_oil_ = crude_oil_.drop(['crude_oil_Open','crude_oil_High','crude_oil_Low','crude_oil_Adj Close','crude_oil_Volume'], axis=1)\n",
    "\n",
    "# 브렌트유 시세\n",
    "brent_crude_oil_ = yf.download(\"BZ=F\", start=start_date, end=end_date)\n",
    "brent_crude_oil_.columns = ['brent_crude_oil_Open','brent_crude_oil_High','brent_crude_oil_Low','brent_crude_oil_Close','brent_crude_oil_Adj Close','brent_crude_oil_Volume']\n",
    "brent_crude_oil_ = brent_crude_oil_.drop(['brent_crude_oil_Open','brent_crude_oil_High','brent_crude_oil_Low','brent_crude_oil_Adj Close','brent_crude_oil_Volume'], axis=1)\n",
    "\n",
    "# SOX 지수 엔비디아(8.9%), 텍사스인스트루먼트(8.6%), 퀄컴(7.7%), 인텔(7.4%) 반도체장비기업 18.52%\n",
    "SOXX = yf.download(\"SOXX\", start=start_date, end=end_date)\n",
    "SOXX.columns = ['SOXX_Open','SOXX_High','SOXX_Low','SOXX_Close','SOXX_Adj Close','SOXX_Volume']\n",
    "SOXX = SOXX.drop(['SOXX_Open','SOXX_High','SOXX_Low','SOXX_Adj Close','SOXX_Volume'], axis=1)\n",
    "\n",
    "# SMH 인텔(10%), TSMC(10%), 엔비디아(5%)\n",
    "SMH = yf.download(\"SMH\", start=start_date, end=end_date)\n",
    "SMH.columns = ['SMH_Open','SMH_High','SMH_Low','SMH_Close','SMH_Adj Close','SMH_Volume']\n",
    "SMH = SMH.drop(['SMH_Open','SMH_High','SMH_Low','SMH_Close','SMH_Volume'], axis=1)\n",
    "\n",
    "# SOXL 지수(3배 상승 레버리지) 텍사스인스트루먼트(8.6%) 인텔(8.3%), 퀄컴(7.8%), 엔비디아(7.8%)\n",
    "SOXL = yf.download(\"SOXL\", start=start_date, end=end_date)\n",
    "SOXL.columns = ['SOXL_Open','SOXL_High','SOXL_Low','SOXL_Close','SOXL_Adj Close','SOXL_Volume']\n",
    "SOXL = SOXL.drop(['SOXL_Open','SOXL_High','SOXL_Low','SOXL_Close','SOXL_Volume'], axis=1)\n",
    "\n",
    "# SOXS 지수(3배 인버스 레버리지) 텍사스인스트루먼트(8.6%) 인텔(8.3%), 퀄컴(7.8%), 엔비디아(7.8%)\n",
    "SOXS = yf.download(\"SOXS\", start=start_date, end=end_date)\n",
    "SOXS.columns = ['SOXS_Open','SOXS_High','SOXS_Low','SOXS_Close','SOXS_Adj Close','SOXS_Volume']\n",
    "SOXS = SOXS.drop(['SOXS_Open','SOXS_High','SOXS_Low','SOXS_Close','SOXS_Volume'], axis=1)"
   ]
  },
  {
   "cell_type": "code",
   "execution_count": 8,
   "metadata": {},
   "outputs": [],
   "source": [
    "model_samsung['US'] = exchange_rate_usd_\n",
    "model_samsung['SNP500'] = snp_500_\n",
    "model_samsung['RUSSELL2000'] = russell_2000_\n",
    "model_samsung['NASDAQ'] = nasdaq_\n",
    "model_samsung['MSCI_KR'] = MSCI_KR\n",
    "model_samsung['SOXX'] = SOXX\n",
    "model_samsung['SMH'] = SMH\n",
    "model_samsung['SOXL'] = SOXL\n",
    "model_samsung['SOXS'] = SOXS\n",
    "model_samsung['TREASURY_5Y']=treasury_5y_\n",
    "model_samsung['TREASURY_10Y']=treasury_10y_\n",
    "model_samsung['TREASURY_30Y']=treasury_30y_\n",
    "#model_samsung['crude_oil'] = crude_oil_\n",
    "#model_samsung['brent_crude_oil'] = brent_crude_oil_\n",
    "model_samsung['hang_seng'] = hang_seng_\n"
   ]
  },
  {
   "cell_type": "code",
   "execution_count": 9,
   "metadata": {},
   "outputs": [],
   "source": [
    "lst_label = ['a']\n",
    "\n",
    "for i in range(len(model_samsung)-1):\n",
    "    if model_samsung.iloc[i+1]['Close'] == model_samsung.iloc[i]['Close']:\n",
    "        lst_label.append(2) # 전일 주가 = 당일 주가 : 2\n",
    "    elif model_samsung.iloc[i+1]['Close'] > model_samsung.iloc[i]['Close']:\n",
    "        lst_label.append(0) # 전일 주가 < 당일 주가 : 0\n",
    "    else:\n",
    "        lst_label.append(1) # 전일 주가 > 당일 주가 : 1\n",
    "model_samsung['Labeling'] = lst_label\n",
    "model_samsung = model_samsung.drop(model_samsung[model_samsung['Labeling'] == 'a'].index) # 첫 행 삭제\n",
    "model_samsung = model_samsung.drop(model_samsung[model_samsung['Labeling'] == 2].index) # 전일 주가 = 당일 주가인 행 삭제\n",
    "model_samsung['Labeling'] = model_samsung['Labeling'].astype(\"category\")"
   ]
  },
  {
   "cell_type": "code",
   "execution_count": 10,
   "metadata": {},
   "outputs": [
    {
     "data": {
      "text/html": [
       "<div>\n",
       "<style scoped>\n",
       "    .dataframe tbody tr th:only-of-type {\n",
       "        vertical-align: middle;\n",
       "    }\n",
       "\n",
       "    .dataframe tbody tr th {\n",
       "        vertical-align: top;\n",
       "    }\n",
       "\n",
       "    .dataframe thead th {\n",
       "        text-align: right;\n",
       "    }\n",
       "</style>\n",
       "<table border=\"1\" class=\"dataframe\">\n",
       "  <thead>\n",
       "    <tr style=\"text-align: right;\">\n",
       "      <th></th>\n",
       "      <th>Open</th>\n",
       "      <th>High</th>\n",
       "      <th>Low</th>\n",
       "      <th>Close</th>\n",
       "      <th>Volume</th>\n",
       "      <th>macd</th>\n",
       "      <th>macdsignal9</th>\n",
       "      <th>macdhist</th>\n",
       "      <th>US</th>\n",
       "      <th>SNP500</th>\n",
       "      <th>...</th>\n",
       "      <th>MSCI_KR</th>\n",
       "      <th>SOXX</th>\n",
       "      <th>SMH</th>\n",
       "      <th>SOXL</th>\n",
       "      <th>SOXS</th>\n",
       "      <th>TREASURY_5Y</th>\n",
       "      <th>TREASURY_10Y</th>\n",
       "      <th>TREASURY_30Y</th>\n",
       "      <th>hang_seng</th>\n",
       "      <th>Labeling</th>\n",
       "    </tr>\n",
       "    <tr>\n",
       "      <th>날짜</th>\n",
       "      <th></th>\n",
       "      <th></th>\n",
       "      <th></th>\n",
       "      <th></th>\n",
       "      <th></th>\n",
       "      <th></th>\n",
       "      <th></th>\n",
       "      <th></th>\n",
       "      <th></th>\n",
       "      <th></th>\n",
       "      <th></th>\n",
       "      <th></th>\n",
       "      <th></th>\n",
       "      <th></th>\n",
       "      <th></th>\n",
       "      <th></th>\n",
       "      <th></th>\n",
       "      <th></th>\n",
       "      <th></th>\n",
       "      <th></th>\n",
       "      <th></th>\n",
       "    </tr>\n",
       "  </thead>\n",
       "  <tbody>\n",
       "    <tr>\n",
       "      <th>2015-02-23</th>\n",
       "      <td>27560</td>\n",
       "      <td>27800</td>\n",
       "      <td>27320</td>\n",
       "      <td>27340</td>\n",
       "      <td>306036</td>\n",
       "      <td>207.516208</td>\n",
       "      <td>314.030156</td>\n",
       "      <td>-106.513948</td>\n",
       "      <td>1108.40</td>\n",
       "      <td>2109.659912</td>\n",
       "      <td>...</td>\n",
       "      <td>10120</td>\n",
       "      <td>95.709999</td>\n",
       "      <td>51.756077</td>\n",
       "      <td>34.008659</td>\n",
       "      <td>27660.447266</td>\n",
       "      <td>1.545</td>\n",
       "      <td>2.059</td>\n",
       "      <td>2.652</td>\n",
       "      <td>24836.759766</td>\n",
       "      <td>1</td>\n",
       "    </tr>\n",
       "    <tr>\n",
       "      <th>2015-02-25</th>\n",
       "      <td>27600</td>\n",
       "      <td>27700</td>\n",
       "      <td>27460</td>\n",
       "      <td>27580</td>\n",
       "      <td>167485</td>\n",
       "      <td>189.988235</td>\n",
       "      <td>269.081854</td>\n",
       "      <td>-79.093619</td>\n",
       "      <td>1100.71</td>\n",
       "      <td>2113.860107</td>\n",
       "      <td>...</td>\n",
       "      <td>10235</td>\n",
       "      <td>96.489998</td>\n",
       "      <td>52.463680</td>\n",
       "      <td>34.792194</td>\n",
       "      <td>26980.078125</td>\n",
       "      <td>1.463</td>\n",
       "      <td>1.969</td>\n",
       "      <td>2.571</td>\n",
       "      <td>24778.279297</td>\n",
       "      <td>0</td>\n",
       "    </tr>\n",
       "    <tr>\n",
       "      <th>2015-02-26</th>\n",
       "      <td>27580</td>\n",
       "      <td>27600</td>\n",
       "      <td>27360</td>\n",
       "      <td>27500</td>\n",
       "      <td>163583</td>\n",
       "      <td>182.877130</td>\n",
       "      <td>251.840910</td>\n",
       "      <td>-68.963779</td>\n",
       "      <td>1102.65</td>\n",
       "      <td>2110.739990</td>\n",
       "      <td>...</td>\n",
       "      <td>10235</td>\n",
       "      <td>97.150002</td>\n",
       "      <td>52.656662</td>\n",
       "      <td>35.498322</td>\n",
       "      <td>26463.937500</td>\n",
       "      <td>1.528</td>\n",
       "      <td>2.016</td>\n",
       "      <td>2.609</td>\n",
       "      <td>24902.060547</td>\n",
       "      <td>1</td>\n",
       "    </tr>\n",
       "    <tr>\n",
       "      <th>2015-02-27</th>\n",
       "      <td>27500</td>\n",
       "      <td>27520</td>\n",
       "      <td>27140</td>\n",
       "      <td>27140</td>\n",
       "      <td>260188</td>\n",
       "      <td>146.503733</td>\n",
       "      <td>230.773474</td>\n",
       "      <td>-84.269741</td>\n",
       "      <td>1101.28</td>\n",
       "      <td>2104.500000</td>\n",
       "      <td>...</td>\n",
       "      <td>10235</td>\n",
       "      <td>96.860001</td>\n",
       "      <td>52.353409</td>\n",
       "      <td>35.242615</td>\n",
       "      <td>26651.625000</td>\n",
       "      <td>1.505</td>\n",
       "      <td>2.002</td>\n",
       "      <td>2.600</td>\n",
       "      <td>24823.289062</td>\n",
       "      <td>1</td>\n",
       "    </tr>\n",
       "    <tr>\n",
       "      <th>2015-03-02</th>\n",
       "      <td>27500</td>\n",
       "      <td>28460</td>\n",
       "      <td>27340</td>\n",
       "      <td>28460</td>\n",
       "      <td>436112</td>\n",
       "      <td>221.635644</td>\n",
       "      <td>228.945908</td>\n",
       "      <td>-7.310264</td>\n",
       "      <td>1103.05</td>\n",
       "      <td>2117.389893</td>\n",
       "      <td>...</td>\n",
       "      <td>10291</td>\n",
       "      <td>99.519997</td>\n",
       "      <td>53.731853</td>\n",
       "      <td>38.170303</td>\n",
       "      <td>24399.375000</td>\n",
       "      <td>1.578</td>\n",
       "      <td>2.084</td>\n",
       "      <td>2.685</td>\n",
       "      <td>24887.439453</td>\n",
       "      <td>0</td>\n",
       "    </tr>\n",
       "    <tr>\n",
       "      <th>...</th>\n",
       "      <td>...</td>\n",
       "      <td>...</td>\n",
       "      <td>...</td>\n",
       "      <td>...</td>\n",
       "      <td>...</td>\n",
       "      <td>...</td>\n",
       "      <td>...</td>\n",
       "      <td>...</td>\n",
       "      <td>...</td>\n",
       "      <td>...</td>\n",
       "      <td>...</td>\n",
       "      <td>...</td>\n",
       "      <td>...</td>\n",
       "      <td>...</td>\n",
       "      <td>...</td>\n",
       "      <td>...</td>\n",
       "      <td>...</td>\n",
       "      <td>...</td>\n",
       "      <td>...</td>\n",
       "      <td>...</td>\n",
       "      <td>...</td>\n",
       "    </tr>\n",
       "    <tr>\n",
       "      <th>2021-01-20</th>\n",
       "      <td>89000</td>\n",
       "      <td>89000</td>\n",
       "      <td>86500</td>\n",
       "      <td>87200</td>\n",
       "      <td>25211127</td>\n",
       "      <td>4222.966651</td>\n",
       "      <td>4536.274012</td>\n",
       "      <td>-313.307361</td>\n",
       "      <td>1096.35</td>\n",
       "      <td>3851.850098</td>\n",
       "      <td>...</td>\n",
       "      <td>20685</td>\n",
       "      <td>418.500000</td>\n",
       "      <td>241.809998</td>\n",
       "      <td>619.789978</td>\n",
       "      <td>13.020000</td>\n",
       "      <td>0.449</td>\n",
       "      <td>1.090</td>\n",
       "      <td>1.842</td>\n",
       "      <td>29962.470703</td>\n",
       "      <td>0</td>\n",
       "    </tr>\n",
       "    <tr>\n",
       "      <th>2021-01-21</th>\n",
       "      <td>87500</td>\n",
       "      <td>88600</td>\n",
       "      <td>86500</td>\n",
       "      <td>88100</td>\n",
       "      <td>25318011</td>\n",
       "      <td>4073.734154</td>\n",
       "      <td>4443.766040</td>\n",
       "      <td>-370.031886</td>\n",
       "      <td>1099.88</td>\n",
       "      <td>3853.070068</td>\n",
       "      <td>...</td>\n",
       "      <td>20965</td>\n",
       "      <td>424.549988</td>\n",
       "      <td>245.550003</td>\n",
       "      <td>647.380005</td>\n",
       "      <td>12.420000</td>\n",
       "      <td>0.447</td>\n",
       "      <td>1.109</td>\n",
       "      <td>1.872</td>\n",
       "      <td>29927.759766</td>\n",
       "      <td>0</td>\n",
       "    </tr>\n",
       "    <tr>\n",
       "      <th>2021-01-22</th>\n",
       "      <td>89000</td>\n",
       "      <td>89700</td>\n",
       "      <td>86800</td>\n",
       "      <td>86800</td>\n",
       "      <td>30861661</td>\n",
       "      <td>3806.686082</td>\n",
       "      <td>4316.350049</td>\n",
       "      <td>-509.663966</td>\n",
       "      <td>1105.41</td>\n",
       "      <td>3841.469971</td>\n",
       "      <td>...</td>\n",
       "      <td>20865</td>\n",
       "      <td>417.350006</td>\n",
       "      <td>240.929993</td>\n",
       "      <td>611.849976</td>\n",
       "      <td>13.090000</td>\n",
       "      <td>0.434</td>\n",
       "      <td>1.091</td>\n",
       "      <td>1.857</td>\n",
       "      <td>29447.849609</td>\n",
       "      <td>1</td>\n",
       "    </tr>\n",
       "    <tr>\n",
       "      <th>2021-01-25</th>\n",
       "      <td>87000</td>\n",
       "      <td>89900</td>\n",
       "      <td>86300</td>\n",
       "      <td>89400</td>\n",
       "      <td>27258534</td>\n",
       "      <td>3761.486755</td>\n",
       "      <td>4205.377390</td>\n",
       "      <td>-443.890635</td>\n",
       "      <td>1102.58</td>\n",
       "      <td>3855.360107</td>\n",
       "      <td>...</td>\n",
       "      <td>21300</td>\n",
       "      <td>417.950012</td>\n",
       "      <td>241.880005</td>\n",
       "      <td>614.479980</td>\n",
       "      <td>13.040000</td>\n",
       "      <td>0.410</td>\n",
       "      <td>1.040</td>\n",
       "      <td>1.798</td>\n",
       "      <td>30159.009766</td>\n",
       "      <td>0</td>\n",
       "    </tr>\n",
       "    <tr>\n",
       "      <th>2021-01-26</th>\n",
       "      <td>88800</td>\n",
       "      <td>89200</td>\n",
       "      <td>86500</td>\n",
       "      <td>86700</td>\n",
       "      <td>33178936</td>\n",
       "      <td>3467.823614</td>\n",
       "      <td>4057.866635</td>\n",
       "      <td>-590.043020</td>\n",
       "      <td>1101.02</td>\n",
       "      <td>3849.620117</td>\n",
       "      <td>...</td>\n",
       "      <td>20790</td>\n",
       "      <td>411.160004</td>\n",
       "      <td>237.699997</td>\n",
       "      <td>585.830017</td>\n",
       "      <td>13.650000</td>\n",
       "      <td>0.412</td>\n",
       "      <td>1.040</td>\n",
       "      <td>1.802</td>\n",
       "      <td>29391.259766</td>\n",
       "      <td>1</td>\n",
       "    </tr>\n",
       "  </tbody>\n",
       "</table>\n",
       "<p>1307 rows × 22 columns</p>\n",
       "</div>"
      ],
      "text/plain": [
       "             Open   High    Low  Close    Volume         macd  macdsignal9  \\\n",
       "날짜                                                                           \n",
       "2015-02-23  27560  27800  27320  27340    306036   207.516208   314.030156   \n",
       "2015-02-25  27600  27700  27460  27580    167485   189.988235   269.081854   \n",
       "2015-02-26  27580  27600  27360  27500    163583   182.877130   251.840910   \n",
       "2015-02-27  27500  27520  27140  27140    260188   146.503733   230.773474   \n",
       "2015-03-02  27500  28460  27340  28460    436112   221.635644   228.945908   \n",
       "...           ...    ...    ...    ...       ...          ...          ...   \n",
       "2021-01-20  89000  89000  86500  87200  25211127  4222.966651  4536.274012   \n",
       "2021-01-21  87500  88600  86500  88100  25318011  4073.734154  4443.766040   \n",
       "2021-01-22  89000  89700  86800  86800  30861661  3806.686082  4316.350049   \n",
       "2021-01-25  87000  89900  86300  89400  27258534  3761.486755  4205.377390   \n",
       "2021-01-26  88800  89200  86500  86700  33178936  3467.823614  4057.866635   \n",
       "\n",
       "              macdhist       US       SNP500  ...  MSCI_KR        SOXX  \\\n",
       "날짜                                            ...                        \n",
       "2015-02-23 -106.513948  1108.40  2109.659912  ...    10120   95.709999   \n",
       "2015-02-25  -79.093619  1100.71  2113.860107  ...    10235   96.489998   \n",
       "2015-02-26  -68.963779  1102.65  2110.739990  ...    10235   97.150002   \n",
       "2015-02-27  -84.269741  1101.28  2104.500000  ...    10235   96.860001   \n",
       "2015-03-02   -7.310264  1103.05  2117.389893  ...    10291   99.519997   \n",
       "...                ...      ...          ...  ...      ...         ...   \n",
       "2021-01-20 -313.307361  1096.35  3851.850098  ...    20685  418.500000   \n",
       "2021-01-21 -370.031886  1099.88  3853.070068  ...    20965  424.549988   \n",
       "2021-01-22 -509.663966  1105.41  3841.469971  ...    20865  417.350006   \n",
       "2021-01-25 -443.890635  1102.58  3855.360107  ...    21300  417.950012   \n",
       "2021-01-26 -590.043020  1101.02  3849.620117  ...    20790  411.160004   \n",
       "\n",
       "                   SMH        SOXL          SOXS  TREASURY_5Y  TREASURY_10Y  \\\n",
       "날짜                                                                            \n",
       "2015-02-23   51.756077   34.008659  27660.447266        1.545         2.059   \n",
       "2015-02-25   52.463680   34.792194  26980.078125        1.463         1.969   \n",
       "2015-02-26   52.656662   35.498322  26463.937500        1.528         2.016   \n",
       "2015-02-27   52.353409   35.242615  26651.625000        1.505         2.002   \n",
       "2015-03-02   53.731853   38.170303  24399.375000        1.578         2.084   \n",
       "...                ...         ...           ...          ...           ...   \n",
       "2021-01-20  241.809998  619.789978     13.020000        0.449         1.090   \n",
       "2021-01-21  245.550003  647.380005     12.420000        0.447         1.109   \n",
       "2021-01-22  240.929993  611.849976     13.090000        0.434         1.091   \n",
       "2021-01-25  241.880005  614.479980     13.040000        0.410         1.040   \n",
       "2021-01-26  237.699997  585.830017     13.650000        0.412         1.040   \n",
       "\n",
       "            TREASURY_30Y     hang_seng  Labeling  \n",
       "날짜                                                \n",
       "2015-02-23         2.652  24836.759766         1  \n",
       "2015-02-25         2.571  24778.279297         0  \n",
       "2015-02-26         2.609  24902.060547         1  \n",
       "2015-02-27         2.600  24823.289062         1  \n",
       "2015-03-02         2.685  24887.439453         0  \n",
       "...                  ...           ...       ...  \n",
       "2021-01-20         1.842  29962.470703         0  \n",
       "2021-01-21         1.872  29927.759766         0  \n",
       "2021-01-22         1.857  29447.849609         1  \n",
       "2021-01-25         1.798  30159.009766         0  \n",
       "2021-01-26         1.802  29391.259766         1  \n",
       "\n",
       "[1307 rows x 22 columns]"
      ]
     },
     "execution_count": 10,
     "metadata": {},
     "output_type": "execute_result"
    }
   ],
   "source": [
    "# samsung 모델\n",
    "#model_samsung['Labeling'] = model_samsung['Close'].shift(-1)\n",
    "model_samsung = model_samsung.dropna() # 결측치가 있는 행 제거\n",
    "model_samsung"
   ]
  },
  {
   "cell_type": "code",
   "execution_count": 11,
   "metadata": {},
   "outputs": [],
   "source": [
    "#4 데이터 정규화하기 \n",
    "#sc = StandardScaler()\n",
    "#df_scaled = pd.DataFrame(sc.fit_transform(model_samsung), columns=model_samsung.columns, index=model_samsung.index)\n",
    "\n",
    "#4 Y 값 넣기\n",
    "#df_scaled.drop(['Open', 'High', 'Low', 'Volume', 'Labeling'], axis=1, inplace=True)\n",
    "#df_scaled['Labeling'] = model_samsung['Labeling']\n",
    "#df_scaled = df_scaled[1:]\n",
    "#df_scaled"
   ]
  },
  {
   "cell_type": "code",
   "execution_count": 12,
   "metadata": {},
   "outputs": [],
   "source": [
    "from sklearn.preprocessing import StandardScaler, MinMaxScaler\n",
    "\n",
    "from sklearn import preprocessing\n",
    "from sklearn.model_selection import TimeSeriesSplit\n",
    "from sklearn.model_selection import GridSearchCV"
   ]
  },
  {
   "cell_type": "code",
   "execution_count": 13,
   "metadata": {},
   "outputs": [],
   "source": [
    "\n",
    "#4 test, train 나누기\n",
    "#df_scaled = model_samsung.copy()\n",
    "#df_scaled.drop(['hang_seng','Labeling','Open','High','Low','Volume','macdsignal9', 'macdhist', 'RUSSELL2000', 'NASDAQ', 'MSCI_KR', 'SMH','TREASURY_10Y','TREASURY_30Y'],axis=1,inplace=True)\n",
    "model_samsung.drop(['Open','High','Low','Volume','macd','macdsignal9','macdhist', 'RUSSELL2000', 'NASDAQ', 'MSCI_KR', 'SMH','TREASURY_10Y'],axis=1,inplace=True)\n",
    "\n"
   ]
  },
  {
   "cell_type": "code",
   "execution_count": 14,
   "metadata": {},
   "outputs": [
    {
     "name": "stdout",
     "output_type": "stream",
     "text": [
      "               Close        US    SNP500      SOXX      SOXL      SOXS  \\\n",
      "2015-02-23  0.086133  0.245162  0.138470  0.057117  0.030872  0.615720   \n",
      "2015-02-25  0.089578  0.209896  0.140543  0.059353  0.032110  0.600569   \n",
      "2015-02-26  0.088430  0.218793  0.139004  0.061246  0.033225  0.589074   \n",
      "2015-02-27  0.083262  0.212510  0.135924  0.060414  0.032821  0.593254   \n",
      "2015-03-02  0.102211  0.220627  0.142285  0.068041  0.037447  0.543096   \n",
      "\n",
      "            TREASURY_5Y  TREASURY_30Y  hang_seng  Labeling  \n",
      "2015-02-23     0.466321      0.681637   0.430784       1.0  \n",
      "2015-02-25     0.437997      0.649444   0.426782       0.0  \n",
      "2015-02-26     0.460449      0.664547   0.435253       1.0  \n",
      "2015-02-27     0.452504      0.660970   0.429863       1.0  \n",
      "2015-03-02     0.477720      0.694754   0.434253       0.0  \n"
     ]
    }
   ],
   "source": [
    "# 차트 비교분석을 위한 정규화\n",
    "from sklearn.preprocessing import MinMaxScaler\n",
    "min_max_scaler = MinMaxScaler()\n",
    "fitted = min_max_scaler.fit(model_samsung)\n",
    "output = min_max_scaler.transform(model_samsung)\n",
    "output = pd.DataFrame(output, columns=model_samsung.columns, index=list(model_samsung.index.values))\n",
    "print(output.head())"
   ]
  },
  {
   "cell_type": "code",
   "execution_count": 15,
   "metadata": {},
   "outputs": [
    {
     "data": {
      "text/plain": [
       "<matplotlib.axes._subplots.AxesSubplot at 0x1deace706a0>"
      ]
     },
     "execution_count": 15,
     "metadata": {},
     "output_type": "execute_result"
    },
    {
     "data": {
      "image/png": "[encoded data removed]",
      "text/plain": [
       "<Figure size 432x288 with 2 Axes>"
      ]
     },
     "metadata": {
      "needs_background": "light"
     },
     "output_type": "display_data"
    }
   ],
   "source": [
    "import seaborn as sns\n",
    "sns.heatmap(model_samsung.corr(), annot=True, cmap='summer')"
   ]
  },
  {
   "cell_type": "code",
   "execution_count": 16,
   "metadata": {},
   "outputs": [],
   "source": [
    "Y = output['Labeling']\n",
    "X = output.drop(['Labeling'], axis=1).shift(-5).fillna(output.mean())"
   ]
  },
  {
   "cell_type": "code",
   "execution_count": 17,
   "metadata": {},
   "outputs": [],
   "source": [
    "X_train, X_test, y_train, y_test = train_test_split(X, Y, test_size=0.3, random_state=0)"
   ]
  },
  {
   "cell_type": "code",
   "execution_count": 18,
   "metadata": {},
   "outputs": [
    {
     "name": "stdout",
     "output_type": "stream",
     "text": [
      "\n",
      "KNeighborsClassifier 학습데이터셋 정확도: 0.6805\n",
      "KNeighborsClassifier 테스트셋 정확도: 0.4860\n",
      "\n",
      "SVC 학습데이터셋 정확도: 0.5470\n",
      "SVC 테스트셋 정확도: 0.5547\n",
      "\n",
      "RandomForestClassifier 학습데이터셋 정확도: 0.9978\n",
      "RandomForestClassifier 테스트셋 정확도: 0.5038\n",
      "\n",
      "GradientBoostingClassifier 학습데이터셋 정확도: 0.8260\n",
      "GradientBoostingClassifier 테스트셋 정확도: 0.5013\n",
      "[14:53:38] WARNING: C:/Users/Administrator/workspace/xgboost-win64_release_1.3.0/src/learner.cc:1061: Starting in XGBoost 1.3.0, the default evaluation metric used with the objective 'binary:logistic' was changed from 'error' to 'logloss'. Explicitly set eval_metric if you'd like to restore the old behavior.\n"
     ]
    },
    {
     "name": "stderr",
     "output_type": "stream",
     "text": [
      "C:\\Users\\user\\anaconda3\\envs\\py38_64\\lib\\site-packages\\xgboost\\sklearn.py:892: UserWarning: The use of label encoder in XGBClassifier is deprecated and will be removed in a future release. To remove this warning, do the following: 1) Pass option use_label_encoder=False when constructing XGBClassifier object; and 2) Encode your labels (y) as integers starting with 0, i.e. 0, 1, 2, ..., [num_class - 1].\n",
      "  warnings.warn(label_encoder_deprecation_msg, UserWarning)\n"
     ]
    },
    {
     "name": "stdout",
     "output_type": "stream",
     "text": [
      "\n",
      "XGBClassifier 학습데이터셋 정확도: 0.9978\n",
      "XGBClassifier 테스트셋 정확도: 0.4860\n",
      "\n",
      "LGBMClassifier 학습데이터셋 정확도: 0.9978\n",
      "LGBMClassifier 테스트셋 정확도: 0.5140\n"
     ]
    }
   ],
   "source": [
    "neighbor_model = KNeighborsClassifier(n_neighbors=5)\n",
    "svm_model = SVC()\n",
    "forest_model = RandomForestClassifier(n_estimators=300)\n",
    "gbm_model = GradientBoostingClassifier(random_state=10)\n",
    "xgb_model = XGBClassifier(n_estimators=300)\n",
    "lgb_model = LGBMClassifier(n_estimators=300)\n",
    "\n",
    "model_list = [neighbor_model, svm_model, forest_model, gbm_model, xgb_model, lgb_model]\n",
    "\n",
    "for model in model_list:\n",
    "    model_name = model.__class__.__name__\n",
    "    model.fit(X_train , y_train)\n",
    "    print('\\n{0} 학습데이터셋 정확도: {1:.4f}'.format(model_name, model.score(X_train , y_train)))\n",
    " \n",
    "    pred = model.predict(X_test)\n",
    "    accuracy = accuracy_score(y_test, pred)    \n",
    "    print('{0} 테스트셋 정확도: {1:.4f}'.format(model_name, accuracy))    "
   ]
  },
  {
   "cell_type": "code",
   "execution_count": 19,
   "metadata": {},
   "outputs": [
    {
     "data": {
      "text/plain": [
       "(914, 9)"
      ]
     },
     "execution_count": 19,
     "metadata": {},
     "output_type": "execute_result"
    }
   ],
   "source": [
    "X_train.shape"
   ]
  },
  {
   "cell_type": "code",
   "execution_count": 20,
   "metadata": {},
   "outputs": [
    {
     "name": "stdout",
     "output_type": "stream",
     "text": [
      "Epoch 1/10\n",
      "92/92 [==============================] - 0s 1ms/step - loss: 0.6977 - accuracy: 0.4945\n",
      "Epoch 2/10\n",
      "92/92 [==============================] - 0s 1ms/step - loss: 0.6907 - accuracy: 0.5416\n",
      "Epoch 3/10\n",
      "92/92 [==============================] - 0s 1ms/step - loss: 0.6903 - accuracy: 0.5427\n",
      "Epoch 4/10\n",
      "92/92 [==============================] - 0s 989us/step - loss: 0.6912 - accuracy: 0.5372\n",
      "Epoch 5/10\n",
      "92/92 [==============================] - 0s 967us/step - loss: 0.6900 - accuracy: 0.5350\n",
      "Epoch 6/10\n",
      "92/92 [==============================] - 0s 978us/step - loss: 0.6887 - accuracy: 0.5427\n",
      "Epoch 7/10\n",
      "92/92 [==============================] - 0s 989us/step - loss: 0.6892 - accuracy: 0.5284\n",
      "Epoch 8/10\n",
      "92/92 [==============================] - 0s 945us/step - loss: 0.6892 - accuracy: 0.5427\n",
      "Epoch 9/10\n",
      "92/92 [==============================] - 0s 989us/step - loss: 0.6897 - accuracy: 0.5372\n",
      "Epoch 10/10\n",
      "92/92 [==============================] - 0s 956us/step - loss: 0.6895 - accuracy: 0.5416\n"
     ]
    },
    {
     "data": {
      "text/plain": [
       "<tensorflow.python.keras.callbacks.History at 0x1dead3aa3a0>"
      ]
     },
     "execution_count": 20,
     "metadata": {},
     "output_type": "execute_result"
    }
   ],
   "source": [
    "# 모델의 설정\n",
    "model = Sequential()\n",
    "model.add(Dense(60, input_dim=9, activation='relu'))\n",
    "model.add(Dense(1, activation='sigmoid'))\n",
    "\n",
    "# 모델 컴파일\n",
    "model.compile(loss='binary_crossentropy',\n",
    "            optimizer='adam',\n",
    "            metrics=['accuracy'])\n",
    "\n",
    "# 모델 실행\n",
    "model.fit(X_train, y_train, epochs=10, batch_size=10)"
   ]
  },
  {
   "cell_type": "code",
   "execution_count": 21,
   "metadata": {},
   "outputs": [
    {
     "name": "stdout",
     "output_type": "stream",
     "text": [
      "13/13 [==============================] - 0s 923us/step - loss: 0.6874 - accuracy: 0.5598\n",
      "Sequential 정확도: 0.5598, Loss: 0.6874\n"
     ]
    }
   ],
   "source": [
    "eval = model.evaluate(X_test, (y_test))\n",
    "print('{0} 정확도: {1:.4f}, Loss: {2:.4f}'.format(model.__class__.__name__, eval[1], eval[0]))"
   ]
  },
  {
   "cell_type": "code",
   "execution_count": 22,
   "metadata": {},
   "outputs": [
    {
     "data": {
      "text/plain": [
       "<matplotlib.axes._subplots.AxesSubplot at 0x1deacfd9700>"
      ]
     },
     "execution_count": 22,
     "metadata": {},
     "output_type": "execute_result"
    },
    {
     "data": {
      "image/png": "[encoded data removed]",
      "text/plain": [
       "<Figure size 720x864 with 1 Axes>"
      ]
     },
     "metadata": {
      "needs_background": "light"
     },
     "output_type": "display_data"
    }
   ],
   "source": [
    "from xgboost import plot_importance\n",
    "\n",
    "fig, ax = plt.subplots(figsize=(10, 12))\n",
    "plot_importance(xgb_model, ax=ax)"
   ]
  },
  {
   "cell_type": "code",
   "execution_count": 23,
   "metadata": {},
   "outputs": [
    {
     "data": {
      "text/plain": [
       "<matplotlib.axes._subplots.AxesSubplot at 0x1deace5b310>"
      ]
     },
     "execution_count": 23,
     "metadata": {},
     "output_type": "execute_result"
    },
    {
     "data": {
      "image/png": "[encoded data removed]",
      "text/plain": [
       "<Figure size 720x864 with 1 Axes>"
      ]
     },
     "metadata": {
      "needs_background": "light"
     },
     "output_type": "display_data"
    }
   ],
   "source": [
    "from lightgbm import plot_importance\n",
    "\n",
    "fig, ax = plt.subplots(figsize=(10, 12))\n",
    "plot_importance(lgb_model, ax=ax)"
   ]
  },
  {
   "cell_type": "code",
   "execution_count": 24,
   "metadata": {},
   "outputs": [
    {
     "data": {
      "image/png": "[encoded data removed]",
      "text/plain": [
       "<Figure size 720x864 with 1 Axes>"
      ]
     },
     "metadata": {
      "needs_background": "light"
     },
     "output_type": "display_data"
    }
   ],
   "source": [
    "features = X.columns\n",
    "importances = forest_model.feature_importances_\n",
    "indices = np.argsort(importances)\n",
    "\n",
    "fig, ax = plt.subplots(figsize=(10, 12))\n",
    "plt.title('RandomForest Feature Importances')\n",
    "plt.barh(range(len(indices)), importances[indices], color='b', align='center')\n",
    "plt.yticks(range(len(indices)), [features[i] for i in indices])\n",
    "plt.xlabel('Relative Importance')\n",
    "plt.show()"
   ]
  },
  {
   "cell_type": "code",
   "execution_count": 25,
   "metadata": {},
   "outputs": [
    {
     "name": "stdout",
     "output_type": "stream",
     "text": [
      "최적 하이퍼 파라미터:\n",
      " {'max_depth': 6, 'min_samples_leaf': 18, 'min_samples_split': 8, 'n_estimators': 300}\n",
      "최고 예측 정확도: 0.5175\n"
     ]
    }
   ],
   "source": [
    "from sklearn.model_selection import GridSearchCV\n",
    "\n",
    "params = {\n",
    "    'n_estimators':[300],\n",
    "    'max_depth' : [6, 8, 10, 12], \n",
    "    'min_samples_leaf' : [8, 12, 18],\n",
    "    'min_samples_split' : [8, 16, 20]\n",
    "}\n",
    "# RandomForestClassifier 객체 생성 후 GridSearchCV 수행\n",
    "rf_clf = RandomForestClassifier(random_state=0, n_jobs=-1)\n",
    "grid_cv = GridSearchCV(rf_clf , param_grid=params , cv=2, n_jobs=-1 )\n",
    "grid_cv.fit(X_train , y_train)\n",
    "\n",
    "print('최적 하이퍼 파라미터:\\n', grid_cv.best_params_)\n",
    "print('최고 예측 정확도: {0:.4f}'.format(grid_cv.best_score_))"
   ]
  },
  {
   "cell_type": "code",
   "execution_count": 26,
   "metadata": {},
   "outputs": [
    {
     "data": {
      "text/plain": [
       "RandomizedSearchCV(cv=2, estimator=RandomForestClassifier(),\n",
       "                   param_distributions={'max_depth': [6, 12, 16, 20],\n",
       "                                        'min_samples_split': [2, 4, 6, 8],\n",
       "                                        'n_estimators': [300, 310, 320, 330,\n",
       "                                                         340, 350, 360, 370,\n",
       "                                                         380, 390, 400, 410,\n",
       "                                                         420, 430, 440, 450,\n",
       "                                                         460, 470, 480, 490]},\n",
       "                   scoring=make_scorer(accuracy_score))"
      ]
     },
     "execution_count": 26,
     "metadata": {},
     "output_type": "execute_result"
    }
   ],
   "source": [
    "from sklearn.model_selection import RandomizedSearchCV\n",
    "from sklearn.metrics import f1_score, make_scorer # 평가지표\n",
    "param_list = {\"n_estimators\": list(range(300, 500, 10)),\n",
    "              \"max_depth\": [6, 12, 16, 20],\n",
    "              \"min_samples_split\": [2, 4, 6, 8]}\n",
    "\n",
    "rf_model = RandomForestClassifier()\n",
    "\n",
    "rf_random_search = RandomizedSearchCV(\n",
    "        estimator=rf_model,\n",
    "        param_distributions = param_list,\n",
    "        n_iter = 10,\n",
    "        cv = 2,\n",
    "        scoring = make_scorer(accuracy_score))\n",
    "\n",
    "rf_random_search.fit(X_train, y_train)\n"
   ]
  },
  {
   "cell_type": "code",
   "execution_count": 27,
   "metadata": {},
   "outputs": [
    {
     "data": {
      "text/plain": [
       "{'n_estimators': 390, 'min_samples_split': 2, 'max_depth': 6}"
      ]
     },
     "execution_count": 27,
     "metadata": {},
     "output_type": "execute_result"
    }
   ],
   "source": [
    "rf_random_search.best_params_"
   ]
  },
  {
   "cell_type": "code",
   "execution_count": 28,
   "metadata": {},
   "outputs": [
    {
     "name": "stdout",
     "output_type": "stream",
     "text": [
      " 훈련 정확도: 0.8 \n",
      " 시험 정확도: 0.5\n"
     ]
    }
   ],
   "source": [
    "test_scores = []\n",
    "train_preds = rf_random_search.predict(X_train)\n",
    "test_preds  = rf_random_search.predict(X_test)\n",
    "\n",
    "test_scores.append(round(accuracy_score(y_test, test_preds), 1))\n",
    "\n",
    "print(' 훈련 정확도: {0:.2}'.format(round(accuracy_score(y_train, train_preds), 1)), \"\\n\",\n",
    "      '시험 정확도: {0:.2}'.format(round(accuracy_score(y_test,  test_preds), 1)), )"
   ]
  },
  {
   "cell_type": "code",
   "execution_count": 29,
   "metadata": {},
   "outputs": [
    {
     "name": "stderr",
     "output_type": "stream",
     "text": [
      "C:\\Users\\user\\anaconda3\\envs\\py38_64\\lib\\site-packages\\xgboost\\sklearn.py:892: UserWarning: The use of label encoder in XGBClassifier is deprecated and will be removed in a future release. To remove this warning, do the following: 1) Pass option use_label_encoder=False when constructing XGBClassifier object; and 2) Encode your labels (y) as integers starting with 0, i.e. 0, 1, 2, ..., [num_class - 1].\n",
      "  warnings.warn(label_encoder_deprecation_msg, UserWarning)\n"
     ]
    },
    {
     "name": "stdout",
     "output_type": "stream",
     "text": [
      "[14:54:32] WARNING: C:/Users/Administrator/workspace/xgboost-win64_release_1.3.0/src/learner.cc:1061: Starting in XGBoost 1.3.0, the default evaluation metric used with the objective 'binary:logistic' was changed from 'error' to 'logloss'. Explicitly set eval_metric if you'd like to restore the old behavior.\n",
      "VotingClassifier 정확도: 0.4885\n"
     ]
    }
   ],
   "source": [
    "from sklearn.ensemble import VotingClassifier\n",
    "\n",
    "voting_model = VotingClassifier(estimators=[('forest',forest_model),\\\n",
    "                                            ('xgb',xgb_model)] , voting='soft' )\n",
    "\n",
    "voting_model.fit(X_train , y_train)\n",
    "pred = voting_model.predict(X_test)\n",
    "accuracy = accuracy_score(y_test , pred)\n",
    "print('VotingClassifier 정확도: {0:.4f}'.format(accuracy))"
   ]
  },
  {
   "cell_type": "code",
   "execution_count": null,
   "metadata": {},
   "outputs": [],
   "source": []
  }
 ],
 "metadata": {
  "kernelspec": {
   "display_name": "[Tensorflow2.3]",
   "language": "python",
   "name": "py38_64"
  },
  "language_info": {
   "codemirror_mode": {
    "name": "ipython",
    "version": 3
   },
   "file_extension": ".py",
   "mimetype": "text/x-python",
   "name": "python",
   "nbconvert_exporter": "python",
   "pygments_lexer": "ipython3",
   "version": "3.8.5"
  }
 },
 "nbformat": 4,
 "nbformat_minor": 4
}
