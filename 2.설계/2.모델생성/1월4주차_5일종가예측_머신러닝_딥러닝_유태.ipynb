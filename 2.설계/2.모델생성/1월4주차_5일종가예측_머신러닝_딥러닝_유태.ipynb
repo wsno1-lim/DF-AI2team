{
 "cells": [
  {
   "cell_type": "code",
   "execution_count": 1,
   "metadata": {},
   "outputs": [],
   "source": [
    "import numpy as np # linear algebra\n",
    "import pandas as pd # data processing, CSV file I/O (e.g. pd.read_csv)\n",
    "import os"
   ]
  },
  {
   "cell_type": "code",
   "execution_count": 2,
   "metadata": {},
   "outputs": [
    {
     "name": "stdout",
     "output_type": "stream",
     "text": [
      "Collecting package metadata (current_repodata.json): ...working... done\n",
      "Solving environment: ...working... done\n",
      "\n",
      "# All requested packages already installed.\n",
      "\n",
      "\n",
      "Note: you may need to restart the kernel to use updated packages.\n"
     ]
    }
   ],
   "source": [
    "conda install -c conda-forge scikit-plot"
   ]
  },
  {
   "cell_type": "code",
   "execution_count": 3,
   "metadata": {},
   "outputs": [
    {
     "name": "stdout",
     "output_type": "stream",
     "text": [
      "Requirement already satisfied: yfinance in c:\\users\\user\\anaconda3\\envs\\py38_64\\lib\\site-packages (0.1.55)\n",
      "Requirement already satisfied: requests>=2.20 in c:\\users\\user\\anaconda3\\envs\\py38_64\\lib\\site-packages (from yfinance) (2.25.1)\n",
      "Requirement already satisfied: pandas>=0.24 in c:\\users\\user\\anaconda3\\envs\\py38_64\\lib\\site-packages (from yfinance) (1.2.0)\n",
      "Requirement already satisfied: multitasking>=0.0.7 in c:\\users\\user\\anaconda3\\envs\\py38_64\\lib\\site-packages (from yfinance) (0.0.9)\n",
      "Requirement already satisfied: lxml>=4.5.1 in c:\\users\\user\\anaconda3\\envs\\py38_64\\lib\\site-packages (from yfinance) (4.6.2)\n",
      "Requirement already satisfied: numpy>=1.15 in c:\\users\\user\\anaconda3\\envs\\py38_64\\lib\\site-packages (from yfinance) (1.19.5)\n",
      "Requirement already satisfied: pytz>=2017.3 in c:\\users\\user\\anaconda3\\envs\\py38_64\\lib\\site-packages (from pandas>=0.24->yfinance) (2020.5)\n",
      "Requirement already satisfied: python-dateutil>=2.7.3 in c:\\users\\user\\anaconda3\\envs\\py38_64\\lib\\site-packages (from pandas>=0.24->yfinance) (2.8.1)\n",
      "Requirement already satisfied: six>=1.5 in c:\\users\\user\\anaconda3\\envs\\py38_64\\lib\\site-packages (from python-dateutil>=2.7.3->pandas>=0.24->yfinance) (1.15.0)\n",
      "Requirement already satisfied: idna<3,>=2.5 in c:\\users\\user\\anaconda3\\envs\\py38_64\\lib\\site-packages (from requests>=2.20->yfinance) (2.10)\n",
      "Requirement already satisfied: certifi>=2017.4.17 in c:\\users\\user\\anaconda3\\envs\\py38_64\\lib\\site-packages (from requests>=2.20->yfinance) (2020.12.5)\n",
      "Requirement already satisfied: urllib3<1.27,>=1.21.1 in c:\\users\\user\\anaconda3\\envs\\py38_64\\lib\\site-packages (from requests>=2.20->yfinance) (1.26.2)\n",
      "Requirement already satisfied: chardet<5,>=3.0.2 in c:\\users\\user\\anaconda3\\envs\\py38_64\\lib\\site-packages (from requests>=2.20->yfinance) (4.0.0)\n"
     ]
    },
    {
     "name": "stderr",
     "output_type": "stream",
     "text": [
      "WARNING: You are using pip version 20.3.3; however, version 21.0 is available.\n",
      "You should consider upgrading via the 'C:\\Users\\user\\anaconda3\\envs\\py38_64\\python.exe -m pip install --upgrade pip' command.\n"
     ]
    },
    {
     "name": "stdout",
     "output_type": "stream",
     "text": [
      "Requirement already satisfied: investpy in c:\\users\\user\\anaconda3\\envs\\py38_64\\lib\\site-packages (1.0)\n",
      "Requirement already satisfied: lxml>=4.4.1 in c:\\users\\user\\anaconda3\\envs\\py38_64\\lib\\site-packages (from investpy) (4.6.2)\n",
      "Requirement already satisfied: setuptools>=41.2.0 in c:\\users\\user\\anaconda3\\envs\\py38_64\\lib\\site-packages (from investpy) (51.0.0.post20201207)\n",
      "Requirement already satisfied: numpy>=1.17.2 in c:\\users\\user\\anaconda3\\envs\\py38_64\\lib\\site-packages (from investpy) (1.19.5)\n",
      "Requirement already satisfied: requests>=2.22.0 in c:\\users\\user\\anaconda3\\envs\\py38_64\\lib\\site-packages (from investpy) (2.25.1)\n",
      "Requirement already satisfied: Unidecode>=1.1.1 in c:\\users\\user\\anaconda3\\envs\\py38_64\\lib\\site-packages (from investpy) (1.1.2)\n",
      "Requirement already satisfied: pandas>=0.25.1 in c:\\users\\user\\anaconda3\\envs\\py38_64\\lib\\site-packages (from investpy) (1.2.0)\n",
      "Requirement already satisfied: pytz>=2019.3 in c:\\users\\user\\anaconda3\\envs\\py38_64\\lib\\site-packages (from investpy) (2020.5)\n",
      "Requirement already satisfied: python-dateutil>=2.7.3 in c:\\users\\user\\anaconda3\\envs\\py38_64\\lib\\site-packages (from pandas>=0.25.1->investpy) (2.8.1)\n",
      "Requirement already satisfied: six>=1.5 in c:\\users\\user\\anaconda3\\envs\\py38_64\\lib\\site-packages (from python-dateutil>=2.7.3->pandas>=0.25.1->investpy) (1.15.0)\n",
      "Requirement already satisfied: certifi>=2017.4.17 in c:\\users\\user\\anaconda3\\envs\\py38_64\\lib\\site-packages (from requests>=2.22.0->investpy) (2020.12.5)\n",
      "Requirement already satisfied: chardet<5,>=3.0.2 in c:\\users\\user\\anaconda3\\envs\\py38_64\\lib\\site-packages (from requests>=2.22.0->investpy) (4.0.0)\n",
      "Requirement already satisfied: idna<3,>=2.5 in c:\\users\\user\\anaconda3\\envs\\py38_64\\lib\\site-packages (from requests>=2.22.0->investpy) (2.10)\n",
      "Requirement already satisfied: urllib3<1.27,>=1.21.1 in c:\\users\\user\\anaconda3\\envs\\py38_64\\lib\\site-packages (from requests>=2.22.0->investpy) (1.26.2)\n"
     ]
    },
    {
     "name": "stderr",
     "output_type": "stream",
     "text": [
      "WARNING: You are using pip version 20.3.3; however, version 21.0 is available.\n",
      "You should consider upgrading via the 'C:\\Users\\user\\anaconda3\\envs\\py38_64\\python.exe -m pip install --upgrade pip' command.\n"
     ]
    },
    {
     "name": "stdout",
     "output_type": "stream",
     "text": [
      "Requirement already satisfied: pykrx in c:\\users\\user\\anaconda3\\envs\\py38_64\\lib\\site-packages (0.1.42)\n",
      "Requirement already satisfied: numpy in c:\\users\\user\\anaconda3\\envs\\py38_64\\lib\\site-packages (from pykrx) (1.19.5)\n",
      "Requirement already satisfied: pandas in c:\\users\\user\\anaconda3\\envs\\py38_64\\lib\\site-packages (from pykrx) (1.2.0)\n",
      "Requirement already satisfied: datetime in c:\\users\\user\\anaconda3\\envs\\py38_64\\lib\\site-packages (from pykrx) (4.3)\n",
      "Requirement already satisfied: xlrd in c:\\users\\user\\anaconda3\\envs\\py38_64\\lib\\site-packages (from pykrx) (2.0.1)\n",
      "Requirement already satisfied: requests in c:\\users\\user\\anaconda3\\envs\\py38_64\\lib\\site-packages (from pykrx) (2.25.1)\n",
      "Requirement already satisfied: pytz in c:\\users\\user\\anaconda3\\envs\\py38_64\\lib\\site-packages (from datetime->pykrx) (2020.5)\n",
      "Requirement already satisfied: zope.interface in c:\\users\\user\\anaconda3\\envs\\py38_64\\lib\\site-packages (from datetime->pykrx) (5.2.0)\n",
      "Requirement already satisfied: python-dateutil>=2.7.3 in c:\\users\\user\\anaconda3\\envs\\py38_64\\lib\\site-packages (from pandas->pykrx) (2.8.1)\n",
      "Requirement already satisfied: six>=1.5 in c:\\users\\user\\anaconda3\\envs\\py38_64\\lib\\site-packages (from python-dateutil>=2.7.3->pandas->pykrx) (1.15.0)\n",
      "Requirement already satisfied: chardet<5,>=3.0.2 in c:\\users\\user\\anaconda3\\envs\\py38_64\\lib\\site-packages (from requests->pykrx) (4.0.0)\n",
      "Requirement already satisfied: urllib3<1.27,>=1.21.1 in c:\\users\\user\\anaconda3\\envs\\py38_64\\lib\\site-packages (from requests->pykrx) (1.26.2)\n",
      "Requirement already satisfied: certifi>=2017.4.17 in c:\\users\\user\\anaconda3\\envs\\py38_64\\lib\\site-packages (from requests->pykrx) (2020.12.5)\n",
      "Requirement already satisfied: idna<3,>=2.5 in c:\\users\\user\\anaconda3\\envs\\py38_64\\lib\\site-packages (from requests->pykrx) (2.10)\n",
      "Requirement already satisfied: setuptools in c:\\users\\user\\anaconda3\\envs\\py38_64\\lib\\site-packages (from zope.interface->datetime->pykrx) (51.0.0.post20201207)\n"
     ]
    },
    {
     "name": "stderr",
     "output_type": "stream",
     "text": [
      "WARNING: You are using pip version 20.3.3; however, version 21.0 is available.\n",
      "You should consider upgrading via the 'C:\\Users\\user\\anaconda3\\envs\\py38_64\\python.exe -m pip install --upgrade pip' command.\n"
     ]
    },
    {
     "name": "stdout",
     "output_type": "stream",
     "text": [
      "Requirement already satisfied: seaborn in c:\\users\\user\\anaconda3\\envs\\py38_64\\lib\\site-packages (0.11.1)"
     ]
    },
    {
     "name": "stderr",
     "output_type": "stream",
     "text": [
      "WARNING: You are using pip version 20.3.3; however, version 21.0 is available.\n",
      "You should consider upgrading via the 'C:\\Users\\user\\anaconda3\\envs\\py38_64\\python.exe -m pip install --upgrade pip' command.\n"
     ]
    },
    {
     "name": "stdout",
     "output_type": "stream",
     "text": [
      "\n",
      "Requirement already satisfied: numpy>=1.15 in c:\\users\\user\\anaconda3\\envs\\py38_64\\lib\\site-packages (from seaborn) (1.19.5)\n",
      "Requirement already satisfied: scipy>=1.0 in c:\\users\\user\\anaconda3\\envs\\py38_64\\lib\\site-packages (from seaborn) (1.6.0)\n",
      "Requirement already satisfied: pandas>=0.23 in c:\\users\\user\\anaconda3\\envs\\py38_64\\lib\\site-packages (from seaborn) (1.2.0)\n",
      "Requirement already satisfied: matplotlib>=2.2 in c:\\users\\user\\anaconda3\\envs\\py38_64\\lib\\site-packages (from seaborn) (3.3.3)\n",
      "Requirement already satisfied: kiwisolver>=1.0.1 in c:\\users\\user\\anaconda3\\envs\\py38_64\\lib\\site-packages (from matplotlib>=2.2->seaborn) (1.3.1)\n",
      "Requirement already satisfied: python-dateutil>=2.1 in c:\\users\\user\\anaconda3\\envs\\py38_64\\lib\\site-packages (from matplotlib>=2.2->seaborn) (2.8.1)\n",
      "Requirement already satisfied: pillow>=6.2.0 in c:\\users\\user\\anaconda3\\envs\\py38_64\\lib\\site-packages (from matplotlib>=2.2->seaborn) (8.1.0)\n",
      "Requirement already satisfied: pyparsing!=2.0.4,!=2.1.2,!=2.1.6,>=2.0.3 in c:\\users\\user\\anaconda3\\envs\\py38_64\\lib\\site-packages (from matplotlib>=2.2->seaborn) (2.4.7)\n",
      "Requirement already satisfied: cycler>=0.10 in c:\\users\\user\\anaconda3\\envs\\py38_64\\lib\\site-packages (from matplotlib>=2.2->seaborn) (0.10.0)\n",
      "Requirement already satisfied: six in c:\\users\\user\\anaconda3\\envs\\py38_64\\lib\\site-packages (from cycler>=0.10->matplotlib>=2.2->seaborn) (1.15.0)\n",
      "Requirement already satisfied: pytz>=2017.3 in c:\\users\\user\\anaconda3\\envs\\py38_64\\lib\\site-packages (from pandas>=0.23->seaborn) (2020.5)\n",
      "Requirement already satisfied: workalendar in c:\\users\\user\\anaconda3\\envs\\py38_64\\lib\\site-packages (14.2.0)\n",
      "Requirement already satisfied: pyCalverter in c:\\users\\user\\anaconda3\\envs\\py38_64\\lib\\site-packages (from workalendar) (1.6.1)\n",
      "Requirement already satisfied: setuptools>=1.0 in c:\\users\\user\\anaconda3\\envs\\py38_64\\lib\\site-packages (from workalendar) (51.0.0.post20201207)\n",
      "Requirement already satisfied: pyluach in c:\\users\\user\\anaconda3\\envs\\py38_64\\lib\\site-packages (from workalendar) (1.2.1)\n",
      "Requirement already satisfied: python-dateutil in c:\\users\\user\\anaconda3\\envs\\py38_64\\lib\\site-packages (from workalendar) (2.8.1)\n",
      "Requirement already satisfied: skyfield-data in c:\\users\\user\\anaconda3\\envs\\py38_64\\lib\\site-packages (from workalendar) (3.0.0)\n",
      "Requirement already satisfied: lunardate in c:\\users\\user\\anaconda3\\envs\\py38_64\\lib\\site-packages (from workalendar) (0.2.0)\n",
      "Requirement already satisfied: pytz in c:\\users\\user\\anaconda3\\envs\\py38_64\\lib\\site-packages (from workalendar) (2020.5)\n",
      "Requirement already satisfied: skyfield in c:\\users\\user\\anaconda3\\envs\\py38_64\\lib\\site-packages (from workalendar) (1.35)\n",
      "Requirement already satisfied: six>=1.5 in c:\\users\\user\\anaconda3\\envs\\py38_64\\lib\\site-packages (from python-dateutil->workalendar) (1.15.0)\n",
      "Requirement already satisfied: numpy in c:\\users\\user\\anaconda3\\envs\\py38_64\\lib\\site-packages (from skyfield->workalendar) (1.19.5)\n",
      "Requirement already satisfied: certifi>=2017.4.17 in c:\\users\\user\\anaconda3\\envs\\py38_64\\lib\\site-packages (from skyfield->workalendar) (2020.12.5)\n",
      "Requirement already satisfied: sgp4>=2.2 in c:\\users\\user\\anaconda3\\envs\\py38_64\\lib\\site-packages (from skyfield->workalendar) (2.15)\n",
      "Requirement already satisfied: jplephem>=2.13 in c:\\users\\user\\anaconda3\\envs\\py38_64\\lib\\site-packages (from skyfield->workalendar) (2.15)\n"
     ]
    },
    {
     "name": "stderr",
     "output_type": "stream",
     "text": [
      "WARNING: You are using pip version 20.3.3; however, version 21.0 is available.\n",
      "You should consider upgrading via the 'C:\\Users\\user\\anaconda3\\envs\\py38_64\\python.exe -m pip install --upgrade pip' command.\n"
     ]
    },
    {
     "name": "stdout",
     "output_type": "stream",
     "text": [
      "Requirement already satisfied: finance-datareader in c:\\users\\user\\anaconda3\\envs\\py38_64\\lib\\site-packages (0.9.14)\n",
      "Requirement already satisfied: requests>=2.3.0 in c:\\users\\user\\anaconda3\\envs\\py38_64\\lib\\site-packages (from finance-datareader) (2.25.1)\n",
      "Requirement already satisfied: pandas>=0.19.2 in c:\\users\\user\\anaconda3\\envs\\py38_64\\lib\\site-packages (from finance-datareader) (1.2.0)\n",
      "Requirement already satisfied: lxml in c:\\users\\user\\anaconda3\\envs\\py38_64\\lib\\site-packages (from finance-datareader) (4.6.2)\n",
      "Requirement already satisfied: tqdm in c:\\users\\user\\anaconda3\\envs\\py38_64\\lib\\site-packages (from finance-datareader) (4.56.0)\n",
      "Requirement already satisfied: requests-file in c:\\users\\user\\anaconda3\\envs\\py38_64\\lib\\site-packages (from finance-datareader) (1.5.1)\n",
      "Requirement already satisfied: python-dateutil>=2.7.3 in c:\\users\\user\\anaconda3\\envs\\py38_64\\lib\\site-packages (from pandas>=0.19.2->finance-datareader) (2.8.1)\n",
      "Requirement already satisfied: numpy>=1.16.5 in c:\\users\\user\\anaconda3\\envs\\py38_64\\lib\\site-packages (from pandas>=0.19.2->finance-datareader) (1.19.5)\n",
      "Requirement already satisfied: pytz>=2017.3 in c:\\users\\user\\anaconda3\\envs\\py38_64\\lib\\site-packages (from pandas>=0.19.2->finance-datareader) (2020.5)\n",
      "Requirement already satisfied: six>=1.5 in c:\\users\\user\\anaconda3\\envs\\py38_64\\lib\\site-packages (from python-dateutil>=2.7.3->pandas>=0.19.2->finance-datareader) (1.15.0)\n",
      "Requirement already satisfied: urllib3<1.27,>=1.21.1 in c:\\users\\user\\anaconda3\\envs\\py38_64\\lib\\site-packages (from requests>=2.3.0->finance-datareader) (1.26.2)\n",
      "Requirement already satisfied: chardet<5,>=3.0.2 in c:\\users\\user\\anaconda3\\envs\\py38_64\\lib\\site-packages (from requests>=2.3.0->finance-datareader) (4.0.0)\n",
      "Requirement already satisfied: certifi>=2017.4.17 in c:\\users\\user\\anaconda3\\envs\\py38_64\\lib\\site-packages (from requests>=2.3.0->finance-datareader) (2020.12.5)\n",
      "Requirement already satisfied: idna<3,>=2.5 in c:\\users\\user\\anaconda3\\envs\\py38_64\\lib\\site-packages (from requests>=2.3.0->finance-datareader) (2.10)\n"
     ]
    },
    {
     "name": "stderr",
     "output_type": "stream",
     "text": [
      "WARNING: You are using pip version 20.3.3; however, version 21.0 is available.\n",
      "You should consider upgrading via the 'C:\\Users\\user\\anaconda3\\envs\\py38_64\\python.exe -m pip install --upgrade pip' command.\n"
     ]
    },
    {
     "name": "stdout",
     "output_type": "stream",
     "text": [
      "Processing c:\\users\\user\\downloads\\ta_lib-0.4.19-cp38-cp38-win_amd64.whl\n",
      "TA-Lib is already installed with the same version as the provided wheel. Use --force-reinstall to force an installation of the wheel.\n"
     ]
    },
    {
     "name": "stderr",
     "output_type": "stream",
     "text": [
      "WARNING: You are using pip version 20.3.3; however, version 21.0 is available.\n",
      "You should consider upgrading via the 'C:\\Users\\user\\anaconda3\\envs\\py38_64\\python.exe -m pip install --upgrade pip' command.\n"
     ]
    },
    {
     "name": "stdout",
     "output_type": "stream",
     "text": [
      "Requirement already satisfied: finance-datareader in c:\\users\\user\\anaconda3\\envs\\py38_64\\lib\\site-packages (0.9.14)"
     ]
    },
    {
     "name": "stderr",
     "output_type": "stream",
     "text": [
      "WARNING: You are using pip version 20.3.3; however, version 21.0 is available.\n",
      "You should consider upgrading via the 'C:\\Users\\user\\anaconda3\\envs\\py38_64\\python.exe -m pip install --upgrade pip' command.\n"
     ]
    },
    {
     "name": "stdout",
     "output_type": "stream",
     "text": [
      "\n",
      "Requirement already satisfied: tqdm in c:\\users\\user\\anaconda3\\envs\\py38_64\\lib\\site-packages (from finance-datareader) (4.56.0)\n",
      "Requirement already satisfied: requests>=2.3.0 in c:\\users\\user\\anaconda3\\envs\\py38_64\\lib\\site-packages (from finance-datareader) (2.25.1)\n",
      "Requirement already satisfied: pandas>=0.19.2 in c:\\users\\user\\anaconda3\\envs\\py38_64\\lib\\site-packages (from finance-datareader) (1.2.0)\n",
      "Requirement already satisfied: lxml in c:\\users\\user\\anaconda3\\envs\\py38_64\\lib\\site-packages (from finance-datareader) (4.6.2)\n",
      "Requirement already satisfied: requests-file in c:\\users\\user\\anaconda3\\envs\\py38_64\\lib\\site-packages (from finance-datareader) (1.5.1)\n",
      "Requirement already satisfied: numpy>=1.16.5 in c:\\users\\user\\anaconda3\\envs\\py38_64\\lib\\site-packages (from pandas>=0.19.2->finance-datareader) (1.19.5)\n",
      "Requirement already satisfied: python-dateutil>=2.7.3 in c:\\users\\user\\anaconda3\\envs\\py38_64\\lib\\site-packages (from pandas>=0.19.2->finance-datareader) (2.8.1)\n",
      "Requirement already satisfied: pytz>=2017.3 in c:\\users\\user\\anaconda3\\envs\\py38_64\\lib\\site-packages (from pandas>=0.19.2->finance-datareader) (2020.5)\n",
      "Requirement already satisfied: six>=1.5 in c:\\users\\user\\anaconda3\\envs\\py38_64\\lib\\site-packages (from python-dateutil>=2.7.3->pandas>=0.19.2->finance-datareader) (1.15.0)\n",
      "Requirement already satisfied: certifi>=2017.4.17 in c:\\users\\user\\anaconda3\\envs\\py38_64\\lib\\site-packages (from requests>=2.3.0->finance-datareader) (2020.12.5)\n",
      "Requirement already satisfied: chardet<5,>=3.0.2 in c:\\users\\user\\anaconda3\\envs\\py38_64\\lib\\site-packages (from requests>=2.3.0->finance-datareader) (4.0.0)\n",
      "Requirement already satisfied: urllib3<1.27,>=1.21.1 in c:\\users\\user\\anaconda3\\envs\\py38_64\\lib\\site-packages (from requests>=2.3.0->finance-datareader) (1.26.2)\n",
      "Requirement already satisfied: idna<3,>=2.5 in c:\\users\\user\\anaconda3\\envs\\py38_64\\lib\\site-packages (from requests>=2.3.0->finance-datareader) (2.10)\n",
      "Requirement already satisfied: keras in c:\\users\\user\\anaconda3\\envs\\py38_64\\lib\\site-packages (2.4.3)\n",
      "Requirement already satisfied: numpy>=1.9.1 in c:\\users\\user\\anaconda3\\envs\\py38_64\\lib\\site-packages (from keras) (1.19.5)\n",
      "Requirement already satisfied: scipy>=0.14 in c:\\users\\user\\anaconda3\\envs\\py38_64\\lib\\site-packages (from keras) (1.6.0)\n",
      "Requirement already satisfied: pyyaml in c:\\users\\user\\anaconda3\\envs\\py38_64\\lib\\site-packages (from keras) (5.3.1)\n",
      "Requirement already satisfied: h5py in c:\\users\\user\\anaconda3\\envs\\py38_64\\lib\\site-packages (from keras) (2.10.0)\n",
      "Requirement already satisfied: six in c:\\users\\user\\anaconda3\\envs\\py38_64\\lib\\site-packages (from h5py->keras) (1.15.0)\n"
     ]
    },
    {
     "name": "stderr",
     "output_type": "stream",
     "text": [
      "WARNING: You are using pip version 20.3.3; however, version 21.0 is available.\n",
      "You should consider upgrading via the 'C:\\Users\\user\\anaconda3\\envs\\py38_64\\python.exe -m pip install --upgrade pip' command.\n"
     ]
    }
   ],
   "source": [
    "!pip install yfinance\n",
    "!pip install investpy\n",
    "!pip install pykrx\n",
    "!pip install seaborn\n",
    "!pip install workalendar\n",
    "!pip install --upgrade finance-datareader\n",
    "!pip install TA_Lib-0.4.19-cp38-cp38-win_amd64.whl\n",
    "!pip install -U finance-datareader\n",
    "!pip install keras"
   ]
  },
  {
   "cell_type": "code",
   "execution_count": 4,
   "metadata": {},
   "outputs": [],
   "source": [
    "from pandas_datareader import data, wb\n",
    "import pandas as pd\n",
    "import numpy as np\n",
    "import datetime\n",
    "import yfinance as yf # yahoo finance API    # pip install yfinance\n",
    "import investpy # investing.com API          # pip install investpy\n",
    "from pykrx import stock # krx API           # pip instasll pykrx\n",
    "import talib as ta # 기술적 분석 (보조지표)\n",
    "import FinanceDataReader as fdr\n",
    "import matplotlib.pyplot as plt\n",
    "from sklearn.metrics import precision_score, recall_score, confusion_matrix, roc_auc_score\n",
    "from sklearn.metrics import f1_score\n",
    "from sklearn.metrics import mean_squared_error, r2_score\n",
    "from sklearn.metrics import accuracy_score\n",
    "%matplotlib inline"
   ]
  },
  {
   "cell_type": "code",
   "execution_count": 5,
   "metadata": {},
   "outputs": [],
   "source": [
    "# 크롤링 start_date, end_date\n",
    "#start_date='2017-01-05'\n",
    "#input('YYYY-MM-DD 형식을 지켜 입력해주세요 ex) 2018-01-01 : ')\n",
    "#end_date='2021-01-01'\n",
    "#input('YYYY-MM-DD 형식을 지켜 입력해주세요 ex) 2020-10-13 : ')\n",
    "#train_date = '2020-01-01'\n",
    "start_date = '2005-01-01'\n",
    "end_date = '2021-01-19'\n",
    "train_date = '2019-01-01'"
   ]
  },
  {
   "cell_type": "code",
   "execution_count": 6,
   "metadata": {},
   "outputs": [],
   "source": [
    "# 데이터 수집기간 입력\n",
    "# yahoo finance 양식, ex) yyyy-mm-dd\n",
    "#start_date = '2018-01-01'\n",
    "#end_date = '2020-10-13'\n",
    "\n",
    "# investing.com 양식, ex) dd/mm/yyyy\n",
    "start_date_ = start_date[8:] + '/' + start_date[5:7] + '/' + start_date[:4]\n",
    "end_date_ = end_date[8:] + '/' + end_date[5:7] + '/' + end_date[:4]\n",
    "\n",
    "# krx 양식 ex) yyyymmdd\n",
    "start_date__ = start_date[0:4] + start_date[5:7] + start_date[8:10]\n",
    "end_date__ = end_date[0:4] + end_date[5:7] + end_date[8:10]"
   ]
  },
  {
   "cell_type": "code",
   "execution_count": 7,
   "metadata": {},
   "outputs": [
    {
     "name": "stdout",
     "output_type": "stream",
     "text": [
      "[*********************100%***********************]  1 of 1 completed\n",
      "[*********************100%***********************]  1 of 1 completed\n",
      "[*********************100%***********************]  1 of 1 completed\n",
      "[*********************100%***********************]  1 of 1 completed\n",
      "[*********************100%***********************]  1 of 1 completed\n",
      "[*********************100%***********************]  1 of 1 completed\n",
      "[*********************100%***********************]  1 of 1 completed\n",
      "[*********************100%***********************]  1 of 1 completed\n",
      "[*********************100%***********************]  1 of 1 completed\n",
      "[*********************100%***********************]  1 of 1 completed\n",
      "[*********************100%***********************]  1 of 1 completed\n",
      "[*********************100%***********************]  1 of 1 completed\n",
      "[*********************100%***********************]  1 of 1 completed\n"
     ]
    }
   ],
   "source": [
    "# 주요 3개국 대비 원 환율\n",
    "\n",
    "# 달러/원\n",
    "exchange_rate_usd_ = investpy.get_currency_cross_historical_data(currency_cross='USD/KRW', from_date=start_date_, to_date=end_date_)\n",
    "exchange_rate_usd_.columns = ['exchange_rate_usd_Open', 'exchange_rate_usd_High', 'exchange_rate_usd_Low', 'exchange_rate_usd_Close', 'exchange_rate_usd_Currency']\n",
    "exchange_rate_usd_ = exchange_rate_usd_.drop(['exchange_rate_usd_Open','exchange_rate_usd_High','exchange_rate_usd_Low','exchange_rate_usd_Currency'], axis=1)\n",
    "\n",
    "# S&P 500\n",
    "snp_500_ = yf.download(\"^GSPC\", start=start_date, end=end_date)\n",
    "snp_500_.columns = ['snp_500_Open','snp_500_High','snp_500_Low','snp_500_Close','snp_500_Adj Close','snp_500_Volume']\n",
    "snp_500_ = snp_500_.drop(['snp_500_Open','snp_500_High','snp_500_Low','snp_500_Adj Close','snp_500_Volume'], axis=1)\n",
    "\n",
    "# NASDAQ\n",
    "nasdaq_ = yf.download(\"^IXIC\", start=start_date, end=end_date)\n",
    "nasdaq_.columns = ['nasdaq_Open','nasdaq_High','nasdaq_Low','nasdaq_Close','nasdaq_Adj Close','nasdaq_Volume']\n",
    "nasdaq_ = nasdaq_.drop(['nasdaq_Open','nasdaq_High','nasdaq_Low','nasdaq_Adj Close','nasdaq_Volume'], axis=1)\n",
    "\n",
    "# Russell 2000\n",
    "russell_2000_ = yf.download(\"^RUT\", start=start_date, end=end_date)\n",
    "russell_2000_.columns = ['russell_2000_Open','russell_2000_High','russell_2000_Low','russell_2000_Close','russell_2000_Adj Close','russell_2000_Volume']\n",
    "russell_2000_ = russell_2000_.drop(['russell_2000_Open','russell_2000_High','russell_2000_Low','russell_2000_Adj Close','russell_2000_Volume'], axis=1)\n",
    "\n",
    "# 삼성 차트 데이터\n",
    "sam_ = stock.get_market_ohlcv_by_date(start_date__, end_date__, \"005930\")\n",
    "sam_.columns = ['Open','High','Low','Close','Volume']\n",
    "model_samsung = sam_.copy()\n",
    "\n",
    "# 3) MACD 이동평균수렴확산 (단기(EMA12)와 장기(EMA26) EMA로 모멘텀을 추정)\n",
    "macd, macdsignal9, macdhist = ta.MACD(model_samsung.Close, fastperiod=12, slowperiod=26, signalperiod=9)\n",
    "model_samsung['macd'] = macd\n",
    "model_samsung['macdsignal9'] = macdsignal9\n",
    "model_samsung['macdhist'] = macdhist\n",
    "\n",
    "MSCI_KR = fdr.DataReader('156080', start_date,end_date) #MSCI KOREA\n",
    "MSCI_KR = MSCI_KR.drop(['Open','High','Low', 'Change','Volume'], axis=1) \n",
    "MSCI_KR.columns = ['MSCI_KR']\n",
    "\n",
    "# HANG SENG\n",
    "hang_seng_ = yf.download(\"^HSI\", start=start_date, end=end_date)\n",
    "hang_seng_.columns = ['hang_seng_Open','hang_seng_High','hang_seng_Low','hang_seng_Close','hang_seng_Adj Close','hang_seng_Volume']\n",
    "hang_seng_ = hang_seng_.drop(['hang_seng_Open','hang_seng_High','hang_seng_Low','hang_seng_Adj Close','hang_seng_Volume'], axis=1)\n",
    "\n",
    "# 미국 국채 수익률 (5년)\n",
    "treasury_5y_ = yf.download(\"^FVX\", start=start_date, end=end_date)\n",
    "treasury_5y_.columns = ['treasury_5y_Open','treasury_5y_High','treasury_5y_Low','treasury_5y_Close','treasury_5y_Adj Close','treasury_5y_Volume']\n",
    "treasury_5y_ = treasury_5y_.drop(['treasury_5y_Open','treasury_5y_High','treasury_5y_Low','treasury_5y_Adj Close','treasury_5y_Volume'], axis=1)\n",
    "\n",
    "# 미국 국채 수익률 (10년)\n",
    "treasury_10y_ = yf.download(\"^TNX\", start=start_date, end=end_date)\n",
    "treasury_10y_.columns = ['treasury_10y_Open','treasury_10y_High','treasury_10y_Low','treasury_10y_Close','treasury_10y_Adj Close','treasury_10y_Volume']\n",
    "treasury_10y_ = treasury_10y_.drop(['treasury_10y_Open','treasury_10y_High','treasury_10y_Low','treasury_10y_Adj Close','treasury_10y_Volume'], axis=1)\n",
    "\n",
    "# 미국 국채 수익률 (30년)\n",
    "treasury_30y_ = yf.download(\"^TYX\", start=start_date, end=end_date)\n",
    "treasury_30y_.columns = ['treasury_30y_Open','treasury_30y_High','treasury_30y_Low','treasury_30y_Close','treasury_30y_Adj Close','treasury_30y_Volume']\n",
    "treasury_30y_ = treasury_30y_.drop(['treasury_30y_Open','treasury_30y_High','treasury_30y_Low','treasury_30y_Adj Close','treasury_30y_Volume'], axis=1)\n",
    "\n",
    "# [*에너지*]\n",
    "# WTI유 시세\n",
    "crude_oil_ = yf.download(\"CL=F\", start=start_date, end=end_date)\n",
    "crude_oil_.columns = ['crude_oil_Open','crude_oil_High','crude_oil_Low','crude_oil_Close','crude_oil_Adj Close','crude_oil_Volume']\n",
    "crude_oil_ = crude_oil_.drop(['crude_oil_Open','crude_oil_High','crude_oil_Low','crude_oil_Adj Close','crude_oil_Volume'], axis=1)\n",
    "\n",
    "# 브렌트유 시세\n",
    "brent_crude_oil_ = yf.download(\"BZ=F\", start=start_date, end=end_date)\n",
    "brent_crude_oil_.columns = ['brent_crude_oil_Open','brent_crude_oil_High','brent_crude_oil_Low','brent_crude_oil_Close','brent_crude_oil_Adj Close','brent_crude_oil_Volume']\n",
    "brent_crude_oil_ = brent_crude_oil_.drop(['brent_crude_oil_Open','brent_crude_oil_High','brent_crude_oil_Low','brent_crude_oil_Adj Close','brent_crude_oil_Volume'], axis=1)\n",
    "\n",
    "# SOX 지수 엔비디아(8.9%), 텍사스인스트루먼트(8.6%), 퀄컴(7.7%), 인텔(7.4%) 반도체장비기업 18.52%\n",
    "SOXX = yf.download(\"SOXX\", start=start_date, end=end_date)\n",
    "SOXX.columns = ['SOXX_Open','SOXX_High','SOXX_Low','SOXX_Close','SOXX_Adj Close','SOXX_Volume']\n",
    "SOXX = SOXX.drop(['SOXX_Open','SOXX_High','SOXX_Low','SOXX_Adj Close','SOXX_Volume'], axis=1)\n",
    "\n",
    "# SMH 인텔(10%), TSMC(10%), 엔비디아(5%)\n",
    "SMH = yf.download(\"SMH\", start=start_date, end=end_date)\n",
    "SMH.columns = ['SMH_Open','SMH_High','SMH_Low','SMH_Close','SMH_Adj Close','SMH_Volume']\n",
    "SMH = SMH.drop(['SMH_Open','SMH_High','SMH_Low','SMH_Close','SMH_Volume'], axis=1)\n",
    "\n",
    "# SOXL 지수(3배 상승 레버리지) 텍사스인스트루먼트(8.6%) 인텔(8.3%), 퀄컴(7.8%), 엔비디아(7.8%)\n",
    "SOXL = yf.download(\"SOXL\", start=start_date, end=end_date)\n",
    "SOXL.columns = ['SOXL_Open','SOXL_High','SOXL_Low','SOXL_Close','SOXL_Adj Close','SOXL_Volume']\n",
    "SOXL = SOXL.drop(['SOXL_Open','SOXL_High','SOXL_Low','SOXL_Close','SOXL_Volume'], axis=1)\n",
    "\n",
    "# SOXS 지수(3배 인버스 레버리지) 텍사스인스트루먼트(8.6%) 인텔(8.3%), 퀄컴(7.8%), 엔비디아(7.8%)\n",
    "SOXS = yf.download(\"SOXS\", start=start_date, end=end_date)\n",
    "SOXS.columns = ['SOXS_Open','SOXS_High','SOXS_Low','SOXS_Close','SOXS_Adj Close','SOXS_Volume']\n",
    "SOXS = SOXS.drop(['SOXS_Open','SOXS_High','SOXS_Low','SOXS_Close','SOXS_Volume'], axis=1)"
   ]
  },
  {
   "cell_type": "code",
   "execution_count": 8,
   "metadata": {},
   "outputs": [],
   "source": [
    "model_samsung['US'] = exchange_rate_usd_\n",
    "model_samsung['SNP500'] = snp_500_\n",
    "model_samsung['RUSSELL2000'] = russell_2000_\n",
    "model_samsung['NASDAQ'] = nasdaq_\n",
    "model_samsung['MSCI_KR'] = MSCI_KR\n",
    "model_samsung['SOXX'] = SOXX\n",
    "model_samsung['SMH'] = SMH\n",
    "model_samsung['SOXL'] = SOXL\n",
    "model_samsung['SOXS'] = SOXS\n",
    "model_samsung['TREASURY_5Y']=treasury_5y_\n",
    "model_samsung['TREASURY_10Y']=treasury_10y_\n",
    "model_samsung['TREASURY_30Y']=treasury_30y_\n",
    "#model_samsung['crude_oil'] = crude_oil_\n",
    "#model_samsung['brent_crude_oil'] = brent_crude_oil_\n",
    "model_samsung['hang_seng'] = hang_seng_\n"
   ]
  },
  {
   "cell_type": "code",
   "execution_count": 9,
   "metadata": {},
   "outputs": [
    {
     "data": {
      "text/html": [
       "<div>\n",
       "<style scoped>\n",
       "    .dataframe tbody tr th:only-of-type {\n",
       "        vertical-align: middle;\n",
       "    }\n",
       "\n",
       "    .dataframe tbody tr th {\n",
       "        vertical-align: top;\n",
       "    }\n",
       "\n",
       "    .dataframe thead th {\n",
       "        text-align: right;\n",
       "    }\n",
       "</style>\n",
       "<table border=\"1\" class=\"dataframe\">\n",
       "  <thead>\n",
       "    <tr style=\"text-align: right;\">\n",
       "      <th></th>\n",
       "      <th>Open</th>\n",
       "      <th>High</th>\n",
       "      <th>Low</th>\n",
       "      <th>Close</th>\n",
       "      <th>Volume</th>\n",
       "      <th>macd</th>\n",
       "      <th>macdsignal9</th>\n",
       "      <th>macdhist</th>\n",
       "      <th>US</th>\n",
       "      <th>SNP500</th>\n",
       "      <th>...</th>\n",
       "      <th>MSCI_KR</th>\n",
       "      <th>SOXX</th>\n",
       "      <th>SMH</th>\n",
       "      <th>SOXL</th>\n",
       "      <th>SOXS</th>\n",
       "      <th>TREASURY_5Y</th>\n",
       "      <th>TREASURY_10Y</th>\n",
       "      <th>TREASURY_30Y</th>\n",
       "      <th>hang_seng</th>\n",
       "      <th>Labeling</th>\n",
       "    </tr>\n",
       "    <tr>\n",
       "      <th>날짜</th>\n",
       "      <th></th>\n",
       "      <th></th>\n",
       "      <th></th>\n",
       "      <th></th>\n",
       "      <th></th>\n",
       "      <th></th>\n",
       "      <th></th>\n",
       "      <th></th>\n",
       "      <th></th>\n",
       "      <th></th>\n",
       "      <th></th>\n",
       "      <th></th>\n",
       "      <th></th>\n",
       "      <th></th>\n",
       "      <th></th>\n",
       "      <th></th>\n",
       "      <th></th>\n",
       "      <th></th>\n",
       "      <th></th>\n",
       "      <th></th>\n",
       "      <th></th>\n",
       "    </tr>\n",
       "  </thead>\n",
       "  <tbody>\n",
       "    <tr>\n",
       "      <th>2012-04-30</th>\n",
       "      <td>27900</td>\n",
       "      <td>28180</td>\n",
       "      <td>27540</td>\n",
       "      <td>27800</td>\n",
       "      <td>315924</td>\n",
       "      <td>514.972445</td>\n",
       "      <td>386.143049</td>\n",
       "      <td>128.829397</td>\n",
       "      <td>1130.15</td>\n",
       "      <td>1397.910034</td>\n",
       "      <td>...</td>\n",
       "      <td>10609.0</td>\n",
       "      <td>56.110001</td>\n",
       "      <td>30.272850</td>\n",
       "      <td>8.517699</td>\n",
       "      <td>326388.56250</td>\n",
       "      <td>0.811</td>\n",
       "      <td>1.915</td>\n",
       "      <td>3.109</td>\n",
       "      <td>21094.210938</td>\n",
       "      <td>28200.0</td>\n",
       "    </tr>\n",
       "    <tr>\n",
       "      <th>2012-05-02</th>\n",
       "      <td>28200</td>\n",
       "      <td>28360</td>\n",
       "      <td>27980</td>\n",
       "      <td>28200</td>\n",
       "      <td>368585</td>\n",
       "      <td>619.193325</td>\n",
       "      <td>432.753104</td>\n",
       "      <td>186.440222</td>\n",
       "      <td>1130.20</td>\n",
       "      <td>1402.310059</td>\n",
       "      <td>...</td>\n",
       "      <td>10718.0</td>\n",
       "      <td>56.549999</td>\n",
       "      <td>30.570415</td>\n",
       "      <td>8.738206</td>\n",
       "      <td>318693.37500</td>\n",
       "      <td>0.819</td>\n",
       "      <td>1.922</td>\n",
       "      <td>3.114</td>\n",
       "      <td>21309.080078</td>\n",
       "      <td>28020.0</td>\n",
       "    </tr>\n",
       "    <tr>\n",
       "      <th>2012-05-03</th>\n",
       "      <td>28040</td>\n",
       "      <td>28200</td>\n",
       "      <td>27960</td>\n",
       "      <td>28020</td>\n",
       "      <td>206721</td>\n",
       "      <td>679.432553</td>\n",
       "      <td>482.088994</td>\n",
       "      <td>197.343559</td>\n",
       "      <td>1131.25</td>\n",
       "      <td>1391.569946</td>\n",
       "      <td>...</td>\n",
       "      <td>10655.0</td>\n",
       "      <td>55.139999</td>\n",
       "      <td>29.879013</td>\n",
       "      <td>8.111872</td>\n",
       "      <td>341591.28125</td>\n",
       "      <td>0.817</td>\n",
       "      <td>1.924</td>\n",
       "      <td>3.112</td>\n",
       "      <td>21249.529297</td>\n",
       "      <td>27200.0</td>\n",
       "    </tr>\n",
       "    <tr>\n",
       "      <th>2012-05-04</th>\n",
       "      <td>27499</td>\n",
       "      <td>27960</td>\n",
       "      <td>26980</td>\n",
       "      <td>27200</td>\n",
       "      <td>410013</td>\n",
       "      <td>653.472602</td>\n",
       "      <td>516.365715</td>\n",
       "      <td>137.106887</td>\n",
       "      <td>1135.85</td>\n",
       "      <td>1369.099976</td>\n",
       "      <td>...</td>\n",
       "      <td>10578.0</td>\n",
       "      <td>54.029999</td>\n",
       "      <td>29.196363</td>\n",
       "      <td>7.588751</td>\n",
       "      <td>363269.15625</td>\n",
       "      <td>0.784</td>\n",
       "      <td>1.880</td>\n",
       "      <td>3.071</td>\n",
       "      <td>21086.000000</td>\n",
       "      <td>26840.0</td>\n",
       "    </tr>\n",
       "    <tr>\n",
       "      <th>2012-05-07</th>\n",
       "      <td>26840</td>\n",
       "      <td>27060</td>\n",
       "      <td>26500</td>\n",
       "      <td>26840</td>\n",
       "      <td>378463</td>\n",
       "      <td>596.968679</td>\n",
       "      <td>532.486308</td>\n",
       "      <td>64.482371</td>\n",
       "      <td>1138.50</td>\n",
       "      <td>1369.579956</td>\n",
       "      <td>...</td>\n",
       "      <td>10377.0</td>\n",
       "      <td>53.869999</td>\n",
       "      <td>29.143852</td>\n",
       "      <td>7.541834</td>\n",
       "      <td>364582.96875</td>\n",
       "      <td>0.782</td>\n",
       "      <td>1.877</td>\n",
       "      <td>3.067</td>\n",
       "      <td>20536.650391</td>\n",
       "      <td>26820.0</td>\n",
       "    </tr>\n",
       "    <tr>\n",
       "      <th>...</th>\n",
       "      <td>...</td>\n",
       "      <td>...</td>\n",
       "      <td>...</td>\n",
       "      <td>...</td>\n",
       "      <td>...</td>\n",
       "      <td>...</td>\n",
       "      <td>...</td>\n",
       "      <td>...</td>\n",
       "      <td>...</td>\n",
       "      <td>...</td>\n",
       "      <td>...</td>\n",
       "      <td>...</td>\n",
       "      <td>...</td>\n",
       "      <td>...</td>\n",
       "      <td>...</td>\n",
       "      <td>...</td>\n",
       "      <td>...</td>\n",
       "      <td>...</td>\n",
       "      <td>...</td>\n",
       "      <td>...</td>\n",
       "      <td>...</td>\n",
       "    </tr>\n",
       "    <tr>\n",
       "      <th>2021-01-11</th>\n",
       "      <td>90000</td>\n",
       "      <td>96800</td>\n",
       "      <td>89500</td>\n",
       "      <td>91000</td>\n",
       "      <td>90306177</td>\n",
       "      <td>4877.198339</td>\n",
       "      <td>3842.490073</td>\n",
       "      <td>1034.708266</td>\n",
       "      <td>1097.23</td>\n",
       "      <td>3799.610107</td>\n",
       "      <td>...</td>\n",
       "      <td>21055.0</td>\n",
       "      <td>402.799988</td>\n",
       "      <td>233.789993</td>\n",
       "      <td>556.349976</td>\n",
       "      <td>14.80000</td>\n",
       "      <td>0.498</td>\n",
       "      <td>1.132</td>\n",
       "      <td>1.876</td>\n",
       "      <td>27908.220703</td>\n",
       "      <td>90600.0</td>\n",
       "    </tr>\n",
       "    <tr>\n",
       "      <th>2021-01-12</th>\n",
       "      <td>90300</td>\n",
       "      <td>91400</td>\n",
       "      <td>87800</td>\n",
       "      <td>90600</td>\n",
       "      <td>48682416</td>\n",
       "      <td>5175.725651</td>\n",
       "      <td>4109.137188</td>\n",
       "      <td>1066.588463</td>\n",
       "      <td>1094.48</td>\n",
       "      <td>3801.189941</td>\n",
       "      <td>...</td>\n",
       "      <td>20870.0</td>\n",
       "      <td>405.239990</td>\n",
       "      <td>234.880005</td>\n",
       "      <td>567.280029</td>\n",
       "      <td>14.49000</td>\n",
       "      <td>0.503</td>\n",
       "      <td>1.138</td>\n",
       "      <td>1.885</td>\n",
       "      <td>28276.750000</td>\n",
       "      <td>89700.0</td>\n",
       "    </tr>\n",
       "    <tr>\n",
       "      <th>2021-01-13</th>\n",
       "      <td>89800</td>\n",
       "      <td>91200</td>\n",
       "      <td>89100</td>\n",
       "      <td>89700</td>\n",
       "      <td>36068848</td>\n",
       "      <td>5278.837071</td>\n",
       "      <td>4343.077165</td>\n",
       "      <td>935.759906</td>\n",
       "      <td>1097.12</td>\n",
       "      <td>3809.840088</td>\n",
       "      <td>...</td>\n",
       "      <td>21075.0</td>\n",
       "      <td>405.899994</td>\n",
       "      <td>233.610001</td>\n",
       "      <td>568.789978</td>\n",
       "      <td>14.46000</td>\n",
       "      <td>0.476</td>\n",
       "      <td>1.088</td>\n",
       "      <td>1.818</td>\n",
       "      <td>28235.599609</td>\n",
       "      <td>89700.0</td>\n",
       "    </tr>\n",
       "    <tr>\n",
       "      <th>2021-01-14</th>\n",
       "      <td>88700</td>\n",
       "      <td>90000</td>\n",
       "      <td>88700</td>\n",
       "      <td>89700</td>\n",
       "      <td>26393970</td>\n",
       "      <td>5299.464684</td>\n",
       "      <td>4534.354669</td>\n",
       "      <td>765.110015</td>\n",
       "      <td>1095.88</td>\n",
       "      <td>3795.540039</td>\n",
       "      <td>...</td>\n",
       "      <td>20960.0</td>\n",
       "      <td>414.500000</td>\n",
       "      <td>239.419998</td>\n",
       "      <td>605.799988</td>\n",
       "      <td>13.54000</td>\n",
       "      <td>0.484</td>\n",
       "      <td>1.129</td>\n",
       "      <td>1.874</td>\n",
       "      <td>28496.859375</td>\n",
       "      <td>88000.0</td>\n",
       "    </tr>\n",
       "    <tr>\n",
       "      <th>2021-01-15</th>\n",
       "      <td>89800</td>\n",
       "      <td>91800</td>\n",
       "      <td>88000</td>\n",
       "      <td>88000</td>\n",
       "      <td>33431809</td>\n",
       "      <td>5119.620624</td>\n",
       "      <td>4651.407860</td>\n",
       "      <td>468.212764</td>\n",
       "      <td>1103.27</td>\n",
       "      <td>3768.250000</td>\n",
       "      <td>...</td>\n",
       "      <td>20540.0</td>\n",
       "      <td>406.070007</td>\n",
       "      <td>234.759995</td>\n",
       "      <td>567.359985</td>\n",
       "      <td>14.34000</td>\n",
       "      <td>0.455</td>\n",
       "      <td>1.097</td>\n",
       "      <td>1.853</td>\n",
       "      <td>28573.859375</td>\n",
       "      <td>85000.0</td>\n",
       "    </tr>\n",
       "  </tbody>\n",
       "</table>\n",
       "<p>1997 rows × 22 columns</p>\n",
       "</div>"
      ],
      "text/plain": [
       "             Open   High    Low  Close    Volume         macd  macdsignal9  \\\n",
       "날짜                                                                           \n",
       "2012-04-30  27900  28180  27540  27800    315924   514.972445   386.143049   \n",
       "2012-05-02  28200  28360  27980  28200    368585   619.193325   432.753104   \n",
       "2012-05-03  28040  28200  27960  28020    206721   679.432553   482.088994   \n",
       "2012-05-04  27499  27960  26980  27200    410013   653.472602   516.365715   \n",
       "2012-05-07  26840  27060  26500  26840    378463   596.968679   532.486308   \n",
       "...           ...    ...    ...    ...       ...          ...          ...   \n",
       "2021-01-11  90000  96800  89500  91000  90306177  4877.198339  3842.490073   \n",
       "2021-01-12  90300  91400  87800  90600  48682416  5175.725651  4109.137188   \n",
       "2021-01-13  89800  91200  89100  89700  36068848  5278.837071  4343.077165   \n",
       "2021-01-14  88700  90000  88700  89700  26393970  5299.464684  4534.354669   \n",
       "2021-01-15  89800  91800  88000  88000  33431809  5119.620624  4651.407860   \n",
       "\n",
       "               macdhist       US       SNP500  ...  MSCI_KR        SOXX  \\\n",
       "날짜                                             ...                        \n",
       "2012-04-30   128.829397  1130.15  1397.910034  ...  10609.0   56.110001   \n",
       "2012-05-02   186.440222  1130.20  1402.310059  ...  10718.0   56.549999   \n",
       "2012-05-03   197.343559  1131.25  1391.569946  ...  10655.0   55.139999   \n",
       "2012-05-04   137.106887  1135.85  1369.099976  ...  10578.0   54.029999   \n",
       "2012-05-07    64.482371  1138.50  1369.579956  ...  10377.0   53.869999   \n",
       "...                 ...      ...          ...  ...      ...         ...   \n",
       "2021-01-11  1034.708266  1097.23  3799.610107  ...  21055.0  402.799988   \n",
       "2021-01-12  1066.588463  1094.48  3801.189941  ...  20870.0  405.239990   \n",
       "2021-01-13   935.759906  1097.12  3809.840088  ...  21075.0  405.899994   \n",
       "2021-01-14   765.110015  1095.88  3795.540039  ...  20960.0  414.500000   \n",
       "2021-01-15   468.212764  1103.27  3768.250000  ...  20540.0  406.070007   \n",
       "\n",
       "                   SMH        SOXL          SOXS  TREASURY_5Y  TREASURY_10Y  \\\n",
       "날짜                                                                            \n",
       "2012-04-30   30.272850    8.517699  326388.56250        0.811         1.915   \n",
       "2012-05-02   30.570415    8.738206  318693.37500        0.819         1.922   \n",
       "2012-05-03   29.879013    8.111872  341591.28125        0.817         1.924   \n",
       "2012-05-04   29.196363    7.588751  363269.15625        0.784         1.880   \n",
       "2012-05-07   29.143852    7.541834  364582.96875        0.782         1.877   \n",
       "...                ...         ...           ...          ...           ...   \n",
       "2021-01-11  233.789993  556.349976      14.80000        0.498         1.132   \n",
       "2021-01-12  234.880005  567.280029      14.49000        0.503         1.138   \n",
       "2021-01-13  233.610001  568.789978      14.46000        0.476         1.088   \n",
       "2021-01-14  239.419998  605.799988      13.54000        0.484         1.129   \n",
       "2021-01-15  234.759995  567.359985      14.34000        0.455         1.097   \n",
       "\n",
       "            TREASURY_30Y     hang_seng  Labeling  \n",
       "날짜                                                \n",
       "2012-04-30         3.109  21094.210938   28200.0  \n",
       "2012-05-02         3.114  21309.080078   28020.0  \n",
       "2012-05-03         3.112  21249.529297   27200.0  \n",
       "2012-05-04         3.071  21086.000000   26840.0  \n",
       "2012-05-07         3.067  20536.650391   26820.0  \n",
       "...                  ...           ...       ...  \n",
       "2021-01-11         1.876  27908.220703   90600.0  \n",
       "2021-01-12         1.885  28276.750000   89700.0  \n",
       "2021-01-13         1.818  28235.599609   89700.0  \n",
       "2021-01-14         1.874  28496.859375   88000.0  \n",
       "2021-01-15         1.853  28573.859375   85000.0  \n",
       "\n",
       "[1997 rows x 22 columns]"
      ]
     },
     "execution_count": 9,
     "metadata": {},
     "output_type": "execute_result"
    }
   ],
   "source": [
    "# samsung 모델\n",
    "model_samsung['Labeling'] = model_samsung['Close'].shift(-1)\n",
    "model_samsung = model_samsung.dropna() # 결측치가 있는 행 제거\n",
    "model_samsung"
   ]
  },
  {
   "cell_type": "code",
   "execution_count": 10,
   "metadata": {},
   "outputs": [],
   "source": [
    "#4 데이터 정규화하기 \n",
    "#sc = StandardScaler()\n",
    "#df_scaled = pd.DataFrame(sc.fit_transform(model_samsung), columns=model_samsung.columns, index=model_samsung.index)\n",
    "\n",
    "#4 Y 값 넣기\n",
    "#df_scaled.drop(['Open', 'High', 'Low', 'Volume', 'Labeling'], axis=1, inplace=True)\n",
    "#df_scaled['Labeling'] = model_samsung['Labeling']\n",
    "#df_scaled = df_scaled[1:]\n",
    "#df_scaled"
   ]
  },
  {
   "cell_type": "code",
   "execution_count": 11,
   "metadata": {},
   "outputs": [],
   "source": [
    "from sklearn.preprocessing import StandardScaler, MinMaxScaler\n",
    "\n",
    "from sklearn import preprocessing\n",
    "from sklearn.model_selection import TimeSeriesSplit\n",
    "from sklearn.model_selection import GridSearchCV"
   ]
  },
  {
   "cell_type": "code",
   "execution_count": 12,
   "metadata": {},
   "outputs": [
    {
     "name": "stdout",
     "output_type": "stream",
     "text": [
      "(1997, 10)\n",
      "(1527, 10)\n"
     ]
    }
   ],
   "source": [
    "\n",
    "#4 test, train 나누기\n",
    "df_scaled = model_samsung.copy()\n",
    "df_scaled.drop(['Open','High','Low','Volume','macdsignal9', 'macdhist', 'RUSSELL2000', 'NASDAQ', 'MSCI_KR', 'SMH','TREASURY_10Y','TREASURY_30Y'],axis=1,inplace=True)\n",
    "\n",
    "#4 test, train 나누기\n",
    "train_set = df_scaled[:train_date].values\n",
    "\n",
    "print(df_scaled.shape)\n",
    "print(train_set.shape)"
   ]
  },
  {
   "cell_type": "code",
   "execution_count": 13,
   "metadata": {},
   "outputs": [],
   "source": [
    "time_seq = 5\n",
    "X_train = []\n",
    "y_train = []\n",
    "for i in range(time_seq, train_set.shape[0]):\n",
    "    X_train.append(train_set[i-time_seq:i, 0:train_set.shape[1]-1])\n",
    "    y_train.append(train_set[i, train_set.shape[1]-1:])\n",
    "X_train, y_train = np.array(X_train), np.array(y_train)"
   ]
  },
  {
   "cell_type": "code",
   "execution_count": 14,
   "metadata": {},
   "outputs": [
    {
     "data": {
      "text/plain": [
       "(1522, 5, 9)"
      ]
     },
     "execution_count": 14,
     "metadata": {},
     "output_type": "execute_result"
    }
   ],
   "source": [
    "X_train.shape ## 3207 일자만큼, 5일치 데이터, 16개 feature"
   ]
  },
  {
   "cell_type": "code",
   "execution_count": 15,
   "metadata": {},
   "outputs": [],
   "source": [
    "scalers = {}\n",
    "#sc2 = StandardScaler()\n",
    "sc2 = MinMaxScaler()\n",
    "for i in range(X_train.shape[1]):\n",
    "    scalers[i] = MinMaxScaler()\n",
    "    X_train[:, i, :] = scalers[i].fit_transform(X_train[:, i, :]) \n",
    "    \n",
    "y_train = sc2.fit_transform(y_train)"
   ]
  },
  {
   "cell_type": "code",
   "execution_count": 16,
   "metadata": {},
   "outputs": [
    {
     "name": "stdout",
     "output_type": "stream",
     "text": [
      "(1522, 5, 9)\n",
      "(1522, 1)\n"
     ]
    }
   ],
   "source": [
    "print(X_train.shape)\n",
    "print(y_train.shape)\n"
   ]
  },
  {
   "cell_type": "code",
   "execution_count": 17,
   "metadata": {},
   "outputs": [],
   "source": [
    "from keras.models import Sequential\n",
    "from keras.layers import Dense, LSTM, Dropout, GRU, Bidirectional"
   ]
  },
  {
   "cell_type": "code",
   "execution_count": 18,
   "metadata": {},
   "outputs": [],
   "source": [
    "X_test = []\n",
    "y_test = []\n",
    "for i in range(train_set.shape[0], df_scaled.shape[0]):\n",
    "    X_test.append(df_scaled.values[i-time_seq:i, 0:train_set.shape[1]-1])\n",
    "    y_test.append(df_scaled.values[i, train_set.shape[1]-1:])\n",
    "X_test, y_test = np.array(X_test), np.array(y_test)\n",
    "\n",
    "for i in range(X_test.shape[1]):\n",
    "    X_test[:, i, :] = scalers[i].transform(X_test[:, i, :]) \n",
    "\n",
    "y_test = sc2.transform(y_test)"
   ]
  },
  {
   "cell_type": "code",
   "execution_count": 19,
   "metadata": {},
   "outputs": [
    {
     "data": {
      "text/plain": [
       "(470, 5, 9)"
      ]
     },
     "execution_count": 19,
     "metadata": {},
     "output_type": "execute_result"
    }
   ],
   "source": [
    "X_test.shape"
   ]
  },
  {
   "cell_type": "code",
   "execution_count": 20,
   "metadata": {},
   "outputs": [],
   "source": [
    "## 머신러닝 수행하기 위해 3차원 배열 2차원 배열로 reshape\n",
    "X_train_resh = np.reshape(X_train, (X_train.shape[0], X_train.shape[1]*X_train.shape[2]))"
   ]
  },
  {
   "cell_type": "code",
   "execution_count": 21,
   "metadata": {},
   "outputs": [],
   "source": [
    "## 머신러닝 수행하기 위해 3차원 배열 2차원 배열로 reshape\n",
    "X_test_resh = np.reshape(X_test, (X_test.shape[0], X_test.shape[1]*X_test.shape[2]))"
   ]
  },
  {
   "cell_type": "code",
   "execution_count": 22,
   "metadata": {},
   "outputs": [],
   "source": [
    "def rmsle(y, pred):\n",
    "    log_y = np.log1p(y)\n",
    "    log_pred = np.log1p(pred)\n",
    "    squared_error = (log_y - log_pred) ** 2\n",
    "    rmsle = np.sqrt(np.mean(squared_error))\n",
    "    print('RMSLE: {0:.4f}'.format(rmsle))\n",
    "    return rmsle"
   ]
  },
  {
   "cell_type": "code",
   "execution_count": 23,
   "metadata": {},
   "outputs": [],
   "source": [
    "def get_model_predict(model, X_train, X_test, y_train, y_test, is_expm1=False):\n",
    "    model.fit(X_train, y_train)\n",
    "    pred = model.predict(X_test)\n",
    "    \n",
    "    #if is_expm1 :\n",
    "        # 테스트 데이터 셋의 Target 값은 Log 변환되었으므로 다시 expm1를 이용하여 원래 scale로 변환\n",
    "    #    y_test = np.expm1(y_test)\n",
    "        # 예측 값 역시 Log 변환된 타겟 기반으로 학습되어 예측되었으므로 다시 exmpl으로 scale변환\n",
    "    #   pred = np.expm1(pred)\n",
    "    \n",
    "    model_name = model.__class__.__name__\n",
    "    print('###',model_name,'###')\n",
    "    #print('###',model.__class__.__name__,'###')\n",
    "    rmsle(y_test, pred)\n",
    "    #print('\\n{0} 학습데이터셋 정확도: {1:.4f}'.format(model_name, model.score(X_train, y_train)))\n",
    "    #accuracy = accuracy_score(y_test, pred)    \n",
    "    #print('{0} 테스트셋 정확도: {1:.4f}'.format(model_name, accuracy))   "
   ]
  },
  {
   "cell_type": "code",
   "execution_count": 24,
   "metadata": {},
   "outputs": [],
   "source": [
    "from sklearn.linear_model import LinearRegression, Ridge, Lasso\n",
    "from sklearn.ensemble import RandomForestRegressor, GradientBoostingRegressor\n",
    "from xgboost import XGBRegressor\n",
    "from lightgbm import LGBMRegressor"
   ]
  },
  {
   "cell_type": "code",
   "execution_count": 25,
   "metadata": {},
   "outputs": [
    {
     "name": "stdout",
     "output_type": "stream",
     "text": [
      "### LinearRegression ###\n",
      "RMSLE: 0.0275\n"
     ]
    },
    {
     "name": "stderr",
     "output_type": "stream",
     "text": [
      "<ipython-input-23-d72a856d041c>:2: DataConversionWarning: A column-vector y was passed when a 1d array was expected. Please change the shape of y to (n_samples,), for example using ravel().\n",
      "  model.fit(X_train, y_train)\n"
     ]
    },
    {
     "name": "stdout",
     "output_type": "stream",
     "text": [
      "### RandomForestRegressor ###\n",
      "RMSLE: 0.1516\n"
     ]
    },
    {
     "name": "stderr",
     "output_type": "stream",
     "text": [
      "C:\\Users\\user\\anaconda3\\envs\\py38_64\\lib\\site-packages\\sklearn\\utils\\validation.py:63: DataConversionWarning: A column-vector y was passed when a 1d array was expected. Please change the shape of y to (n_samples, ), for example using ravel().\n",
      "  return f(*args, **kwargs)\n"
     ]
    },
    {
     "name": "stdout",
     "output_type": "stream",
     "text": [
      "### GradientBoostingRegressor ###\n",
      "RMSLE: 0.1542\n",
      "### XGBRegressor ###\n",
      "RMSLE: 0.1538\n"
     ]
    },
    {
     "name": "stderr",
     "output_type": "stream",
     "text": [
      "C:\\Users\\user\\anaconda3\\envs\\py38_64\\lib\\site-packages\\sklearn\\utils\\validation.py:63: DataConversionWarning: A column-vector y was passed when a 1d array was expected. Please change the shape of y to (n_samples, ), for example using ravel().\n",
      "  return f(*args, **kwargs)\n"
     ]
    },
    {
     "name": "stdout",
     "output_type": "stream",
     "text": [
      "### LGBMRegressor ###\n",
      "RMSLE: 0.1502\n"
     ]
    }
   ],
   "source": [
    "# LinearRegression, 랜덤 포레스트, GBM, XGBoost, LightGBM model 별로 평가 수행\n",
    "lr_model = LinearRegression()\n",
    "rf_model = RandomForestRegressor(n_estimators=500)\n",
    "gbm_model = GradientBoostingRegressor(n_estimators=500)\n",
    "xgb_model = XGBRegressor(n_estimators=500)\n",
    "lgbm_model = LGBMRegressor(n_estimators=500)\n",
    "\n",
    "model_list = [lr_model, rf_model, gbm_model, xgb_model, lgbm_model]\n",
    "for model in model_list:\n",
    "    get_model_predict(model, X_train_resh, X_test_resh, y_train, y_test, is_expm1=True)"
   ]
  },
  {
   "cell_type": "code",
   "execution_count": 26,
   "metadata": {
    "scrolled": true
   },
   "outputs": [
    {
     "data": {
      "text/plain": [
       "LinearRegression()"
      ]
     },
     "execution_count": 26,
     "metadata": {},
     "output_type": "execute_result"
    }
   ],
   "source": [
    "model = LinearRegression()\n",
    "model.fit(X_train_resh, y_train)\n",
    "#pred = model.predict(X_test)"
   ]
  },
  {
   "cell_type": "code",
   "execution_count": 27,
   "metadata": {},
   "outputs": [
    {
     "data": {
      "text/plain": [
       "array([0.49498328, 0.03571586, 0.51432364, 0.7435787 , 0.70848489,\n",
       "       0.37859852, 0.0013222 , 0.81764481, 0.51306308, 0.48244147,\n",
       "       0.02317548, 0.48464865, 0.71965433, 0.70134686, 0.36825106,\n",
       "       0.00141161, 0.82788507, 0.4969051 , 0.48244147, 0.01814847,\n",
       "       0.51145463, 0.68891705, 0.68397311, 0.35016859, 0.00157396,\n",
       "       0.82355259, 0.50558268, 0.4712932 , 0.01804273, 0.47308697,\n",
       "       0.73260891, 0.71986537, 0.38556173, 0.00112872, 0.80307207,\n",
       "       0.48724159, 0.48383501, 0.0349223 , 0.46011219, 0.7307392 ,\n",
       "       0.72734013, 0.39425009, 0.00106256, 0.79637654, 0.48893303])"
      ]
     },
     "execution_count": 27,
     "metadata": {},
     "output_type": "execute_result"
    }
   ],
   "source": [
    "X_test_resh[0]"
   ]
  },
  {
   "cell_type": "code",
   "execution_count": 28,
   "metadata": {},
   "outputs": [
    {
     "data": {
      "text/plain": [
       "0.028846650884710716"
      ]
     },
     "execution_count": 28,
     "metadata": {},
     "output_type": "execute_result"
    }
   ],
   "source": [
    "\n",
    "# 60일치 데이터로 예측\n",
    "X_test_ = []\n",
    "y_test_ = []\n",
    "for i in range(0, X_test_resh.shape[1]):\n",
    "    X_test_.append(X_test_resh[i])\n",
    "    y_test_.append(y_test[i])\n",
    "X_test_, y_test_ = np.array(X_test_), np.array(y_test_)\n",
    "\n",
    "predictions = model.predict(X_test_)\n",
    "rmse = np.sqrt(np.mean(((predictions - y_test_) ** 2)))\n",
    "rmse"
   ]
  },
  {
   "cell_type": "code",
   "execution_count": 29,
   "metadata": {},
   "outputs": [
    {
     "data": {
      "text/plain": [
       "((1522, 5, 9), (470, 5, 9))"
      ]
     },
     "execution_count": 29,
     "metadata": {},
     "output_type": "execute_result"
    }
   ],
   "source": [
    "X_train.shape, X_test.shape"
   ]
  },
  {
   "cell_type": "code",
   "execution_count": 30,
   "metadata": {},
   "outputs": [
    {
     "data": {
      "text/plain": [
       "(1522, 1)"
      ]
     },
     "execution_count": 30,
     "metadata": {},
     "output_type": "execute_result"
    }
   ],
   "source": [
    "y_train.shape"
   ]
  },
  {
   "cell_type": "code",
   "execution_count": 31,
   "metadata": {},
   "outputs": [
    {
     "name": "stdout",
     "output_type": "stream",
     "text": [
      "Epoch 00205: early stopping\n"
     ]
    }
   ],
   "source": [
    "#7 딥러닝에 적용하기\n",
    "from keras.callbacks import EarlyStopping\n",
    "# LSTM 모델 만들기\n",
    "model = Sequential()\n",
    "# LSTM 레이어를 쌓아올릴 때는 return_sequences 를 True로 설정한다\n",
    "# LSTM 을 사용하기 위해서는 3차원 데이터가 필요(batch_size, timesteps, input_dim)\n",
    "model.add(LSTM(60, return_sequences=True, input_shape=(X_train.shape[1], X_train.shape[2])))\n",
    "model.add(LSTM(30, return_sequences=False))\n",
    "model.add(Dense(1))\n",
    "\n",
    "model.compile(optimizer='adam', loss='mean_squared_error')\n",
    "es = EarlyStopping(monitor='val_loss', mode='min', patience=200, verbose=1)\n",
    "history = model.fit(X_train, y_train, batch_size=50, epochs=300, validation_data=(X_test, y_test), verbose=0, callbacks=[es])"
   ]
  },
  {
   "cell_type": "code",
   "execution_count": 32,
   "metadata": {},
   "outputs": [
    {
     "name": "stdout",
     "output_type": "stream",
     "text": [
      "Train: 0.000, Test: 0.017\n"
     ]
    },
    {
     "data": {
      "image/png": "[encoded data removed]",
      "text/plain": [
       "<Figure size 432x288 with 1 Axes>"
      ]
     },
     "metadata": {
      "needs_background": "light"
     },
     "output_type": "display_data"
    }
   ],
   "source": [
    "# evaluate the model\n",
    "train_loss = model.evaluate(X_train, y_train, verbose=0)\n",
    "test_loss = model.evaluate(X_test, y_test, verbose=0)\n",
    "print('Train: %.3f, Test: %.3f' % (train_loss, test_loss))\n",
    "# plot training history\n",
    "plt.plot(history.history['loss'], label='train')\n",
    "plt.plot(history.history['val_loss'], label='test')\n",
    "plt.legend()\n",
    "plt.show()"
   ]
  },
  {
   "cell_type": "code",
   "execution_count": 33,
   "metadata": {},
   "outputs": [
    {
     "data": {
      "text/plain": [
       "0.12888069334377691"
      ]
     },
     "execution_count": 33,
     "metadata": {},
     "output_type": "execute_result"
    }
   ],
   "source": [
    "\n",
    "predictions = model.predict(X_test)\n",
    "rmse = np.sqrt(np.mean(((predictions - y_test) ** 2)))\n",
    "rmse"
   ]
  },
  {
   "cell_type": "code",
   "execution_count": 34,
   "metadata": {},
   "outputs": [
    {
     "data": {
      "text/plain": [
       "0.6085927661966604"
      ]
     },
     "execution_count": 34,
     "metadata": {},
     "output_type": "execute_result"
    }
   ],
   "source": [
    "# train set의 평균을 예측값으로 했을 때의 오차\n",
    "mu = y_train.mean()\n",
    "np.sqrt(np.mean((y_test - mu) ** 2))"
   ]
  },
  {
   "cell_type": "code",
   "execution_count": 36,
   "metadata": {},
   "outputs": [
    {
     "data": {
      "image/png": "[encoded data removed]",
      "text/plain": [
       "<Figure size 1152x576 with 1 Axes>"
      ]
     },
     "metadata": {
      "needs_background": "light"
     },
     "output_type": "display_data"
    }
   ],
   "source": [
    "# 그래프로 확인\n",
    "train = df_scaled[:train_date][['Close']]\n",
    "valid = df_scaled[train_date:][['Close']]\n",
    "valid['Predictions'] = sc2.inverse_transform(predictions)\n",
    "\n",
    "plt.figure(figsize=(16, 8))\n",
    "plt.title('Model')\n",
    "plt.xlabel('Date', fontsize=18)\n",
    "plt.ylabel('prediction', fontsize=18)\n",
    "#plt.plot(train)\n",
    "plt.plot(valid['Close'])\n",
    "plt.plot(valid['Predictions'])\n",
    "plt.legend(['Val', 'Predictions'], loc='lower right')\n",
    "plt.show()"
   ]
  },
  {
   "cell_type": "code",
   "execution_count": null,
   "metadata": {},
   "outputs": [],
   "source": [
    "import datetime\n",
    "date_1 = pd.to_datetime(train_date)\n",
    "view_date = date_1 + datetime.timedelta(days=30)\n",
    "view_date = str(view_date)\n",
    "view_date = view_date[:10]\n",
    "view_date"
   ]
  },
  {
   "cell_type": "code",
   "execution_count": null,
   "metadata": {},
   "outputs": [],
   "source": [
    "# 일부분 확대\n",
    "valid = df_scaled[train_date:][['Close']]\n",
    "valid['Predictions'] = sc2.inverse_transform(predictions)\n",
    "\n",
    "valid = valid[train_date:view_date]\n",
    "\n",
    "plt.figure(figsize=(16, 8))\n",
    "plt.title('Model')\n",
    "plt.xlabel('Date', fontsize=18)\n",
    "plt.ylabel('prediction', fontsize=18)\n",
    "#plt.plot(train)\n",
    "plt.plot(valid['Close'])\n",
    "plt.plot(valid['Predictions'])\n",
    "plt.legend(['Val', 'Predictions'], loc='lower right')\n",
    "plt.show()"
   ]
  },
  {
   "cell_type": "code",
   "execution_count": null,
   "metadata": {},
   "outputs": [],
   "source": []
  },
  {
   "cell_type": "code",
   "execution_count": null,
   "metadata": {},
   "outputs": [],
   "source": []
  }
 ],
 "metadata": {
  "kernelspec": {
   "display_name": "[Tensorflow2.3]",
   "language": "python",
   "name": "py38_64"
  },
  "language_info": {
   "codemirror_mode": {
    "name": "ipython",
    "version": 3
   },
   "file_extension": ".py",
   "mimetype": "text/x-python",
   "name": "python",
   "nbconvert_exporter": "python",
   "pygments_lexer": "ipython3",
   "version": "3.8.5"
  }
 },
 "nbformat": 4,
 "nbformat_minor": 4
}
