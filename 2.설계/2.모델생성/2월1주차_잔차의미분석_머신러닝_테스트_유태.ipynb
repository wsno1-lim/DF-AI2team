{
 "cells": [
  {
   "cell_type": "code",
   "execution_count": 1,
   "metadata": {},
   "outputs": [],
   "source": [
    "import numpy as np # linear algebra\n",
    "import pandas as pd # data processing, CSV file I/O (e.g. pd.read_csv)\n",
    "import os"
   ]
  },
  {
   "cell_type": "code",
   "execution_count": 2,
   "metadata": {},
   "outputs": [
    {
     "name": "stdout",
     "output_type": "stream",
     "text": [
      "Collecting package metadata (current_repodata.json): ...working... done\n",
      "Solving environment: ...working... done\n",
      "\n",
      "# All requested packages already installed.\n",
      "\n",
      "\n",
      "Note: you may need to restart the kernel to use updated packages.\n"
     ]
    }
   ],
   "source": [
    "conda install -c conda-forge scikit-plot"
   ]
  },
  {
   "cell_type": "code",
   "execution_count": 3,
   "metadata": {},
   "outputs": [
    {
     "name": "stdout",
     "output_type": "stream",
     "text": [
      "Requirement already satisfied: yfinance in c:\\users\\user\\anaconda3\\envs\\py38_64\\lib\\site-packages (0.1.55)\n",
      "Requirement already satisfied: numpy>=1.15 in c:\\users\\user\\anaconda3\\envs\\py38_64\\lib\\site-packages (from yfinance) (1.19.5)\n",
      "Requirement already satisfied: multitasking>=0.0.7 in c:\\users\\user\\anaconda3\\envs\\py38_64\\lib\\site-packages (from yfinance) (0.0.9)\n",
      "Requirement already satisfied: requests>=2.20 in c:\\users\\user\\anaconda3\\envs\\py38_64\\lib\\site-packages (from yfinance) (2.25.1)\n",
      "Requirement already satisfied: lxml>=4.5.1 in c:\\users\\user\\anaconda3\\envs\\py38_64\\lib\\site-packages (from yfinance) (4.6.2)\n",
      "Requirement already satisfied: pandas>=0.24 in c:\\users\\user\\anaconda3\\envs\\py38_64\\lib\\site-packages (from yfinance) (1.2.0)\n",
      "Requirement already satisfied: pytz>=2017.3 in c:\\users\\user\\anaconda3\\envs\\py38_64\\lib\\site-packages (from pandas>=0.24->yfinance) (2020.5)\n",
      "Requirement already satisfied: python-dateutil>=2.7.3 in c:\\users\\user\\anaconda3\\envs\\py38_64\\lib\\site-packages (from pandas>=0.24->yfinance) (2.8.1)\n",
      "Requirement already satisfied: six>=1.5 in c:\\users\\user\\anaconda3\\envs\\py38_64\\lib\\site-packages (from python-dateutil>=2.7.3->pandas>=0.24->yfinance) (1.15.0)\n",
      "Requirement already satisfied: urllib3<1.27,>=1.21.1 in c:\\users\\user\\anaconda3\\envs\\py38_64\\lib\\site-packages (from requests>=2.20->yfinance) (1.26.2)\n",
      "Requirement already satisfied: idna<3,>=2.5 in c:\\users\\user\\anaconda3\\envs\\py38_64\\lib\\site-packages (from requests>=2.20->yfinance) (2.10)\n",
      "Requirement already satisfied: certifi>=2017.4.17 in c:\\users\\user\\anaconda3\\envs\\py38_64\\lib\\site-packages (from requests>=2.20->yfinance) (2020.12.5)\n",
      "Requirement already satisfied: chardet<5,>=3.0.2 in c:\\users\\user\\anaconda3\\envs\\py38_64\\lib\\site-packages (from requests>=2.20->yfinance) (4.0.0)\n"
     ]
    },
    {
     "name": "stderr",
     "output_type": "stream",
     "text": [
      "WARNING: You are using pip version 20.3.3; however, version 21.0.1 is available.\n",
      "You should consider upgrading via the 'C:\\Users\\user\\anaconda3\\envs\\py38_64\\python.exe -m pip install --upgrade pip' command.\n"
     ]
    },
    {
     "name": "stdout",
     "output_type": "stream",
     "text": [
      "Requirement already satisfied: investpy in c:\\users\\user\\anaconda3\\envs\\py38_64\\lib\\site-packages (1.0)\n",
      "Requirement already satisfied: Unidecode>=1.1.1 in c:\\users\\user\\anaconda3\\envs\\py38_64\\lib\\site-packages (from investpy) (1.1.2)\n",
      "Requirement already satisfied: numpy>=1.17.2 in c:\\users\\user\\anaconda3\\envs\\py38_64\\lib\\site-packages (from investpy) (1.19.5)\n",
      "Requirement already satisfied: pytz>=2019.3 in c:\\users\\user\\anaconda3\\envs\\py38_64\\lib\\site-packages (from investpy) (2020.5)\n",
      "Requirement already satisfied: requests>=2.22.0 in c:\\users\\user\\anaconda3\\envs\\py38_64\\lib\\site-packages (from investpy) (2.25.1)\n",
      "Requirement already satisfied: pandas>=0.25.1 in c:\\users\\user\\anaconda3\\envs\\py38_64\\lib\\site-packages (from investpy) (1.2.0)\n",
      "Requirement already satisfied: setuptools>=41.2.0 in c:\\users\\user\\anaconda3\\envs\\py38_64\\lib\\site-packages (from investpy) (51.0.0.post20201207)\n",
      "Requirement already satisfied: lxml>=4.4.1 in c:\\users\\user\\anaconda3\\envs\\py38_64\\lib\\site-packages (from investpy) (4.6.2)\n",
      "Requirement already satisfied: python-dateutil>=2.7.3 in c:\\users\\user\\anaconda3\\envs\\py38_64\\lib\\site-packages (from pandas>=0.25.1->investpy) (2.8.1)\n",
      "Requirement already satisfied: six>=1.5 in c:\\users\\user\\anaconda3\\envs\\py38_64\\lib\\site-packages (from python-dateutil>=2.7.3->pandas>=0.25.1->investpy) (1.15.0)\n",
      "Requirement already satisfied: chardet<5,>=3.0.2 in c:\\users\\user\\anaconda3\\envs\\py38_64\\lib\\site-packages (from requests>=2.22.0->investpy) (4.0.0)\n",
      "Requirement already satisfied: urllib3<1.27,>=1.21.1 in c:\\users\\user\\anaconda3\\envs\\py38_64\\lib\\site-packages (from requests>=2.22.0->investpy) (1.26.2)\n",
      "Requirement already satisfied: certifi>=2017.4.17 in c:\\users\\user\\anaconda3\\envs\\py38_64\\lib\\site-packages (from requests>=2.22.0->investpy) (2020.12.5)\n",
      "Requirement already satisfied: idna<3,>=2.5 in c:\\users\\user\\anaconda3\\envs\\py38_64\\lib\\site-packages (from requests>=2.22.0->investpy) (2.10)\n"
     ]
    },
    {
     "name": "stderr",
     "output_type": "stream",
     "text": [
      "WARNING: You are using pip version 20.3.3; however, version 21.0.1 is available.\n",
      "You should consider upgrading via the 'C:\\Users\\user\\anaconda3\\envs\\py38_64\\python.exe -m pip install --upgrade pip' command.\n"
     ]
    },
    {
     "name": "stdout",
     "output_type": "stream",
     "text": [
      "Requirement already satisfied: pykrx in c:\\users\\user\\anaconda3\\envs\\py38_64\\lib\\site-packages (0.1.42)\n",
      "Requirement already satisfied: datetime in c:\\users\\user\\anaconda3\\envs\\py38_64\\lib\\site-packages (from pykrx) (4.3)\n",
      "Requirement already satisfied: numpy in c:\\users\\user\\anaconda3\\envs\\py38_64\\lib\\site-packages (from pykrx) (1.19.5)\n",
      "Requirement already satisfied: xlrd in c:\\users\\user\\anaconda3\\envs\\py38_64\\lib\\site-packages (from pykrx) (2.0.1)\n",
      "Requirement already satisfied: requests in c:\\users\\user\\anaconda3\\envs\\py38_64\\lib\\site-packages (from pykrx) (2.25.1)\n",
      "Requirement already satisfied: pandas in c:\\users\\user\\anaconda3\\envs\\py38_64\\lib\\site-packages (from pykrx) (1.2.0)\n",
      "Requirement already satisfied: zope.interface in c:\\users\\user\\anaconda3\\envs\\py38_64\\lib\\site-packages (from datetime->pykrx) (5.2.0)\n",
      "Requirement already satisfied: pytz in c:\\users\\user\\anaconda3\\envs\\py38_64\\lib\\site-packages (from datetime->pykrx) (2020.5)\n",
      "Requirement already satisfied: python-dateutil>=2.7.3 in c:\\users\\user\\anaconda3\\envs\\py38_64\\lib\\site-packages (from pandas->pykrx) (2.8.1)\n",
      "Requirement already satisfied: six>=1.5 in c:\\users\\user\\anaconda3\\envs\\py38_64\\lib\\site-packages (from python-dateutil>=2.7.3->pandas->pykrx) (1.15.0)\n",
      "Requirement already satisfied: idna<3,>=2.5 in c:\\users\\user\\anaconda3\\envs\\py38_64\\lib\\site-packages (from requests->pykrx) (2.10)\n",
      "Requirement already satisfied: chardet<5,>=3.0.2 in c:\\users\\user\\anaconda3\\envs\\py38_64\\lib\\site-packages (from requests->pykrx) (4.0.0)\n",
      "Requirement already satisfied: urllib3<1.27,>=1.21.1 in c:\\users\\user\\anaconda3\\envs\\py38_64\\lib\\site-packages (from requests->pykrx) (1.26.2)\n",
      "Requirement already satisfied: certifi>=2017.4.17 in c:\\users\\user\\anaconda3\\envs\\py38_64\\lib\\site-packages (from requests->pykrx) (2020.12.5)\n",
      "Requirement already satisfied: setuptools in c:\\users\\user\\anaconda3\\envs\\py38_64\\lib\\site-packages (from zope.interface->datetime->pykrx) (51.0.0.post20201207)\n"
     ]
    },
    {
     "name": "stderr",
     "output_type": "stream",
     "text": [
      "WARNING: You are using pip version 20.3.3; however, version 21.0.1 is available.\n",
      "You should consider upgrading via the 'C:\\Users\\user\\anaconda3\\envs\\py38_64\\python.exe -m pip install --upgrade pip' command.\n"
     ]
    },
    {
     "name": "stdout",
     "output_type": "stream",
     "text": [
      "Requirement already satisfied: seaborn in c:\\users\\user\\anaconda3\\envs\\py38_64\\lib\\site-packages (0.11.1)\n",
      "Requirement already satisfied: pandas>=0.23 in c:\\users\\user\\anaconda3\\envs\\py38_64\\lib\\site-packages (from seaborn) (1.2.0)\n",
      "Requirement already satisfied: matplotlib>=2.2 in c:\\users\\user\\anaconda3\\envs\\py38_64\\lib\\site-packages (from seaborn) (3.3.3)\n",
      "Requirement already satisfied: numpy>=1.15 in c:\\users\\user\\anaconda3\\envs\\py38_64\\lib\\site-packages (from seaborn) (1.19.5)\n",
      "Requirement already satisfied: scipy>=1.0 in c:\\users\\user\\anaconda3\\envs\\py38_64\\lib\\site-packages (from seaborn) (1.6.0)\n",
      "Requirement already satisfied: cycler>=0.10 in c:\\users\\user\\anaconda3\\envs\\py38_64\\lib\\site-packages (from matplotlib>=2.2->seaborn) (0.10.0)\n",
      "Requirement already satisfied: pyparsing!=2.0.4,!=2.1.2,!=2.1.6,>=2.0.3 in c:\\users\\user\\anaconda3\\envs\\py38_64\\lib\\site-packages (from matplotlib>=2.2->seaborn) (2.4.7)\n",
      "Requirement already satisfied: python-dateutil>=2.1 in c:\\users\\user\\anaconda3\\envs\\py38_64\\lib\\site-packages (from matplotlib>=2.2->seaborn) (2.8.1)\n",
      "Requirement already satisfied: pillow>=6.2.0 in c:\\users\\user\\anaconda3\\envs\\py38_64\\lib\\site-packages (from matplotlib>=2.2->seaborn) (8.1.0)\n",
      "Requirement already satisfied: kiwisolver>=1.0.1 in c:\\users\\user\\anaconda3\\envs\\py38_64\\lib\\site-packages (from matplotlib>=2.2->seaborn) (1.3.1)\n",
      "Requirement already satisfied: six in c:\\users\\user\\anaconda3\\envs\\py38_64\\lib\\site-packages (from cycler>=0.10->matplotlib>=2.2->seaborn) (1.15.0)\n",
      "Requirement already satisfied: pytz>=2017.3 in c:\\users\\user\\anaconda3\\envs\\py38_64\\lib\\site-packages (from pandas>=0.23->seaborn) (2020.5)\n"
     ]
    },
    {
     "name": "stderr",
     "output_type": "stream",
     "text": [
      "WARNING: You are using pip version 20.3.3; however, version 21.0.1 is available.\n",
      "You should consider upgrading via the 'C:\\Users\\user\\anaconda3\\envs\\py38_64\\python.exe -m pip install --upgrade pip' command.\n"
     ]
    },
    {
     "name": "stdout",
     "output_type": "stream",
     "text": [
      "Requirement already satisfied: workalendar in c:\\users\\user\\anaconda3\\envs\\py38_64\\lib\\site-packages (14.2.0)\n",
      "Requirement already satisfied: lunardate in c:\\users\\user\\anaconda3\\envs\\py38_64\\lib\\site-packages (from workalendar) (0.2.0)\n",
      "Requirement already satisfied: setuptools>=1.0 in c:\\users\\user\\anaconda3\\envs\\py38_64\\lib\\site-packages (from workalendar) (51.0.0.post20201207)\n",
      "Requirement already satisfied: skyfield in c:\\users\\user\\anaconda3\\envs\\py38_64\\lib\\site-packages (from workalendar) (1.35)\n",
      "Requirement already satisfied: skyfield-data in c:\\users\\user\\anaconda3\\envs\\py38_64\\lib\\site-packages (from workalendar) (3.0.0)\n",
      "Requirement already satisfied: python-dateutil in c:\\users\\user\\anaconda3\\envs\\py38_64\\lib\\site-packages (from workalendar) (2.8.1)\n",
      "Requirement already satisfied: pyCalverter in c:\\users\\user\\anaconda3\\envs\\py38_64\\lib\\site-packages (from workalendar) (1.6.1)\n",
      "Requirement already satisfied: pyluach in c:\\users\\user\\anaconda3\\envs\\py38_64\\lib\\site-packages (from workalendar) (1.2.1)\n",
      "Requirement already satisfied: pytz in c:\\users\\user\\anaconda3\\envs\\py38_64\\lib\\site-packages (from workalendar) (2020.5)\n",
      "Requirement already satisfied: six>=1.5 in c:\\users\\user\\anaconda3\\envs\\py38_64\\lib\\site-packages (from python-dateutil->workalendar) (1.15.0)\n",
      "Requirement already satisfied: numpy in c:\\users\\user\\anaconda3\\envs\\py38_64\\lib\\site-packages (from skyfield->workalendar) (1.19.5)\n",
      "Requirement already satisfied: certifi>=2017.4.17 in c:\\users\\user\\anaconda3\\envs\\py38_64\\lib\\site-packages (from skyfield->workalendar) (2020.12.5)\n",
      "Requirement already satisfied: sgp4>=2.2 in c:\\users\\user\\anaconda3\\envs\\py38_64\\lib\\site-packages (from skyfield->workalendar) (2.15)\n",
      "Requirement already satisfied: jplephem>=2.13 in c:\\users\\user\\anaconda3\\envs\\py38_64\\lib\\site-packages (from skyfield->workalendar) (2.15)\n"
     ]
    },
    {
     "name": "stderr",
     "output_type": "stream",
     "text": [
      "WARNING: You are using pip version 20.3.3; however, version 21.0.1 is available.\n",
      "You should consider upgrading via the 'C:\\Users\\user\\anaconda3\\envs\\py38_64\\python.exe -m pip install --upgrade pip' command.\n"
     ]
    },
    {
     "name": "stdout",
     "output_type": "stream",
     "text": [
      "Requirement already satisfied: finance-datareader in c:\\users\\user\\anaconda3\\envs\\py38_64\\lib\\site-packages (0.9.20)\n",
      "Requirement already satisfied: pandas>=0.19.2 in c:\\users\\user\\anaconda3\\envs\\py38_64\\lib\\site-packages (from finance-datareader) (1.2.0)\n",
      "Requirement already satisfied: requests-file in c:\\users\\user\\anaconda3\\envs\\py38_64\\lib\\site-packages (from finance-datareader) (1.5.1)\n",
      "Requirement already satisfied: tqdm in c:\\users\\user\\anaconda3\\envs\\py38_64\\lib\\site-packages (from finance-datareader) (4.56.0)\n",
      "Requirement already satisfied: requests>=2.3.0 in c:\\users\\user\\anaconda3\\envs\\py38_64\\lib\\site-packages (from finance-datareader) (2.25.1)\n",
      "Requirement already satisfied: lxml in c:\\users\\user\\anaconda3\\envs\\py38_64\\lib\\site-packages (from finance-datareader) (4.6.2)\n",
      "Requirement already satisfied: python-dateutil>=2.7.3 in c:\\users\\user\\anaconda3\\envs\\py38_64\\lib\\site-packages (from pandas>=0.19.2->finance-datareader) (2.8.1)\n",
      "Requirement already satisfied: pytz>=2017.3 in c:\\users\\user\\anaconda3\\envs\\py38_64\\lib\\site-packages (from pandas>=0.19.2->finance-datareader) (2020.5)\n",
      "Requirement already satisfied: numpy>=1.16.5 in c:\\users\\user\\anaconda3\\envs\\py38_64\\lib\\site-packages (from pandas>=0.19.2->finance-datareader) (1.19.5)\n",
      "Requirement already satisfied: six>=1.5 in c:\\users\\user\\anaconda3\\envs\\py38_64\\lib\\site-packages (from python-dateutil>=2.7.3->pandas>=0.19.2->finance-datareader) (1.15.0)\n",
      "Requirement already satisfied: urllib3<1.27,>=1.21.1 in c:\\users\\user\\anaconda3\\envs\\py38_64\\lib\\site-packages (from requests>=2.3.0->finance-datareader) (1.26.2)\n",
      "Requirement already satisfied: chardet<5,>=3.0.2 in c:\\users\\user\\anaconda3\\envs\\py38_64\\lib\\site-packages (from requests>=2.3.0->finance-datareader) (4.0.0)\n",
      "Requirement already satisfied: idna<3,>=2.5 in c:\\users\\user\\anaconda3\\envs\\py38_64\\lib\\site-packages (from requests>=2.3.0->finance-datareader) (2.10)\n",
      "Requirement already satisfied: certifi>=2017.4.17 in c:\\users\\user\\anaconda3\\envs\\py38_64\\lib\\site-packages (from requests>=2.3.0->finance-datareader) (2020.12.5)\n"
     ]
    },
    {
     "name": "stderr",
     "output_type": "stream",
     "text": [
      "WARNING: You are using pip version 20.3.3; however, version 21.0.1 is available.\n",
      "You should consider upgrading via the 'C:\\Users\\user\\anaconda3\\envs\\py38_64\\python.exe -m pip install --upgrade pip' command.\n"
     ]
    },
    {
     "name": "stdout",
     "output_type": "stream",
     "text": [
      "Processing c:\\users\\user\\downloads\\ta_lib-0.4.19-cp38-cp38-win_amd64.whl\n",
      "TA-Lib is already installed with the same version as the provided wheel. Use --force-reinstall to force an installation of the wheel.\n"
     ]
    },
    {
     "name": "stderr",
     "output_type": "stream",
     "text": [
      "WARNING: You are using pip version 20.3.3; however, version 21.0.1 is available.\n",
      "You should consider upgrading via the 'C:\\Users\\user\\anaconda3\\envs\\py38_64\\python.exe -m pip install --upgrade pip' command.\n"
     ]
    },
    {
     "name": "stdout",
     "output_type": "stream",
     "text": [
      "Requirement already satisfied: finance-datareader in c:\\users\\user\\anaconda3\\envs\\py38_64\\lib\\site-packages (0.9.20)\n",
      "Requirement already satisfied: requests>=2.3.0 in c:\\users\\user\\anaconda3\\envs\\py38_64\\lib\\site-packages (from finance-datareader) (2.25.1)\n",
      "Requirement already satisfied: tqdm in c:\\users\\user\\anaconda3\\envs\\py38_64\\lib\\site-packages (from finance-datareader) (4.56.0)\n",
      "Requirement already satisfied: pandas>=0.19.2 in c:\\users\\user\\anaconda3\\envs\\py38_64\\lib\\site-packages (from finance-datareader) (1.2.0)\n",
      "Requirement already satisfied: lxml in c:\\users\\user\\anaconda3\\envs\\py38_64\\lib\\site-packages (from finance-datareader) (4.6.2)\n",
      "Requirement already satisfied: requests-file in c:\\users\\user\\anaconda3\\envs\\py38_64\\lib\\site-packages (from finance-datareader) (1.5.1)\n",
      "Requirement already satisfied: numpy>=1.16.5 in c:\\users\\user\\anaconda3\\envs\\py38_64\\lib\\site-packages (from pandas>=0.19.2->finance-datareader) (1.19.5)\n",
      "Requirement already satisfied: pytz>=2017.3 in c:\\users\\user\\anaconda3\\envs\\py38_64\\lib\\site-packages (from pandas>=0.19.2->finance-datareader) (2020.5)\n",
      "Requirement already satisfied: python-dateutil>=2.7.3 in c:\\users\\user\\anaconda3\\envs\\py38_64\\lib\\site-packages (from pandas>=0.19.2->finance-datareader) (2.8.1)\n",
      "Requirement already satisfied: six>=1.5 in c:\\users\\user\\anaconda3\\envs\\py38_64\\lib\\site-packages (from python-dateutil>=2.7.3->pandas>=0.19.2->finance-datareader) (1.15.0)\n",
      "Requirement already satisfied: certifi>=2017.4.17 in c:\\users\\user\\anaconda3\\envs\\py38_64\\lib\\site-packages (from requests>=2.3.0->finance-datareader) (2020.12.5)\n",
      "Requirement already satisfied: urllib3<1.27,>=1.21.1 in c:\\users\\user\\anaconda3\\envs\\py38_64\\lib\\site-packages (from requests>=2.3.0->finance-datareader) (1.26.2)\n",
      "Requirement already satisfied: chardet<5,>=3.0.2 in c:\\users\\user\\anaconda3\\envs\\py38_64\\lib\\site-packages (from requests>=2.3.0->finance-datareader) (4.0.0)\n",
      "Requirement already satisfied: idna<3,>=2.5 in c:\\users\\user\\anaconda3\\envs\\py38_64\\lib\\site-packages (from requests>=2.3.0->finance-datareader) (2.10)\n"
     ]
    },
    {
     "name": "stderr",
     "output_type": "stream",
     "text": [
      "WARNING: You are using pip version 20.3.3; however, version 21.0.1 is available.\n",
      "You should consider upgrading via the 'C:\\Users\\user\\anaconda3\\envs\\py38_64\\python.exe -m pip install --upgrade pip' command.\n"
     ]
    },
    {
     "name": "stdout",
     "output_type": "stream",
     "text": [
      "Requirement already satisfied: keras in c:\\users\\user\\anaconda3\\envs\\py38_64\\lib\\site-packages (2.4.3)\n",
      "Requirement already satisfied: pyyaml in c:\\users\\user\\anaconda3\\envs\\py38_64\\lib\\site-packages (from keras) (5.3.1)\n",
      "Requirement already satisfied: scipy>=0.14 in c:\\users\\user\\anaconda3\\envs\\py38_64\\lib\\site-packages (from keras) (1.6.0)\n",
      "Requirement already satisfied: numpy>=1.9.1 in c:\\users\\user\\anaconda3\\envs\\py38_64\\lib\\site-packages (from keras) (1.19.5)\n",
      "Requirement already satisfied: h5py in c:\\users\\user\\anaconda3\\envs\\py38_64\\lib\\site-packages (from keras) (2.10.0)\n",
      "Requirement already satisfied: six in c:\\users\\user\\anaconda3\\envs\\py38_64\\lib\\site-packages (from h5py->keras) (1.15.0)\n"
     ]
    },
    {
     "name": "stderr",
     "output_type": "stream",
     "text": [
      "WARNING: You are using pip version 20.3.3; however, version 21.0.1 is available.\n",
      "You should consider upgrading via the 'C:\\Users\\user\\anaconda3\\envs\\py38_64\\python.exe -m pip install --upgrade pip' command.\n"
     ]
    }
   ],
   "source": [
    "!pip install yfinance\n",
    "!pip install investpy\n",
    "!pip install pykrx\n",
    "!pip install seaborn\n",
    "!pip install workalendar\n",
    "!pip install --upgrade finance-datareader\n",
    "!pip install TA_Lib-0.4.19-cp38-cp38-win_amd64.whl\n",
    "!pip install -U finance-datareader\n",
    "!pip install keras"
   ]
  },
  {
   "cell_type": "code",
   "execution_count": 4,
   "metadata": {},
   "outputs": [],
   "source": [
    "from pandas_datareader import data, wb\n",
    "import pandas as pd\n",
    "import numpy as np\n",
    "import datetime\n",
    "import yfinance as yf # yahoo finance API    # pip install yfinance\n",
    "import investpy # investing.com API          # pip install investpy\n",
    "from pykrx import stock # krx API           # pip instasll pykrx\n",
    "import talib as ta # 기술적 분석 (보조지표)\n",
    "import FinanceDataReader as fdr\n",
    "import matplotlib.pyplot as plt\n",
    "from sklearn.metrics import precision_score, recall_score, confusion_matrix, roc_auc_score\n",
    "from sklearn.metrics import f1_score\n",
    "from sklearn.metrics import mean_squared_error, r2_score\n",
    "from sklearn.metrics import accuracy_score\n",
    "%matplotlib inline"
   ]
  },
  {
   "cell_type": "code",
   "execution_count": 5,
   "metadata": {},
   "outputs": [],
   "source": [
    "# 크롤링 start_date, end_date\n",
    "#start_date='2017-01-05'\n",
    "#input('YYYY-MM-DD 형식을 지켜 입력해주세요 ex) 2018-01-01 : ')\n",
    "#end_date='2021-01-01'\n",
    "#input('YYYY-MM-DD 형식을 지켜 입력해주세요 ex) 2020-10-13 : ')\n",
    "#train_date = '2020-01-01'\n",
    "start_date = '2010-01-01'\n",
    "end_date = '2021-02-01'\n",
    "train_date = '2019-03-01'"
   ]
  },
  {
   "cell_type": "code",
   "execution_count": 6,
   "metadata": {},
   "outputs": [],
   "source": [
    "# 데이터 수집기간 입력\n",
    "# yahoo finance 양식, ex) yyyy-mm-dd\n",
    "#start_date = '2018-01-01'\n",
    "#end_date = '2020-10-13'\n",
    "\n",
    "# investing.com 양식, ex) dd/mm/yyyy\n",
    "start_date_ = start_date[8:] + '/' + start_date[5:7] + '/' + start_date[:4]\n",
    "end_date_ = end_date[8:] + '/' + end_date[5:7] + '/' + end_date[:4]\n",
    "\n",
    "# krx 양식 ex) yyyymmdd\n",
    "start_date__ = start_date[0:4] + start_date[5:7] + start_date[8:10]\n",
    "end_date__ = end_date[0:4] + end_date[5:7] + end_date[8:10]"
   ]
  },
  {
   "cell_type": "code",
   "execution_count": 7,
   "metadata": {},
   "outputs": [
    {
     "name": "stdout",
     "output_type": "stream",
     "text": [
      "[*********************100%***********************]  1 of 1 completed\n",
      "[*********************100%***********************]  1 of 1 completed\n",
      "[*********************100%***********************]  1 of 1 completed\n",
      "[*********************100%***********************]  1 of 1 completed\n",
      "[*********************100%***********************]  1 of 1 completed\n",
      "[*********************100%***********************]  1 of 1 completed\n",
      "[*********************100%***********************]  1 of 1 completed\n",
      "[*********************100%***********************]  1 of 1 completed\n",
      "[*********************100%***********************]  1 of 1 completed\n",
      "[*********************100%***********************]  1 of 1 completed\n",
      "[*********************100%***********************]  1 of 1 completed\n",
      "[*********************100%***********************]  1 of 1 completed\n",
      "[*********************100%***********************]  1 of 1 completed\n"
     ]
    }
   ],
   "source": [
    "# 주요 3개국 대비 원 환율\n",
    "\n",
    "# 달러/원\n",
    "exchange_rate_usd_ = investpy.get_currency_cross_historical_data(currency_cross='USD/KRW', from_date=start_date_, to_date=end_date_)\n",
    "exchange_rate_usd_.columns = ['exchange_rate_usd_Open', 'exchange_rate_usd_High', 'exchange_rate_usd_Low', 'exchange_rate_usd_Close', 'exchange_rate_usd_Currency']\n",
    "exchange_rate_usd_ = exchange_rate_usd_.drop(['exchange_rate_usd_Open','exchange_rate_usd_High','exchange_rate_usd_Low','exchange_rate_usd_Currency'], axis=1)\n",
    "\n",
    "# S&P 500\n",
    "snp_500_ = yf.download(\"^GSPC\", start=start_date, end=end_date)\n",
    "snp_500_.columns = ['snp_500_Open','snp_500_High','snp_500_Low','snp_500_Close','snp_500_Adj Close','snp_500_Volume']\n",
    "snp_500_ = snp_500_.drop(['snp_500_Open','snp_500_High','snp_500_Low','snp_500_Adj Close','snp_500_Volume'], axis=1)\n",
    "\n",
    "# NASDAQ\n",
    "nasdaq_ = yf.download(\"^IXIC\", start=start_date, end=end_date)\n",
    "nasdaq_.columns = ['nasdaq_Open','nasdaq_High','nasdaq_Low','nasdaq_Close','nasdaq_Adj Close','nasdaq_Volume']\n",
    "nasdaq_ = nasdaq_.drop(['nasdaq_Open','nasdaq_High','nasdaq_Low','nasdaq_Adj Close','nasdaq_Volume'], axis=1)\n",
    "\n",
    "# Russell 2000\n",
    "russell_2000_ = yf.download(\"^RUT\", start=start_date, end=end_date)\n",
    "russell_2000_.columns = ['russell_2000_Open','russell_2000_High','russell_2000_Low','russell_2000_Close','russell_2000_Adj Close','russell_2000_Volume']\n",
    "russell_2000_ = russell_2000_.drop(['russell_2000_Open','russell_2000_High','russell_2000_Low','russell_2000_Adj Close','russell_2000_Volume'], axis=1)\n",
    "\n",
    "# 삼성 차트 데이터\n",
    "sam_ = stock.get_market_ohlcv_by_date(start_date__, end_date__, \"005930\")\n",
    "sam_.columns = ['Open','High','Low','Close','Volume']\n",
    "model_samsung = sam_.copy()\n",
    "\n",
    "# 3) MACD 이동평균수렴확산 (단기(EMA12)와 장기(EMA26) EMA로 모멘텀을 추정)\n",
    "macd, macdsignal9, macdhist = ta.MACD(model_samsung.Close, fastperiod=12, slowperiod=26, signalperiod=9)\n",
    "model_samsung['macd'] = macd\n",
    "model_samsung['macdsignal9'] = macdsignal9\n",
    "model_samsung['macdhist'] = macdhist\n",
    "\n",
    "MSCI_KR = fdr.DataReader('156080', start_date,end_date) #MSCI KOREA\n",
    "MSCI_KR = MSCI_KR.drop(['Open','High','Low', 'Change','Volume'], axis=1) \n",
    "MSCI_KR.columns = ['MSCI_KR']\n",
    "\n",
    "# HANG SENG\n",
    "hang_seng_ = yf.download(\"^HSI\", start=start_date, end=end_date)\n",
    "hang_seng_.columns = ['hang_seng_Open','hang_seng_High','hang_seng_Low','hang_seng_Close','hang_seng_Adj Close','hang_seng_Volume']\n",
    "hang_seng_ = hang_seng_.drop(['hang_seng_Open','hang_seng_High','hang_seng_Low','hang_seng_Adj Close','hang_seng_Volume'], axis=1)\n",
    "\n",
    "# 미국 국채 수익률 (5년)\n",
    "treasury_5y_ = yf.download(\"^FVX\", start=start_date, end=end_date)\n",
    "treasury_5y_.columns = ['treasury_5y_Open','treasury_5y_High','treasury_5y_Low','treasury_5y_Close','treasury_5y_Adj Close','treasury_5y_Volume']\n",
    "treasury_5y_ = treasury_5y_.drop(['treasury_5y_Open','treasury_5y_High','treasury_5y_Low','treasury_5y_Adj Close','treasury_5y_Volume'], axis=1)\n",
    "\n",
    "# 미국 국채 수익률 (10년)\n",
    "treasury_10y_ = yf.download(\"^TNX\", start=start_date, end=end_date)\n",
    "treasury_10y_.columns = ['treasury_10y_Open','treasury_10y_High','treasury_10y_Low','treasury_10y_Close','treasury_10y_Adj Close','treasury_10y_Volume']\n",
    "treasury_10y_ = treasury_10y_.drop(['treasury_10y_Open','treasury_10y_High','treasury_10y_Low','treasury_10y_Adj Close','treasury_10y_Volume'], axis=1)\n",
    "\n",
    "# 미국 국채 수익률 (30년)\n",
    "treasury_30y_ = yf.download(\"^TYX\", start=start_date, end=end_date)\n",
    "treasury_30y_.columns = ['treasury_30y_Open','treasury_30y_High','treasury_30y_Low','treasury_30y_Close','treasury_30y_Adj Close','treasury_30y_Volume']\n",
    "treasury_30y_ = treasury_30y_.drop(['treasury_30y_Open','treasury_30y_High','treasury_30y_Low','treasury_30y_Adj Close','treasury_30y_Volume'], axis=1)\n",
    "\n",
    "# [*에너지*]\n",
    "# WTI유 시세\n",
    "crude_oil_ = yf.download(\"CL=F\", start=start_date, end=end_date)\n",
    "crude_oil_.columns = ['crude_oil_Open','crude_oil_High','crude_oil_Low','crude_oil_Close','crude_oil_Adj Close','crude_oil_Volume']\n",
    "crude_oil_ = crude_oil_.drop(['crude_oil_Open','crude_oil_High','crude_oil_Low','crude_oil_Adj Close','crude_oil_Volume'], axis=1)\n",
    "\n",
    "# 브렌트유 시세\n",
    "brent_crude_oil_ = yf.download(\"BZ=F\", start=start_date, end=end_date)\n",
    "brent_crude_oil_.columns = ['brent_crude_oil_Open','brent_crude_oil_High','brent_crude_oil_Low','brent_crude_oil_Close','brent_crude_oil_Adj Close','brent_crude_oil_Volume']\n",
    "brent_crude_oil_ = brent_crude_oil_.drop(['brent_crude_oil_Open','brent_crude_oil_High','brent_crude_oil_Low','brent_crude_oil_Adj Close','brent_crude_oil_Volume'], axis=1)\n",
    "\n",
    "# SOX 지수 엔비디아(8.9%), 텍사스인스트루먼트(8.6%), 퀄컴(7.7%), 인텔(7.4%) 반도체장비기업 18.52%\n",
    "SOXX = yf.download(\"SOXX\", start=start_date, end=end_date)\n",
    "SOXX.columns = ['SOXX_Open','SOXX_High','SOXX_Low','SOXX_Close','SOXX_Adj Close','SOXX_Volume']\n",
    "SOXX = SOXX.drop(['SOXX_Open','SOXX_High','SOXX_Low','SOXX_Adj Close','SOXX_Volume'], axis=1)\n",
    "\n",
    "# SMH 인텔(10%), TSMC(10%), 엔비디아(5%)\n",
    "SMH = yf.download(\"SMH\", start=start_date, end=end_date)\n",
    "SMH.columns = ['SMH_Open','SMH_High','SMH_Low','SMH_Close','SMH_Adj Close','SMH_Volume']\n",
    "SMH = SMH.drop(['SMH_Open','SMH_High','SMH_Low','SMH_Close','SMH_Volume'], axis=1)\n",
    "\n",
    "# SOXL 지수(3배 상승 레버리지) 텍사스인스트루먼트(8.6%) 인텔(8.3%), 퀄컴(7.8%), 엔비디아(7.8%)\n",
    "SOXL = yf.download(\"SOXL\", start=start_date, end=end_date)\n",
    "SOXL.columns = ['SOXL_Open','SOXL_High','SOXL_Low','SOXL_Close','SOXL_Adj Close','SOXL_Volume']\n",
    "SOXL = SOXL.drop(['SOXL_Open','SOXL_High','SOXL_Low','SOXL_Close','SOXL_Volume'], axis=1)\n",
    "\n",
    "# SOXS 지수(3배 인버스 레버리지) 텍사스인스트루먼트(8.6%) 인텔(8.3%), 퀄컴(7.8%), 엔비디아(7.8%)\n",
    "SOXS = yf.download(\"SOXS\", start=start_date, end=end_date)\n",
    "SOXS.columns = ['SOXS_Open','SOXS_High','SOXS_Low','SOXS_Close','SOXS_Adj Close','SOXS_Volume']\n",
    "SOXS = SOXS.drop(['SOXS_Open','SOXS_High','SOXS_Low','SOXS_Close','SOXS_Volume'], axis=1)"
   ]
  },
  {
   "cell_type": "code",
   "execution_count": 8,
   "metadata": {},
   "outputs": [],
   "source": [
    "model_samsung['US'] = exchange_rate_usd_\n",
    "model_samsung['SNP500'] = snp_500_\n",
    "model_samsung['RUSSELL2000'] = russell_2000_\n",
    "model_samsung['NASDAQ'] = nasdaq_\n",
    "model_samsung['MSCI_KR'] = MSCI_KR\n",
    "model_samsung['SOXX'] = SOXX\n",
    "model_samsung['SMH'] = SMH\n",
    "model_samsung['SOXL'] = SOXL\n",
    "model_samsung['SOXS'] = SOXS\n",
    "model_samsung['TREASURY_5Y']=treasury_5y_\n",
    "model_samsung['TREASURY_10Y']=treasury_10y_\n",
    "model_samsung['TREASURY_30Y']=treasury_30y_\n",
    "#model_samsung['crude_oil'] = crude_oil_\n",
    "#model_samsung['brent_crude_oil'] = brent_crude_oil_\n",
    "model_samsung['hang_seng'] = hang_seng_\n"
   ]
  },
  {
   "cell_type": "code",
   "execution_count": 9,
   "metadata": {},
   "outputs": [
    {
     "data": {
      "text/html": [
       "<div>\n",
       "<style scoped>\n",
       "    .dataframe tbody tr th:only-of-type {\n",
       "        vertical-align: middle;\n",
       "    }\n",
       "\n",
       "    .dataframe tbody tr th {\n",
       "        vertical-align: top;\n",
       "    }\n",
       "\n",
       "    .dataframe thead th {\n",
       "        text-align: right;\n",
       "    }\n",
       "</style>\n",
       "<table border=\"1\" class=\"dataframe\">\n",
       "  <thead>\n",
       "    <tr style=\"text-align: right;\">\n",
       "      <th></th>\n",
       "      <th>Open</th>\n",
       "      <th>High</th>\n",
       "      <th>Low</th>\n",
       "      <th>Close</th>\n",
       "      <th>Volume</th>\n",
       "      <th>macd</th>\n",
       "      <th>macdsignal9</th>\n",
       "      <th>macdhist</th>\n",
       "      <th>US</th>\n",
       "      <th>SNP500</th>\n",
       "      <th>...</th>\n",
       "      <th>MSCI_KR</th>\n",
       "      <th>SOXX</th>\n",
       "      <th>SMH</th>\n",
       "      <th>SOXL</th>\n",
       "      <th>SOXS</th>\n",
       "      <th>TREASURY_5Y</th>\n",
       "      <th>TREASURY_10Y</th>\n",
       "      <th>TREASURY_30Y</th>\n",
       "      <th>hang_seng</th>\n",
       "      <th>Labeling</th>\n",
       "    </tr>\n",
       "    <tr>\n",
       "      <th>날짜</th>\n",
       "      <th></th>\n",
       "      <th></th>\n",
       "      <th></th>\n",
       "      <th></th>\n",
       "      <th></th>\n",
       "      <th></th>\n",
       "      <th></th>\n",
       "      <th></th>\n",
       "      <th></th>\n",
       "      <th></th>\n",
       "      <th></th>\n",
       "      <th></th>\n",
       "      <th></th>\n",
       "      <th></th>\n",
       "      <th></th>\n",
       "      <th></th>\n",
       "      <th></th>\n",
       "      <th></th>\n",
       "      <th></th>\n",
       "      <th></th>\n",
       "      <th></th>\n",
       "    </tr>\n",
       "  </thead>\n",
       "  <tbody>\n",
       "    <tr>\n",
       "      <th>2012-04-30</th>\n",
       "      <td>27900</td>\n",
       "      <td>28180</td>\n",
       "      <td>27540</td>\n",
       "      <td>27800</td>\n",
       "      <td>315924</td>\n",
       "      <td>514.972445</td>\n",
       "      <td>386.143049</td>\n",
       "      <td>128.829397</td>\n",
       "      <td>1130.15</td>\n",
       "      <td>1397.910034</td>\n",
       "      <td>...</td>\n",
       "      <td>10609.0</td>\n",
       "      <td>56.110001</td>\n",
       "      <td>30.272848</td>\n",
       "      <td>8.517699</td>\n",
       "      <td>326388.56250</td>\n",
       "      <td>0.811</td>\n",
       "      <td>1.915</td>\n",
       "      <td>3.109</td>\n",
       "      <td>21094.210938</td>\n",
       "      <td>28020.0</td>\n",
       "    </tr>\n",
       "    <tr>\n",
       "      <th>2012-05-02</th>\n",
       "      <td>28200</td>\n",
       "      <td>28360</td>\n",
       "      <td>27980</td>\n",
       "      <td>28200</td>\n",
       "      <td>368585</td>\n",
       "      <td>619.193325</td>\n",
       "      <td>432.753104</td>\n",
       "      <td>186.440222</td>\n",
       "      <td>1130.20</td>\n",
       "      <td>1402.310059</td>\n",
       "      <td>...</td>\n",
       "      <td>10718.0</td>\n",
       "      <td>56.549999</td>\n",
       "      <td>30.570417</td>\n",
       "      <td>8.738206</td>\n",
       "      <td>318693.37500</td>\n",
       "      <td>0.819</td>\n",
       "      <td>1.922</td>\n",
       "      <td>3.114</td>\n",
       "      <td>21309.080078</td>\n",
       "      <td>27200.0</td>\n",
       "    </tr>\n",
       "    <tr>\n",
       "      <th>2012-05-03</th>\n",
       "      <td>28040</td>\n",
       "      <td>28200</td>\n",
       "      <td>27960</td>\n",
       "      <td>28020</td>\n",
       "      <td>206721</td>\n",
       "      <td>679.432553</td>\n",
       "      <td>482.088994</td>\n",
       "      <td>197.343559</td>\n",
       "      <td>1131.25</td>\n",
       "      <td>1391.569946</td>\n",
       "      <td>...</td>\n",
       "      <td>10655.0</td>\n",
       "      <td>55.139999</td>\n",
       "      <td>29.879015</td>\n",
       "      <td>8.111872</td>\n",
       "      <td>341591.28125</td>\n",
       "      <td>0.817</td>\n",
       "      <td>1.924</td>\n",
       "      <td>3.112</td>\n",
       "      <td>21249.529297</td>\n",
       "      <td>26840.0</td>\n",
       "    </tr>\n",
       "    <tr>\n",
       "      <th>2012-05-04</th>\n",
       "      <td>27499</td>\n",
       "      <td>27960</td>\n",
       "      <td>26980</td>\n",
       "      <td>27200</td>\n",
       "      <td>410013</td>\n",
       "      <td>653.472602</td>\n",
       "      <td>516.365715</td>\n",
       "      <td>137.106887</td>\n",
       "      <td>1135.85</td>\n",
       "      <td>1369.099976</td>\n",
       "      <td>...</td>\n",
       "      <td>10578.0</td>\n",
       "      <td>54.029999</td>\n",
       "      <td>29.196362</td>\n",
       "      <td>7.588751</td>\n",
       "      <td>363269.15625</td>\n",
       "      <td>0.784</td>\n",
       "      <td>1.880</td>\n",
       "      <td>3.071</td>\n",
       "      <td>21086.000000</td>\n",
       "      <td>26820.0</td>\n",
       "    </tr>\n",
       "    <tr>\n",
       "      <th>2012-05-07</th>\n",
       "      <td>26840</td>\n",
       "      <td>27060</td>\n",
       "      <td>26500</td>\n",
       "      <td>26840</td>\n",
       "      <td>378463</td>\n",
       "      <td>596.968679</td>\n",
       "      <td>532.486308</td>\n",
       "      <td>64.482371</td>\n",
       "      <td>1138.50</td>\n",
       "      <td>1369.579956</td>\n",
       "      <td>...</td>\n",
       "      <td>10377.0</td>\n",
       "      <td>53.869999</td>\n",
       "      <td>29.143854</td>\n",
       "      <td>7.541834</td>\n",
       "      <td>364582.96875</td>\n",
       "      <td>0.782</td>\n",
       "      <td>1.877</td>\n",
       "      <td>3.067</td>\n",
       "      <td>20536.650391</td>\n",
       "      <td>26620.0</td>\n",
       "    </tr>\n",
       "    <tr>\n",
       "      <th>...</th>\n",
       "      <td>...</td>\n",
       "      <td>...</td>\n",
       "      <td>...</td>\n",
       "      <td>...</td>\n",
       "      <td>...</td>\n",
       "      <td>...</td>\n",
       "      <td>...</td>\n",
       "      <td>...</td>\n",
       "      <td>...</td>\n",
       "      <td>...</td>\n",
       "      <td>...</td>\n",
       "      <td>...</td>\n",
       "      <td>...</td>\n",
       "      <td>...</td>\n",
       "      <td>...</td>\n",
       "      <td>...</td>\n",
       "      <td>...</td>\n",
       "      <td>...</td>\n",
       "      <td>...</td>\n",
       "      <td>...</td>\n",
       "      <td>...</td>\n",
       "    </tr>\n",
       "    <tr>\n",
       "      <th>2021-01-22</th>\n",
       "      <td>89000</td>\n",
       "      <td>89700</td>\n",
       "      <td>86800</td>\n",
       "      <td>86800</td>\n",
       "      <td>30861661</td>\n",
       "      <td>3806.686082</td>\n",
       "      <td>4316.350049</td>\n",
       "      <td>-509.663966</td>\n",
       "      <td>1105.41</td>\n",
       "      <td>3841.469971</td>\n",
       "      <td>...</td>\n",
       "      <td>20865.0</td>\n",
       "      <td>417.350006</td>\n",
       "      <td>240.929993</td>\n",
       "      <td>611.849976</td>\n",
       "      <td>13.09000</td>\n",
       "      <td>0.434</td>\n",
       "      <td>1.091</td>\n",
       "      <td>1.857</td>\n",
       "      <td>29447.849609</td>\n",
       "      <td>86700.0</td>\n",
       "    </tr>\n",
       "    <tr>\n",
       "      <th>2021-01-25</th>\n",
       "      <td>87000</td>\n",
       "      <td>89900</td>\n",
       "      <td>86300</td>\n",
       "      <td>89400</td>\n",
       "      <td>27258534</td>\n",
       "      <td>3761.486755</td>\n",
       "      <td>4205.377390</td>\n",
       "      <td>-443.890635</td>\n",
       "      <td>1102.58</td>\n",
       "      <td>3855.360107</td>\n",
       "      <td>...</td>\n",
       "      <td>21300.0</td>\n",
       "      <td>417.950012</td>\n",
       "      <td>241.880005</td>\n",
       "      <td>614.479980</td>\n",
       "      <td>13.04000</td>\n",
       "      <td>0.410</td>\n",
       "      <td>1.040</td>\n",
       "      <td>1.798</td>\n",
       "      <td>30159.009766</td>\n",
       "      <td>85600.0</td>\n",
       "    </tr>\n",
       "    <tr>\n",
       "      <th>2021-01-26</th>\n",
       "      <td>88800</td>\n",
       "      <td>89200</td>\n",
       "      <td>86500</td>\n",
       "      <td>86700</td>\n",
       "      <td>33178936</td>\n",
       "      <td>3467.823614</td>\n",
       "      <td>4057.866635</td>\n",
       "      <td>-590.043020</td>\n",
       "      <td>1101.02</td>\n",
       "      <td>3849.620117</td>\n",
       "      <td>...</td>\n",
       "      <td>20790.0</td>\n",
       "      <td>411.160004</td>\n",
       "      <td>237.699997</td>\n",
       "      <td>585.830017</td>\n",
       "      <td>13.65000</td>\n",
       "      <td>0.412</td>\n",
       "      <td>1.040</td>\n",
       "      <td>1.802</td>\n",
       "      <td>29391.259766</td>\n",
       "      <td>83700.0</td>\n",
       "    </tr>\n",
       "    <tr>\n",
       "      <th>2021-01-27</th>\n",
       "      <td>86600</td>\n",
       "      <td>87700</td>\n",
       "      <td>85600</td>\n",
       "      <td>85600</td>\n",
       "      <td>26423070</td>\n",
       "      <td>3110.477010</td>\n",
       "      <td>3868.388710</td>\n",
       "      <td>-757.911699</td>\n",
       "      <td>1108.38</td>\n",
       "      <td>3750.770020</td>\n",
       "      <td>...</td>\n",
       "      <td>20635.0</td>\n",
       "      <td>389.820007</td>\n",
       "      <td>226.089996</td>\n",
       "      <td>497.160004</td>\n",
       "      <td>15.75000</td>\n",
       "      <td>0.407</td>\n",
       "      <td>1.014</td>\n",
       "      <td>1.778</td>\n",
       "      <td>29297.529297</td>\n",
       "      <td>82000.0</td>\n",
       "    </tr>\n",
       "    <tr>\n",
       "      <th>2021-01-28</th>\n",
       "      <td>83200</td>\n",
       "      <td>85600</td>\n",
       "      <td>83200</td>\n",
       "      <td>83700</td>\n",
       "      <td>31859808</td>\n",
       "      <td>2643.490617</td>\n",
       "      <td>3623.409091</td>\n",
       "      <td>-979.918474</td>\n",
       "      <td>1112.52</td>\n",
       "      <td>3787.379883</td>\n",
       "      <td>...</td>\n",
       "      <td>20170.0</td>\n",
       "      <td>398.369995</td>\n",
       "      <td>230.820007</td>\n",
       "      <td>527.010010</td>\n",
       "      <td>14.78000</td>\n",
       "      <td>0.430</td>\n",
       "      <td>1.057</td>\n",
       "      <td>1.820</td>\n",
       "      <td>28550.769531</td>\n",
       "      <td>83000.0</td>\n",
       "    </tr>\n",
       "  </tbody>\n",
       "</table>\n",
       "<p>2005 rows × 22 columns</p>\n",
       "</div>"
      ],
      "text/plain": [
       "             Open   High    Low  Close    Volume         macd  macdsignal9  \\\n",
       "날짜                                                                           \n",
       "2012-04-30  27900  28180  27540  27800    315924   514.972445   386.143049   \n",
       "2012-05-02  28200  28360  27980  28200    368585   619.193325   432.753104   \n",
       "2012-05-03  28040  28200  27960  28020    206721   679.432553   482.088994   \n",
       "2012-05-04  27499  27960  26980  27200    410013   653.472602   516.365715   \n",
       "2012-05-07  26840  27060  26500  26840    378463   596.968679   532.486308   \n",
       "...           ...    ...    ...    ...       ...          ...          ...   \n",
       "2021-01-22  89000  89700  86800  86800  30861661  3806.686082  4316.350049   \n",
       "2021-01-25  87000  89900  86300  89400  27258534  3761.486755  4205.377390   \n",
       "2021-01-26  88800  89200  86500  86700  33178936  3467.823614  4057.866635   \n",
       "2021-01-27  86600  87700  85600  85600  26423070  3110.477010  3868.388710   \n",
       "2021-01-28  83200  85600  83200  83700  31859808  2643.490617  3623.409091   \n",
       "\n",
       "              macdhist       US       SNP500  ...  MSCI_KR        SOXX  \\\n",
       "날짜                                            ...                        \n",
       "2012-04-30  128.829397  1130.15  1397.910034  ...  10609.0   56.110001   \n",
       "2012-05-02  186.440222  1130.20  1402.310059  ...  10718.0   56.549999   \n",
       "2012-05-03  197.343559  1131.25  1391.569946  ...  10655.0   55.139999   \n",
       "2012-05-04  137.106887  1135.85  1369.099976  ...  10578.0   54.029999   \n",
       "2012-05-07   64.482371  1138.50  1369.579956  ...  10377.0   53.869999   \n",
       "...                ...      ...          ...  ...      ...         ...   \n",
       "2021-01-22 -509.663966  1105.41  3841.469971  ...  20865.0  417.350006   \n",
       "2021-01-25 -443.890635  1102.58  3855.360107  ...  21300.0  417.950012   \n",
       "2021-01-26 -590.043020  1101.02  3849.620117  ...  20790.0  411.160004   \n",
       "2021-01-27 -757.911699  1108.38  3750.770020  ...  20635.0  389.820007   \n",
       "2021-01-28 -979.918474  1112.52  3787.379883  ...  20170.0  398.369995   \n",
       "\n",
       "                   SMH        SOXL          SOXS  TREASURY_5Y  TREASURY_10Y  \\\n",
       "날짜                                                                            \n",
       "2012-04-30   30.272848    8.517699  326388.56250        0.811         1.915   \n",
       "2012-05-02   30.570417    8.738206  318693.37500        0.819         1.922   \n",
       "2012-05-03   29.879015    8.111872  341591.28125        0.817         1.924   \n",
       "2012-05-04   29.196362    7.588751  363269.15625        0.784         1.880   \n",
       "2012-05-07   29.143854    7.541834  364582.96875        0.782         1.877   \n",
       "...                ...         ...           ...          ...           ...   \n",
       "2021-01-22  240.929993  611.849976      13.09000        0.434         1.091   \n",
       "2021-01-25  241.880005  614.479980      13.04000        0.410         1.040   \n",
       "2021-01-26  237.699997  585.830017      13.65000        0.412         1.040   \n",
       "2021-01-27  226.089996  497.160004      15.75000        0.407         1.014   \n",
       "2021-01-28  230.820007  527.010010      14.78000        0.430         1.057   \n",
       "\n",
       "            TREASURY_30Y     hang_seng  Labeling  \n",
       "날짜                                                \n",
       "2012-04-30         3.109  21094.210938   28020.0  \n",
       "2012-05-02         3.114  21309.080078   27200.0  \n",
       "2012-05-03         3.112  21249.529297   26840.0  \n",
       "2012-05-04         3.071  21086.000000   26820.0  \n",
       "2012-05-07         3.067  20536.650391   26620.0  \n",
       "...                  ...           ...       ...  \n",
       "2021-01-22         1.857  29447.849609   86700.0  \n",
       "2021-01-25         1.798  30159.009766   85600.0  \n",
       "2021-01-26         1.802  29391.259766   83700.0  \n",
       "2021-01-27         1.778  29297.529297   82000.0  \n",
       "2021-01-28         1.820  28550.769531   83000.0  \n",
       "\n",
       "[2005 rows x 22 columns]"
      ]
     },
     "execution_count": 9,
     "metadata": {},
     "output_type": "execute_result"
    }
   ],
   "source": [
    "# samsung 모델\n",
    "model_samsung['Labeling'] = model_samsung['Close'].shift(-2)\n",
    "model_samsung = model_samsung.dropna() # 결측치가 있는 행 제거\n",
    "model_samsung"
   ]
  },
  {
   "cell_type": "code",
   "execution_count": 10,
   "metadata": {},
   "outputs": [],
   "source": [
    "from sklearn.preprocessing import StandardScaler, MinMaxScaler\n",
    "\n",
    "from sklearn import preprocessing\n",
    "from sklearn.model_selection import TimeSeriesSplit\n",
    "from sklearn.model_selection import GridSearchCV"
   ]
  },
  {
   "cell_type": "code",
   "execution_count": 11,
   "metadata": {},
   "outputs": [],
   "source": [
    "\n",
    "#4 test, train 나누기\n",
    "df_scaled = model_samsung.copy()\n",
    "df_scaled.drop(['Open','High','Low','Volume','macdsignal9', 'macdhist', 'RUSSELL2000', 'NASDAQ', 'MSCI_KR', 'SMH','TREASURY_10Y','TREASURY_30Y'],axis=1,inplace=True)\n",
    "\n"
   ]
  },
  {
   "cell_type": "code",
   "execution_count": 12,
   "metadata": {},
   "outputs": [],
   "source": [
    "#df_scaled.drop(['SOXL','hang_seng','Labeling','SNP500','SOXX','US','TREASURY_5Y','macd'],axis=1,inplace=True)\n",
    "#df_scaled.drop(['SOXL','hang_seng','SNP500','SOXX','US','macd'],axis=1,inplace=True)\n",
    "df_scaled.drop(['SOXL','hang_seng','macd','Labeling'],axis=1,inplace=True)"
   ]
  },
  {
   "cell_type": "code",
   "execution_count": 13,
   "metadata": {},
   "outputs": [
    {
     "data": {
      "text/html": [
       "<div>\n",
       "<style scoped>\n",
       "    .dataframe tbody tr th:only-of-type {\n",
       "        vertical-align: middle;\n",
       "    }\n",
       "\n",
       "    .dataframe tbody tr th {\n",
       "        vertical-align: top;\n",
       "    }\n",
       "\n",
       "    .dataframe thead th {\n",
       "        text-align: right;\n",
       "    }\n",
       "</style>\n",
       "<table border=\"1\" class=\"dataframe\">\n",
       "  <thead>\n",
       "    <tr style=\"text-align: right;\">\n",
       "      <th></th>\n",
       "      <th>Close</th>\n",
       "      <th>US</th>\n",
       "      <th>SNP500</th>\n",
       "      <th>SOXX</th>\n",
       "      <th>SOXS</th>\n",
       "      <th>TREASURY_5Y</th>\n",
       "    </tr>\n",
       "    <tr>\n",
       "      <th>날짜</th>\n",
       "      <th></th>\n",
       "      <th></th>\n",
       "      <th></th>\n",
       "      <th></th>\n",
       "      <th></th>\n",
       "      <th></th>\n",
       "    </tr>\n",
       "  </thead>\n",
       "  <tbody>\n",
       "    <tr>\n",
       "      <th>2012-04-30</th>\n",
       "      <td>27800</td>\n",
       "      <td>1130.15</td>\n",
       "      <td>1397.910034</td>\n",
       "      <td>56.110001</td>\n",
       "      <td>326388.56250</td>\n",
       "      <td>0.811</td>\n",
       "    </tr>\n",
       "    <tr>\n",
       "      <th>2012-05-02</th>\n",
       "      <td>28200</td>\n",
       "      <td>1130.20</td>\n",
       "      <td>1402.310059</td>\n",
       "      <td>56.549999</td>\n",
       "      <td>318693.37500</td>\n",
       "      <td>0.819</td>\n",
       "    </tr>\n",
       "    <tr>\n",
       "      <th>2012-05-03</th>\n",
       "      <td>28020</td>\n",
       "      <td>1131.25</td>\n",
       "      <td>1391.569946</td>\n",
       "      <td>55.139999</td>\n",
       "      <td>341591.28125</td>\n",
       "      <td>0.817</td>\n",
       "    </tr>\n",
       "    <tr>\n",
       "      <th>2012-05-04</th>\n",
       "      <td>27200</td>\n",
       "      <td>1135.85</td>\n",
       "      <td>1369.099976</td>\n",
       "      <td>54.029999</td>\n",
       "      <td>363269.15625</td>\n",
       "      <td>0.784</td>\n",
       "    </tr>\n",
       "    <tr>\n",
       "      <th>2012-05-07</th>\n",
       "      <td>26840</td>\n",
       "      <td>1138.50</td>\n",
       "      <td>1369.579956</td>\n",
       "      <td>53.869999</td>\n",
       "      <td>364582.96875</td>\n",
       "      <td>0.782</td>\n",
       "    </tr>\n",
       "    <tr>\n",
       "      <th>...</th>\n",
       "      <td>...</td>\n",
       "      <td>...</td>\n",
       "      <td>...</td>\n",
       "      <td>...</td>\n",
       "      <td>...</td>\n",
       "      <td>...</td>\n",
       "    </tr>\n",
       "    <tr>\n",
       "      <th>2021-01-22</th>\n",
       "      <td>86800</td>\n",
       "      <td>1105.41</td>\n",
       "      <td>3841.469971</td>\n",
       "      <td>417.350006</td>\n",
       "      <td>13.09000</td>\n",
       "      <td>0.434</td>\n",
       "    </tr>\n",
       "    <tr>\n",
       "      <th>2021-01-25</th>\n",
       "      <td>89400</td>\n",
       "      <td>1102.58</td>\n",
       "      <td>3855.360107</td>\n",
       "      <td>417.950012</td>\n",
       "      <td>13.04000</td>\n",
       "      <td>0.410</td>\n",
       "    </tr>\n",
       "    <tr>\n",
       "      <th>2021-01-26</th>\n",
       "      <td>86700</td>\n",
       "      <td>1101.02</td>\n",
       "      <td>3849.620117</td>\n",
       "      <td>411.160004</td>\n",
       "      <td>13.65000</td>\n",
       "      <td>0.412</td>\n",
       "    </tr>\n",
       "    <tr>\n",
       "      <th>2021-01-27</th>\n",
       "      <td>85600</td>\n",
       "      <td>1108.38</td>\n",
       "      <td>3750.770020</td>\n",
       "      <td>389.820007</td>\n",
       "      <td>15.75000</td>\n",
       "      <td>0.407</td>\n",
       "    </tr>\n",
       "    <tr>\n",
       "      <th>2021-01-28</th>\n",
       "      <td>83700</td>\n",
       "      <td>1112.52</td>\n",
       "      <td>3787.379883</td>\n",
       "      <td>398.369995</td>\n",
       "      <td>14.78000</td>\n",
       "      <td>0.430</td>\n",
       "    </tr>\n",
       "  </tbody>\n",
       "</table>\n",
       "<p>2005 rows × 6 columns</p>\n",
       "</div>"
      ],
      "text/plain": [
       "            Close       US       SNP500        SOXX          SOXS  TREASURY_5Y\n",
       "날짜                                                                            \n",
       "2012-04-30  27800  1130.15  1397.910034   56.110001  326388.56250        0.811\n",
       "2012-05-02  28200  1130.20  1402.310059   56.549999  318693.37500        0.819\n",
       "2012-05-03  28020  1131.25  1391.569946   55.139999  341591.28125        0.817\n",
       "2012-05-04  27200  1135.85  1369.099976   54.029999  363269.15625        0.784\n",
       "2012-05-07  26840  1138.50  1369.579956   53.869999  364582.96875        0.782\n",
       "...           ...      ...          ...         ...           ...          ...\n",
       "2021-01-22  86800  1105.41  3841.469971  417.350006      13.09000        0.434\n",
       "2021-01-25  89400  1102.58  3855.360107  417.950012      13.04000        0.410\n",
       "2021-01-26  86700  1101.02  3849.620117  411.160004      13.65000        0.412\n",
       "2021-01-27  85600  1108.38  3750.770020  389.820007      15.75000        0.407\n",
       "2021-01-28  83700  1112.52  3787.379883  398.369995      14.78000        0.430\n",
       "\n",
       "[2005 rows x 6 columns]"
      ]
     },
     "execution_count": 13,
     "metadata": {},
     "output_type": "execute_result"
    }
   ],
   "source": [
    "df_scaled"
   ]
  },
  {
   "cell_type": "code",
   "execution_count": 14,
   "metadata": {},
   "outputs": [
    {
     "name": "stdout",
     "output_type": "stream",
     "text": [
      "               Close        US    SNP500      SOXX      SOXS  TREASURY_5Y\n",
      "2012-04-30  0.092736  0.457669  0.046510  0.022031  0.650571     0.212781\n",
      "2012-05-02  0.098478  0.457859  0.048217  0.023199  0.635232     0.215544\n",
      "2012-05-03  0.095894  0.461845  0.044050  0.019456  0.680875     0.214853\n",
      "2012-05-04  0.084123  0.479309  0.035331  0.016510  0.724086     0.203454\n",
      "2012-05-07  0.078955  0.489370  0.035517  0.016085  0.726705     0.202763\n"
     ]
    }
   ],
   "source": [
    "from sklearn.preprocessing import MinMaxScaler\n",
    "min_max_scaler = MinMaxScaler()\n",
    "fitted = min_max_scaler.fit(df_scaled)\n",
    "output = min_max_scaler.transform(df_scaled)\n",
    "output = pd.DataFrame(output, columns=df_scaled.columns, index=list(df_scaled.index.values))\n",
    "print(output.head())"
   ]
  },
  {
   "cell_type": "code",
   "execution_count": 15,
   "metadata": {},
   "outputs": [
    {
     "name": "stdout",
     "output_type": "stream",
     "text": [
      "Requirement already satisfied: statsmodels in c:\\users\\user\\anaconda3\\envs\\py38_64\\lib\\site-packages (0.12.1)\n",
      "Requirement already satisfied: patsy>=0.5 in c:\\users\\user\\anaconda3\\envs\\py38_64\\lib\\site-packages (from statsmodels) (0.5.1)\n",
      "Requirement already satisfied: numpy>=1.15 in c:\\users\\user\\anaconda3\\envs\\py38_64\\lib\\site-packages (from statsmodels) (1.19.5)\n",
      "Requirement already satisfied: pandas>=0.21 in c:\\users\\user\\anaconda3\\envs\\py38_64\\lib\\site-packages (from statsmodels) (1.2.0)\n",
      "Requirement already satisfied: scipy>=1.1 in c:\\users\\user\\anaconda3\\envs\\py38_64\\lib\\site-packages (from statsmodels) (1.6.0)\n",
      "Requirement already satisfied: python-dateutil>=2.7.3 in c:\\users\\user\\anaconda3\\envs\\py38_64\\lib\\site-packages (from pandas>=0.21->statsmodels) (2.8.1)\n",
      "Requirement already satisfied: pytz>=2017.3 in c:\\users\\user\\anaconda3\\envs\\py38_64\\lib\\site-packages (from pandas>=0.21->statsmodels) (2020.5)\n",
      "Requirement already satisfied: six in c:\\users\\user\\anaconda3\\envs\\py38_64\\lib\\site-packages (from patsy>=0.5->statsmodels) (1.15.0)\n"
     ]
    },
    {
     "name": "stderr",
     "output_type": "stream",
     "text": [
      "WARNING: You are using pip version 20.3.3; however, version 21.0.1 is available.\n",
      "You should consider upgrading via the 'C:\\Users\\user\\anaconda3\\envs\\py38_64\\python.exe -m pip install --upgrade pip' command.\n"
     ]
    }
   ],
   "source": [
    "!pip3 install statsmodels"
   ]
  },
  {
   "cell_type": "code",
   "execution_count": 16,
   "metadata": {},
   "outputs": [],
   "source": [
    "import pandas as pd\n",
    "from statsmodels.formula.api import ols\n",
    "\n",
    "res = ols('TREASURY_5Y ~ US', data=output).fit()"
   ]
  },
  {
   "cell_type": "code",
   "execution_count": 17,
   "metadata": {},
   "outputs": [],
   "source": [
    "##모형의 선형성\n",
    "## 예측값(fitted)와 잔차(residual)의 비교\n",
    "## 모든 예측값에서 잔차가 비슷하게 있어야함(가운데 점선)\n",
    "## 빨간 실선은 잔차의 추세를 나타냄\n",
    "## 빨간 실선이 점선에서 크게 벗어난다면 예측값에 따라 잔차가 크게 달라진다는 것..\n",
    "import matplotlib.pyplot as plt\n",
    "import seaborn as sns"
   ]
  },
  {
   "cell_type": "code",
   "execution_count": 18,
   "metadata": {},
   "outputs": [],
   "source": [
    "fitted = res.predict(output)\n",
    "residual = output['Close'] - fitted"
   ]
  },
  {
   "cell_type": "code",
   "execution_count": 19,
   "metadata": {},
   "outputs": [
    {
     "name": "stderr",
     "output_type": "stream",
     "text": [
      "C:\\Users\\user\\anaconda3\\envs\\py38_64\\lib\\site-packages\\seaborn\\_decorators.py:36: FutureWarning: Pass the following variables as keyword args: x, y. From version 0.12, the only valid positional argument will be `data`, and passing other arguments without an explicit keyword will result in an error or misinterpretation.\n",
      "  warnings.warn(\n"
     ]
    },
    {
     "data": {
      "text/plain": [
       "[<matplotlib.lines.Line2D at 0x1d128653eb0>]"
      ]
     },
     "execution_count": 19,
     "metadata": {},
     "output_type": "execute_result"
    },
    {
     "data": {
      "image/png": "[encoded data removed]",
      "text/plain": [
       "<Figure size 432x288 with 1 Axes>"
      ]
     },
     "metadata": {
      "needs_background": "light"
     },
     "output_type": "display_data"
    }
   ],
   "source": [
    "sns.regplot(fitted, residual, lowess=True, line_kws={'color': 'red'})\n",
    "plt.plot([fitted.min(), fitted.max()], [0, 0], '--', color='grey')"
   ]
  },
  {
   "cell_type": "code",
   "execution_count": 20,
   "metadata": {},
   "outputs": [],
   "source": [
    "## 잔차의 정규성\n",
    "## 잔차가 정규분포를 따른 다는 가정\n",
    "## Q-Q플롯으로 확인할 수 있음\n",
    "## 잔차가 정규분포를 띄면 Q-Q 플롯에서 점들이 점선을 따라 배치되어야함\n",
    "\n",
    "import scipy.stats"
   ]
  },
  {
   "cell_type": "code",
   "execution_count": 21,
   "metadata": {},
   "outputs": [],
   "source": [
    "sr = scipy.stats.zscore(residual)\n",
    "(x, y), _ = scipy.stats.probplot(sr)"
   ]
  },
  {
   "cell_type": "code",
   "execution_count": 22,
   "metadata": {},
   "outputs": [
    {
     "name": "stderr",
     "output_type": "stream",
     "text": [
      "C:\\Users\\user\\anaconda3\\envs\\py38_64\\lib\\site-packages\\seaborn\\_decorators.py:36: FutureWarning: Pass the following variables as keyword args: x, y. From version 0.12, the only valid positional argument will be `data`, and passing other arguments without an explicit keyword will result in an error or misinterpretation.\n",
      "  warnings.warn(\n"
     ]
    },
    {
     "data": {
      "text/plain": [
       "[<matplotlib.lines.Line2D at 0x1d12875da30>]"
      ]
     },
     "execution_count": 22,
     "metadata": {},
     "output_type": "execute_result"
    },
    {
     "data": {
      "image/png": "[encoded data removed]",
      "text/plain": [
       "<Figure size 432x288 with 1 Axes>"
      ]
     },
     "metadata": {
      "needs_background": "light"
     },
     "output_type": "display_data"
    }
   ],
   "source": [
    "sns.scatterplot(x, y)\n",
    "plt.plot([-3, 3], [-3, 3], '--', color='grey')"
   ]
  },
  {
   "cell_type": "code",
   "execution_count": 23,
   "metadata": {},
   "outputs": [
    {
     "data": {
      "text/plain": [
       "ShapiroResult(statistic=0.9267740845680237, pvalue=3.2130718082551436e-30)"
      ]
     },
     "execution_count": 23,
     "metadata": {},
     "output_type": "execute_result"
    }
   ],
   "source": [
    "scipy.stats.shapiro(residual)"
   ]
  },
  {
   "cell_type": "code",
   "execution_count": 24,
   "metadata": {},
   "outputs": [
    {
     "name": "stderr",
     "output_type": "stream",
     "text": [
      "C:\\Users\\user\\anaconda3\\envs\\py38_64\\lib\\site-packages\\seaborn\\_decorators.py:36: FutureWarning: Pass the following variables as keyword args: x, y. From version 0.12, the only valid positional argument will be `data`, and passing other arguments without an explicit keyword will result in an error or misinterpretation.\n",
      "  warnings.warn(\n"
     ]
    },
    {
     "data": {
      "text/plain": [
       "<matplotlib.axes._subplots.AxesSubplot at 0x1d1227861c0>"
      ]
     },
     "execution_count": 24,
     "metadata": {},
     "output_type": "execute_result"
    },
    {
     "data": {
      "image/png": "[encoded data removed]",
      "text/plain": [
       "<Figure size 432x288 with 1 Axes>"
      ]
     },
     "metadata": {
      "needs_background": "light"
     },
     "output_type": "display_data"
    }
   ],
   "source": [
    "sns.residplot(x,y, color = \"g\")"
   ]
  },
  {
   "cell_type": "code",
   "execution_count": 25,
   "metadata": {},
   "outputs": [],
   "source": [
    "## 잔차의 등분산성\n",
    "## 회귀모형을 통햬 예측된 값이 크던 작던, 모든 값들에 대하여 잔차의 분산이 동일하다는 가정\n",
    "## 아래 그래프는 예측값(가로축)에 따라 잔차가 어떻게 달라지는지 보여줌\n",
    "## 빨간색 실선이 수평선을 그리는 것이 이상적"
   ]
  },
  {
   "cell_type": "code",
   "execution_count": 26,
   "metadata": {},
   "outputs": [],
   "source": [
    "import numpy as np"
   ]
  },
  {
   "cell_type": "code",
   "execution_count": 27,
   "metadata": {},
   "outputs": [
    {
     "data": {
      "text/plain": [
       "<matplotlib.axes._subplots.AxesSubplot at 0x1d1287f1be0>"
      ]
     },
     "execution_count": 27,
     "metadata": {},
     "output_type": "execute_result"
    },
    {
     "data": {
      "image/png": "[encoded data removed]",
      "text/plain": [
       "<Figure size 432x288 with 1 Axes>"
      ]
     },
     "metadata": {
      "needs_background": "light"
     },
     "output_type": "display_data"
    }
   ],
   "source": [
    "sns.regplot(fitted, np.sqrt(np.abs(sr)), lowess=True, line_kws={'color': 'red'})"
   ]
  },
  {
   "cell_type": "code",
   "execution_count": 28,
   "metadata": {},
   "outputs": [],
   "source": [
    "## 극단값\n",
    "## Cook's distance는 극단값을 나타내는 지표"
   ]
  },
  {
   "cell_type": "code",
   "execution_count": 29,
   "metadata": {},
   "outputs": [],
   "source": [
    "from statsmodels.stats.outliers_influence import OLSInfluence"
   ]
  },
  {
   "cell_type": "code",
   "execution_count": 30,
   "metadata": {},
   "outputs": [],
   "source": [
    "cd, _ = OLSInfluence(res).cooks_distance"
   ]
  },
  {
   "cell_type": "code",
   "execution_count": 31,
   "metadata": {},
   "outputs": [
    {
     "data": {
      "text/plain": [
       "2020-05-15    0.002318\n",
       "2020-05-29    0.002310\n",
       "2020-05-22    0.002306\n",
       "2020-05-14    0.002253\n",
       "2020-03-23    0.002244\n",
       "dtype: float64"
      ]
     },
     "execution_count": 31,
     "metadata": {},
     "output_type": "execute_result"
    }
   ],
   "source": [
    "cd.sort_values(ascending=False).head()"
   ]
  },
  {
   "cell_type": "code",
   "execution_count": 32,
   "metadata": {},
   "outputs": [],
   "source": [
    "Y = output['Close']\n",
    "X = output.drop(['Close'], axis=1).shift(-2).fillna(output.mean())\n"
   ]
  },
  {
   "cell_type": "code",
   "execution_count": 33,
   "metadata": {},
   "outputs": [],
   "source": [
    "from sklearn.model_selection import train_test_split"
   ]
  },
  {
   "cell_type": "code",
   "execution_count": 34,
   "metadata": {},
   "outputs": [],
   "source": [
    "seed = 0\n",
    "np.random.seed(seed)\n",
    "\n",
    "X_train, X_test, y_train, y_test = train_test_split(X, Y, test_size=0.25, random_state=seed)"
   ]
  },
  {
   "cell_type": "code",
   "execution_count": 35,
   "metadata": {},
   "outputs": [
    {
     "data": {
      "text/html": [
       "<div>\n",
       "<style scoped>\n",
       "    .dataframe tbody tr th:only-of-type {\n",
       "        vertical-align: middle;\n",
       "    }\n",
       "\n",
       "    .dataframe tbody tr th {\n",
       "        vertical-align: top;\n",
       "    }\n",
       "\n",
       "    .dataframe thead th {\n",
       "        text-align: right;\n",
       "    }\n",
       "</style>\n",
       "<table border=\"1\" class=\"dataframe\">\n",
       "  <thead>\n",
       "    <tr style=\"text-align: right;\">\n",
       "      <th></th>\n",
       "      <th>US</th>\n",
       "      <th>SNP500</th>\n",
       "      <th>SOXX</th>\n",
       "      <th>SOXS</th>\n",
       "      <th>TREASURY_5Y</th>\n",
       "    </tr>\n",
       "  </thead>\n",
       "  <tbody>\n",
       "    <tr>\n",
       "      <th>2017-08-31</th>\n",
       "      <td>0.466667</td>\n",
       "      <td>0.457766</td>\n",
       "      <td>0.270797</td>\n",
       "      <td>0.005956</td>\n",
       "      <td>0.501209</td>\n",
       "    </tr>\n",
       "    <tr>\n",
       "      <th>2017-06-22</th>\n",
       "      <td>0.470463</td>\n",
       "      <td>0.450480</td>\n",
       "      <td>0.261613</td>\n",
       "      <td>0.006726</td>\n",
       "      <td>0.539896</td>\n",
       "    </tr>\n",
       "    <tr>\n",
       "      <th>2019-05-16</th>\n",
       "      <td>0.702847</td>\n",
       "      <td>0.606130</td>\n",
       "      <td>0.359373</td>\n",
       "      <td>0.001618</td>\n",
       "      <td>0.694301</td>\n",
       "    </tr>\n",
       "    <tr>\n",
       "      <th>2017-02-09</th>\n",
       "      <td>0.531929</td>\n",
       "      <td>0.407481</td>\n",
       "      <td>0.220099</td>\n",
       "      <td>0.010217</td>\n",
       "      <td>0.592746</td>\n",
       "    </tr>\n",
       "    <tr>\n",
       "      <th>2020-11-06</th>\n",
       "      <td>0.408011</td>\n",
       "      <td>0.879786</td>\n",
       "      <td>0.746695</td>\n",
       "      <td>0.000033</td>\n",
       "      <td>0.091537</td>\n",
       "    </tr>\n",
       "    <tr>\n",
       "      <th>...</th>\n",
       "      <td>...</td>\n",
       "      <td>...</td>\n",
       "      <td>...</td>\n",
       "      <td>...</td>\n",
       "      <td>...</td>\n",
       "    </tr>\n",
       "    <tr>\n",
       "      <th>2015-12-15</th>\n",
       "      <td>0.666059</td>\n",
       "      <td>0.296374</td>\n",
       "      <td>0.111430</td>\n",
       "      <td>0.047676</td>\n",
       "      <td>0.527116</td>\n",
       "    </tr>\n",
       "    <tr>\n",
       "      <th>2017-08-16</th>\n",
       "      <td>0.494229</td>\n",
       "      <td>0.445234</td>\n",
       "      <td>0.258905</td>\n",
       "      <td>0.006564</td>\n",
       "      <td>0.541278</td>\n",
       "    </tr>\n",
       "    <tr>\n",
       "      <th>2019-07-24</th>\n",
       "      <td>0.663022</td>\n",
       "      <td>0.678154</td>\n",
       "      <td>0.448214</td>\n",
       "      <td>0.000891</td>\n",
       "      <td>0.575820</td>\n",
       "    </tr>\n",
       "    <tr>\n",
       "      <th>2014-10-14</th>\n",
       "      <td>0.195406</td>\n",
       "      <td>0.226871</td>\n",
       "      <td>0.079073</td>\n",
       "      <td>0.116841</td>\n",
       "      <td>0.406563</td>\n",
       "    </tr>\n",
       "    <tr>\n",
       "      <th>2015-04-28</th>\n",
       "      <td>0.257175</td>\n",
       "      <td>0.313298</td>\n",
       "      <td>0.119446</td>\n",
       "      <td>0.056888</td>\n",
       "      <td>0.430743</td>\n",
       "    </tr>\n",
       "  </tbody>\n",
       "</table>\n",
       "<p>1503 rows × 5 columns</p>\n",
       "</div>"
      ],
      "text/plain": [
       "                  US    SNP500      SOXX      SOXS  TREASURY_5Y\n",
       "2017-08-31  0.466667  0.457766  0.270797  0.005956     0.501209\n",
       "2017-06-22  0.470463  0.450480  0.261613  0.006726     0.539896\n",
       "2019-05-16  0.702847  0.606130  0.359373  0.001618     0.694301\n",
       "2017-02-09  0.531929  0.407481  0.220099  0.010217     0.592746\n",
       "2020-11-06  0.408011  0.879786  0.746695  0.000033     0.091537\n",
       "...              ...       ...       ...       ...          ...\n",
       "2015-12-15  0.666059  0.296374  0.111430  0.047676     0.527116\n",
       "2017-08-16  0.494229  0.445234  0.258905  0.006564     0.541278\n",
       "2019-07-24  0.663022  0.678154  0.448214  0.000891     0.575820\n",
       "2014-10-14  0.195406  0.226871  0.079073  0.116841     0.406563\n",
       "2015-04-28  0.257175  0.313298  0.119446  0.056888     0.430743\n",
       "\n",
       "[1503 rows x 5 columns]"
      ]
     },
     "execution_count": 35,
     "metadata": {},
     "output_type": "execute_result"
    }
   ],
   "source": [
    "X_train"
   ]
  },
  {
   "cell_type": "code",
   "execution_count": 36,
   "metadata": {},
   "outputs": [],
   "source": [
    "def rmsle(y, pred):\n",
    "    log_y = np.log1p(y)\n",
    "    log_pred = np.log1p(pred)\n",
    "    squared_error = (log_y - log_pred) ** 2\n",
    "    rmsle = np.sqrt(np.mean(squared_error))\n",
    "    print('RMSLE: {0:.4f}'.format(rmsle))\n",
    "    return rmsle"
   ]
  },
  {
   "cell_type": "code",
   "execution_count": 37,
   "metadata": {},
   "outputs": [],
   "source": [
    "def get_model_predict(model, X_train, X_test, y_train, y_test, is_expm1=False):\n",
    "    model.fit(X_train, y_train)\n",
    "    pred = model.predict(X_test)\n",
    "    \n",
    "    #if is_expm1 :\n",
    "        # 테스트 데이터 셋의 Target 값은 Log 변환되었으므로 다시 expm1를 이용하여 원래 scale로 변환\n",
    "    #    y_test = np.expm1(y_test)\n",
    "        # 예측 값 역시 Log 변환된 타겟 기반으로 학습되어 예측되었으므로 다시 exmpl으로 scale변환\n",
    "    #   pred = np.expm1(pred)\n",
    "    \n",
    "    model_name = model.__class__.__name__\n",
    "    print('###',model_name,'###')\n",
    "    #print('###',model.__class__.__name__,'###')\n",
    "    rmsle(y_test, pred)\n",
    "    print('\\n{0} 학습데이터셋 정확도: {1:.4f}'.format(model_name, model.score(X_train, y_train)))\n",
    "    #accuracy = accuracy_score(y_test, pred)    \n",
    "    #print('{0} 테스트셋 정확도: {1:.4f}'.format(model_name, accuracy))   "
   ]
  },
  {
   "cell_type": "code",
   "execution_count": 38,
   "metadata": {},
   "outputs": [],
   "source": [
    "from sklearn.linear_model import LinearRegression, Ridge, Lasso\n",
    "from sklearn.ensemble import RandomForestRegressor, GradientBoostingRegressor\n",
    "from xgboost import XGBRegressor\n",
    "from lightgbm import LGBMRegressor"
   ]
  },
  {
   "cell_type": "code",
   "execution_count": 39,
   "metadata": {},
   "outputs": [
    {
     "name": "stdout",
     "output_type": "stream",
     "text": [
      "### LinearRegression ###\n",
      "RMSLE: 0.0436\n",
      "\n",
      "LinearRegression 학습데이터셋 정확도: 0.8948\n",
      "### RandomForestRegressor ###\n",
      "RMSLE: 0.0139\n",
      "\n",
      "RandomForestRegressor 학습데이터셋 정확도: 0.9984\n",
      "### GradientBoostingRegressor ###\n",
      "RMSLE: 0.0148\n",
      "\n",
      "GradientBoostingRegressor 학습데이터셋 정확도: 0.9977\n",
      "### XGBRegressor ###\n",
      "RMSLE: 0.0144\n",
      "\n",
      "XGBRegressor 학습데이터셋 정확도: 0.9999\n",
      "### LGBMRegressor ###\n",
      "RMSLE: 0.0138\n",
      "\n",
      "LGBMRegressor 학습데이터셋 정확도: 0.9992\n"
     ]
    }
   ],
   "source": [
    "# LinearRegression, 랜덤 포레스트, GBM, XGBoost, LightGBM model 별로 평가 수행\n",
    "lr_model = LinearRegression()\n",
    "rf_model = RandomForestRegressor(n_estimators=500)\n",
    "gbm_model = GradientBoostingRegressor(n_estimators=500)\n",
    "xgb_model = XGBRegressor(n_estimators=500)\n",
    "lgbm_model = LGBMRegressor(n_estimators=500)\n",
    "\n",
    "model_list = [lr_model, rf_model, gbm_model, xgb_model, lgbm_model]\n",
    "for model in model_list:\n",
    "    get_model_predict(model, X_train, X_test, y_train, y_test, is_expm1=True)"
   ]
  },
  {
   "cell_type": "code",
   "execution_count": 43,
   "metadata": {},
   "outputs": [
    {
     "data": {
      "text/plain": [
       "RandomForestRegressor(n_estimators=500)"
      ]
     },
     "execution_count": 43,
     "metadata": {},
     "output_type": "execute_result"
    }
   ],
   "source": [
    "model = RandomForestRegressor(n_estimators=500)\n",
    "model.fit(X_train, y_train)"
   ]
  },
  {
   "cell_type": "code",
   "execution_count": 44,
   "metadata": {},
   "outputs": [],
   "source": [
    "# Make a prediction\n",
    "predict_prices = model.predict(X_test)"
   ]
  },
  {
   "cell_type": "code",
   "execution_count": 48,
   "metadata": {},
   "outputs": [
    {
     "data": {
      "text/plain": [
       "LinearRegression()"
      ]
     },
     "execution_count": 48,
     "metadata": {},
     "output_type": "execute_result"
    }
   ],
   "source": [
    "lr_model = LinearRegression()\n",
    "lr_model.fit(X_train, y_train)"
   ]
  },
  {
   "cell_type": "code",
   "execution_count": 49,
   "metadata": {},
   "outputs": [
    {
     "data": {
      "image/png": "[encoded data removed]",
      "text/plain": [
       "<Figure size 432x288 with 1 Axes>"
      ]
     },
     "metadata": {
      "needs_background": "light"
     },
     "output_type": "display_data"
    }
   ],
   "source": [
    "import seaborn as sns\n",
    "def plotFeatureList(model, X):\n",
    "    coef = pd.Series(model.coef_, index=X.columns)\n",
    "    coef_sort = coef.sort_values(ascending=False)\n",
    "    sns.barplot(x=coef_sort.values, y=coef_sort.index)\n",
    "\n",
    "plotFeatureList(lr_model, X_train)"
   ]
  },
  {
   "cell_type": "code",
   "execution_count": 50,
   "metadata": {},
   "outputs": [],
   "source": [
    "df_y_test = pd.DataFrame(y_test, columns=['Close'])"
   ]
  },
  {
   "cell_type": "code",
   "execution_count": 51,
   "metadata": {},
   "outputs": [],
   "source": [
    "#pd.concat((df_y_test, pd.DataFrame(predict_prices)), axis=1)\n",
    "df_y_test['predict_prices'] = '0'"
   ]
  },
  {
   "cell_type": "code",
   "execution_count": 52,
   "metadata": {},
   "outputs": [
    {
     "name": "stderr",
     "output_type": "stream",
     "text": [
      "<ipython-input-52-eb7c0015ac3c>:2: SettingWithCopyWarning: \n",
      "A value is trying to be set on a copy of a slice from a DataFrame\n",
      "\n",
      "See the caveats in the documentation: https://pandas.pydata.org/pandas-docs/stable/user_guide/indexing.html#returning-a-view-versus-a-copy\n",
      "  df_y_test['predict_prices'][i] = predict_prices[i]\n"
     ]
    }
   ],
   "source": [
    "for i in range(0,len(predict_prices)):\n",
    "    df_y_test['predict_prices'][i] = predict_prices[i]"
   ]
  },
  {
   "cell_type": "code",
   "execution_count": 53,
   "metadata": {},
   "outputs": [],
   "source": [
    "df_y_test = df_y_test.sort_index()"
   ]
  },
  {
   "cell_type": "code",
   "execution_count": 54,
   "metadata": {},
   "outputs": [],
   "source": [
    "df_y_test =df_y_test.apply(pd.to_numeric)"
   ]
  },
  {
   "cell_type": "code",
   "execution_count": 55,
   "metadata": {},
   "outputs": [
    {
     "data": {
      "text/html": [
       "<div>\n",
       "<style scoped>\n",
       "    .dataframe tbody tr th:only-of-type {\n",
       "        vertical-align: middle;\n",
       "    }\n",
       "\n",
       "    .dataframe tbody tr th {\n",
       "        vertical-align: top;\n",
       "    }\n",
       "\n",
       "    .dataframe thead th {\n",
       "        text-align: right;\n",
       "    }\n",
       "</style>\n",
       "<table border=\"1\" class=\"dataframe\">\n",
       "  <thead>\n",
       "    <tr style=\"text-align: right;\">\n",
       "      <th></th>\n",
       "      <th>Close</th>\n",
       "      <th>predict_prices</th>\n",
       "    </tr>\n",
       "  </thead>\n",
       "  <tbody>\n",
       "    <tr>\n",
       "      <th>2012-05-02</th>\n",
       "      <td>0.098478</td>\n",
       "      <td>0.082632</td>\n",
       "    </tr>\n",
       "    <tr>\n",
       "      <th>2012-05-07</th>\n",
       "      <td>0.078955</td>\n",
       "      <td>0.072987</td>\n",
       "    </tr>\n",
       "    <tr>\n",
       "      <th>2012-05-08</th>\n",
       "      <td>0.078668</td>\n",
       "      <td>0.075860</td>\n",
       "    </tr>\n",
       "    <tr>\n",
       "      <th>2012-05-09</th>\n",
       "      <td>0.075797</td>\n",
       "      <td>0.069117</td>\n",
       "    </tr>\n",
       "    <tr>\n",
       "      <th>2012-05-14</th>\n",
       "      <td>0.070916</td>\n",
       "      <td>0.051705</td>\n",
       "    </tr>\n",
       "    <tr>\n",
       "      <th>...</th>\n",
       "      <td>...</td>\n",
       "      <td>...</td>\n",
       "    </tr>\n",
       "    <tr>\n",
       "      <th>2020-12-01</th>\n",
       "      <td>0.666954</td>\n",
       "      <td>0.703098</td>\n",
       "    </tr>\n",
       "    <tr>\n",
       "      <th>2020-12-15</th>\n",
       "      <td>0.753086</td>\n",
       "      <td>0.766279</td>\n",
       "    </tr>\n",
       "    <tr>\n",
       "      <th>2020-12-30</th>\n",
       "      <td>0.856446</td>\n",
       "      <td>0.821286</td>\n",
       "    </tr>\n",
       "    <tr>\n",
       "      <th>2021-01-07</th>\n",
       "      <td>0.883721</td>\n",
       "      <td>0.975894</td>\n",
       "    </tr>\n",
       "    <tr>\n",
       "      <th>2021-01-12</th>\n",
       "      <td>0.994258</td>\n",
       "      <td>0.971731</td>\n",
       "    </tr>\n",
       "  </tbody>\n",
       "</table>\n",
       "<p>502 rows × 2 columns</p>\n",
       "</div>"
      ],
      "text/plain": [
       "               Close  predict_prices\n",
       "2012-05-02  0.098478        0.082632\n",
       "2012-05-07  0.078955        0.072987\n",
       "2012-05-08  0.078668        0.075860\n",
       "2012-05-09  0.075797        0.069117\n",
       "2012-05-14  0.070916        0.051705\n",
       "...              ...             ...\n",
       "2020-12-01  0.666954        0.703098\n",
       "2020-12-15  0.753086        0.766279\n",
       "2020-12-30  0.856446        0.821286\n",
       "2021-01-07  0.883721        0.975894\n",
       "2021-01-12  0.994258        0.971731\n",
       "\n",
       "[502 rows x 2 columns]"
      ]
     },
     "execution_count": 55,
     "metadata": {},
     "output_type": "execute_result"
    }
   ],
   "source": [
    "df_y_test"
   ]
  },
  {
   "cell_type": "code",
   "execution_count": 56,
   "metadata": {},
   "outputs": [
    {
     "data": {
      "image/png": "[encoded data removed]",
      "text/plain": [
       "<Figure size 432x288 with 1 Axes>"
      ]
     },
     "metadata": {
      "needs_background": "light"
     },
     "output_type": "display_data"
    }
   ],
   "source": [
    "ax = sns.lineplot(data=df_y_test[['Close','predict_prices']])\n",
    "\n",
    "plt.title('Samsung Close precict', fontsize=20)\n",
    "plt.ylabel('Value', fontsize=14)\n",
    "plt.xlabel('Date', fontsize=14)\n",
    "plt.legend(fontsize=12, loc='best')\n",
    "plt.show()"
   ]
  },
  {
   "cell_type": "code",
   "execution_count": null,
   "metadata": {},
   "outputs": [],
   "source": []
  }
 ],
 "metadata": {
  "kernelspec": {
   "display_name": "[Tensorflow2.3]",
   "language": "python",
   "name": "py38_64"
  },
  "language_info": {
   "codemirror_mode": {
    "name": "ipython",
    "version": 3
   },
   "file_extension": ".py",
   "mimetype": "text/x-python",
   "name": "python",
   "nbconvert_exporter": "python",
   "pygments_lexer": "ipython3",
   "version": "3.8.5"
  }
 },
 "nbformat": 4,
 "nbformat_minor": 4
}
