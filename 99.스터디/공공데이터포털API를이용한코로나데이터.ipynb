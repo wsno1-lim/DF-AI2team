{
  "nbformat": 4,
  "nbformat_minor": 0,
  "metadata": {
    "colab": {
      "name": "Untitled11.ipynb",
      "provenance": []
    },
    "kernelspec": {
      "name": "python3",
      "display_name": "Python 3"
    }
  },
  "cells": [
    {
      "cell_type": "code",
      "metadata": {
        "colab": {
          "base_uri": "https://localhost:8080/"
        },
        "id": "Mg48Dp0A1vAx",
        "outputId": "a4ccaafd-7515-460d-aaa6-75f3226c51c8"
      },
      "source": [
        "pip install xmltodict"
      ],
      "execution_count": 3,
      "outputs": [
        {
          "output_type": "stream",
          "text": [
            "Collecting xmltodict\n",
            "  Downloading https://files.pythonhosted.org/packages/28/fd/30d5c1d3ac29ce229f6bdc40bbc20b28f716e8b363140c26eff19122d8a5/xmltodict-0.12.0-py2.py3-none-any.whl\n",
            "Installing collected packages: xmltodict\n",
            "Successfully installed xmltodict-0.12.0\n"
          ],
          "name": "stdout"
        }
      ]
    },
    {
      "cell_type": "code",
      "metadata": {
        "id": "9TiSVRRK2gsu"
      },
      "source": [
        "import requests \r\n",
        "import xmltodict \r\n",
        "import json \r\n",
        "import datetime\r\n",
        "from urllib import parse\r\n",
        "import pandas as pd\r\n"
      ],
      "execution_count": 4,
      "outputs": []
    },
    {
      "cell_type": "code",
      "metadata": {
        "id": "CRcWVd4r1-8M"
      },
      "source": [
        "def getCovidKR(end_day, start_day): \r\n",
        "  url='http://openapi.data.go.kr/openapi/service/rest/Covid19/getCovid19InfStateJson' #ServiceKey는 url decode 한 값임. \r\n",
        "  serviceKey='wMFqCOL2ZotVqyvmw311lh7pNf%2BKvsIH%2FqiMtduIe%2FYd%2B%2B537ffxw%2Brmt5tfsFMY3Xg%2BGWEWmmAm97QnJM6RMw%3D%3D'\r\n",
        "  serviceKey_decode=parse.unquote(serviceKey)\r\n",
        "\r\n",
        "  payload = {'ServiceKey':serviceKey_decode, 'startCreateDt':start_day, 'endCreateDt':end_day } \r\n",
        "  \r\n",
        "  res = requests.get(url, params=payload) \r\n",
        "  if (res.status_code == 200): # Ordered dictionary type\r\n",
        "    result = xmltodict.parse(res.text) #dictionlay type \r\n",
        "    dd = json.loads(json.dumps(result)) \r\n",
        "    #print(dd)\r\n",
        "    data = pd.json_normalize(dd['response']['body']['items']['item']) ## json_normalize를 이용해서 계층 구조를 없애고 dataframe으로 불러옴 \r\n",
        "    #print(data)\r\n",
        "    covid_data = data[['stateDt','decideCnt']]\r\n",
        "    covid_data['stateDt'] = pd.to_datetime(covid_data['stateDt'], format='%Y-%m-%d')\r\n",
        "    #covid_data.astype({'decideCnt':'int'}) ## 타입변환 안됨\r\n",
        "    #pd.to_numeric(covid_data['decideCnt']) ## 타입변환 안됨\r\n",
        "    covid_data['decideCnt'] = covid_data['decideCnt'].apply(pd.to_numeric)\r\n",
        "    covid_data.drop_duplicates(\"stateDt\", keep=\"first\", inplace=True) ## 중복값 제거\r\n",
        "    covid_data.sort_values(by=['stateDt'], inplace=True, ascending=False)  ## 날짜순 정렬\r\n",
        "    covid_data['decideCnt'] = (covid_data.decideCnt - covid_data.decideCnt.shift(-1)).fillna(0)\r\n",
        "    print(covid_data)\r\n",
        "    \r\n",
        "  else: \r\n",
        "    print ('res.status_code is NOT ok')\r\n",
        "\r\n"
      ],
      "execution_count": 51,
      "outputs": []
    },
    {
      "cell_type": "code",
      "metadata": {
        "colab": {
          "base_uri": "https://localhost:8080/"
        },
        "id": "ZzAqDNkU2WGo",
        "outputId": "d0a02f57-498d-4dde-fe82-62638936a6aa"
      },
      "source": [
        "if __name__ == \"__main__\": \r\n",
        "  today =datetime.datetime.now() \r\n",
        "  yesterday = today - datetime.timedelta(1) \r\n",
        "  d1 = today.strftime(\"%Y%m%d\")\r\n",
        "  d2 = '20200301'\r\n",
        "  getCovidKR(d1,d2)\r\n",
        "\r\n"
      ],
      "execution_count": 55,
      "outputs": [
        {
          "output_type": "stream",
          "text": [
            "       stateDt  decideCnt\n",
            "0   2020-12-30     1050.0\n",
            "1   2020-12-29     1044.0\n",
            "2   2020-12-28      807.0\n",
            "3   2020-12-27      970.0\n",
            "4   2020-12-26     1132.0\n",
            "..         ...        ...\n",
            "305 2020-03-05      438.0\n",
            "306 2020-03-04      516.0\n",
            "307 2020-03-03      600.0\n",
            "308 2020-03-02      476.0\n",
            "309 2020-03-01        0.0\n",
            "\n",
            "[305 rows x 2 columns]\n"
          ],
          "name": "stdout"
        },
        {
          "output_type": "stream",
          "text": [
            "/usr/local/lib/python3.6/dist-packages/ipykernel_launcher.py:16: SettingWithCopyWarning: \n",
            "A value is trying to be set on a copy of a slice from a DataFrame.\n",
            "Try using .loc[row_indexer,col_indexer] = value instead\n",
            "\n",
            "See the caveats in the documentation: https://pandas.pydata.org/pandas-docs/stable/user_guide/indexing.html#returning-a-view-versus-a-copy\n",
            "  app.launch_new_instance()\n",
            "/usr/local/lib/python3.6/dist-packages/ipykernel_launcher.py:19: SettingWithCopyWarning: \n",
            "A value is trying to be set on a copy of a slice from a DataFrame.\n",
            "Try using .loc[row_indexer,col_indexer] = value instead\n",
            "\n",
            "See the caveats in the documentation: https://pandas.pydata.org/pandas-docs/stable/user_guide/indexing.html#returning-a-view-versus-a-copy\n",
            "/usr/local/lib/python3.6/dist-packages/ipykernel_launcher.py:20: SettingWithCopyWarning: \n",
            "A value is trying to be set on a copy of a slice from a DataFrame\n",
            "\n",
            "See the caveats in the documentation: https://pandas.pydata.org/pandas-docs/stable/user_guide/indexing.html#returning-a-view-versus-a-copy\n",
            "/usr/local/lib/python3.6/dist-packages/ipykernel_launcher.py:21: SettingWithCopyWarning: \n",
            "A value is trying to be set on a copy of a slice from a DataFrame\n",
            "\n",
            "See the caveats in the documentation: https://pandas.pydata.org/pandas-docs/stable/user_guide/indexing.html#returning-a-view-versus-a-copy\n",
            "/usr/local/lib/python3.6/dist-packages/ipykernel_launcher.py:22: SettingWithCopyWarning: \n",
            "A value is trying to be set on a copy of a slice from a DataFrame.\n",
            "Try using .loc[row_indexer,col_indexer] = value instead\n",
            "\n",
            "See the caveats in the documentation: https://pandas.pydata.org/pandas-docs/stable/user_guide/indexing.html#returning-a-view-versus-a-copy\n"
          ],
          "name": "stderr"
        }
      ]
    },
    {
      "cell_type": "code",
      "metadata": {
        "id": "Yl7jqa7Q-n2g"
      },
      "source": [
        ""
      ],
      "execution_count": null,
      "outputs": []
    }
  ]
}