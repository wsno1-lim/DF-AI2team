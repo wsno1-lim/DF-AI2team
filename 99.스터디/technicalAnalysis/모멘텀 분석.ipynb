{
 "cells": [
  {
   "cell_type": "code",
   "execution_count": 6,
   "metadata": {},
   "outputs": [
    {
     "name": "stdout",
     "output_type": "stream",
     "text": [
      "Starting Portfolio Value: 1000000.00\n",
      "2020-02-06, BUY EXECUTED, Price: 57454.99, Size:    17.00 Cost: 976734.83, Comm:    0.00\n",
      "2020-02-11, SELL EXECUTED, 57168.19, Size:   -17.00 Cost: 976734.83, Comm:    0.00\n",
      "2020-02-12, BUY EXECUTED, Price: 57646.18, Size:    17.00 Cost: 979985.06, Comm:    0.00\n",
      "2020-02-19, SELL EXECUTED, 57168.19, Size:   -17.00 Cost: 979985.06, Comm:    0.00\n",
      "2020-02-20, BUY EXECUTED, Price: 58028.58, Size:    17.00 Cost: 986485.86, Comm:    0.00\n",
      "2020-02-24, SELL EXECUTED, 54873.81, Size:   -17.00 Cost: 986485.86, Comm:    0.00\n",
      "2020-04-07, BUY EXECUTED, Price: 47815.34, Size:    19.00 Cost: 908491.46, Comm:    0.00\n",
      "2020-05-06, SELL EXECUTED, 47189.36, Size:   -19.00 Cost: 908491.46, Comm:    0.00\n",
      "2020-05-20, BUY EXECUTED, Price: 48152.41, Size:    19.00 Cost: 914895.79, Comm:    0.00\n",
      "2020-05-25, SELL EXECUTED, 46948.60, Size:   -19.00 Cost: 914895.79, Comm:    0.00\n",
      "2020-05-27, BUY EXECUTED, Price: 47141.21, Size:    18.00 Cost: 848541.78, Comm:    0.00\n",
      "2020-06-16, SELL EXECUTED, 49308.07, Size:   -18.00 Cost: 848541.78, Comm:    0.00\n",
      "2020-06-17, BUY EXECUTED, Price: 50174.81, Size:    18.00 Cost: 903146.58, Comm:    0.00\n",
      "2020-06-23, SELL EXECUTED, 50560.02, Size:   -18.00 Cost: 903146.58, Comm:    0.00\n",
      "2020-06-25, BUY EXECUTED, Price: 50174.81, Size:    18.00 Cost: 903146.58, Comm:    0.00\n",
      "2020-06-26, SELL EXECUTED, 50848.94, Size:   -18.00 Cost: 903146.58, Comm:    0.00\n",
      "2020-06-29, BUY EXECUTED, Price: 50898.07, Size:    18.00 Cost: 916165.26, Comm:    0.00\n",
      "2020-06-30, SELL EXECUTED, 52255.36, Size:   -18.00 Cost: 916165.26, Comm:    0.00\n",
      "2020-07-03, BUY EXECUTED, Price: 51382.82, Size:    19.00 Cost: 976273.58, Comm:    0.00\n",
      "2020-08-21, SELL EXECUTED, 54485.18, Size:   -19.00 Cost: 976273.58, Comm:    0.00\n",
      "2020-09-09, BUY EXECUTED, Price: 56424.15, Size:    18.00 Cost: 1015634.70, Comm:    0.00\n",
      "2020-09-25, SELL EXECUTED, 55939.41, Size:   -18.00 Cost: 1015634.70, Comm:    0.00\n",
      "2020-09-29, BUY EXECUTED, Price: 56868.80, Size:    18.00 Cost: 1023638.40, Comm:    0.00\n",
      "2020-10-29, SELL EXECUTED, 56771.25, Size:   -18.00 Cost: 1023638.40, Comm:    0.00\n",
      "2020-11-06, BUY EXECUTED, Price: 59209.88, Size:    17.00 Cost: 1006567.96, Comm:    0.00\n",
      "2021-01-28, SELL EXECUTED, 83200.00, Size:   -17.00 Cost: 1006567.96, Comm:    0.00\n",
      "2021-02-17, BUY EXECUTED, Price: 83900.00, Size:    16.00 Cost: 1342400.00, Comm:    0.00\n",
      "2021-02-18, SELL EXECUTED, 83200.00, Size:   -16.00 Cost: 1342400.00, Comm:    0.00\n",
      "Final Portfolio Value: 1426199.95\n"
     ]
    },
    {
     "ename": "ImportError",
     "evalue": "cannot import name 'warnings' from 'matplotlib.dates' (C:\\ProgramData\\Anaconda3\\envs\\py38_64\\lib\\site-packages\\matplotlib\\dates.py)",
     "output_type": "error",
     "traceback": [
      "\u001b[1;31m---------------------------------------------------------------------------\u001b[0m",
      "\u001b[1;31mImportError\u001b[0m                               Traceback (most recent call last)",
      "\u001b[1;32m<ipython-input-6-0449b744f88a>\u001b[0m in \u001b[0;36m<module>\u001b[1;34m\u001b[0m\n\u001b[0;32m     68\u001b[0m \u001b[1;33m\u001b[0m\u001b[0m\n\u001b[0;32m     69\u001b[0m \u001b[1;32mif\u001b[0m \u001b[0m__name__\u001b[0m \u001b[1;33m==\u001b[0m \u001b[1;34m'__main__'\u001b[0m\u001b[1;33m:\u001b[0m\u001b[1;33m\u001b[0m\u001b[1;33m\u001b[0m\u001b[0m\n\u001b[1;32m---> 70\u001b[1;33m     \u001b[0mrun\u001b[0m\u001b[1;33m(\u001b[0m\u001b[1;33m)\u001b[0m\u001b[1;33m\u001b[0m\u001b[1;33m\u001b[0m\u001b[0m\n\u001b[0m",
      "\u001b[1;32m<ipython-input-6-0449b744f88a>\u001b[0m in \u001b[0;36mrun\u001b[1;34m(args)\u001b[0m\n\u001b[0;32m     65\u001b[0m     \u001b[0mcerebro\u001b[0m\u001b[1;33m.\u001b[0m\u001b[0mrun\u001b[0m\u001b[1;33m(\u001b[0m\u001b[1;33m)\u001b[0m\u001b[1;33m\u001b[0m\u001b[1;33m\u001b[0m\u001b[0m\n\u001b[0;32m     66\u001b[0m     \u001b[0mprint\u001b[0m\u001b[1;33m(\u001b[0m\u001b[1;34m'Final Portfolio Value: %.2f'\u001b[0m \u001b[1;33m%\u001b[0m \u001b[0mcerebro\u001b[0m\u001b[1;33m.\u001b[0m\u001b[0mbroker\u001b[0m\u001b[1;33m.\u001b[0m\u001b[0mgetvalue\u001b[0m\u001b[1;33m(\u001b[0m\u001b[1;33m)\u001b[0m\u001b[1;33m)\u001b[0m\u001b[1;33m\u001b[0m\u001b[1;33m\u001b[0m\u001b[0m\n\u001b[1;32m---> 67\u001b[1;33m     \u001b[0mcerebro\u001b[0m\u001b[1;33m.\u001b[0m\u001b[0mplot\u001b[0m\u001b[1;33m(\u001b[0m\u001b[1;33m)\u001b[0m\u001b[1;33m\u001b[0m\u001b[1;33m\u001b[0m\u001b[0m\n\u001b[0m\u001b[0;32m     68\u001b[0m \u001b[1;33m\u001b[0m\u001b[0m\n\u001b[0;32m     69\u001b[0m \u001b[1;32mif\u001b[0m \u001b[0m__name__\u001b[0m \u001b[1;33m==\u001b[0m \u001b[1;34m'__main__'\u001b[0m\u001b[1;33m:\u001b[0m\u001b[1;33m\u001b[0m\u001b[1;33m\u001b[0m\u001b[0m\n",
      "\u001b[1;32mC:\\ProgramData\\Anaconda3\\envs\\py38_64\\lib\\site-packages\\backtrader\\cerebro.py\u001b[0m in \u001b[0;36mplot\u001b[1;34m(self, plotter, numfigs, iplot, start, end, width, height, dpi, tight, use, **kwargs)\u001b[0m\n\u001b[0;32m    972\u001b[0m \u001b[1;33m\u001b[0m\u001b[0m\n\u001b[0;32m    973\u001b[0m         \u001b[1;32mif\u001b[0m \u001b[1;32mnot\u001b[0m \u001b[0mplotter\u001b[0m\u001b[1;33m:\u001b[0m\u001b[1;33m\u001b[0m\u001b[1;33m\u001b[0m\u001b[0m\n\u001b[1;32m--> 974\u001b[1;33m             \u001b[1;32mfrom\u001b[0m \u001b[1;33m.\u001b[0m \u001b[1;32mimport\u001b[0m \u001b[0mplot\u001b[0m\u001b[1;33m\u001b[0m\u001b[1;33m\u001b[0m\u001b[0m\n\u001b[0m\u001b[0;32m    975\u001b[0m             \u001b[1;32mif\u001b[0m \u001b[0mself\u001b[0m\u001b[1;33m.\u001b[0m\u001b[0mp\u001b[0m\u001b[1;33m.\u001b[0m\u001b[0moldsync\u001b[0m\u001b[1;33m:\u001b[0m\u001b[1;33m\u001b[0m\u001b[1;33m\u001b[0m\u001b[0m\n\u001b[0;32m    976\u001b[0m                 \u001b[0mplotter\u001b[0m \u001b[1;33m=\u001b[0m \u001b[0mplot\u001b[0m\u001b[1;33m.\u001b[0m\u001b[0mPlot_OldSync\u001b[0m\u001b[1;33m(\u001b[0m\u001b[1;33m**\u001b[0m\u001b[0mkwargs\u001b[0m\u001b[1;33m)\u001b[0m\u001b[1;33m\u001b[0m\u001b[1;33m\u001b[0m\u001b[0m\n",
      "\u001b[1;32mC:\\ProgramData\\Anaconda3\\envs\\py38_64\\lib\\site-packages\\backtrader\\plot\\__init__.py\u001b[0m in \u001b[0;36m<module>\u001b[1;34m\u001b[0m\n\u001b[0;32m     40\u001b[0m \u001b[1;33m\u001b[0m\u001b[0m\n\u001b[0;32m     41\u001b[0m \u001b[1;33m\u001b[0m\u001b[0m\n\u001b[1;32m---> 42\u001b[1;33m \u001b[1;32mfrom\u001b[0m \u001b[1;33m.\u001b[0m\u001b[0mplot\u001b[0m \u001b[1;32mimport\u001b[0m \u001b[0mPlot\u001b[0m\u001b[1;33m,\u001b[0m \u001b[0mPlot_OldSync\u001b[0m\u001b[1;33m\u001b[0m\u001b[1;33m\u001b[0m\u001b[0m\n\u001b[0m\u001b[0;32m     43\u001b[0m \u001b[1;32mfrom\u001b[0m \u001b[1;33m.\u001b[0m\u001b[0mscheme\u001b[0m \u001b[1;32mimport\u001b[0m \u001b[0mPlotScheme\u001b[0m\u001b[1;33m\u001b[0m\u001b[1;33m\u001b[0m\u001b[0m\n",
      "\u001b[1;32mC:\\ProgramData\\Anaconda3\\envs\\py38_64\\lib\\site-packages\\backtrader\\plot\\plot.py\u001b[0m in \u001b[0;36m<module>\u001b[1;34m\u001b[0m\n\u001b[0;32m     42\u001b[0m \u001b[1;32mfrom\u001b[0m \u001b[1;33m.\u001b[0m\u001b[0mfinance\u001b[0m \u001b[1;32mimport\u001b[0m \u001b[0mplot_candlestick\u001b[0m\u001b[1;33m,\u001b[0m \u001b[0mplot_ohlc\u001b[0m\u001b[1;33m,\u001b[0m \u001b[0mplot_volume\u001b[0m\u001b[1;33m,\u001b[0m \u001b[0mplot_lineonclose\u001b[0m\u001b[1;33m\u001b[0m\u001b[1;33m\u001b[0m\u001b[0m\n\u001b[0;32m     43\u001b[0m \u001b[1;32mfrom\u001b[0m \u001b[1;33m.\u001b[0m\u001b[0mformatters\u001b[0m \u001b[1;32mimport\u001b[0m \u001b[1;33m(\u001b[0m\u001b[0mMyVolFormatter\u001b[0m\u001b[1;33m,\u001b[0m \u001b[0mMyDateFormatter\u001b[0m\u001b[1;33m,\u001b[0m \u001b[0mgetlocator\u001b[0m\u001b[1;33m)\u001b[0m\u001b[1;33m\u001b[0m\u001b[1;33m\u001b[0m\u001b[0m\n\u001b[1;32m---> 44\u001b[1;33m \u001b[1;32mfrom\u001b[0m \u001b[1;33m.\u001b[0m \u001b[1;32mimport\u001b[0m \u001b[0mlocator\u001b[0m \u001b[1;32mas\u001b[0m \u001b[0mloc\u001b[0m\u001b[1;33m\u001b[0m\u001b[1;33m\u001b[0m\u001b[0m\n\u001b[0m\u001b[0;32m     45\u001b[0m \u001b[1;32mfrom\u001b[0m \u001b[1;33m.\u001b[0m\u001b[0mmulticursor\u001b[0m \u001b[1;32mimport\u001b[0m \u001b[0mMultiCursor\u001b[0m\u001b[1;33m\u001b[0m\u001b[1;33m\u001b[0m\u001b[0m\n\u001b[0;32m     46\u001b[0m \u001b[1;32mfrom\u001b[0m \u001b[1;33m.\u001b[0m\u001b[0mscheme\u001b[0m \u001b[1;32mimport\u001b[0m \u001b[0mPlotScheme\u001b[0m\u001b[1;33m\u001b[0m\u001b[1;33m\u001b[0m\u001b[0m\n",
      "\u001b[1;32mC:\\ProgramData\\Anaconda3\\envs\\py38_64\\lib\\site-packages\\backtrader\\plot\\locator.py\u001b[0m in \u001b[0;36m<module>\u001b[1;34m\u001b[0m\n\u001b[0;32m     33\u001b[0m \u001b[1;32mfrom\u001b[0m \u001b[0mmatplotlib\u001b[0m\u001b[1;33m.\u001b[0m\u001b[0mdates\u001b[0m \u001b[1;32mimport\u001b[0m \u001b[0mAutoDateFormatter\u001b[0m \u001b[1;32mas\u001b[0m \u001b[0mADFormatter\u001b[0m\u001b[1;33m\u001b[0m\u001b[1;33m\u001b[0m\u001b[0m\n\u001b[0;32m     34\u001b[0m \u001b[1;33m\u001b[0m\u001b[0m\n\u001b[1;32m---> 35\u001b[1;33m from matplotlib.dates import (HOURS_PER_DAY, MIN_PER_HOUR, SEC_PER_MIN,\n\u001b[0m\u001b[0;32m     36\u001b[0m                               \u001b[0mMONTHS_PER_YEAR\u001b[0m\u001b[1;33m,\u001b[0m \u001b[0mDAYS_PER_WEEK\u001b[0m\u001b[1;33m,\u001b[0m\u001b[1;33m\u001b[0m\u001b[1;33m\u001b[0m\u001b[0m\n\u001b[0;32m     37\u001b[0m                               \u001b[0mSEC_PER_HOUR\u001b[0m\u001b[1;33m,\u001b[0m \u001b[0mSEC_PER_DAY\u001b[0m\u001b[1;33m,\u001b[0m\u001b[1;33m\u001b[0m\u001b[1;33m\u001b[0m\u001b[0m\n",
      "\u001b[1;31mImportError\u001b[0m: cannot import name 'warnings' from 'matplotlib.dates' (C:\\ProgramData\\Anaconda3\\envs\\py38_64\\lib\\site-packages\\matplotlib\\dates.py)"
     ]
    }
   ],
   "source": [
    "import datetime\n",
    "import backtrader as bt\n",
    "\n",
    "class Momentum(bt.Strategy):\n",
    "    params = dict(\n",
    "        pfast=10,\n",
    "        pslow=20\n",
    "    )\n",
    "    \n",
    "    def __init__(self):\n",
    "        self.dataclose = self.datas[0].close\n",
    "        self.smaSlow = bt.ind.SimpleMovingAverage(period=self.p.pslow)\n",
    "        self.smaFast = bt.ind.SimpleMovingAverage(period=self.p.pfast)\n",
    "        self.order = None\n",
    "    \n",
    "    def log(self, txt, dt=None):\n",
    "        dt = dt or self.datas[0].datetime.date(0)\n",
    "        print('%s, %s' % (dt.isoformat(), txt))\n",
    "        \n",
    "    def notify_order(self, order):\n",
    "        if order.status in [order.Submitted, order.Accepted]:\n",
    "            return\n",
    "        if order.status in [order.Completed]:\n",
    "            if order.isbuy():\n",
    "                self.log('BUY EXECUTED, Price: {0:8.2f}, Size: {1:8.2f} Cost: {2:8.2f}, Comm:{3:8.2f}'.format(order.executed.price, order.executed.size, order.executed.value, order.executed.comm))\n",
    "                \n",
    "                self.buyprice = order.executed.price\n",
    "                self.buycomm = order.executed.comm\n",
    "            else:\n",
    "                self.log('SELL EXECUTED, {0:8.2f}, Size: {1:8.2f} Cost: {2:8.2f}, Comm:{3:8.2f}'.format(order.executed.price, order.executed.size, order.executed.value, order.executed.comm))\n",
    "            \n",
    "            self.bar_executed = len(self)\n",
    "            \n",
    "        elif order.status in [order.Canceled, order.Margin, order.Rejected]:\n",
    "            self.log('Order Canceled/Margin/Rejected')\n",
    "        \n",
    "        self.order = None\n",
    "    \n",
    "    def next(self):\n",
    "        cash = self.broker.get_cash()\n",
    "        value = self.broker.get_value()\n",
    "        size = int(cash / self.data.close[0])\n",
    "        \n",
    "        if self.order:\n",
    "            return\n",
    "        \n",
    "        if not self.position:\n",
    "            if self.smaSlow < self.data.close[0]:\n",
    "                self.order = self.buy(size=size)\n",
    "                \n",
    "        elif self.getposition().size > 0:\n",
    "            if self.smaSlow > self.data.close[0]:\n",
    "                self.order = self.sell(size=self.getposition().size)\n",
    "                \n",
    "def run(args=None):\n",
    "    cerebro = bt.Cerebro()\n",
    "    \n",
    "    cerebro.broker.setcash(1000000)\n",
    "    \n",
    "    data = bt.feeds.YahooFinanceData(dataname='005930.KS', fromdate=datetime.datetime(2020, 1, 1), todate=datetime.datetime(2021, 2, 19))\n",
    "    \n",
    "    cerebro.adddata(data)\n",
    "    cerebro.addstrategy(Momentum)\n",
    "    print('Starting Portfolio Value: %.2f' % cerebro.broker.getvalue())\n",
    "    cerebro.run()\n",
    "    print('Final Portfolio Value: %.2f' % cerebro.broker.getvalue())\n",
    "    cerebro.plot()\n",
    "    \n",
    "if __name__ == '__main__':\n",
    "    run()"
   ]
  },
  {
   "cell_type": "code",
   "execution_count": 2,
   "metadata": {},
   "outputs": [
    {
     "name": "stdout",
     "output_type": "stream",
     "text": [
      "Collecting backtrader\n",
      "  Downloading backtrader-1.9.76.123-py2.py3-none-any.whl (410 kB)\n",
      "Installing collected packages: backtrader\n",
      "Successfully installed backtrader-1.9.76.123\n"
     ]
    }
   ],
   "source": [
    "!pip install backtrader"
   ]
  },
  {
   "cell_type": "code",
   "execution_count": 5,
   "metadata": {},
   "outputs": [
    {
     "name": "stdout",
     "output_type": "stream",
     "text": [
      "Collecting matplotlib==3.2.2\n",
      "  Downloading matplotlib-3.2.2-cp38-cp38-win_amd64.whl (9.2 MB)\n",
      "Requirement already satisfied: numpy>=1.11 in c:\\programdata\\anaconda3\\envs\\py38_64\\lib\\site-packages (from matplotlib==3.2.2) (1.19.5)\n",
      "Requirement already satisfied: python-dateutil>=2.1 in c:\\programdata\\anaconda3\\envs\\py38_64\\lib\\site-packages (from matplotlib==3.2.2) (2.8.1)\n",
      "Requirement already satisfied: cycler>=0.10 in c:\\programdata\\anaconda3\\envs\\py38_64\\lib\\site-packages (from matplotlib==3.2.2) (0.10.0)\n",
      "Requirement already satisfied: kiwisolver>=1.0.1 in c:\\programdata\\anaconda3\\envs\\py38_64\\lib\\site-packages (from matplotlib==3.2.2) (1.3.0)\n",
      "Requirement already satisfied: pyparsing!=2.0.4,!=2.1.2,!=2.1.6,>=2.0.1 in c:\\programdata\\anaconda3\\envs\\py38_64\\lib\\site-packages (from matplotlib==3.2.2) (2.4.7)\n",
      "Requirement already satisfied: six>=1.5 in c:\\programdata\\anaconda3\\envs\\py38_64\\lib\\site-packages (from python-dateutil>=2.1->matplotlib==3.2.2) (1.15.0)\n",
      "Installing collected packages: matplotlib\n",
      "  Attempting uninstall: matplotlib\n",
      "    Found existing installation: matplotlib 3.3.2\n",
      "    Uninstalling matplotlib-3.3.2:\n",
      "      Successfully uninstalled matplotlib-3.3.2\n"
     ]
    },
    {
     "name": "stderr",
     "output_type": "stream",
     "text": [
      "ERROR: Could not install packages due to an EnvironmentError: [WinError 5] 액세스가 거부되었습니다: 'C:\\\\ProgramData\\\\Anaconda3\\\\envs\\\\py38_64\\\\lib\\\\site-packages\\\\~atplotlib\\\\backends\\\\_backend_agg.cp38-win_amd64.pyd'\n",
      "Consider using the `--user` option or check the permissions.\n",
      "\n"
     ]
    }
   ],
   "source": [
    "!pip install matplotlib==3.2.2"
   ]
  },
  {
   "cell_type": "code",
   "execution_count": null,
   "metadata": {},
   "outputs": [],
   "source": [
    "!pip uninstall matplotlib"
   ]
  },
  {
   "cell_type": "code",
   "execution_count": null,
   "metadata": {},
   "outputs": [],
   "source": []
  }
 ],
 "metadata": {
  "kernelspec": {
   "display_name": "Python 3",
   "language": "python",
   "name": "python3"
  },
  "language_info": {
   "codemirror_mode": {
    "name": "ipython",
    "version": 3
   },
   "file_extension": ".py",
   "mimetype": "text/x-python",
   "name": "python",
   "nbconvert_exporter": "python",
   "pygments_lexer": "ipython3",
   "version": "3.8.5"
  }
 },
 "nbformat": 4,
 "nbformat_minor": 4
}
