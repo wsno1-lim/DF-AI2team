{
  "nbformat": 4,
  "nbformat_minor": 0,
  "metadata": {
    "colab": {
      "name": "코스피종목가져오기.ipynb",
      "provenance": []
    },
    "kernelspec": {
      "name": "python3",
      "display_name": "Python 3"
    },
    "accelerator": "TPU"
  },
  "cells": [
    {
      "cell_type": "code",
      "metadata": {
        "colab": {
          "base_uri": "https://localhost:8080/"
        },
        "id": "pHoIbcY1sLKF",
        "outputId": "d440b7ff-ffee-407c-cb44-255e34ec6428"
      },
      "source": [
        "pip install -U finance_datareader\n"
      ],
      "execution_count": null,
      "outputs": [
        {
          "output_type": "stream",
          "text": [
            "Collecting finance_datareader\n",
            "  Downloading https://files.pythonhosted.org/packages/ed/10/1f819839aae5d08e6cc7b29425d278c10104a18e0155282aa2ce552e3fa2/finance_datareader-0.9.10-py3-none-any.whl\n",
            "Requirement already satisfied, skipping upgrade: requests>=2.3.0 in /usr/local/lib/python3.6/dist-packages (from finance_datareader) (2.23.0)\n",
            "Requirement already satisfied, skipping upgrade: tqdm in /usr/local/lib/python3.6/dist-packages (from finance_datareader) (4.41.1)\n",
            "Collecting requests-file\n",
            "  Downloading https://files.pythonhosted.org/packages/77/86/cdb5e8eaed90796aa83a6d9f75cfbd37af553c47a291cd47bc410ef9bdb2/requests_file-1.5.1-py2.py3-none-any.whl\n",
            "Requirement already satisfied, skipping upgrade: lxml in /usr/local/lib/python3.6/dist-packages (from finance_datareader) (4.2.6)\n",
            "Requirement already satisfied, skipping upgrade: pandas>=0.19.2 in /usr/local/lib/python3.6/dist-packages (from finance_datareader) (1.1.4)\n",
            "Requirement already satisfied, skipping upgrade: idna<3,>=2.5 in /usr/local/lib/python3.6/dist-packages (from requests>=2.3.0->finance_datareader) (2.10)\n",
            "Requirement already satisfied, skipping upgrade: urllib3!=1.25.0,!=1.25.1,<1.26,>=1.21.1 in /usr/local/lib/python3.6/dist-packages (from requests>=2.3.0->finance_datareader) (1.24.3)\n",
            "Requirement already satisfied, skipping upgrade: chardet<4,>=3.0.2 in /usr/local/lib/python3.6/dist-packages (from requests>=2.3.0->finance_datareader) (3.0.4)\n",
            "Requirement already satisfied, skipping upgrade: certifi>=2017.4.17 in /usr/local/lib/python3.6/dist-packages (from requests>=2.3.0->finance_datareader) (2020.11.8)\n",
            "Requirement already satisfied, skipping upgrade: six in /usr/local/lib/python3.6/dist-packages (from requests-file->finance_datareader) (1.15.0)\n",
            "Requirement already satisfied, skipping upgrade: python-dateutil>=2.7.3 in /usr/local/lib/python3.6/dist-packages (from pandas>=0.19.2->finance_datareader) (2.8.1)\n",
            "Requirement already satisfied, skipping upgrade: pytz>=2017.2 in /usr/local/lib/python3.6/dist-packages (from pandas>=0.19.2->finance_datareader) (2018.9)\n",
            "Requirement already satisfied, skipping upgrade: numpy>=1.15.4 in /usr/local/lib/python3.6/dist-packages (from pandas>=0.19.2->finance_datareader) (1.18.5)\n",
            "Installing collected packages: requests-file, finance-datareader\n",
            "Successfully installed finance-datareader-0.9.10 requests-file-1.5.1\n"
          ],
          "name": "stdout"
        }
      ]
    },
    {
      "cell_type": "code",
      "metadata": {
        "colab": {
          "base_uri": "https://localhost:8080/"
        },
        "id": "SFT2EOBJ9q4A",
        "outputId": "f1da0467-896f-4624-917c-58003b7102a3"
      },
      "source": [
        "pip install xmltodict"
      ],
      "execution_count": null,
      "outputs": [
        {
          "output_type": "stream",
          "text": [
            "Collecting xmltodict\n",
            "  Downloading https://files.pythonhosted.org/packages/28/fd/30d5c1d3ac29ce229f6bdc40bbc20b28f716e8b363140c26eff19122d8a5/xmltodict-0.12.0-py2.py3-none-any.whl\n",
            "Installing collected packages: xmltodict\n",
            "Successfully installed xmltodict-0.12.0\n"
          ],
          "name": "stdout"
        }
      ]
    },
    {
      "cell_type": "code",
      "metadata": {
        "id": "BUnexau5LgPc"
      },
      "source": [
        "import pandas as pd\n",
        "import FinanceDataReader as fdr\n",
        "from time import time\n",
        "from concurrent.futures import ProcessPoolExecutor"
      ],
      "execution_count": null,
      "outputs": []
    },
    {
      "cell_type": "code",
      "metadata": {
        "id": "tUVVdORhKlWg"
      },
      "source": [
        "#from google.colab import drive\n",
        "#drive.mount('/content/drive')\n",
        "#from google.colab import files\n",
        "#myfile = files.upload()"
      ],
      "execution_count": null,
      "outputs": []
    },
    {
      "cell_type": "code",
      "metadata": {
        "id": "vN6VzvgIKnxV"
      },
      "source": [
        "#filename = 'data.csv'\n",
        "#new_stock_code = pd.read_csv(filename)\n",
        "#new_stock_code.head()"
      ],
      "execution_count": null,
      "outputs": []
    },
    {
      "cell_type": "code",
      "metadata": {
        "colab": {
          "base_uri": "https://localhost:8080/",
          "height": 377
        },
        "id": "N3HV4I7Asctb",
        "outputId": "1516d7fe-7a3a-4f59-9c09-34fca1cbce2d"
      },
      "source": [
        "df_ksp = fdr.StockListing('KOSPI')\n",
        "df_ksp.head()\n"
      ],
      "execution_count": null,
      "outputs": [
        {
          "output_type": "execute_result",
          "data": {
            "text/html": [
              "<div>\n",
              "<style scoped>\n",
              "    .dataframe tbody tr th:only-of-type {\n",
              "        vertical-align: middle;\n",
              "    }\n",
              "\n",
              "    .dataframe tbody tr th {\n",
              "        vertical-align: top;\n",
              "    }\n",
              "\n",
              "    .dataframe thead th {\n",
              "        text-align: right;\n",
              "    }\n",
              "</style>\n",
              "<table border=\"1\" class=\"dataframe\">\n",
              "  <thead>\n",
              "    <tr style=\"text-align: right;\">\n",
              "      <th></th>\n",
              "      <th>Symbol</th>\n",
              "      <th>Market</th>\n",
              "      <th>Name</th>\n",
              "      <th>Sector</th>\n",
              "      <th>Industry</th>\n",
              "      <th>ListingDate</th>\n",
              "      <th>SettleMonth</th>\n",
              "      <th>Representative</th>\n",
              "      <th>HomePage</th>\n",
              "      <th>Region</th>\n",
              "    </tr>\n",
              "  </thead>\n",
              "  <tbody>\n",
              "    <tr>\n",
              "      <th>1</th>\n",
              "      <td>095570</td>\n",
              "      <td>KOSPI</td>\n",
              "      <td>AJ네트웍스</td>\n",
              "      <td>산업용 기계 및 장비 임대업</td>\n",
              "      <td>렌탈(파렛트, OA장비, 건설장비)</td>\n",
              "      <td>2015-08-21</td>\n",
              "      <td>12월</td>\n",
              "      <td>이현우</td>\n",
              "      <td>http://www.ajnet.co.kr</td>\n",
              "      <td>서울특별시</td>\n",
              "    </tr>\n",
              "    <tr>\n",
              "      <th>2</th>\n",
              "      <td>006840</td>\n",
              "      <td>KOSPI</td>\n",
              "      <td>AK홀딩스</td>\n",
              "      <td>기타 금융업</td>\n",
              "      <td>지주사업</td>\n",
              "      <td>1999-08-11</td>\n",
              "      <td>12월</td>\n",
              "      <td>채형석, 이석주(각자 대표이사)</td>\n",
              "      <td>http://www.aekyunggroup.co.kr</td>\n",
              "      <td>서울특별시</td>\n",
              "    </tr>\n",
              "    <tr>\n",
              "      <th>6</th>\n",
              "      <td>027410</td>\n",
              "      <td>KOSPI</td>\n",
              "      <td>BGF</td>\n",
              "      <td>기타 금융업</td>\n",
              "      <td>지주회사</td>\n",
              "      <td>2014-05-19</td>\n",
              "      <td>12월</td>\n",
              "      <td>홍정국</td>\n",
              "      <td>http://www.bgf.co.kr</td>\n",
              "      <td>서울특별시</td>\n",
              "    </tr>\n",
              "    <tr>\n",
              "      <th>7</th>\n",
              "      <td>282330</td>\n",
              "      <td>KOSPI</td>\n",
              "      <td>BGF리테일</td>\n",
              "      <td>종합 소매업</td>\n",
              "      <td>체인화 편의점</td>\n",
              "      <td>2017-12-08</td>\n",
              "      <td>12월</td>\n",
              "      <td>이건준</td>\n",
              "      <td>http://www.bgfretail.com</td>\n",
              "      <td>서울특별시</td>\n",
              "    </tr>\n",
              "    <tr>\n",
              "      <th>8</th>\n",
              "      <td>138930</td>\n",
              "      <td>KOSPI</td>\n",
              "      <td>BNK금융지주</td>\n",
              "      <td>기타 금융업</td>\n",
              "      <td>금융지주회사</td>\n",
              "      <td>2011-03-30</td>\n",
              "      <td>12월</td>\n",
              "      <td>김지완</td>\n",
              "      <td>http://www.bnkfg.com</td>\n",
              "      <td>부산광역시</td>\n",
              "    </tr>\n",
              "  </tbody>\n",
              "</table>\n",
              "</div>"
            ],
            "text/plain": [
              "   Symbol Market  ...                       HomePage Region\n",
              "1  095570  KOSPI  ...         http://www.ajnet.co.kr  서울특별시\n",
              "2  006840  KOSPI  ...  http://www.aekyunggroup.co.kr  서울특별시\n",
              "6  027410  KOSPI  ...           http://www.bgf.co.kr  서울특별시\n",
              "7  282330  KOSPI  ...       http://www.bgfretail.com  서울특별시\n",
              "8  138930  KOSPI  ...           http://www.bnkfg.com  부산광역시\n",
              "\n",
              "[5 rows x 10 columns]"
            ]
          },
          "metadata": {
            "tags": []
          },
          "execution_count": 6
        }
      ]
    },
    {
      "cell_type": "code",
      "metadata": {
        "id": "ltAnGcsCtDp5"
      },
      "source": [
        "stock_code = df_ksp[['Symbol','Name']]\n",
        "#stock_code.to_excel('code.xlsx')\n"
      ],
      "execution_count": null,
      "outputs": []
    },
    {
      "cell_type": "code",
      "metadata": {
        "id": "vlmnVhEW4fG0"
      },
      "source": [
        "import requests\n",
        "from bs4 import BeautifulSoup\n",
        "import pandas as pd\n",
        "import xmltodict\n",
        "import json"
      ],
      "execution_count": null,
      "outputs": []
    },
    {
      "cell_type": "code",
      "metadata": {
        "id": "qk6J0MIvs6y7"
      },
      "source": [
        "def get_daily_stock_price(stockCode,name,count):\n",
        "  global df\n",
        "  if (len(stockCode) == 6 ) :\n",
        "    headers = {'User-Agent':'Mozilla/5.0 (Windows NT 6.3; Win64; x64) AppleWebKit/537.36 (KHTML, like Gecko) Chrome/63.0.3239.132 Safari/537.36'}\n",
        "    url=f'https://fchart.stock.naver.com/sise.nhn?symbol={stockCode}&timeframe=day&count={count}&requestType=0'\n",
        "    #print(url)\n",
        "    rs = requests.get(url,headers = headers)\n",
        "    dt = xmltodict.parse(rs.text) # 변환된 xml 파일을 dictionary 형태로 변환\n",
        "    js = json.dumps(dt,indent=4)  # data 가공 편의를 위해서 json 형식으로 변환\n",
        "    js = json.loads(js)\n",
        "    data = pd.json_normalize(js['protocol']['chartdata']['item']) ## json_normalize를 이용해서 계층 구조를 없애고 dataframe으로 불러옴 \n",
        "    df = data['@data'].str.split('|',expand=True) ## data 행에서 '|'기호 기준으로 split 한후 다시 결합... 그리고 data type 이 string 이어야 split 할 수 있으므로 str.split사용\n",
        "    df.columns = ['data','open','high','low','close','Volume']\n",
        "    df['name'] = str(name)  ## NAME 행을 만들어 기업명 추가\n",
        "  return df"
      ],
      "execution_count": null,
      "outputs": []
    },
    {
      "cell_type": "markdown",
      "metadata": {
        "id": "w78Xq4hiLBvS"
      },
      "source": [
        "URL 호출 시 아래 와 같이 xml 형식으로 결과값을 받음...\n",
        "<protocol>\n",
        "<chartdata symbol=\"095570\" name=\"AJ네트웍스\" count=\"2\" timeframe=\"day\" precision=\"0\" origintime=\"20150821\">\n",
        "<item data=\"20201204|4495|4575|4495|4550|222605\"/>\n",
        "<item data=\"20201207|4510|4550|4455|4465|150506\"/>\n",
        "</chartdata>\n",
        "</protocol>\n",
        "\n",
        "\n",
        "json 변환\n",
        "{'protocol': {'chartdata': {'@count': '2',\n",
        "   '@name': '삼성전자',\n",
        "   '@origintime': '19900103',\n",
        "   '@precision': '0',\n",
        "   '@symbol': '005930',\n",
        "   '@timeframe': 'day',\n",
        "   'item': [{'@data': '20201207|72400|73500|71900|72900|28490496'},\n",
        "    {'@data': '20201208|72200|72900|71600|71700|24836319'}]}}}\n",
        "\n",
        "\n",
        "data['@data']\n",
        "0    20201207|72400|73500|71900|72900|28490496\n",
        "1    20201208|72200|72900|71600|71700|24836319\n",
        "Name: @data, dtype: object"
      ]
    },
    {
      "cell_type": "code",
      "metadata": {
        "id": "IpAkmB3d_G71"
      },
      "source": [
        "tmp=[]\n",
        "\n",
        "for index,row in stock_code.iterrows():\n",
        "  tmp.append(get_daily_stock_price(row['Symbol'],row['Name'],'2500'))\n",
        "  #tmp.append(get_daily_stock_price(row['종목코드'],row['기업명'],'2'))\n",
        "  #print(tmp)\n",
        "  #tmp.append(get_daily_stock_price(row['종목코드']))"
      ],
      "execution_count": null,
      "outputs": []
    },
    {
      "cell_type": "code",
      "metadata": {
        "id": "g4B6bzKF2iJi"
      },
      "source": [
        "df_final = pd.concat(tmp,ignore_index=True)"
      ],
      "execution_count": null,
      "outputs": []
    },
    {
      "cell_type": "code",
      "metadata": {
        "colab": {
          "base_uri": "https://localhost:8080/",
          "height": 419
        },
        "id": "1nzjkJYeXBNX",
        "outputId": "b6ff8409-16b2-434f-9aea-969e556c7521"
      },
      "source": [
        "df_final.head()"
      ],
      "execution_count": null,
      "outputs": [
        {
          "output_type": "execute_result",
          "data": {
            "text/html": [
              "<div>\n",
              "<style scoped>\n",
              "    .dataframe tbody tr th:only-of-type {\n",
              "        vertical-align: middle;\n",
              "    }\n",
              "\n",
              "    .dataframe tbody tr th {\n",
              "        vertical-align: top;\n",
              "    }\n",
              "\n",
              "    .dataframe thead th {\n",
              "        text-align: right;\n",
              "    }\n",
              "</style>\n",
              "<table border=\"1\" class=\"dataframe\">\n",
              "  <thead>\n",
              "    <tr style=\"text-align: right;\">\n",
              "      <th></th>\n",
              "      <th>data</th>\n",
              "      <th>open</th>\n",
              "      <th>high</th>\n",
              "      <th>low</th>\n",
              "      <th>close</th>\n",
              "      <th>Volume</th>\n",
              "      <th>name</th>\n",
              "    </tr>\n",
              "  </thead>\n",
              "  <tbody>\n",
              "    <tr>\n",
              "      <th>0</th>\n",
              "      <td>20150821</td>\n",
              "      <td>6180</td>\n",
              "      <td>7300</td>\n",
              "      <td>5600</td>\n",
              "      <td>7100</td>\n",
              "      <td>1994022</td>\n",
              "      <td>AJ네트웍스</td>\n",
              "    </tr>\n",
              "    <tr>\n",
              "      <th>1</th>\n",
              "      <td>20150824</td>\n",
              "      <td>6700</td>\n",
              "      <td>6940</td>\n",
              "      <td>6240</td>\n",
              "      <td>6480</td>\n",
              "      <td>392831</td>\n",
              "      <td>AJ네트웍스</td>\n",
              "    </tr>\n",
              "    <tr>\n",
              "      <th>2</th>\n",
              "      <td>20150825</td>\n",
              "      <td>6610</td>\n",
              "      <td>6730</td>\n",
              "      <td>6189</td>\n",
              "      <td>6220</td>\n",
              "      <td>242730</td>\n",
              "      <td>AJ네트웍스</td>\n",
              "    </tr>\n",
              "    <tr>\n",
              "      <th>3</th>\n",
              "      <td>20150826</td>\n",
              "      <td>6260</td>\n",
              "      <td>7760</td>\n",
              "      <td>6260</td>\n",
              "      <td>7090</td>\n",
              "      <td>703721</td>\n",
              "      <td>AJ네트웍스</td>\n",
              "    </tr>\n",
              "    <tr>\n",
              "      <th>4</th>\n",
              "      <td>20150827</td>\n",
              "      <td>7239</td>\n",
              "      <td>8060</td>\n",
              "      <td>6960</td>\n",
              "      <td>7570</td>\n",
              "      <td>499913</td>\n",
              "      <td>AJ네트웍스</td>\n",
              "    </tr>\n",
              "    <tr>\n",
              "      <th>...</th>\n",
              "      <td>...</td>\n",
              "      <td>...</td>\n",
              "      <td>...</td>\n",
              "      <td>...</td>\n",
              "      <td>...</td>\n",
              "      <td>...</td>\n",
              "      <td>...</td>\n",
              "    </tr>\n",
              "    <tr>\n",
              "      <th>2236123</th>\n",
              "      <td>20201201</td>\n",
              "      <td>0</td>\n",
              "      <td>0</td>\n",
              "      <td>0</td>\n",
              "      <td>258</td>\n",
              "      <td>0</td>\n",
              "      <td>흥아해운</td>\n",
              "    </tr>\n",
              "    <tr>\n",
              "      <th>2236124</th>\n",
              "      <td>20201202</td>\n",
              "      <td>0</td>\n",
              "      <td>0</td>\n",
              "      <td>0</td>\n",
              "      <td>258</td>\n",
              "      <td>0</td>\n",
              "      <td>흥아해운</td>\n",
              "    </tr>\n",
              "    <tr>\n",
              "      <th>2236125</th>\n",
              "      <td>20201203</td>\n",
              "      <td>0</td>\n",
              "      <td>0</td>\n",
              "      <td>0</td>\n",
              "      <td>258</td>\n",
              "      <td>0</td>\n",
              "      <td>흥아해운</td>\n",
              "    </tr>\n",
              "    <tr>\n",
              "      <th>2236126</th>\n",
              "      <td>20201204</td>\n",
              "      <td>0</td>\n",
              "      <td>0</td>\n",
              "      <td>0</td>\n",
              "      <td>258</td>\n",
              "      <td>0</td>\n",
              "      <td>흥아해운</td>\n",
              "    </tr>\n",
              "    <tr>\n",
              "      <th>2236127</th>\n",
              "      <td>20201207</td>\n",
              "      <td>0</td>\n",
              "      <td>0</td>\n",
              "      <td>0</td>\n",
              "      <td>258</td>\n",
              "      <td>0</td>\n",
              "      <td>흥아해운</td>\n",
              "    </tr>\n",
              "  </tbody>\n",
              "</table>\n",
              "<p>2236128 rows × 7 columns</p>\n",
              "</div>"
            ],
            "text/plain": [
              "             data  open  high   low close   Volume    name\n",
              "0        20150821  6180  7300  5600  7100  1994022  AJ네트웍스\n",
              "1        20150824  6700  6940  6240  6480   392831  AJ네트웍스\n",
              "2        20150825  6610  6730  6189  6220   242730  AJ네트웍스\n",
              "3        20150826  6260  7760  6260  7090   703721  AJ네트웍스\n",
              "4        20150827  7239  8060  6960  7570   499913  AJ네트웍스\n",
              "...           ...   ...   ...   ...   ...      ...     ...\n",
              "2236123  20201201     0     0     0   258        0    흥아해운\n",
              "2236124  20201202     0     0     0   258        0    흥아해운\n",
              "2236125  20201203     0     0     0   258        0    흥아해운\n",
              "2236126  20201204     0     0     0   258        0    흥아해운\n",
              "2236127  20201207     0     0     0   258        0    흥아해운\n",
              "\n",
              "[2236128 rows x 7 columns]"
            ]
          },
          "metadata": {
            "tags": []
          },
          "execution_count": 20
        }
      ]
    },
    {
      "cell_type": "code",
      "metadata": {
        "id": "5wofBPBjs9FT"
      },
      "source": [
        "\n",
        "df_final.to_csv('NEW_KOSPI_10_years_data.csv',encoding='euc-kr')\n"
      ],
      "execution_count": null,
      "outputs": []
    },
    {
      "cell_type": "code",
      "metadata": {
        "id": "Sn-xtFEK2hB-"
      },
      "source": [
        ""
      ],
      "execution_count": null,
      "outputs": []
    }
  ]
}