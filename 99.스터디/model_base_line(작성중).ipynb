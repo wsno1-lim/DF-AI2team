{
  "nbformat": 4,
  "nbformat_minor": 0,
  "metadata": {
    "colab": {
      "name": "model_base_line.ipynb",
      "provenance": [],
      "collapsed_sections": []
    },
    "kernelspec": {
      "name": "python3",
      "display_name": "Python 3"
    },
    "accelerator": "GPU"
  },
  "cells": [
    {
      "cell_type": "markdown",
      "metadata": {
        "id": "o-FZVi6vo3rF"
      },
      "source": [
        "#  0. 문제정의\r\n",
        "*  한국 시총 1위인 삼성전자 주식 선정(개별 종목 중 경제지수와 비슷하게 흘러가고, 찌라시에 덜 영향이 있을거라 생각)\r\n",
        "*  삼성전자 종가와 VIX 지수관계 머신러닝으로 확인\r\n",
        "*  삼성전자 LSTM으로 딥러닝 "
      ]
    },
    {
      "cell_type": "markdown",
      "metadata": {
        "id": "cvc0RbGvK8zn"
      },
      "source": [
        "# 1. 데이터 수집\r\n",
        "\r\n",
        "*  삼성전자 2010년 이후 데이터\r\n",
        "*  VIX 2010년 이후 데이터\r\n"
      ]
    },
    {
      "cell_type": "markdown",
      "metadata": {
        "id": "TvpZJxOjLBIf"
      },
      "source": [
        ""
      ]
    },
    {
      "cell_type": "code",
      "metadata": {
        "colab": {
          "base_uri": "https://localhost:8080/"
        },
        "id": "o8se15NNbOI9",
        "outputId": "c6a10c60-d3ef-4c40-fc20-69daae718fac"
      },
      "source": [
        "url = 'https://launchpad.net/~mario-mariomedina/+archive/ubuntu/talib/+files'\r\n",
        "!wget $url/libta-lib0_0.4.0-oneiric1_amd64.deb -qO libta.deb\r\n",
        "!wget $url/ta-lib0-dev_0.4.0-oneiric1_amd64.deb -qO ta.deb\r\n",
        "!dpkg -i libta.deb ta.deb\r\n",
        "!pip install ta-lib\r\n",
        "import talib"
      ],
      "execution_count": 1,
      "outputs": [
        {
          "output_type": "stream",
          "text": [
            "Selecting previously unselected package libta-lib0.\n",
            "(Reading database ... 144865 files and directories currently installed.)\n",
            "Preparing to unpack libta.deb ...\n",
            "Unpacking libta-lib0 (0.4.0-oneiric1) ...\n",
            "Selecting previously unselected package ta-lib0-dev.\n",
            "Preparing to unpack ta.deb ...\n",
            "Unpacking ta-lib0-dev (0.4.0-oneiric1) ...\n",
            "Setting up libta-lib0 (0.4.0-oneiric1) ...\n",
            "Setting up ta-lib0-dev (0.4.0-oneiric1) ...\n",
            "Processing triggers for man-db (2.8.3-2ubuntu0.1) ...\n",
            "Processing triggers for libc-bin (2.27-3ubuntu1.2) ...\n",
            "/sbin/ldconfig.real: /usr/local/lib/python3.6/dist-packages/ideep4py/lib/libmkldnn.so.0 is not a symbolic link\n",
            "\n",
            "Collecting ta-lib\n",
            "\u001b[?25l  Downloading https://files.pythonhosted.org/packages/ac/cf/681911aa31e04ba171ab4d523a412f4a746e30d3eacb1738799d181e028b/TA-Lib-0.4.19.tar.gz (267kB)\n",
            "\u001b[K     |████████████████████████████████| 276kB 15.3MB/s \n",
            "\u001b[?25hRequirement already satisfied: numpy in /usr/local/lib/python3.6/dist-packages (from ta-lib) (1.18.5)\n",
            "Building wheels for collected packages: ta-lib\n",
            "  Building wheel for ta-lib (setup.py) ... \u001b[?25l\u001b[?25hdone\n",
            "  Created wheel for ta-lib: filename=TA_Lib-0.4.19-cp36-cp36m-linux_x86_64.whl size=1437799 sha256=047e805fb92c4324e67ceb5b852c39d06c68c5c428f0107c6ac9f35980469c8d\n",
            "  Stored in directory: /root/.cache/pip/wheels/a3/f6/12/3d1ccd06caadd8fa47e016991dd0d27f1163bb260f1854e2ff\n",
            "Successfully built ta-lib\n",
            "Installing collected packages: ta-lib\n",
            "Successfully installed ta-lib-0.4.19\n"
          ],
          "name": "stdout"
        }
      ]
    },
    {
      "cell_type": "code",
      "metadata": {
        "id": "kTIc0AgtKX6V"
      },
      "source": [
        "from pandas_datareader import data\r\n",
        "from keras.models import Sequential\r\n",
        "from keras.layers import LSTM, Dropout, Dense, Activation\r\n",
        "import matplotlib.pyplot as plt\r\n",
        "import pandas as pd\r\n",
        "import numpy as np\r\n",
        "import math\r\n",
        "import warnings\r\n",
        "warnings.filterwarnings('ignore')\r\n",
        "\r\n",
        "from sklearn import preprocessing\r\n",
        "from sklearn.preprocessing import StandardScaler\r\n",
        "from sklearn.model_selection import train_test_split\r\n",
        "from sklearn.model_selection import cross_validate\r\n",
        "from sklearn.model_selection import TimeSeriesSplit\r\n",
        "from sklearn.model_selection import GridSearchCV\r\n",
        "from sklearn.linear_model import LinearRegression\r\n",
        "from sklearn.ensemble import RandomForestClassifier\r\n",
        "from xgboost import XGBClassifier\r\n",
        "from xgboost import plot_importance\r\n",
        "from sklearn.metrics import precision_score, recall_score, confusion_matrix, roc_auc_score\r\n",
        "from sklearn.metrics import f1_score\r\n",
        "from sklearn.metrics import mean_squared_error, r2_score\r\n",
        "from sklearn.metrics import accuracy_score\r\n",
        "from sklearn import svm\r\n",
        "\r\n",
        "import seaborn as sns; sns.set()"
      ],
      "execution_count": 2,
      "outputs": []
    },
    {
      "cell_type": "code",
      "metadata": {
        "colab": {
          "base_uri": "https://localhost:8080/"
        },
        "id": "2AU7sdjVfOSL",
        "outputId": "eb1f9673-de01-4d61-890e-b523e8ff3b41"
      },
      "source": [
        "pip install -U finance-datareader"
      ],
      "execution_count": 3,
      "outputs": [
        {
          "output_type": "stream",
          "text": [
            "Collecting finance-datareader\n",
            "  Downloading https://files.pythonhosted.org/packages/ed/10/1f819839aae5d08e6cc7b29425d278c10104a18e0155282aa2ce552e3fa2/finance_datareader-0.9.10-py3-none-any.whl\n",
            "Requirement already satisfied, skipping upgrade: pandas>=0.19.2 in /usr/local/lib/python3.6/dist-packages (from finance-datareader) (1.1.5)\n",
            "Requirement already satisfied, skipping upgrade: lxml in /usr/local/lib/python3.6/dist-packages (from finance-datareader) (4.2.6)\n",
            "Collecting requests-file\n",
            "  Downloading https://files.pythonhosted.org/packages/77/86/cdb5e8eaed90796aa83a6d9f75cfbd37af553c47a291cd47bc410ef9bdb2/requests_file-1.5.1-py2.py3-none-any.whl\n",
            "Requirement already satisfied, skipping upgrade: requests>=2.3.0 in /usr/local/lib/python3.6/dist-packages (from finance-datareader) (2.23.0)\n",
            "Requirement already satisfied, skipping upgrade: tqdm in /usr/local/lib/python3.6/dist-packages (from finance-datareader) (4.41.1)\n",
            "Requirement already satisfied, skipping upgrade: pytz>=2017.2 in /usr/local/lib/python3.6/dist-packages (from pandas>=0.19.2->finance-datareader) (2018.9)\n",
            "Requirement already satisfied, skipping upgrade: python-dateutil>=2.7.3 in /usr/local/lib/python3.6/dist-packages (from pandas>=0.19.2->finance-datareader) (2.8.1)\n",
            "Requirement already satisfied, skipping upgrade: numpy>=1.15.4 in /usr/local/lib/python3.6/dist-packages (from pandas>=0.19.2->finance-datareader) (1.18.5)\n",
            "Requirement already satisfied, skipping upgrade: six in /usr/local/lib/python3.6/dist-packages (from requests-file->finance-datareader) (1.15.0)\n",
            "Requirement already satisfied, skipping upgrade: idna<3,>=2.5 in /usr/local/lib/python3.6/dist-packages (from requests>=2.3.0->finance-datareader) (2.10)\n",
            "Requirement already satisfied, skipping upgrade: urllib3!=1.25.0,!=1.25.1,<1.26,>=1.21.1 in /usr/local/lib/python3.6/dist-packages (from requests>=2.3.0->finance-datareader) (1.24.3)\n",
            "Requirement already satisfied, skipping upgrade: certifi>=2017.4.17 in /usr/local/lib/python3.6/dist-packages (from requests>=2.3.0->finance-datareader) (2020.12.5)\n",
            "Requirement already satisfied, skipping upgrade: chardet<4,>=3.0.2 in /usr/local/lib/python3.6/dist-packages (from requests>=2.3.0->finance-datareader) (3.0.4)\n",
            "Installing collected packages: requests-file, finance-datareader\n",
            "Successfully installed finance-datareader-0.9.10 requests-file-1.5.1\n"
          ],
          "name": "stdout"
        }
      ]
    },
    {
      "cell_type": "code",
      "metadata": {
        "id": "8eKu7DSPfMW9"
      },
      "source": [
        "import FinanceDataReader as fdr"
      ],
      "execution_count": 4,
      "outputs": []
    },
    {
      "cell_type": "code",
      "metadata": {
        "id": "XVkNd30qUh10"
      },
      "source": [
        "#samsung_st_date = '2010-12-16'\r\n",
        "#samsung_enddate = '2020-12-16'\r\n",
        "#samsung = data.DataReader('005930.ks', 'yahoo', samsung_st_date, samsung_enddate)\r\n",
        "#samsung.head(9)\r\n",
        "\r\n",
        "samsung = fdr.DataReader('005930', '2010') #2010년 이후 삼성 주가 가져옴\r\n"
      ],
      "execution_count": 43,
      "outputs": []
    },
    {
      "cell_type": "code",
      "metadata": {
        "colab": {
          "base_uri": "https://localhost:8080/",
          "height": 450
        },
        "id": "Hj4Wn7v6gmsz",
        "outputId": "cc308a37-ea6a-4768-8ea3-6a619a2df62f"
      },
      "source": [
        "samsung"
      ],
      "execution_count": 44,
      "outputs": [
        {
          "output_type": "execute_result",
          "data": {
            "text/html": [
              "<div>\n",
              "<style scoped>\n",
              "    .dataframe tbody tr th:only-of-type {\n",
              "        vertical-align: middle;\n",
              "    }\n",
              "\n",
              "    .dataframe tbody tr th {\n",
              "        vertical-align: top;\n",
              "    }\n",
              "\n",
              "    .dataframe thead th {\n",
              "        text-align: right;\n",
              "    }\n",
              "</style>\n",
              "<table border=\"1\" class=\"dataframe\">\n",
              "  <thead>\n",
              "    <tr style=\"text-align: right;\">\n",
              "      <th></th>\n",
              "      <th>Open</th>\n",
              "      <th>High</th>\n",
              "      <th>Low</th>\n",
              "      <th>Close</th>\n",
              "      <th>Volume</th>\n",
              "      <th>Change</th>\n",
              "    </tr>\n",
              "    <tr>\n",
              "      <th>Date</th>\n",
              "      <th></th>\n",
              "      <th></th>\n",
              "      <th></th>\n",
              "      <th></th>\n",
              "      <th></th>\n",
              "      <th></th>\n",
              "    </tr>\n",
              "  </thead>\n",
              "  <tbody>\n",
              "    <tr>\n",
              "      <th>2010-01-04</th>\n",
              "      <td>16060</td>\n",
              "      <td>16180</td>\n",
              "      <td>16000</td>\n",
              "      <td>16180</td>\n",
              "      <td>239271</td>\n",
              "      <td>0.012516</td>\n",
              "    </tr>\n",
              "    <tr>\n",
              "      <th>2010-01-05</th>\n",
              "      <td>16520</td>\n",
              "      <td>16580</td>\n",
              "      <td>16300</td>\n",
              "      <td>16440</td>\n",
              "      <td>559219</td>\n",
              "      <td>0.016069</td>\n",
              "    </tr>\n",
              "    <tr>\n",
              "      <th>2010-01-06</th>\n",
              "      <td>16580</td>\n",
              "      <td>16820</td>\n",
              "      <td>16520</td>\n",
              "      <td>16820</td>\n",
              "      <td>459755</td>\n",
              "      <td>0.023114</td>\n",
              "    </tr>\n",
              "    <tr>\n",
              "      <th>2010-01-07</th>\n",
              "      <td>16820</td>\n",
              "      <td>16820</td>\n",
              "      <td>16260</td>\n",
              "      <td>16260</td>\n",
              "      <td>443237</td>\n",
              "      <td>-0.033294</td>\n",
              "    </tr>\n",
              "    <tr>\n",
              "      <th>2010-01-08</th>\n",
              "      <td>16400</td>\n",
              "      <td>16420</td>\n",
              "      <td>16120</td>\n",
              "      <td>16420</td>\n",
              "      <td>295798</td>\n",
              "      <td>0.009840</td>\n",
              "    </tr>\n",
              "    <tr>\n",
              "      <th>...</th>\n",
              "      <td>...</td>\n",
              "      <td>...</td>\n",
              "      <td>...</td>\n",
              "      <td>...</td>\n",
              "      <td>...</td>\n",
              "      <td>...</td>\n",
              "    </tr>\n",
              "    <tr>\n",
              "      <th>2020-12-10</th>\n",
              "      <td>72700</td>\n",
              "      <td>73800</td>\n",
              "      <td>72500</td>\n",
              "      <td>72900</td>\n",
              "      <td>39882928</td>\n",
              "      <td>-0.013532</td>\n",
              "    </tr>\n",
              "    <tr>\n",
              "      <th>2020-12-11</th>\n",
              "      <td>73500</td>\n",
              "      <td>73800</td>\n",
              "      <td>73100</td>\n",
              "      <td>73400</td>\n",
              "      <td>18486672</td>\n",
              "      <td>0.006859</td>\n",
              "    </tr>\n",
              "    <tr>\n",
              "      <th>2020-12-14</th>\n",
              "      <td>73600</td>\n",
              "      <td>74500</td>\n",
              "      <td>73200</td>\n",
              "      <td>73800</td>\n",
              "      <td>21510415</td>\n",
              "      <td>0.005450</td>\n",
              "    </tr>\n",
              "    <tr>\n",
              "      <th>2020-12-15</th>\n",
              "      <td>73800</td>\n",
              "      <td>74100</td>\n",
              "      <td>73300</td>\n",
              "      <td>73800</td>\n",
              "      <td>20863671</td>\n",
              "      <td>0.000000</td>\n",
              "    </tr>\n",
              "    <tr>\n",
              "      <th>2020-12-16</th>\n",
              "      <td>74100</td>\n",
              "      <td>74500</td>\n",
              "      <td>73400</td>\n",
              "      <td>73800</td>\n",
              "      <td>17365840</td>\n",
              "      <td>0.000000</td>\n",
              "    </tr>\n",
              "  </tbody>\n",
              "</table>\n",
              "<p>2705 rows × 6 columns</p>\n",
              "</div>"
            ],
            "text/plain": [
              "             Open   High    Low  Close    Volume    Change\n",
              "Date                                                      \n",
              "2010-01-04  16060  16180  16000  16180    239271  0.012516\n",
              "2010-01-05  16520  16580  16300  16440    559219  0.016069\n",
              "2010-01-06  16580  16820  16520  16820    459755  0.023114\n",
              "2010-01-07  16820  16820  16260  16260    443237 -0.033294\n",
              "2010-01-08  16400  16420  16120  16420    295798  0.009840\n",
              "...           ...    ...    ...    ...       ...       ...\n",
              "2020-12-10  72700  73800  72500  72900  39882928 -0.013532\n",
              "2020-12-11  73500  73800  73100  73400  18486672  0.006859\n",
              "2020-12-14  73600  74500  73200  73800  21510415  0.005450\n",
              "2020-12-15  73800  74100  73300  73800  20863671  0.000000\n",
              "2020-12-16  74100  74500  73400  73800  17365840  0.000000\n",
              "\n",
              "[2705 rows x 6 columns]"
            ]
          },
          "metadata": {
            "tags": []
          },
          "execution_count": 44
        }
      ]
    },
    {
      "cell_type": "code",
      "metadata": {
        "colab": {
          "base_uri": "https://localhost:8080/"
        },
        "id": "WbkT9LPzltNe",
        "outputId": "6ddd93a9-f502-4057-b59b-fe2a61be3942"
      },
      "source": [
        "samsung.isnull().sum()"
      ],
      "execution_count": 45,
      "outputs": [
        {
          "output_type": "execute_result",
          "data": {
            "text/plain": [
              "Open      0\n",
              "High      0\n",
              "Low       0\n",
              "Close     0\n",
              "Volume    0\n",
              "Change    0\n",
              "dtype: int64"
            ]
          },
          "metadata": {
            "tags": []
          },
          "execution_count": 45
        }
      ]
    },
    {
      "cell_type": "code",
      "metadata": {
        "id": "AhCvjx3vfIHt"
      },
      "source": [
        "VIX = fdr.DataReader('VIX', '2010') #2010년 이후 VIX 지수가져옴\r\n"
      ],
      "execution_count": 58,
      "outputs": []
    },
    {
      "cell_type": "markdown",
      "metadata": {
        "id": "KW1WHJUUqSHL"
      },
      "source": [
        "## 데이터 시각화\r\n",
        "\r\n",
        "* 삼전종가\r\n",
        "* VIX종가\r\n",
        "* 삼전 이동평균선\r\n",
        "* 삼전과 vix의 관계 그래프 등등"
      ]
    },
    {
      "cell_type": "code",
      "metadata": {
        "colab": {
          "base_uri": "https://localhost:8080/",
          "height": 294
        },
        "id": "QOS04sPUp9No",
        "outputId": "efb1f3ba-1c44-451b-c72d-91fe7dde3ca6"
      },
      "source": [
        "VIX['Close'].plot()\r\n"
      ],
      "execution_count": 59,
      "outputs": [
        {
          "output_type": "execute_result",
          "data": {
            "text/plain": [
              "<matplotlib.axes._subplots.AxesSubplot at 0x7f9043d225c0>"
            ]
          },
          "metadata": {
            "tags": []
          },
          "execution_count": 59
        },
        {
          "output_type": "display_data",
          "data": {
            "image/png": "[encoded data removed]",
            "text/plain": [
              "<Figure size 432x288 with 1 Axes>"
            ]
          },
          "metadata": {
            "tags": []
          }
        }
      ]
    },
    {
      "cell_type": "code",
      "metadata": {
        "colab": {
          "base_uri": "https://localhost:8080/",
          "height": 294
        },
        "id": "PWMX8TWnqQBF",
        "outputId": "c863b7fa-1bf8-4aac-ad23-3cc8f6896df6"
      },
      "source": [
        "samsung['Close'].plot()"
      ],
      "execution_count": 60,
      "outputs": [
        {
          "output_type": "execute_result",
          "data": {
            "text/plain": [
              "<matplotlib.axes._subplots.AxesSubplot at 0x7f9043d4d400>"
            ]
          },
          "metadata": {
            "tags": []
          },
          "execution_count": 60
        },
        {
          "output_type": "display_data",
          "data": {
            "image/png": "[encoded data removed]",
            "text/plain": [
              "<Figure size 432x288 with 1 Axes>"
            ]
          },
          "metadata": {
            "tags": []
          }
        }
      ]
    },
    {
      "cell_type": "markdown",
      "metadata": {
        "id": "KxO3yfInslIm"
      },
      "source": [
        "## 수집된 데이터를 기반으로 새로운 데이터 생성\r\n",
        "*  "
      ]
    },
    {
      "cell_type": "code",
      "metadata": {
        "id": "ro1JKWlWhf0a"
      },
      "source": [
        "VIX = VIX.drop(['Open','High','Low', 'Volume','Change'], axis=1) \r\n",
        "# 필요없는거 버리고 close만 쓸거임"
      ],
      "execution_count": 61,
      "outputs": []
    },
    {
      "cell_type": "code",
      "metadata": {
        "colab": {
          "base_uri": "https://localhost:8080/",
          "height": 450
        },
        "id": "uOnM13GqgHJA",
        "outputId": "48f77805-31d0-44cb-ae89-225fae261287"
      },
      "source": [
        "VIX.columns = ['VIX_Close']\r\n",
        "VIX"
      ],
      "execution_count": 62,
      "outputs": [
        {
          "output_type": "execute_result",
          "data": {
            "text/html": [
              "<div>\n",
              "<style scoped>\n",
              "    .dataframe tbody tr th:only-of-type {\n",
              "        vertical-align: middle;\n",
              "    }\n",
              "\n",
              "    .dataframe tbody tr th {\n",
              "        vertical-align: top;\n",
              "    }\n",
              "\n",
              "    .dataframe thead th {\n",
              "        text-align: right;\n",
              "    }\n",
              "</style>\n",
              "<table border=\"1\" class=\"dataframe\">\n",
              "  <thead>\n",
              "    <tr style=\"text-align: right;\">\n",
              "      <th></th>\n",
              "      <th>VIX_Close</th>\n",
              "    </tr>\n",
              "    <tr>\n",
              "      <th>Date</th>\n",
              "      <th></th>\n",
              "    </tr>\n",
              "  </thead>\n",
              "  <tbody>\n",
              "    <tr>\n",
              "      <th>2010-01-04</th>\n",
              "      <td>20.04</td>\n",
              "    </tr>\n",
              "    <tr>\n",
              "      <th>2010-01-05</th>\n",
              "      <td>19.35</td>\n",
              "    </tr>\n",
              "    <tr>\n",
              "      <th>2010-01-06</th>\n",
              "      <td>19.16</td>\n",
              "    </tr>\n",
              "    <tr>\n",
              "      <th>2010-01-07</th>\n",
              "      <td>19.06</td>\n",
              "    </tr>\n",
              "    <tr>\n",
              "      <th>2010-01-08</th>\n",
              "      <td>18.13</td>\n",
              "    </tr>\n",
              "    <tr>\n",
              "      <th>...</th>\n",
              "      <td>...</td>\n",
              "    </tr>\n",
              "    <tr>\n",
              "      <th>2020-12-10</th>\n",
              "      <td>22.52</td>\n",
              "    </tr>\n",
              "    <tr>\n",
              "      <th>2020-12-11</th>\n",
              "      <td>23.31</td>\n",
              "    </tr>\n",
              "    <tr>\n",
              "      <th>2020-12-14</th>\n",
              "      <td>24.72</td>\n",
              "    </tr>\n",
              "    <tr>\n",
              "      <th>2020-12-15</th>\n",
              "      <td>22.89</td>\n",
              "    </tr>\n",
              "    <tr>\n",
              "      <th>2020-12-16</th>\n",
              "      <td>22.39</td>\n",
              "    </tr>\n",
              "  </tbody>\n",
              "</table>\n",
              "<p>2762 rows × 1 columns</p>\n",
              "</div>"
            ],
            "text/plain": [
              "            VIX_Close\n",
              "Date                 \n",
              "2010-01-04      20.04\n",
              "2010-01-05      19.35\n",
              "2010-01-06      19.16\n",
              "2010-01-07      19.06\n",
              "2010-01-08      18.13\n",
              "...               ...\n",
              "2020-12-10      22.52\n",
              "2020-12-11      23.31\n",
              "2020-12-14      24.72\n",
              "2020-12-15      22.89\n",
              "2020-12-16      22.39\n",
              "\n",
              "[2762 rows x 1 columns]"
            ]
          },
          "metadata": {
            "tags": []
          },
          "execution_count": 62
        }
      ]
    },
    {
      "cell_type": "code",
      "metadata": {
        "colab": {
          "base_uri": "https://localhost:8080/"
        },
        "id": "1Rb-xfPukrDm",
        "outputId": "9dada829-232e-4602-a6e7-d0278d0e8ef6"
      },
      "source": [
        "VIX.isnull().sum()"
      ],
      "execution_count": 63,
      "outputs": [
        {
          "output_type": "execute_result",
          "data": {
            "text/plain": [
              "VIX_Close    0\n",
              "dtype: int64"
            ]
          },
          "metadata": {
            "tags": []
          },
          "execution_count": 63
        }
      ]
    },
    {
      "cell_type": "code",
      "metadata": {
        "colab": {
          "base_uri": "https://localhost:8080/",
          "height": 450
        },
        "id": "io3Qz4Ucf6KN",
        "outputId": "c40c5063-0484-4ab2-ae4a-9584359458f8"
      },
      "source": [
        "snv = pd.concat([samsung,VIX],axis=1)\r\n",
        "snv"
      ],
      "execution_count": 64,
      "outputs": [
        {
          "output_type": "execute_result",
          "data": {
            "text/html": [
              "<div>\n",
              "<style scoped>\n",
              "    .dataframe tbody tr th:only-of-type {\n",
              "        vertical-align: middle;\n",
              "    }\n",
              "\n",
              "    .dataframe tbody tr th {\n",
              "        vertical-align: top;\n",
              "    }\n",
              "\n",
              "    .dataframe thead th {\n",
              "        text-align: right;\n",
              "    }\n",
              "</style>\n",
              "<table border=\"1\" class=\"dataframe\">\n",
              "  <thead>\n",
              "    <tr style=\"text-align: right;\">\n",
              "      <th></th>\n",
              "      <th>Open</th>\n",
              "      <th>High</th>\n",
              "      <th>Low</th>\n",
              "      <th>Close</th>\n",
              "      <th>Volume</th>\n",
              "      <th>Change</th>\n",
              "      <th>VIX_Close</th>\n",
              "    </tr>\n",
              "    <tr>\n",
              "      <th>Date</th>\n",
              "      <th></th>\n",
              "      <th></th>\n",
              "      <th></th>\n",
              "      <th></th>\n",
              "      <th></th>\n",
              "      <th></th>\n",
              "      <th></th>\n",
              "    </tr>\n",
              "  </thead>\n",
              "  <tbody>\n",
              "    <tr>\n",
              "      <th>2010-01-04</th>\n",
              "      <td>16060.0</td>\n",
              "      <td>16180.0</td>\n",
              "      <td>16000.0</td>\n",
              "      <td>16180.0</td>\n",
              "      <td>239271.0</td>\n",
              "      <td>0.012516</td>\n",
              "      <td>20.04</td>\n",
              "    </tr>\n",
              "    <tr>\n",
              "      <th>2010-01-05</th>\n",
              "      <td>16520.0</td>\n",
              "      <td>16580.0</td>\n",
              "      <td>16300.0</td>\n",
              "      <td>16440.0</td>\n",
              "      <td>559219.0</td>\n",
              "      <td>0.016069</td>\n",
              "      <td>19.35</td>\n",
              "    </tr>\n",
              "    <tr>\n",
              "      <th>2010-01-06</th>\n",
              "      <td>16580.0</td>\n",
              "      <td>16820.0</td>\n",
              "      <td>16520.0</td>\n",
              "      <td>16820.0</td>\n",
              "      <td>459755.0</td>\n",
              "      <td>0.023114</td>\n",
              "      <td>19.16</td>\n",
              "    </tr>\n",
              "    <tr>\n",
              "      <th>2010-01-07</th>\n",
              "      <td>16820.0</td>\n",
              "      <td>16820.0</td>\n",
              "      <td>16260.0</td>\n",
              "      <td>16260.0</td>\n",
              "      <td>443237.0</td>\n",
              "      <td>-0.033294</td>\n",
              "      <td>19.06</td>\n",
              "    </tr>\n",
              "    <tr>\n",
              "      <th>2010-01-08</th>\n",
              "      <td>16400.0</td>\n",
              "      <td>16420.0</td>\n",
              "      <td>16120.0</td>\n",
              "      <td>16420.0</td>\n",
              "      <td>295798.0</td>\n",
              "      <td>0.009840</td>\n",
              "      <td>18.13</td>\n",
              "    </tr>\n",
              "    <tr>\n",
              "      <th>...</th>\n",
              "      <td>...</td>\n",
              "      <td>...</td>\n",
              "      <td>...</td>\n",
              "      <td>...</td>\n",
              "      <td>...</td>\n",
              "      <td>...</td>\n",
              "      <td>...</td>\n",
              "    </tr>\n",
              "    <tr>\n",
              "      <th>2020-12-10</th>\n",
              "      <td>72700.0</td>\n",
              "      <td>73800.0</td>\n",
              "      <td>72500.0</td>\n",
              "      <td>72900.0</td>\n",
              "      <td>39882928.0</td>\n",
              "      <td>-0.013532</td>\n",
              "      <td>22.52</td>\n",
              "    </tr>\n",
              "    <tr>\n",
              "      <th>2020-12-11</th>\n",
              "      <td>73500.0</td>\n",
              "      <td>73800.0</td>\n",
              "      <td>73100.0</td>\n",
              "      <td>73400.0</td>\n",
              "      <td>18486672.0</td>\n",
              "      <td>0.006859</td>\n",
              "      <td>23.31</td>\n",
              "    </tr>\n",
              "    <tr>\n",
              "      <th>2020-12-14</th>\n",
              "      <td>73600.0</td>\n",
              "      <td>74500.0</td>\n",
              "      <td>73200.0</td>\n",
              "      <td>73800.0</td>\n",
              "      <td>21510415.0</td>\n",
              "      <td>0.005450</td>\n",
              "      <td>24.72</td>\n",
              "    </tr>\n",
              "    <tr>\n",
              "      <th>2020-12-15</th>\n",
              "      <td>73800.0</td>\n",
              "      <td>74100.0</td>\n",
              "      <td>73300.0</td>\n",
              "      <td>73800.0</td>\n",
              "      <td>20863671.0</td>\n",
              "      <td>0.000000</td>\n",
              "      <td>22.89</td>\n",
              "    </tr>\n",
              "    <tr>\n",
              "      <th>2020-12-16</th>\n",
              "      <td>74100.0</td>\n",
              "      <td>74500.0</td>\n",
              "      <td>73400.0</td>\n",
              "      <td>73800.0</td>\n",
              "      <td>17365840.0</td>\n",
              "      <td>0.000000</td>\n",
              "      <td>22.39</td>\n",
              "    </tr>\n",
              "  </tbody>\n",
              "</table>\n",
              "<p>2841 rows × 7 columns</p>\n",
              "</div>"
            ],
            "text/plain": [
              "               Open     High      Low    Close      Volume    Change  VIX_Close\n",
              "Date                                                                           \n",
              "2010-01-04  16060.0  16180.0  16000.0  16180.0    239271.0  0.012516      20.04\n",
              "2010-01-05  16520.0  16580.0  16300.0  16440.0    559219.0  0.016069      19.35\n",
              "2010-01-06  16580.0  16820.0  16520.0  16820.0    459755.0  0.023114      19.16\n",
              "2010-01-07  16820.0  16820.0  16260.0  16260.0    443237.0 -0.033294      19.06\n",
              "2010-01-08  16400.0  16420.0  16120.0  16420.0    295798.0  0.009840      18.13\n",
              "...             ...      ...      ...      ...         ...       ...        ...\n",
              "2020-12-10  72700.0  73800.0  72500.0  72900.0  39882928.0 -0.013532      22.52\n",
              "2020-12-11  73500.0  73800.0  73100.0  73400.0  18486672.0  0.006859      23.31\n",
              "2020-12-14  73600.0  74500.0  73200.0  73800.0  21510415.0  0.005450      24.72\n",
              "2020-12-15  73800.0  74100.0  73300.0  73800.0  20863671.0  0.000000      22.89\n",
              "2020-12-16  74100.0  74500.0  73400.0  73800.0  17365840.0  0.000000      22.39\n",
              "\n",
              "[2841 rows x 7 columns]"
            ]
          },
          "metadata": {
            "tags": []
          },
          "execution_count": 64
        }
      ]
    },
    {
      "cell_type": "code",
      "metadata": {
        "colab": {
          "base_uri": "https://localhost:8080/"
        },
        "id": "iKA6vMgelyIK",
        "outputId": "85d4f90a-14d0-4cf6-a5fc-ea0140043b4a"
      },
      "source": [
        "snv.isnull().sum()\r\n",
        "# 한국과 미국 영업일이 달라서 합쳤을 때 결측치가 생겨버림.."
      ],
      "execution_count": 65,
      "outputs": [
        {
          "output_type": "execute_result",
          "data": {
            "text/plain": [
              "Open         136\n",
              "High         136\n",
              "Low          136\n",
              "Close        136\n",
              "Volume       136\n",
              "Change       136\n",
              "VIX_Close     79\n",
              "dtype: int64"
            ]
          },
          "metadata": {
            "tags": []
          },
          "execution_count": 65
        }
      ]
    },
    {
      "cell_type": "code",
      "metadata": {
        "id": "DD83rXr2l861"
      },
      "source": [
        "snv = snv.dropna()\r\n",
        "# 없애버리자"
      ],
      "execution_count": 66,
      "outputs": []
    },
    {
      "cell_type": "code",
      "metadata": {
        "colab": {
          "base_uri": "https://localhost:8080/"
        },
        "id": "bz_OzAs_mCQP",
        "outputId": "1ff8472f-08e8-4a93-e63f-729c0d411326"
      },
      "source": [
        "snv.info()\r\n",
        "# 건수가 좀 줄었지만 크게 줄지 않았음.."
      ],
      "execution_count": 67,
      "outputs": [
        {
          "output_type": "stream",
          "text": [
            "<class 'pandas.core.frame.DataFrame'>\n",
            "DatetimeIndex: 2626 entries, 2010-01-04 to 2020-12-16\n",
            "Data columns (total 7 columns):\n",
            " #   Column     Non-Null Count  Dtype  \n",
            "---  ------     --------------  -----  \n",
            " 0   Open       2626 non-null   float64\n",
            " 1   High       2626 non-null   float64\n",
            " 2   Low        2626 non-null   float64\n",
            " 3   Close      2626 non-null   float64\n",
            " 4   Volume     2626 non-null   float64\n",
            " 5   Change     2626 non-null   float64\n",
            " 6   VIX_Close  2626 non-null   float64\n",
            "dtypes: float64(7)\n",
            "memory usage: 164.1 KB\n"
          ],
          "name": "stdout"
        }
      ]
    },
    {
      "cell_type": "markdown",
      "metadata": {
        "id": "CJ5UfgeURB-X"
      },
      "source": [
        "## 머신러닝"
      ]
    },
    {
      "cell_type": "code",
      "metadata": {
        "id": "4R75BDQZaidl"
      },
      "source": [
        "#snv['MA5'] = talib.SMA(snv['Close'], timeperiod=5)\r\n",
        "#snv['MA10'] = talib.SMA(snv['Close'], timeperiod=10)\r\n",
        "#snv['RASD5'] = talib.SMA(talib.STDDEV(snv['Close'], timeperiod=5, nbdev=1),timeperiod=5)\r\n",
        "#snv['RASD10'] = talib.SMA(talib.STDDEV(snv['Close'], timeperiod=5, nbdev=1),timeperiod=10)"
      ],
      "execution_count": 97,
      "outputs": []
    },
    {
      "cell_type": "code",
      "metadata": {
        "id": "ut5SBUNkkNI3"
      },
      "source": [
        "def moving_average(df, n):\r\n",
        "    MA = pd.Series(df['Close'].rolling(n, min_periods=n).mean(), name='MA_' + str(n))\r\n",
        "    df = df.join(MA)\r\n",
        "    return df"
      ],
      "execution_count": 68,
      "outputs": []
    },
    {
      "cell_type": "code",
      "metadata": {
        "id": "kSvQM68MkTYT"
      },
      "source": [
        "snv = moving_average(snv, 10) #10일평균이동선"
      ],
      "execution_count": 69,
      "outputs": []
    },
    {
      "cell_type": "code",
      "metadata": {
        "colab": {
          "base_uri": "https://localhost:8080/"
        },
        "id": "qGSyMi3ZRi0k",
        "outputId": "e13e4c07-c50c-4158-c63a-a3f1cf47068e"
      },
      "source": [
        "snv.isnull().sum()"
      ],
      "execution_count": 70,
      "outputs": [
        {
          "output_type": "execute_result",
          "data": {
            "text/plain": [
              "Open         0\n",
              "High         0\n",
              "Low          0\n",
              "Close        0\n",
              "Volume       0\n",
              "Change       0\n",
              "VIX_Close    0\n",
              "MA_10        9\n",
              "dtype: int64"
            ]
          },
          "metadata": {
            "tags": []
          },
          "execution_count": 70
        }
      ]
    },
    {
      "cell_type": "code",
      "metadata": {
        "id": "iFe9iaKWRi3F"
      },
      "source": [
        "snv = snv.dropna()\r\n",
        "# 맨앞 9개 날림"
      ],
      "execution_count": 71,
      "outputs": []
    },
    {
      "cell_type": "code",
      "metadata": {
        "colab": {
          "base_uri": "https://localhost:8080/"
        },
        "id": "hBWZFOIvRi5c",
        "outputId": "9667f570-2b4a-4fcf-bdb4-fdc8f0b23fe0"
      },
      "source": [
        "len(snv)"
      ],
      "execution_count": 72,
      "outputs": [
        {
          "output_type": "execute_result",
          "data": {
            "text/plain": [
              "2617"
            ]
          },
          "metadata": {
            "tags": []
          },
          "execution_count": 72
        }
      ]
    },
    {
      "cell_type": "code",
      "metadata": {
        "id": "Pwp8_FimUH_v"
      },
      "source": [
        "snv['target'] = snv['Close'].pct_change()"
      ],
      "execution_count": 73,
      "outputs": []
    },
    {
      "cell_type": "code",
      "metadata": {
        "id": "vq0UHJSjU39j"
      },
      "source": [
        "snv = snv.dropna()"
      ],
      "execution_count": 74,
      "outputs": []
    },
    {
      "cell_type": "code",
      "metadata": {
        "colab": {
          "base_uri": "https://localhost:8080/"
        },
        "id": "VPMLyd-FUIEV",
        "outputId": "5efcae15-52ff-47f8-b54e-ed55ec8da97f"
      },
      "source": [
        "snv['target'].describe()"
      ],
      "execution_count": 75,
      "outputs": [
        {
          "output_type": "execute_result",
          "data": {
            "text/plain": [
              "count    2616.000000\n",
              "mean        0.000721\n",
              "std         0.017683\n",
              "min        -0.080357\n",
              "25%        -0.009926\n",
              "50%         0.000409\n",
              "75%         0.010436\n",
              "max         0.104706\n",
              "Name: target, dtype: float64"
            ]
          },
          "metadata": {
            "tags": []
          },
          "execution_count": 75
        }
      ]
    },
    {
      "cell_type": "code",
      "metadata": {
        "colab": {
          "base_uri": "https://localhost:8080/",
          "height": 450
        },
        "id": "VkvqzraiUIGk",
        "outputId": "4199351e-12fc-48e6-ae13-429cc0da0bd1"
      },
      "source": [
        "snv"
      ],
      "execution_count": 76,
      "outputs": [
        {
          "output_type": "execute_result",
          "data": {
            "text/html": [
              "<div>\n",
              "<style scoped>\n",
              "    .dataframe tbody tr th:only-of-type {\n",
              "        vertical-align: middle;\n",
              "    }\n",
              "\n",
              "    .dataframe tbody tr th {\n",
              "        vertical-align: top;\n",
              "    }\n",
              "\n",
              "    .dataframe thead th {\n",
              "        text-align: right;\n",
              "    }\n",
              "</style>\n",
              "<table border=\"1\" class=\"dataframe\">\n",
              "  <thead>\n",
              "    <tr style=\"text-align: right;\">\n",
              "      <th></th>\n",
              "      <th>Open</th>\n",
              "      <th>High</th>\n",
              "      <th>Low</th>\n",
              "      <th>Close</th>\n",
              "      <th>Volume</th>\n",
              "      <th>Change</th>\n",
              "      <th>VIX_Close</th>\n",
              "      <th>MA_10</th>\n",
              "      <th>target</th>\n",
              "    </tr>\n",
              "    <tr>\n",
              "      <th>Date</th>\n",
              "      <th></th>\n",
              "      <th></th>\n",
              "      <th></th>\n",
              "      <th></th>\n",
              "      <th></th>\n",
              "      <th></th>\n",
              "      <th></th>\n",
              "      <th></th>\n",
              "      <th></th>\n",
              "    </tr>\n",
              "  </thead>\n",
              "  <tbody>\n",
              "    <tr>\n",
              "      <th>2010-01-19</th>\n",
              "      <td>17000.0</td>\n",
              "      <td>17000.0</td>\n",
              "      <td>16440.0</td>\n",
              "      <td>16460.0</td>\n",
              "      <td>241308.0</td>\n",
              "      <td>-0.023725</td>\n",
              "      <td>17.58</td>\n",
              "      <td>16384.0</td>\n",
              "      <td>-0.022565</td>\n",
              "    </tr>\n",
              "    <tr>\n",
              "      <th>2010-01-20</th>\n",
              "      <td>16460.0</td>\n",
              "      <td>16740.0</td>\n",
              "      <td>16460.0</td>\n",
              "      <td>16680.0</td>\n",
              "      <td>384306.0</td>\n",
              "      <td>0.013366</td>\n",
              "      <td>18.68</td>\n",
              "      <td>16408.0</td>\n",
              "      <td>0.013366</td>\n",
              "    </tr>\n",
              "    <tr>\n",
              "      <th>2010-01-21</th>\n",
              "      <td>16400.0</td>\n",
              "      <td>17000.0</td>\n",
              "      <td>16400.0</td>\n",
              "      <td>17000.0</td>\n",
              "      <td>340148.0</td>\n",
              "      <td>0.019185</td>\n",
              "      <td>22.27</td>\n",
              "      <td>16426.0</td>\n",
              "      <td>0.019185</td>\n",
              "    </tr>\n",
              "    <tr>\n",
              "      <th>2010-01-22</th>\n",
              "      <td>16800.0</td>\n",
              "      <td>16900.0</td>\n",
              "      <td>16360.0</td>\n",
              "      <td>16500.0</td>\n",
              "      <td>470536.0</td>\n",
              "      <td>-0.029412</td>\n",
              "      <td>27.31</td>\n",
              "      <td>16450.0</td>\n",
              "      <td>-0.029412</td>\n",
              "    </tr>\n",
              "    <tr>\n",
              "      <th>2010-01-25</th>\n",
              "      <td>16320.0</td>\n",
              "      <td>16960.0</td>\n",
              "      <td>16300.0</td>\n",
              "      <td>16840.0</td>\n",
              "      <td>412797.0</td>\n",
              "      <td>0.020606</td>\n",
              "      <td>25.41</td>\n",
              "      <td>16492.0</td>\n",
              "      <td>0.020606</td>\n",
              "    </tr>\n",
              "    <tr>\n",
              "      <th>...</th>\n",
              "      <td>...</td>\n",
              "      <td>...</td>\n",
              "      <td>...</td>\n",
              "      <td>...</td>\n",
              "      <td>...</td>\n",
              "      <td>...</td>\n",
              "      <td>...</td>\n",
              "      <td>...</td>\n",
              "      <td>...</td>\n",
              "    </tr>\n",
              "    <tr>\n",
              "      <th>2020-12-10</th>\n",
              "      <td>72700.0</td>\n",
              "      <td>73800.0</td>\n",
              "      <td>72500.0</td>\n",
              "      <td>72900.0</td>\n",
              "      <td>39882928.0</td>\n",
              "      <td>-0.013532</td>\n",
              "      <td>22.52</td>\n",
              "      <td>70480.0</td>\n",
              "      <td>-0.013532</td>\n",
              "    </tr>\n",
              "    <tr>\n",
              "      <th>2020-12-11</th>\n",
              "      <td>73500.0</td>\n",
              "      <td>73800.0</td>\n",
              "      <td>73100.0</td>\n",
              "      <td>73400.0</td>\n",
              "      <td>18486672.0</td>\n",
              "      <td>0.006859</td>\n",
              "      <td>23.31</td>\n",
              "      <td>71000.0</td>\n",
              "      <td>0.006859</td>\n",
              "    </tr>\n",
              "    <tr>\n",
              "      <th>2020-12-14</th>\n",
              "      <td>73600.0</td>\n",
              "      <td>74500.0</td>\n",
              "      <td>73200.0</td>\n",
              "      <td>73800.0</td>\n",
              "      <td>21510415.0</td>\n",
              "      <td>0.005450</td>\n",
              "      <td>24.72</td>\n",
              "      <td>71710.0</td>\n",
              "      <td>0.005450</td>\n",
              "    </tr>\n",
              "    <tr>\n",
              "      <th>2020-12-15</th>\n",
              "      <td>73800.0</td>\n",
              "      <td>74100.0</td>\n",
              "      <td>73300.0</td>\n",
              "      <td>73800.0</td>\n",
              "      <td>20863671.0</td>\n",
              "      <td>0.000000</td>\n",
              "      <td>22.89</td>\n",
              "      <td>72310.0</td>\n",
              "      <td>0.000000</td>\n",
              "    </tr>\n",
              "    <tr>\n",
              "      <th>2020-12-16</th>\n",
              "      <td>74100.0</td>\n",
              "      <td>74500.0</td>\n",
              "      <td>73400.0</td>\n",
              "      <td>73800.0</td>\n",
              "      <td>17365840.0</td>\n",
              "      <td>0.000000</td>\n",
              "      <td>22.39</td>\n",
              "      <td>72740.0</td>\n",
              "      <td>0.000000</td>\n",
              "    </tr>\n",
              "  </tbody>\n",
              "</table>\n",
              "<p>2616 rows × 9 columns</p>\n",
              "</div>"
            ],
            "text/plain": [
              "               Open     High      Low  ...  VIX_Close    MA_10    target\n",
              "Date                                   ...                              \n",
              "2010-01-19  17000.0  17000.0  16440.0  ...      17.58  16384.0 -0.022565\n",
              "2010-01-20  16460.0  16740.0  16460.0  ...      18.68  16408.0  0.013366\n",
              "2010-01-21  16400.0  17000.0  16400.0  ...      22.27  16426.0  0.019185\n",
              "2010-01-22  16800.0  16900.0  16360.0  ...      27.31  16450.0 -0.029412\n",
              "2010-01-25  16320.0  16960.0  16300.0  ...      25.41  16492.0  0.020606\n",
              "...             ...      ...      ...  ...        ...      ...       ...\n",
              "2020-12-10  72700.0  73800.0  72500.0  ...      22.52  70480.0 -0.013532\n",
              "2020-12-11  73500.0  73800.0  73100.0  ...      23.31  71000.0  0.006859\n",
              "2020-12-14  73600.0  74500.0  73200.0  ...      24.72  71710.0  0.005450\n",
              "2020-12-15  73800.0  74100.0  73300.0  ...      22.89  72310.0  0.000000\n",
              "2020-12-16  74100.0  74500.0  73400.0  ...      22.39  72740.0  0.000000\n",
              "\n",
              "[2616 rows x 9 columns]"
            ]
          },
          "metadata": {
            "tags": []
          },
          "execution_count": 76
        }
      ]
    },
    {
      "cell_type": "code",
      "metadata": {
        "colab": {
          "base_uri": "https://localhost:8080/"
        },
        "id": "nSF1bkRCUII8",
        "outputId": "17001d7a-72fa-42ab-b1c3-1f90cf0a9f99"
      },
      "source": [
        "snv['target'] = np.where(snv['target'] >= 0 , 1, -1) # 0보다 높거나 같으면 1, 아니면 -1\r\n",
        "snv['target'].value_counts()"
      ],
      "execution_count": 77,
      "outputs": [
        {
          "output_type": "execute_result",
          "data": {
            "text/plain": [
              " 1    1407\n",
              "-1    1209\n",
              "Name: target, dtype: int64"
            ]
          },
          "metadata": {
            "tags": []
          },
          "execution_count": 77
        }
      ]
    },
    {
      "cell_type": "code",
      "metadata": {
        "colab": {
          "base_uri": "https://localhost:8080/",
          "height": 450
        },
        "id": "kcSyHaiCVQ2U",
        "outputId": "e5e1e84e-42a1-4edf-8bca-38198a531b32"
      },
      "source": [
        "snv"
      ],
      "execution_count": 78,
      "outputs": [
        {
          "output_type": "execute_result",
          "data": {
            "text/html": [
              "<div>\n",
              "<style scoped>\n",
              "    .dataframe tbody tr th:only-of-type {\n",
              "        vertical-align: middle;\n",
              "    }\n",
              "\n",
              "    .dataframe tbody tr th {\n",
              "        vertical-align: top;\n",
              "    }\n",
              "\n",
              "    .dataframe thead th {\n",
              "        text-align: right;\n",
              "    }\n",
              "</style>\n",
              "<table border=\"1\" class=\"dataframe\">\n",
              "  <thead>\n",
              "    <tr style=\"text-align: right;\">\n",
              "      <th></th>\n",
              "      <th>Open</th>\n",
              "      <th>High</th>\n",
              "      <th>Low</th>\n",
              "      <th>Close</th>\n",
              "      <th>Volume</th>\n",
              "      <th>Change</th>\n",
              "      <th>VIX_Close</th>\n",
              "      <th>MA_10</th>\n",
              "      <th>target</th>\n",
              "    </tr>\n",
              "    <tr>\n",
              "      <th>Date</th>\n",
              "      <th></th>\n",
              "      <th></th>\n",
              "      <th></th>\n",
              "      <th></th>\n",
              "      <th></th>\n",
              "      <th></th>\n",
              "      <th></th>\n",
              "      <th></th>\n",
              "      <th></th>\n",
              "    </tr>\n",
              "  </thead>\n",
              "  <tbody>\n",
              "    <tr>\n",
              "      <th>2010-01-19</th>\n",
              "      <td>17000.0</td>\n",
              "      <td>17000.0</td>\n",
              "      <td>16440.0</td>\n",
              "      <td>16460.0</td>\n",
              "      <td>241308.0</td>\n",
              "      <td>-0.023725</td>\n",
              "      <td>17.58</td>\n",
              "      <td>16384.0</td>\n",
              "      <td>-1</td>\n",
              "    </tr>\n",
              "    <tr>\n",
              "      <th>2010-01-20</th>\n",
              "      <td>16460.0</td>\n",
              "      <td>16740.0</td>\n",
              "      <td>16460.0</td>\n",
              "      <td>16680.0</td>\n",
              "      <td>384306.0</td>\n",
              "      <td>0.013366</td>\n",
              "      <td>18.68</td>\n",
              "      <td>16408.0</td>\n",
              "      <td>1</td>\n",
              "    </tr>\n",
              "    <tr>\n",
              "      <th>2010-01-21</th>\n",
              "      <td>16400.0</td>\n",
              "      <td>17000.0</td>\n",
              "      <td>16400.0</td>\n",
              "      <td>17000.0</td>\n",
              "      <td>340148.0</td>\n",
              "      <td>0.019185</td>\n",
              "      <td>22.27</td>\n",
              "      <td>16426.0</td>\n",
              "      <td>1</td>\n",
              "    </tr>\n",
              "    <tr>\n",
              "      <th>2010-01-22</th>\n",
              "      <td>16800.0</td>\n",
              "      <td>16900.0</td>\n",
              "      <td>16360.0</td>\n",
              "      <td>16500.0</td>\n",
              "      <td>470536.0</td>\n",
              "      <td>-0.029412</td>\n",
              "      <td>27.31</td>\n",
              "      <td>16450.0</td>\n",
              "      <td>-1</td>\n",
              "    </tr>\n",
              "    <tr>\n",
              "      <th>2010-01-25</th>\n",
              "      <td>16320.0</td>\n",
              "      <td>16960.0</td>\n",
              "      <td>16300.0</td>\n",
              "      <td>16840.0</td>\n",
              "      <td>412797.0</td>\n",
              "      <td>0.020606</td>\n",
              "      <td>25.41</td>\n",
              "      <td>16492.0</td>\n",
              "      <td>1</td>\n",
              "    </tr>\n",
              "    <tr>\n",
              "      <th>...</th>\n",
              "      <td>...</td>\n",
              "      <td>...</td>\n",
              "      <td>...</td>\n",
              "      <td>...</td>\n",
              "      <td>...</td>\n",
              "      <td>...</td>\n",
              "      <td>...</td>\n",
              "      <td>...</td>\n",
              "      <td>...</td>\n",
              "    </tr>\n",
              "    <tr>\n",
              "      <th>2020-12-10</th>\n",
              "      <td>72700.0</td>\n",
              "      <td>73800.0</td>\n",
              "      <td>72500.0</td>\n",
              "      <td>72900.0</td>\n",
              "      <td>39882928.0</td>\n",
              "      <td>-0.013532</td>\n",
              "      <td>22.52</td>\n",
              "      <td>70480.0</td>\n",
              "      <td>-1</td>\n",
              "    </tr>\n",
              "    <tr>\n",
              "      <th>2020-12-11</th>\n",
              "      <td>73500.0</td>\n",
              "      <td>73800.0</td>\n",
              "      <td>73100.0</td>\n",
              "      <td>73400.0</td>\n",
              "      <td>18486672.0</td>\n",
              "      <td>0.006859</td>\n",
              "      <td>23.31</td>\n",
              "      <td>71000.0</td>\n",
              "      <td>1</td>\n",
              "    </tr>\n",
              "    <tr>\n",
              "      <th>2020-12-14</th>\n",
              "      <td>73600.0</td>\n",
              "      <td>74500.0</td>\n",
              "      <td>73200.0</td>\n",
              "      <td>73800.0</td>\n",
              "      <td>21510415.0</td>\n",
              "      <td>0.005450</td>\n",
              "      <td>24.72</td>\n",
              "      <td>71710.0</td>\n",
              "      <td>1</td>\n",
              "    </tr>\n",
              "    <tr>\n",
              "      <th>2020-12-15</th>\n",
              "      <td>73800.0</td>\n",
              "      <td>74100.0</td>\n",
              "      <td>73300.0</td>\n",
              "      <td>73800.0</td>\n",
              "      <td>20863671.0</td>\n",
              "      <td>0.000000</td>\n",
              "      <td>22.89</td>\n",
              "      <td>72310.0</td>\n",
              "      <td>1</td>\n",
              "    </tr>\n",
              "    <tr>\n",
              "      <th>2020-12-16</th>\n",
              "      <td>74100.0</td>\n",
              "      <td>74500.0</td>\n",
              "      <td>73400.0</td>\n",
              "      <td>73800.0</td>\n",
              "      <td>17365840.0</td>\n",
              "      <td>0.000000</td>\n",
              "      <td>22.39</td>\n",
              "      <td>72740.0</td>\n",
              "      <td>1</td>\n",
              "    </tr>\n",
              "  </tbody>\n",
              "</table>\n",
              "<p>2616 rows × 9 columns</p>\n",
              "</div>"
            ],
            "text/plain": [
              "               Open     High      Low  ...  VIX_Close    MA_10  target\n",
              "Date                                   ...                            \n",
              "2010-01-19  17000.0  17000.0  16440.0  ...      17.58  16384.0      -1\n",
              "2010-01-20  16460.0  16740.0  16460.0  ...      18.68  16408.0       1\n",
              "2010-01-21  16400.0  17000.0  16400.0  ...      22.27  16426.0       1\n",
              "2010-01-22  16800.0  16900.0  16360.0  ...      27.31  16450.0      -1\n",
              "2010-01-25  16320.0  16960.0  16300.0  ...      25.41  16492.0       1\n",
              "...             ...      ...      ...  ...        ...      ...     ...\n",
              "2020-12-10  72700.0  73800.0  72500.0  ...      22.52  70480.0      -1\n",
              "2020-12-11  73500.0  73800.0  73100.0  ...      23.31  71000.0       1\n",
              "2020-12-14  73600.0  74500.0  73200.0  ...      24.72  71710.0       1\n",
              "2020-12-15  73800.0  74100.0  73300.0  ...      22.89  72310.0       1\n",
              "2020-12-16  74100.0  74500.0  73400.0  ...      22.39  72740.0       1\n",
              "\n",
              "[2616 rows x 9 columns]"
            ]
          },
          "metadata": {
            "tags": []
          },
          "execution_count": 78
        }
      ]
    },
    {
      "cell_type": "code",
      "metadata": {
        "id": "pnh2hCa3VQ4r"
      },
      "source": [
        "snv['target'] = snv['target'].shift(-1)"
      ],
      "execution_count": 79,
      "outputs": []
    },
    {
      "cell_type": "code",
      "metadata": {
        "id": "6gisFsi5VQ7J"
      },
      "source": [
        "snv = snv.dropna()\r\n",
        "#samsung['target'] = samsung['target'].astype(np.int64)\r\n",
        "y_var = snv['target']\r\n",
        "# 예측에 사용하지 않는 변수 삭제\r\n",
        "x_var = snv.drop(['target', 'Open','High','Low', 'Close', 'Volume','Change'], axis=1)\r\n",
        "# x값에는 10일 평균이동선과, VIX 지수만 넣어보고 관계를 보자\r\n",
        "# y값에는 올랐다, 떨어졌다 즉 1또는 -1"
      ],
      "execution_count": 80,
      "outputs": []
    },
    {
      "cell_type": "code",
      "metadata": {
        "colab": {
          "base_uri": "https://localhost:8080/",
          "height": 450
        },
        "id": "YTM1zWXZmaA7",
        "outputId": "2f3c8e65-b3d6-41a7-d675-f5fa1dfbb829"
      },
      "source": [
        "x_var"
      ],
      "execution_count": 81,
      "outputs": [
        {
          "output_type": "execute_result",
          "data": {
            "text/html": [
              "<div>\n",
              "<style scoped>\n",
              "    .dataframe tbody tr th:only-of-type {\n",
              "        vertical-align: middle;\n",
              "    }\n",
              "\n",
              "    .dataframe tbody tr th {\n",
              "        vertical-align: top;\n",
              "    }\n",
              "\n",
              "    .dataframe thead th {\n",
              "        text-align: right;\n",
              "    }\n",
              "</style>\n",
              "<table border=\"1\" class=\"dataframe\">\n",
              "  <thead>\n",
              "    <tr style=\"text-align: right;\">\n",
              "      <th></th>\n",
              "      <th>VIX_Close</th>\n",
              "      <th>MA_10</th>\n",
              "    </tr>\n",
              "    <tr>\n",
              "      <th>Date</th>\n",
              "      <th></th>\n",
              "      <th></th>\n",
              "    </tr>\n",
              "  </thead>\n",
              "  <tbody>\n",
              "    <tr>\n",
              "      <th>2010-01-19</th>\n",
              "      <td>17.58</td>\n",
              "      <td>16384.0</td>\n",
              "    </tr>\n",
              "    <tr>\n",
              "      <th>2010-01-20</th>\n",
              "      <td>18.68</td>\n",
              "      <td>16408.0</td>\n",
              "    </tr>\n",
              "    <tr>\n",
              "      <th>2010-01-21</th>\n",
              "      <td>22.27</td>\n",
              "      <td>16426.0</td>\n",
              "    </tr>\n",
              "    <tr>\n",
              "      <th>2010-01-22</th>\n",
              "      <td>27.31</td>\n",
              "      <td>16450.0</td>\n",
              "    </tr>\n",
              "    <tr>\n",
              "      <th>2010-01-25</th>\n",
              "      <td>25.41</td>\n",
              "      <td>16492.0</td>\n",
              "    </tr>\n",
              "    <tr>\n",
              "      <th>...</th>\n",
              "      <td>...</td>\n",
              "      <td>...</td>\n",
              "    </tr>\n",
              "    <tr>\n",
              "      <th>2020-12-09</th>\n",
              "      <td>22.27</td>\n",
              "      <td>69990.0</td>\n",
              "    </tr>\n",
              "    <tr>\n",
              "      <th>2020-12-10</th>\n",
              "      <td>22.52</td>\n",
              "      <td>70480.0</td>\n",
              "    </tr>\n",
              "    <tr>\n",
              "      <th>2020-12-11</th>\n",
              "      <td>23.31</td>\n",
              "      <td>71000.0</td>\n",
              "    </tr>\n",
              "    <tr>\n",
              "      <th>2020-12-14</th>\n",
              "      <td>24.72</td>\n",
              "      <td>71710.0</td>\n",
              "    </tr>\n",
              "    <tr>\n",
              "      <th>2020-12-15</th>\n",
              "      <td>22.89</td>\n",
              "      <td>72310.0</td>\n",
              "    </tr>\n",
              "  </tbody>\n",
              "</table>\n",
              "<p>2615 rows × 2 columns</p>\n",
              "</div>"
            ],
            "text/plain": [
              "            VIX_Close    MA_10\n",
              "Date                          \n",
              "2010-01-19      17.58  16384.0\n",
              "2010-01-20      18.68  16408.0\n",
              "2010-01-21      22.27  16426.0\n",
              "2010-01-22      27.31  16450.0\n",
              "2010-01-25      25.41  16492.0\n",
              "...               ...      ...\n",
              "2020-12-09      22.27  69990.0\n",
              "2020-12-10      22.52  70480.0\n",
              "2020-12-11      23.31  71000.0\n",
              "2020-12-14      24.72  71710.0\n",
              "2020-12-15      22.89  72310.0\n",
              "\n",
              "[2615 rows x 2 columns]"
            ]
          },
          "metadata": {
            "tags": []
          },
          "execution_count": 81
        }
      ]
    },
    {
      "cell_type": "markdown",
      "metadata": {
        "id": "ugR71k_NmpFh"
      },
      "source": [
        "## 모델학습"
      ]
    },
    {
      "cell_type": "code",
      "metadata": {
        "colab": {
          "base_uri": "https://localhost:8080/"
        },
        "id": "w_Ow8a-ZmjQK",
        "outputId": "48866dbe-462e-46b0-be99-f2344abeea9d"
      },
      "source": [
        "#훈련 세트와 테스트 세트를 나눈다.\r\n",
        "#shuffle=False을 설정해 기간이 섞이지 않도록 만든다.\r\n",
        "X_train, X_test, y_train, y_test = train_test_split(x_var, \r\n",
        "                                                    y_var, \r\n",
        "                                                    test_size=0.3, \r\n",
        "                                                    shuffle=False, \r\n",
        "                                                    random_state=3)\r\n",
        "\r\n",
        "#훈련 세트와 테스트 세트에 포함된 양성 샘플(up) 비율을 확인한다.\r\n",
        "train_count = y_train.count()\r\n",
        "test_count = y_test.count()\r\n",
        "\r\n",
        "print('train set label ratio')\r\n",
        "print(y_train.value_counts()/train_count)\r\n",
        "print('test set label ratio')\r\n",
        "print(y_test.value_counts()/test_count)"
      ],
      "execution_count": 82,
      "outputs": [
        {
          "output_type": "stream",
          "text": [
            "train set label ratio\n",
            " 1.0    0.529508\n",
            "-1.0    0.470492\n",
            "Name: target, dtype: float64\n",
            "test set label ratio\n",
            " 1.0    0.557962\n",
            "-1.0    0.442038\n",
            "Name: target, dtype: float64\n"
          ],
          "name": "stdout"
        }
      ]
    },
    {
      "cell_type": "code",
      "metadata": {
        "id": "6lUpPvGkmuWU"
      },
      "source": [
        "def get_confusion_matrix(y_test, pred):\r\n",
        "    confusion = confusion_matrix(y_test, pred)\r\n",
        "    accuracy = accuracy_score(y_test, pred)\r\n",
        "    precision = precision_score(y_test, pred)\r\n",
        "    recall = recall_score(y_test, pred)\r\n",
        "    f1 = f1_score(y_test, pred)\r\n",
        "    roc_score = roc_auc_score(y_test, pred)\r\n",
        "    print('confusion matrix')\r\n",
        "    print('accuracy:{0:.4f},precision:{1:.4f},recall:{2:.4f},F1:{3:.4f},ROC AUC score:{4:.4f}'.format(accuracy, precision, recall, f1,roc_score))"
      ],
      "execution_count": 83,
      "outputs": []
    },
    {
      "cell_type": "code",
      "metadata": {
        "id": "utwtH_qwmoZe"
      },
      "source": [
        "xgb_dis = XGBClassifier(n_estimators=400, learning_rate=0.1, max_depth=3)\r\n",
        "xgb_dis.fit(X_train, y_train)\r\n",
        "xgb_pred = xgb_dis.predict(X_test)"
      ],
      "execution_count": 84,
      "outputs": []
    },
    {
      "cell_type": "code",
      "metadata": {
        "colab": {
          "base_uri": "https://localhost:8080/"
        },
        "id": "xpHNAW_FmxFm",
        "outputId": "ab6c74da-2a79-45b2-fb70-c0b29ce5e71d"
      },
      "source": [
        "xgb_dis"
      ],
      "execution_count": 85,
      "outputs": [
        {
          "output_type": "execute_result",
          "data": {
            "text/plain": [
              "XGBClassifier(base_score=0.5, booster='gbtree', colsample_bylevel=1,\n",
              "              colsample_bynode=1, colsample_bytree=1, gamma=0,\n",
              "              learning_rate=0.1, max_delta_step=0, max_depth=3,\n",
              "              min_child_weight=1, missing=None, n_estimators=400, n_jobs=1,\n",
              "              nthread=None, objective='binary:logistic', random_state=0,\n",
              "              reg_alpha=0, reg_lambda=1, scale_pos_weight=1, seed=None,\n",
              "              silent=None, subsample=1, verbosity=1)"
            ]
          },
          "metadata": {
            "tags": []
          },
          "execution_count": 85
        }
      ]
    },
    {
      "cell_type": "code",
      "metadata": {
        "colab": {
          "base_uri": "https://localhost:8080/"
        },
        "id": "KnTc1dIwmxH9",
        "outputId": "44c09c08-e73f-4056-afae-1108e0971688"
      },
      "source": [
        "print(xgb_dis.score(X_train, y_train))"
      ],
      "execution_count": 86,
      "outputs": [
        {
          "output_type": "stream",
          "text": [
            "0.7918032786885246\n"
          ],
          "name": "stdout"
        }
      ]
    },
    {
      "cell_type": "code",
      "metadata": {
        "colab": {
          "base_uri": "https://localhost:8080/"
        },
        "id": "VUEAliX1m07D",
        "outputId": "2292906a-9a8c-4d2e-9bd9-761a79f83c17"
      },
      "source": [
        "get_confusion_matrix(y_test, xgb_pred)"
      ],
      "execution_count": 87,
      "outputs": [
        {
          "output_type": "stream",
          "text": [
            "confusion matrix\n",
            "accuracy:0.4471,precision:0.5167,recall:0.1416,F1:0.2222,ROC AUC score:0.4872\n"
          ],
          "name": "stdout"
        }
      ]
    },
    {
      "cell_type": "code",
      "metadata": {
        "id": "5HVnt1Ffm09i"
      },
      "source": [
        "n_estimators = range(10,20,5)\r\n",
        "\r\n",
        "params = {\r\n",
        "    'bootstrap': [True],\r\n",
        "    'n_estimators':n_estimators,\r\n",
        "    'max_depth':[2,3],\r\n",
        "    'min_samples_leaf': [2, 3],\r\n",
        "    'min_samples_split': [2, 4, 6, 8],\r\n",
        "    'max_features':[2]\r\n",
        "}"
      ],
      "execution_count": 96,
      "outputs": []
    },
    {
      "cell_type": "code",
      "metadata": {
        "id": "AYTO9uZWm0_u"
      },
      "source": [
        "my_cv = TimeSeriesSplit(n_splits=5).split(X_train)"
      ],
      "execution_count": 97,
      "outputs": []
    },
    {
      "cell_type": "code",
      "metadata": {
        "colab": {
          "base_uri": "https://localhost:8080/"
        },
        "id": "kqts1mLIm1CM",
        "outputId": "5607d907-8418-4233-a744-164da2c7ea22"
      },
      "source": [
        "clf = GridSearchCV(RandomForestClassifier(), params, cv=my_cv, n_jobs=-1)\r\n",
        "clf.fit(X_train, y_train)"
      ],
      "execution_count": 98,
      "outputs": [
        {
          "output_type": "execute_result",
          "data": {
            "text/plain": [
              "GridSearchCV(cv=<generator object TimeSeriesSplit.split at 0x7f904130c620>,\n",
              "             error_score=nan,\n",
              "             estimator=RandomForestClassifier(bootstrap=True, ccp_alpha=0.0,\n",
              "                                              class_weight=None,\n",
              "                                              criterion='gini', max_depth=None,\n",
              "                                              max_features='auto',\n",
              "                                              max_leaf_nodes=None,\n",
              "                                              max_samples=None,\n",
              "                                              min_impurity_decrease=0.0,\n",
              "                                              min_impurity_split=None,\n",
              "                                              min_samples_leaf=1,\n",
              "                                              min_samples_split=2,\n",
              "                                              min_w...\n",
              "                                              n_estimators=100, n_jobs=None,\n",
              "                                              oob_score=False,\n",
              "                                              random_state=None, verbose=0,\n",
              "                                              warm_start=False),\n",
              "             iid='deprecated', n_jobs=-1,\n",
              "             param_grid={'bootstrap': [True], 'max_depth': [2, 3],\n",
              "                         'max_features': [2], 'min_samples_leaf': [2, 3],\n",
              "                         'min_samples_split': [2, 4, 6, 8],\n",
              "                         'n_estimators': range(10, 20, 5)},\n",
              "             pre_dispatch='2*n_jobs', refit=True, return_train_score=False,\n",
              "             scoring=None, verbose=0)"
            ]
          },
          "metadata": {
            "tags": []
          },
          "execution_count": 98
        }
      ]
    },
    {
      "cell_type": "code",
      "metadata": {
        "colab": {
          "base_uri": "https://localhost:8080/"
        },
        "id": "8YuzLtZdmxKP",
        "outputId": "e7ca2d26-1ece-40fb-99d7-4dceda082790"
      },
      "source": [
        "print('best parameter:\\n', clf.best_params_)\r\n",
        "print('best prediction:{0:.4f}'.format(clf.best_score_))"
      ],
      "execution_count": 99,
      "outputs": [
        {
          "output_type": "stream",
          "text": [
            "best parameter:\n",
            " {'bootstrap': True, 'max_depth': 3, 'max_features': 2, 'min_samples_leaf': 2, 'min_samples_split': 4, 'n_estimators': 15}\n",
            "best prediction:0.5134\n"
          ],
          "name": "stdout"
        }
      ]
    },
    {
      "cell_type": "code",
      "metadata": {
        "colab": {
          "base_uri": "https://localhost:8080/"
        },
        "id": "fFooj-kmm-oZ",
        "outputId": "c32bd7d0-8ac4-4611-b820-f0166f3be9ca"
      },
      "source": [
        "pred_con = clf.predict(X_test)\r\n",
        "accuracy_con = accuracy_score(y_test, pred_con)\r\n",
        "print('accuracy:{0:.4f}'.format(accuracy_con))\r\n",
        "get_confusion_matrix(y_test, pred_con)"
      ],
      "execution_count": 100,
      "outputs": [
        {
          "output_type": "stream",
          "text": [
            "accuracy:0.4815\n",
            "confusion matrix\n",
            "accuracy:0.4815,precision:0.5721,recall:0.2808,F1:0.3767,ROC AUC score:0.5078\n"
          ],
          "name": "stdout"
        }
      ]
    },
    {
      "cell_type": "code",
      "metadata": {
        "id": "OvD4iVtxm-zg"
      },
      "source": [
        ""
      ],
      "execution_count": null,
      "outputs": []
    },
    {
      "cell_type": "markdown",
      "metadata": {
        "id": "GLZyFTppRkPA"
      },
      "source": [
        "## 딥러닝 LSTM"
      ]
    },
    {
      "cell_type": "code",
      "metadata": {
        "colab": {
          "base_uri": "https://localhost:8080/",
          "height": 359
        },
        "id": "aUBomrmztgFm",
        "outputId": "e37df3d6-50b6-4452-d789-e5bb5dd821b0"
      },
      "source": [
        "samsung_st_date = '2010-12-16'\r\n",
        "samsung_enddate = '2020-12-16'\r\n",
        "samsung = data.DataReader('005930.ks', 'yahoo', samsung_st_date, samsung_enddate)\r\n",
        "samsung.head(9)\r\n",
        "#samsung = fdr.DataReader('005930', '2015') #2010년 이후 삼성 주가 가져옴"
      ],
      "execution_count": 130,
      "outputs": [
        {
          "output_type": "execute_result",
          "data": {
            "text/html": [
              "<div>\n",
              "<style scoped>\n",
              "    .dataframe tbody tr th:only-of-type {\n",
              "        vertical-align: middle;\n",
              "    }\n",
              "\n",
              "    .dataframe tbody tr th {\n",
              "        vertical-align: top;\n",
              "    }\n",
              "\n",
              "    .dataframe thead th {\n",
              "        text-align: right;\n",
              "    }\n",
              "</style>\n",
              "<table border=\"1\" class=\"dataframe\">\n",
              "  <thead>\n",
              "    <tr style=\"text-align: right;\">\n",
              "      <th></th>\n",
              "      <th>High</th>\n",
              "      <th>Low</th>\n",
              "      <th>Open</th>\n",
              "      <th>Close</th>\n",
              "      <th>Volume</th>\n",
              "      <th>Adj Close</th>\n",
              "    </tr>\n",
              "    <tr>\n",
              "      <th>Date</th>\n",
              "      <th></th>\n",
              "      <th></th>\n",
              "      <th></th>\n",
              "      <th></th>\n",
              "      <th></th>\n",
              "      <th></th>\n",
              "    </tr>\n",
              "  </thead>\n",
              "  <tbody>\n",
              "    <tr>\n",
              "      <th>2010-12-16</th>\n",
              "      <td>18380.0</td>\n",
              "      <td>18160.0</td>\n",
              "      <td>18160.0</td>\n",
              "      <td>18220.0</td>\n",
              "      <td>11684200.0</td>\n",
              "      <td>9.610845</td>\n",
              "    </tr>\n",
              "    <tr>\n",
              "      <th>2010-12-17</th>\n",
              "      <td>18580.0</td>\n",
              "      <td>18240.0</td>\n",
              "      <td>18280.0</td>\n",
              "      <td>18520.0</td>\n",
              "      <td>17297200.0</td>\n",
              "      <td>9.769093</td>\n",
              "    </tr>\n",
              "    <tr>\n",
              "      <th>2010-12-20</th>\n",
              "      <td>18640.0</td>\n",
              "      <td>18280.0</td>\n",
              "      <td>18340.0</td>\n",
              "      <td>18640.0</td>\n",
              "      <td>16911750.0</td>\n",
              "      <td>9.832390</td>\n",
              "    </tr>\n",
              "    <tr>\n",
              "      <th>2010-12-21</th>\n",
              "      <td>18800.0</td>\n",
              "      <td>18500.0</td>\n",
              "      <td>18620.0</td>\n",
              "      <td>18720.0</td>\n",
              "      <td>12599300.0</td>\n",
              "      <td>9.874586</td>\n",
              "    </tr>\n",
              "    <tr>\n",
              "      <th>2010-12-22</th>\n",
              "      <td>19060.0</td>\n",
              "      <td>18720.0</td>\n",
              "      <td>18780.0</td>\n",
              "      <td>18780.0</td>\n",
              "      <td>16626800.0</td>\n",
              "      <td>9.906237</td>\n",
              "    </tr>\n",
              "    <tr>\n",
              "      <th>2010-12-23</th>\n",
              "      <td>18760.0</td>\n",
              "      <td>18500.0</td>\n",
              "      <td>18720.0</td>\n",
              "      <td>18720.0</td>\n",
              "      <td>10985500.0</td>\n",
              "      <td>9.874586</td>\n",
              "    </tr>\n",
              "    <tr>\n",
              "      <th>2010-12-24</th>\n",
              "      <td>18780.0</td>\n",
              "      <td>18500.0</td>\n",
              "      <td>18780.0</td>\n",
              "      <td>18500.0</td>\n",
              "      <td>8471650.0</td>\n",
              "      <td>9.758541</td>\n",
              "    </tr>\n",
              "    <tr>\n",
              "      <th>2010-12-27</th>\n",
              "      <td>18600.0</td>\n",
              "      <td>18300.0</td>\n",
              "      <td>18500.0</td>\n",
              "      <td>18440.0</td>\n",
              "      <td>10524200.0</td>\n",
              "      <td>9.726891</td>\n",
              "    </tr>\n",
              "    <tr>\n",
              "      <th>2010-12-28</th>\n",
              "      <td>19000.0</td>\n",
              "      <td>18520.0</td>\n",
              "      <td>18560.0</td>\n",
              "      <td>18760.0</td>\n",
              "      <td>15650700.0</td>\n",
              "      <td>9.895689</td>\n",
              "    </tr>\n",
              "  </tbody>\n",
              "</table>\n",
              "</div>"
            ],
            "text/plain": [
              "               High      Low     Open    Close      Volume  Adj Close\n",
              "Date                                                                 \n",
              "2010-12-16  18380.0  18160.0  18160.0  18220.0  11684200.0   9.610845\n",
              "2010-12-17  18580.0  18240.0  18280.0  18520.0  17297200.0   9.769093\n",
              "2010-12-20  18640.0  18280.0  18340.0  18640.0  16911750.0   9.832390\n",
              "2010-12-21  18800.0  18500.0  18620.0  18720.0  12599300.0   9.874586\n",
              "2010-12-22  19060.0  18720.0  18780.0  18780.0  16626800.0   9.906237\n",
              "2010-12-23  18760.0  18500.0  18720.0  18720.0  10985500.0   9.874586\n",
              "2010-12-24  18780.0  18500.0  18780.0  18500.0   8471650.0   9.758541\n",
              "2010-12-27  18600.0  18300.0  18500.0  18440.0  10524200.0   9.726891\n",
              "2010-12-28  19000.0  18520.0  18560.0  18760.0  15650700.0   9.895689"
            ]
          },
          "metadata": {
            "tags": []
          },
          "execution_count": 130
        }
      ]
    },
    {
      "cell_type": "code",
      "metadata": {
        "id": "ZWVwyHo0RD9o"
      },
      "source": [
        "high_prices = samsung['High'].values\r\n",
        "low_prices = samsung['Low'].values\r\n",
        "mid_prices = (high_prices + low_prices)/2 # 중간가격"
      ],
      "execution_count": 131,
      "outputs": []
    },
    {
      "cell_type": "code",
      "metadata": {
        "colab": {
          "base_uri": "https://localhost:8080/",
          "height": 450
        },
        "id": "n96C9OOotlAB",
        "outputId": "cd06a071-4829-4a7a-fc8d-55d1f8d55117"
      },
      "source": [
        "samsung"
      ],
      "execution_count": 132,
      "outputs": [
        {
          "output_type": "execute_result",
          "data": {
            "text/html": [
              "<div>\n",
              "<style scoped>\n",
              "    .dataframe tbody tr th:only-of-type {\n",
              "        vertical-align: middle;\n",
              "    }\n",
              "\n",
              "    .dataframe tbody tr th {\n",
              "        vertical-align: top;\n",
              "    }\n",
              "\n",
              "    .dataframe thead th {\n",
              "        text-align: right;\n",
              "    }\n",
              "</style>\n",
              "<table border=\"1\" class=\"dataframe\">\n",
              "  <thead>\n",
              "    <tr style=\"text-align: right;\">\n",
              "      <th></th>\n",
              "      <th>High</th>\n",
              "      <th>Low</th>\n",
              "      <th>Open</th>\n",
              "      <th>Close</th>\n",
              "      <th>Volume</th>\n",
              "      <th>Adj Close</th>\n",
              "    </tr>\n",
              "    <tr>\n",
              "      <th>Date</th>\n",
              "      <th></th>\n",
              "      <th></th>\n",
              "      <th></th>\n",
              "      <th></th>\n",
              "      <th></th>\n",
              "      <th></th>\n",
              "    </tr>\n",
              "  </thead>\n",
              "  <tbody>\n",
              "    <tr>\n",
              "      <th>2010-12-16</th>\n",
              "      <td>18380.0</td>\n",
              "      <td>18160.0</td>\n",
              "      <td>18160.0</td>\n",
              "      <td>18220.0</td>\n",
              "      <td>11684200.0</td>\n",
              "      <td>9.610845</td>\n",
              "    </tr>\n",
              "    <tr>\n",
              "      <th>2010-12-17</th>\n",
              "      <td>18580.0</td>\n",
              "      <td>18240.0</td>\n",
              "      <td>18280.0</td>\n",
              "      <td>18520.0</td>\n",
              "      <td>17297200.0</td>\n",
              "      <td>9.769093</td>\n",
              "    </tr>\n",
              "    <tr>\n",
              "      <th>2010-12-20</th>\n",
              "      <td>18640.0</td>\n",
              "      <td>18280.0</td>\n",
              "      <td>18340.0</td>\n",
              "      <td>18640.0</td>\n",
              "      <td>16911750.0</td>\n",
              "      <td>9.832390</td>\n",
              "    </tr>\n",
              "    <tr>\n",
              "      <th>2010-12-21</th>\n",
              "      <td>18800.0</td>\n",
              "      <td>18500.0</td>\n",
              "      <td>18620.0</td>\n",
              "      <td>18720.0</td>\n",
              "      <td>12599300.0</td>\n",
              "      <td>9.874586</td>\n",
              "    </tr>\n",
              "    <tr>\n",
              "      <th>2010-12-22</th>\n",
              "      <td>19060.0</td>\n",
              "      <td>18720.0</td>\n",
              "      <td>18780.0</td>\n",
              "      <td>18780.0</td>\n",
              "      <td>16626800.0</td>\n",
              "      <td>9.906237</td>\n",
              "    </tr>\n",
              "    <tr>\n",
              "      <th>...</th>\n",
              "      <td>...</td>\n",
              "      <td>...</td>\n",
              "      <td>...</td>\n",
              "      <td>...</td>\n",
              "      <td>...</td>\n",
              "      <td>...</td>\n",
              "    </tr>\n",
              "    <tr>\n",
              "      <th>2020-12-10</th>\n",
              "      <td>73800.0</td>\n",
              "      <td>72500.0</td>\n",
              "      <td>72700.0</td>\n",
              "      <td>72900.0</td>\n",
              "      <td>39882928.0</td>\n",
              "      <td>72900.000000</td>\n",
              "    </tr>\n",
              "    <tr>\n",
              "      <th>2020-12-11</th>\n",
              "      <td>73800.0</td>\n",
              "      <td>73100.0</td>\n",
              "      <td>73500.0</td>\n",
              "      <td>73400.0</td>\n",
              "      <td>18486672.0</td>\n",
              "      <td>73400.000000</td>\n",
              "    </tr>\n",
              "    <tr>\n",
              "      <th>2020-12-14</th>\n",
              "      <td>74500.0</td>\n",
              "      <td>73200.0</td>\n",
              "      <td>73600.0</td>\n",
              "      <td>73800.0</td>\n",
              "      <td>21510415.0</td>\n",
              "      <td>73800.000000</td>\n",
              "    </tr>\n",
              "    <tr>\n",
              "      <th>2020-12-15</th>\n",
              "      <td>74100.0</td>\n",
              "      <td>73300.0</td>\n",
              "      <td>73800.0</td>\n",
              "      <td>73800.0</td>\n",
              "      <td>20863671.0</td>\n",
              "      <td>73800.000000</td>\n",
              "    </tr>\n",
              "    <tr>\n",
              "      <th>2020-12-16</th>\n",
              "      <td>74500.0</td>\n",
              "      <td>73400.0</td>\n",
              "      <td>74100.0</td>\n",
              "      <td>73800.0</td>\n",
              "      <td>17355058.0</td>\n",
              "      <td>73800.000000</td>\n",
              "    </tr>\n",
              "  </tbody>\n",
              "</table>\n",
              "<p>2459 rows × 6 columns</p>\n",
              "</div>"
            ],
            "text/plain": [
              "               High      Low     Open    Close      Volume     Adj Close\n",
              "Date                                                                    \n",
              "2010-12-16  18380.0  18160.0  18160.0  18220.0  11684200.0      9.610845\n",
              "2010-12-17  18580.0  18240.0  18280.0  18520.0  17297200.0      9.769093\n",
              "2010-12-20  18640.0  18280.0  18340.0  18640.0  16911750.0      9.832390\n",
              "2010-12-21  18800.0  18500.0  18620.0  18720.0  12599300.0      9.874586\n",
              "2010-12-22  19060.0  18720.0  18780.0  18780.0  16626800.0      9.906237\n",
              "...             ...      ...      ...      ...         ...           ...\n",
              "2020-12-10  73800.0  72500.0  72700.0  72900.0  39882928.0  72900.000000\n",
              "2020-12-11  73800.0  73100.0  73500.0  73400.0  18486672.0  73400.000000\n",
              "2020-12-14  74500.0  73200.0  73600.0  73800.0  21510415.0  73800.000000\n",
              "2020-12-15  74100.0  73300.0  73800.0  73800.0  20863671.0  73800.000000\n",
              "2020-12-16  74500.0  73400.0  74100.0  73800.0  17355058.0  73800.000000\n",
              "\n",
              "[2459 rows x 6 columns]"
            ]
          },
          "metadata": {
            "tags": []
          },
          "execution_count": 132
        }
      ]
    },
    {
      "cell_type": "code",
      "metadata": {
        "id": "ZVKQhRtXOzzy"
      },
      "source": [
        "seq_len = 100\r\n",
        "sequence_length = seq_len + 1 \r\n",
        "result = []\r\n",
        "for i in range(len(mid_prices) - sequence_length): \r\n",
        "    result.append(mid_prices[i:i+sequence_length]) "
      ],
      "execution_count": 133,
      "outputs": []
    },
    {
      "cell_type": "code",
      "metadata": {
        "colab": {
          "base_uri": "https://localhost:8080/"
        },
        "id": "kSDHmk49QT-O",
        "outputId": "bf296a5a-5b4d-4770-a1c7-c88cddb05463"
      },
      "source": [
        "normalized_data = []\r\n",
        "for window in result: \r\n",
        "    normalized_window = [((float(p) / float(window[0]))-1)for p in window] \r\n",
        "    normalized_data.append(normalized_window)\r\n",
        "    \r\n",
        "result = np.array(normalized_data)\r\n",
        "result"
      ],
      "execution_count": 134,
      "outputs": [
        {
          "output_type": "execute_result",
          "data": {
            "text/plain": [
              "array([[ 0.        ,  0.00766284,  0.01039956, ..., -0.02353585,\n",
              "        -0.00711549, -0.00547345],\n",
              "       [ 0.        ,  0.00271592,  0.01303639, ..., -0.01466594,\n",
              "        -0.01303639, -0.02933188],\n",
              "       [ 0.        ,  0.01029252,  0.02329361, ..., -0.01570964,\n",
              "        -0.031961  , -0.03304442],\n",
              "       ...,\n",
              "       [ 0.        ,  0.        ,  0.01286765, ...,  0.34099265,\n",
              "         0.34466912,  0.35018382],\n",
              "       [ 0.        ,  0.01286765,  0.01286765, ...,  0.34466912,\n",
              "         0.35018382,  0.35753676],\n",
              "       [ 0.        ,  0.        , -0.0154265 , ...,  0.33303085,\n",
              "         0.34029038,  0.33756806]])"
            ]
          },
          "metadata": {
            "tags": []
          },
          "execution_count": 134
        }
      ]
    },
    {
      "cell_type": "code",
      "metadata": {
        "colab": {
          "base_uri": "https://localhost:8080/"
        },
        "id": "3bzt2qvBO2qB",
        "outputId": "b3cafef0-4325-4ec7-fc94-f51baebf89e6"
      },
      "source": [
        "row = int(round(result.shape[0]*0.9)) \r\n",
        "train = result[:row,:]        \r\n",
        "np.random.shuffle(train)       \r\n",
        "\r\n",
        "x_train = train[:,:-1]\r\n",
        "x_train = np.reshape(x_train, (x_train.shape[0], x_train.shape[1],1))\r\n",
        "y_train = train[:,-1]\r\n",
        "\r\n",
        "x_test = result[row:,:-1]\r\n",
        "x_test = np.reshape(x_test, (x_test.shape[0], x_test.shape[1],1))\r\n",
        "y_test = result[row:,-1]\r\n",
        "\r\n",
        "x_train.shape, x_test.shape"
      ],
      "execution_count": 135,
      "outputs": [
        {
          "output_type": "execute_result",
          "data": {
            "text/plain": [
              "((2122, 100, 1), (236, 100, 1))"
            ]
          },
          "metadata": {
            "tags": []
          },
          "execution_count": 135
        }
      ]
    },
    {
      "cell_type": "markdown",
      "metadata": {
        "id": "1_H6b6C6O8Ml"
      },
      "source": [
        "## 딥러닝 모델생성\r\n"
      ]
    },
    {
      "cell_type": "code",
      "metadata": {
        "colab": {
          "base_uri": "https://localhost:8080/"
        },
        "id": "fz7CbQBJO7uI",
        "outputId": "45dc9a36-6999-4f35-a26f-3a1773b5d935"
      },
      "source": [
        "model = Sequential() \r\n",
        "model.add(LSTM(100, return_sequences=True, input_shape=(100,1))) #100개\r\n",
        "model.add(LSTM(64, return_sequences=False))  \r\n",
        "model.add(Dense(1, activation='linear')) \r\n",
        "model.compile(loss='mse', optimizer='rmsprop')\r\n",
        "\r\n",
        "model.summary()"
      ],
      "execution_count": 136,
      "outputs": [
        {
          "output_type": "stream",
          "text": [
            "Model: \"sequential_2\"\n",
            "_________________________________________________________________\n",
            "Layer (type)                 Output Shape              Param #   \n",
            "=================================================================\n",
            "lstm_4 (LSTM)                (None, 100, 100)          40800     \n",
            "_________________________________________________________________\n",
            "lstm_5 (LSTM)                (None, 64)                42240     \n",
            "_________________________________________________________________\n",
            "dense_2 (Dense)              (None, 1)                 65        \n",
            "=================================================================\n",
            "Total params: 83,105\n",
            "Trainable params: 83,105\n",
            "Non-trainable params: 0\n",
            "_________________________________________________________________\n"
          ],
          "name": "stdout"
        }
      ]
    },
    {
      "cell_type": "code",
      "metadata": {
        "colab": {
          "base_uri": "https://localhost:8080/"
        },
        "id": "czhv5qdGPMVx",
        "outputId": "e2c385de-00db-4f49-ec15-15e8c684695b"
      },
      "source": [
        "model.fit(x_train, y_train,                 \r\n",
        "         validation_data=(x_test, y_test),  \r\n",
        "         batch_size=10,                     \r\n",
        "         epochs=20)"
      ],
      "execution_count": 137,
      "outputs": [
        {
          "output_type": "stream",
          "text": [
            "Epoch 1/20\n",
            "213/213 [==============================] - 3s 12ms/step - loss: 0.0016 - val_loss: 0.0013\n",
            "Epoch 2/20\n",
            "213/213 [==============================] - 2s 10ms/step - loss: 6.3282e-04 - val_loss: 0.0011\n",
            "Epoch 3/20\n",
            "213/213 [==============================] - 2s 10ms/step - loss: 4.1801e-04 - val_loss: 7.3309e-04\n",
            "Epoch 4/20\n",
            "213/213 [==============================] - 2s 10ms/step - loss: 3.2682e-04 - val_loss: 0.0019\n",
            "Epoch 5/20\n",
            "213/213 [==============================] - 2s 10ms/step - loss: 2.9786e-04 - val_loss: 4.9383e-04\n",
            "Epoch 6/20\n",
            "213/213 [==============================] - 2s 10ms/step - loss: 2.9340e-04 - val_loss: 3.5933e-04\n",
            "Epoch 7/20\n",
            "213/213 [==============================] - 2s 10ms/step - loss: 2.9070e-04 - val_loss: 4.8102e-04\n",
            "Epoch 8/20\n",
            "213/213 [==============================] - 2s 10ms/step - loss: 2.8296e-04 - val_loss: 6.5601e-04\n",
            "Epoch 9/20\n",
            "213/213 [==============================] - 2s 10ms/step - loss: 2.7090e-04 - val_loss: 3.8524e-04\n",
            "Epoch 10/20\n",
            "213/213 [==============================] - 2s 10ms/step - loss: 2.7501e-04 - val_loss: 4.2762e-04\n",
            "Epoch 11/20\n",
            "213/213 [==============================] - 2s 10ms/step - loss: 2.7201e-04 - val_loss: 4.1965e-04\n",
            "Epoch 12/20\n",
            "213/213 [==============================] - 2s 10ms/step - loss: 2.6856e-04 - val_loss: 4.8541e-04\n",
            "Epoch 13/20\n",
            "213/213 [==============================] - 2s 9ms/step - loss: 2.6523e-04 - val_loss: 3.6439e-04\n",
            "Epoch 14/20\n",
            "213/213 [==============================] - 2s 10ms/step - loss: 2.6052e-04 - val_loss: 6.9105e-04\n",
            "Epoch 15/20\n",
            "213/213 [==============================] - 2s 10ms/step - loss: 2.7038e-04 - val_loss: 0.0010\n",
            "Epoch 16/20\n",
            "213/213 [==============================] - 2s 11ms/step - loss: 2.6461e-04 - val_loss: 5.1066e-04\n",
            "Epoch 17/20\n",
            "213/213 [==============================] - 2s 10ms/step - loss: 2.5552e-04 - val_loss: 4.2716e-04\n",
            "Epoch 18/20\n",
            "213/213 [==============================] - 2s 10ms/step - loss: 2.5391e-04 - val_loss: 3.4720e-04\n",
            "Epoch 19/20\n",
            "213/213 [==============================] - 2s 10ms/step - loss: 2.5122e-04 - val_loss: 7.1629e-04\n",
            "Epoch 20/20\n",
            "213/213 [==============================] - 2s 9ms/step - loss: 2.5543e-04 - val_loss: 3.5517e-04\n"
          ],
          "name": "stdout"
        },
        {
          "output_type": "execute_result",
          "data": {
            "text/plain": [
              "<tensorflow.python.keras.callbacks.History at 0x7f8fc0f1ffd0>"
            ]
          },
          "metadata": {
            "tags": []
          },
          "execution_count": 137
        }
      ]
    },
    {
      "cell_type": "markdown",
      "metadata": {
        "id": "YhzTAuv-PWRz"
      },
      "source": [
        "## 검증\r\n",
        "* 예측"
      ]
    },
    {
      "cell_type": "code",
      "metadata": {
        "colab": {
          "base_uri": "https://localhost:8080/",
          "height": 268
        },
        "id": "6tGR1SoLPTMw",
        "outputId": "69de72fe-26cd-4627-b61b-9babba4ca261"
      },
      "source": [
        "pred = model.predict(x_test) \r\n",
        "fig = plt.figure(facecolor = 'white')\r\n",
        "ax = fig.add_subplot(111)\r\n",
        "ax.plot(y_test, label='True')\r\n",
        "ax.plot(pred, label='Prediction')\r\n",
        "ax.legend()\r\n",
        "plt.show()"
      ],
      "execution_count": 138,
      "outputs": [
        {
          "output_type": "display_data",
          "data": {
            "image/png": "[encoded data removed]",
            "text/plain": [
              "<Figure size 432x288 with 1 Axes>"
            ]
          },
          "metadata": {
            "tags": []
          }
        }
      ]
    },
    {
      "cell_type": "code",
      "metadata": {
        "id": "SRsKWT3mYP8a"
      },
      "source": [
        "print(pred) "
      ],
      "execution_count": null,
      "outputs": []
    }
  ]
}