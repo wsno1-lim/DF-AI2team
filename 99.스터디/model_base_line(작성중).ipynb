{
  "nbformat": 4,
  "nbformat_minor": 0,
  "metadata": {
    "colab": {
      "name": "model_base_line.ipynb",
      "provenance": [],
      "collapsed_sections": []
    },
    "kernelspec": {
      "name": "python3",
      "display_name": "Python 3"
    },
    "accelerator": "GPU"
  },
  "cells": [
    {
      "cell_type": "markdown",
      "metadata": {
        "id": "o-FZVi6vo3rF"
      },
      "source": [
        "#  0. 문제정의\r\n",
        "*  한국 시총 1위인 삼성전자 주식 선정(개별 종목 중 경제지수와 비슷하게 흘러가고, 찌라시에 덜 영향이 있을거라 생각)\r\n",
        "*  삼성전자 종가와 VIX 지수관계 머신러닝으로 확인 \r\n",
        "  -> VIX대신 USD/KRW로 잠시바꿈\r\n",
        "*  삼성전자 LSTM으로 딥러닝 \r\n",
        "*  window_size에 따른 마지막 케이스 셋에 대해서 종가의 오름 or 아님에 따라 매수 신호 또는 매도 신호 줄것. \r\n",
        "* text 파일로 해당 매수/매도 신호 정보 save, 특정 시간에 파일 read해서 신호에 따라 키움 api로 매수/매도 태워보기."
      ]
    },
    {
      "cell_type": "markdown",
      "metadata": {
        "id": "cvc0RbGvK8zn"
      },
      "source": [
        "# 1. 데이터 수집\r\n",
        "\r\n",
        "*  삼성전자 2010년 이후 데이터\r\n",
        "*  VIX 2010년 이후 데이터 -> USD/KRW로 변경\r\n"
      ]
    },
    {
      "cell_type": "markdown",
      "metadata": {
        "id": "TvpZJxOjLBIf"
      },
      "source": [
        ""
      ]
    },
    {
      "cell_type": "code",
      "metadata": {
        "colab": {
          "base_uri": "https://localhost:8080/"
        },
        "id": "o8se15NNbOI9",
        "outputId": "639e3176-ad6f-4514-c68d-eb5bd864ef24"
      },
      "source": [
        "url = 'https://launchpad.net/~mario-mariomedina/+archive/ubuntu/talib/+files'\r\n",
        "!wget $url/libta-lib0_0.4.0-oneiric1_amd64.deb -qO libta.deb\r\n",
        "!wget $url/ta-lib0-dev_0.4.0-oneiric1_amd64.deb -qO ta.deb\r\n",
        "!dpkg -i libta.deb ta.deb\r\n",
        "!pip install ta-lib\r\n",
        "import talib"
      ],
      "execution_count": 2,
      "outputs": [
        {
          "output_type": "stream",
          "text": [
            "Selecting previously unselected package libta-lib0.\n",
            "(Reading database ... 145480 files and directories currently installed.)\n",
            "Preparing to unpack libta.deb ...\n",
            "Unpacking libta-lib0 (0.4.0-oneiric1) ...\n",
            "Selecting previously unselected package ta-lib0-dev.\n",
            "Preparing to unpack ta.deb ...\n",
            "Unpacking ta-lib0-dev (0.4.0-oneiric1) ...\n",
            "Setting up libta-lib0 (0.4.0-oneiric1) ...\n",
            "Setting up ta-lib0-dev (0.4.0-oneiric1) ...\n",
            "Processing triggers for man-db (2.8.3-2ubuntu0.1) ...\n",
            "Processing triggers for libc-bin (2.27-3ubuntu1.2) ...\n",
            "/sbin/ldconfig.real: /usr/local/lib/python3.6/dist-packages/ideep4py/lib/libmkldnn.so.0 is not a symbolic link\n",
            "\n",
            "Collecting ta-lib\n",
            "\u001b[?25l  Downloading https://files.pythonhosted.org/packages/ac/cf/681911aa31e04ba171ab4d523a412f4a746e30d3eacb1738799d181e028b/TA-Lib-0.4.19.tar.gz (267kB)\n",
            "\u001b[K     |████████████████████████████████| 276kB 9.2MB/s \n",
            "\u001b[?25hRequirement already satisfied: numpy in /usr/local/lib/python3.6/dist-packages (from ta-lib) (1.19.4)\n",
            "Building wheels for collected packages: ta-lib\n",
            "  Building wheel for ta-lib (setup.py) ... \u001b[?25l\u001b[?25hdone\n",
            "  Created wheel for ta-lib: filename=TA_Lib-0.4.19-cp36-cp36m-linux_x86_64.whl size=1437804 sha256=0b7ccf1fa450c1d5ef5ec2b6e017ac5099a06e83f3569d0c904318ab4c77238b\n",
            "  Stored in directory: /root/.cache/pip/wheels/a3/f6/12/3d1ccd06caadd8fa47e016991dd0d27f1163bb260f1854e2ff\n",
            "Successfully built ta-lib\n",
            "Installing collected packages: ta-lib\n",
            "Successfully installed ta-lib-0.4.19\n"
          ],
          "name": "stdout"
        }
      ]
    },
    {
      "cell_type": "code",
      "metadata": {
        "id": "kTIc0AgtKX6V"
      },
      "source": [
        "from pandas_datareader import data\r\n",
        "from keras.models import Sequential\r\n",
        "from keras.layers import LSTM, Dropout, Dense, Activation\r\n",
        "import matplotlib.pyplot as plt\r\n",
        "import pandas as pd\r\n",
        "import numpy as np\r\n",
        "import math\r\n",
        "import warnings\r\n",
        "warnings.filterwarnings('ignore')\r\n",
        "\r\n",
        "from sklearn import preprocessing\r\n",
        "from sklearn.preprocessing import StandardScaler\r\n",
        "from sklearn.model_selection import train_test_split\r\n",
        "from sklearn.model_selection import cross_validate\r\n",
        "from sklearn.model_selection import TimeSeriesSplit\r\n",
        "from sklearn.model_selection import GridSearchCV\r\n",
        "from sklearn.linear_model import LinearRegression\r\n",
        "from sklearn.ensemble import RandomForestClassifier\r\n",
        "from xgboost import XGBClassifier\r\n",
        "from xgboost import plot_importance\r\n",
        "from sklearn.metrics import precision_score, recall_score, confusion_matrix, roc_auc_score\r\n",
        "from sklearn.metrics import f1_score\r\n",
        "from sklearn.metrics import mean_squared_error, r2_score\r\n",
        "from sklearn.metrics import accuracy_score\r\n",
        "from sklearn import svm\r\n",
        "from keras.callbacks import EarlyStopping\r\n",
        "\r\n",
        "import seaborn as sns; sns.set()"
      ],
      "execution_count": 77,
      "outputs": []
    },
    {
      "cell_type": "code",
      "metadata": {
        "colab": {
          "base_uri": "https://localhost:8080/"
        },
        "id": "2AU7sdjVfOSL",
        "outputId": "8f429fbc-e1ca-41be-ad00-4563adb6091b"
      },
      "source": [
        "pip install -U finance-datareader"
      ],
      "execution_count": 4,
      "outputs": [
        {
          "output_type": "stream",
          "text": [
            "Collecting finance-datareader\n",
            "  Downloading https://files.pythonhosted.org/packages/ce/97/914f9c07de0edad6c1df84f0ee778b4fb5985d862eecf95a0ba3600ac109/finance_datareader-0.9.12-py3-none-any.whl\n",
            "Requirement already satisfied, skipping upgrade: requests>=2.3.0 in /usr/local/lib/python3.6/dist-packages (from finance-datareader) (2.23.0)\n",
            "Requirement already satisfied, skipping upgrade: tqdm in /usr/local/lib/python3.6/dist-packages (from finance-datareader) (4.41.1)\n",
            "Requirement already satisfied, skipping upgrade: lxml in /usr/local/lib/python3.6/dist-packages (from finance-datareader) (4.2.6)\n",
            "Requirement already satisfied, skipping upgrade: pandas>=0.19.2 in /usr/local/lib/python3.6/dist-packages (from finance-datareader) (1.1.5)\n",
            "Collecting requests-file\n",
            "  Downloading https://files.pythonhosted.org/packages/77/86/cdb5e8eaed90796aa83a6d9f75cfbd37af553c47a291cd47bc410ef9bdb2/requests_file-1.5.1-py2.py3-none-any.whl\n",
            "Requirement already satisfied, skipping upgrade: chardet<4,>=3.0.2 in /usr/local/lib/python3.6/dist-packages (from requests>=2.3.0->finance-datareader) (3.0.4)\n",
            "Requirement already satisfied, skipping upgrade: idna<3,>=2.5 in /usr/local/lib/python3.6/dist-packages (from requests>=2.3.0->finance-datareader) (2.10)\n",
            "Requirement already satisfied, skipping upgrade: certifi>=2017.4.17 in /usr/local/lib/python3.6/dist-packages (from requests>=2.3.0->finance-datareader) (2020.12.5)\n",
            "Requirement already satisfied, skipping upgrade: urllib3!=1.25.0,!=1.25.1,<1.26,>=1.21.1 in /usr/local/lib/python3.6/dist-packages (from requests>=2.3.0->finance-datareader) (1.24.3)\n",
            "Requirement already satisfied, skipping upgrade: python-dateutil>=2.7.3 in /usr/local/lib/python3.6/dist-packages (from pandas>=0.19.2->finance-datareader) (2.8.1)\n",
            "Requirement already satisfied, skipping upgrade: pytz>=2017.2 in /usr/local/lib/python3.6/dist-packages (from pandas>=0.19.2->finance-datareader) (2018.9)\n",
            "Requirement already satisfied, skipping upgrade: numpy>=1.15.4 in /usr/local/lib/python3.6/dist-packages (from pandas>=0.19.2->finance-datareader) (1.19.4)\n",
            "Requirement already satisfied, skipping upgrade: six in /usr/local/lib/python3.6/dist-packages (from requests-file->finance-datareader) (1.15.0)\n",
            "Installing collected packages: requests-file, finance-datareader\n",
            "Successfully installed finance-datareader-0.9.12 requests-file-1.5.1\n"
          ],
          "name": "stdout"
        }
      ]
    },
    {
      "cell_type": "code",
      "metadata": {
        "id": "8eKu7DSPfMW9"
      },
      "source": [
        "import FinanceDataReader as fdr"
      ],
      "execution_count": 5,
      "outputs": []
    },
    {
      "cell_type": "code",
      "metadata": {
        "id": "XVkNd30qUh10"
      },
      "source": [
        "#samsung_st_date = '2010-12-16'\r\n",
        "#samsung_enddate = '2020-12-16'\r\n",
        "#samsung = data.DataReader('005930.ks', 'yahoo', samsung_st_date, samsung_enddate)\r\n",
        "#samsung.head(9)\r\n",
        "\r\n",
        "samsung = fdr.DataReader('005930', '2010') #2010년 이후 삼성 주가 가져옴\r\n"
      ],
      "execution_count": 6,
      "outputs": []
    },
    {
      "cell_type": "code",
      "metadata": {
        "colab": {
          "base_uri": "https://localhost:8080/",
          "height": 431
        },
        "id": "Hj4Wn7v6gmsz",
        "outputId": "542258f0-9acf-4d59-d8aa-5f8a748a096b"
      },
      "source": [
        "samsung"
      ],
      "execution_count": 7,
      "outputs": [
        {
          "output_type": "execute_result",
          "data": {
            "text/html": [
              "<div>\n",
              "<style scoped>\n",
              "    .dataframe tbody tr th:only-of-type {\n",
              "        vertical-align: middle;\n",
              "    }\n",
              "\n",
              "    .dataframe tbody tr th {\n",
              "        vertical-align: top;\n",
              "    }\n",
              "\n",
              "    .dataframe thead th {\n",
              "        text-align: right;\n",
              "    }\n",
              "</style>\n",
              "<table border=\"1\" class=\"dataframe\">\n",
              "  <thead>\n",
              "    <tr style=\"text-align: right;\">\n",
              "      <th></th>\n",
              "      <th>Open</th>\n",
              "      <th>High</th>\n",
              "      <th>Low</th>\n",
              "      <th>Close</th>\n",
              "      <th>Volume</th>\n",
              "      <th>Change</th>\n",
              "    </tr>\n",
              "    <tr>\n",
              "      <th>Date</th>\n",
              "      <th></th>\n",
              "      <th></th>\n",
              "      <th></th>\n",
              "      <th></th>\n",
              "      <th></th>\n",
              "      <th></th>\n",
              "    </tr>\n",
              "  </thead>\n",
              "  <tbody>\n",
              "    <tr>\n",
              "      <th>2010-01-04</th>\n",
              "      <td>16060</td>\n",
              "      <td>16180</td>\n",
              "      <td>16000</td>\n",
              "      <td>16180</td>\n",
              "      <td>239271</td>\n",
              "      <td>0.012516</td>\n",
              "    </tr>\n",
              "    <tr>\n",
              "      <th>2010-01-05</th>\n",
              "      <td>16520</td>\n",
              "      <td>16580</td>\n",
              "      <td>16300</td>\n",
              "      <td>16440</td>\n",
              "      <td>559219</td>\n",
              "      <td>0.016069</td>\n",
              "    </tr>\n",
              "    <tr>\n",
              "      <th>2010-01-06</th>\n",
              "      <td>16580</td>\n",
              "      <td>16820</td>\n",
              "      <td>16520</td>\n",
              "      <td>16820</td>\n",
              "      <td>459755</td>\n",
              "      <td>0.023114</td>\n",
              "    </tr>\n",
              "    <tr>\n",
              "      <th>2010-01-07</th>\n",
              "      <td>16820</td>\n",
              "      <td>16820</td>\n",
              "      <td>16260</td>\n",
              "      <td>16260</td>\n",
              "      <td>443237</td>\n",
              "      <td>-0.033294</td>\n",
              "    </tr>\n",
              "    <tr>\n",
              "      <th>2010-01-08</th>\n",
              "      <td>16400</td>\n",
              "      <td>16420</td>\n",
              "      <td>16120</td>\n",
              "      <td>16420</td>\n",
              "      <td>295798</td>\n",
              "      <td>0.009840</td>\n",
              "    </tr>\n",
              "    <tr>\n",
              "      <th>...</th>\n",
              "      <td>...</td>\n",
              "      <td>...</td>\n",
              "      <td>...</td>\n",
              "      <td>...</td>\n",
              "      <td>...</td>\n",
              "      <td>...</td>\n",
              "    </tr>\n",
              "    <tr>\n",
              "      <th>2020-12-17</th>\n",
              "      <td>73400</td>\n",
              "      <td>73700</td>\n",
              "      <td>72600</td>\n",
              "      <td>73300</td>\n",
              "      <td>24293214</td>\n",
              "      <td>-0.006775</td>\n",
              "    </tr>\n",
              "    <tr>\n",
              "      <th>2020-12-18</th>\n",
              "      <td>73300</td>\n",
              "      <td>73700</td>\n",
              "      <td>73000</td>\n",
              "      <td>73000</td>\n",
              "      <td>17613029</td>\n",
              "      <td>-0.004093</td>\n",
              "    </tr>\n",
              "    <tr>\n",
              "      <th>2020-12-21</th>\n",
              "      <td>73100</td>\n",
              "      <td>73400</td>\n",
              "      <td>72000</td>\n",
              "      <td>73000</td>\n",
              "      <td>20367355</td>\n",
              "      <td>0.000000</td>\n",
              "    </tr>\n",
              "    <tr>\n",
              "      <th>2020-12-22</th>\n",
              "      <td>72500</td>\n",
              "      <td>73200</td>\n",
              "      <td>72100</td>\n",
              "      <td>72300</td>\n",
              "      <td>16304910</td>\n",
              "      <td>-0.009589</td>\n",
              "    </tr>\n",
              "    <tr>\n",
              "      <th>2020-12-23</th>\n",
              "      <td>72400</td>\n",
              "      <td>74000</td>\n",
              "      <td>72300</td>\n",
              "      <td>73900</td>\n",
              "      <td>19321971</td>\n",
              "      <td>0.022130</td>\n",
              "    </tr>\n",
              "  </tbody>\n",
              "</table>\n",
              "<p>2710 rows × 6 columns</p>\n",
              "</div>"
            ],
            "text/plain": [
              "             Open   High    Low  Close    Volume    Change\n",
              "Date                                                      \n",
              "2010-01-04  16060  16180  16000  16180    239271  0.012516\n",
              "2010-01-05  16520  16580  16300  16440    559219  0.016069\n",
              "2010-01-06  16580  16820  16520  16820    459755  0.023114\n",
              "2010-01-07  16820  16820  16260  16260    443237 -0.033294\n",
              "2010-01-08  16400  16420  16120  16420    295798  0.009840\n",
              "...           ...    ...    ...    ...       ...       ...\n",
              "2020-12-17  73400  73700  72600  73300  24293214 -0.006775\n",
              "2020-12-18  73300  73700  73000  73000  17613029 -0.004093\n",
              "2020-12-21  73100  73400  72000  73000  20367355  0.000000\n",
              "2020-12-22  72500  73200  72100  72300  16304910 -0.009589\n",
              "2020-12-23  72400  74000  72300  73900  19321971  0.022130\n",
              "\n",
              "[2710 rows x 6 columns]"
            ]
          },
          "metadata": {
            "tags": []
          },
          "execution_count": 7
        }
      ]
    },
    {
      "cell_type": "code",
      "metadata": {
        "colab": {
          "base_uri": "https://localhost:8080/"
        },
        "id": "WbkT9LPzltNe",
        "outputId": "6e697cde-4fa7-4bf9-fad6-42a9005a29b6"
      },
      "source": [
        "samsung.isnull().sum()"
      ],
      "execution_count": 8,
      "outputs": [
        {
          "output_type": "execute_result",
          "data": {
            "text/plain": [
              "Open      0\n",
              "High      0\n",
              "Low       0\n",
              "Close     0\n",
              "Volume    0\n",
              "Change    0\n",
              "dtype: int64"
            ]
          },
          "metadata": {
            "tags": []
          },
          "execution_count": 8
        }
      ]
    },
    {
      "cell_type": "code",
      "metadata": {
        "id": "AhCvjx3vfIHt",
        "colab": {
          "base_uri": "https://localhost:8080/",
          "height": 431
        },
        "outputId": "e332ced7-4703-4176-b102-e3237c2818a6"
      },
      "source": [
        "VIX = fdr.DataReader('USD/KRW', '2010') #2010년 이후 VIX 지수가져옴 -> 갑자기안돼서 USD/KRW로 변경\r\n",
        "#VIX = fdr.DataReader('VIXCLS', start='2010', data_source='fred')\r\n",
        "VIX\r\n"
      ],
      "execution_count": 24,
      "outputs": [
        {
          "output_type": "execute_result",
          "data": {
            "text/html": [
              "<div>\n",
              "<style scoped>\n",
              "    .dataframe tbody tr th:only-of-type {\n",
              "        vertical-align: middle;\n",
              "    }\n",
              "\n",
              "    .dataframe tbody tr th {\n",
              "        vertical-align: top;\n",
              "    }\n",
              "\n",
              "    .dataframe thead th {\n",
              "        text-align: right;\n",
              "    }\n",
              "</style>\n",
              "<table border=\"1\" class=\"dataframe\">\n",
              "  <thead>\n",
              "    <tr style=\"text-align: right;\">\n",
              "      <th></th>\n",
              "      <th>Close</th>\n",
              "      <th>Open</th>\n",
              "      <th>High</th>\n",
              "      <th>Low</th>\n",
              "      <th>Change</th>\n",
              "    </tr>\n",
              "    <tr>\n",
              "      <th>Date</th>\n",
              "      <th></th>\n",
              "      <th></th>\n",
              "      <th></th>\n",
              "      <th></th>\n",
              "      <th></th>\n",
              "    </tr>\n",
              "  </thead>\n",
              "  <tbody>\n",
              "    <tr>\n",
              "      <th>2010-01-01</th>\n",
              "      <td>1166.08</td>\n",
              "      <td>1166.08</td>\n",
              "      <td>1166.08</td>\n",
              "      <td>1166.08</td>\n",
              "      <td>0.0000</td>\n",
              "    </tr>\n",
              "    <tr>\n",
              "      <th>2010-01-04</th>\n",
              "      <td>1150.00</td>\n",
              "      <td>1164.07</td>\n",
              "      <td>1164.07</td>\n",
              "      <td>1149.35</td>\n",
              "      <td>-0.0138</td>\n",
              "    </tr>\n",
              "    <tr>\n",
              "      <th>2010-01-05</th>\n",
              "      <td>1140.20</td>\n",
              "      <td>1151.00</td>\n",
              "      <td>1151.00</td>\n",
              "      <td>1136.30</td>\n",
              "      <td>-0.0085</td>\n",
              "    </tr>\n",
              "    <tr>\n",
              "      <th>2010-01-06</th>\n",
              "      <td>1129.20</td>\n",
              "      <td>1140.20</td>\n",
              "      <td>1144.70</td>\n",
              "      <td>1129.20</td>\n",
              "      <td>-0.0096</td>\n",
              "    </tr>\n",
              "    <tr>\n",
              "      <th>2010-01-07</th>\n",
              "      <td>1138.20</td>\n",
              "      <td>1129.20</td>\n",
              "      <td>1138.20</td>\n",
              "      <td>1127.80</td>\n",
              "      <td>0.0080</td>\n",
              "    </tr>\n",
              "    <tr>\n",
              "      <th>...</th>\n",
              "      <td>...</td>\n",
              "      <td>...</td>\n",
              "      <td>...</td>\n",
              "      <td>...</td>\n",
              "      <td>...</td>\n",
              "    </tr>\n",
              "    <tr>\n",
              "      <th>2020-12-17</th>\n",
              "      <td>1093.01</td>\n",
              "      <td>1094.12</td>\n",
              "      <td>1095.43</td>\n",
              "      <td>1090.27</td>\n",
              "      <td>0.0006</td>\n",
              "    </tr>\n",
              "    <tr>\n",
              "      <th>2020-12-18</th>\n",
              "      <td>1099.39</td>\n",
              "      <td>1094.01</td>\n",
              "      <td>1100.78</td>\n",
              "      <td>1092.34</td>\n",
              "      <td>0.0058</td>\n",
              "    </tr>\n",
              "    <tr>\n",
              "      <th>2020-12-21</th>\n",
              "      <td>1102.55</td>\n",
              "      <td>1099.48</td>\n",
              "      <td>1112.74</td>\n",
              "      <td>1097.94</td>\n",
              "      <td>0.0029</td>\n",
              "    </tr>\n",
              "    <tr>\n",
              "      <th>2020-12-22</th>\n",
              "      <td>1109.72</td>\n",
              "      <td>1104.31</td>\n",
              "      <td>1111.05</td>\n",
              "      <td>1102.46</td>\n",
              "      <td>0.0065</td>\n",
              "    </tr>\n",
              "    <tr>\n",
              "      <th>2020-12-23</th>\n",
              "      <td>1107.61</td>\n",
              "      <td>1109.95</td>\n",
              "      <td>1110.49</td>\n",
              "      <td>1105.55</td>\n",
              "      <td>-0.0019</td>\n",
              "    </tr>\n",
              "  </tbody>\n",
              "</table>\n",
              "<p>2864 rows × 5 columns</p>\n",
              "</div>"
            ],
            "text/plain": [
              "              Close     Open     High      Low  Change\n",
              "Date                                                  \n",
              "2010-01-01  1166.08  1166.08  1166.08  1166.08  0.0000\n",
              "2010-01-04  1150.00  1164.07  1164.07  1149.35 -0.0138\n",
              "2010-01-05  1140.20  1151.00  1151.00  1136.30 -0.0085\n",
              "2010-01-06  1129.20  1140.20  1144.70  1129.20 -0.0096\n",
              "2010-01-07  1138.20  1129.20  1138.20  1127.80  0.0080\n",
              "...             ...      ...      ...      ...     ...\n",
              "2020-12-17  1093.01  1094.12  1095.43  1090.27  0.0006\n",
              "2020-12-18  1099.39  1094.01  1100.78  1092.34  0.0058\n",
              "2020-12-21  1102.55  1099.48  1112.74  1097.94  0.0029\n",
              "2020-12-22  1109.72  1104.31  1111.05  1102.46  0.0065\n",
              "2020-12-23  1107.61  1109.95  1110.49  1105.55 -0.0019\n",
              "\n",
              "[2864 rows x 5 columns]"
            ]
          },
          "metadata": {
            "tags": []
          },
          "execution_count": 24
        }
      ]
    },
    {
      "cell_type": "markdown",
      "metadata": {
        "id": "KW1WHJUUqSHL"
      },
      "source": [
        "## 데이터 시각화\r\n",
        "\r\n",
        "* 삼전종가\r\n",
        "* VIX종가\r\n",
        "* 삼전 이동평균선\r\n",
        "* 삼전과 vix의 관계 그래프 등등"
      ]
    },
    {
      "cell_type": "code",
      "metadata": {
        "colab": {
          "base_uri": "https://localhost:8080/",
          "height": 302
        },
        "id": "QOS04sPUp9No",
        "outputId": "a9a6789d-a701-450e-8ad1-81aaa1820d92"
      },
      "source": [
        "VIX['Close'].plot()\r\n"
      ],
      "execution_count": 25,
      "outputs": [
        {
          "output_type": "execute_result",
          "data": {
            "text/plain": [
              "<matplotlib.axes._subplots.AxesSubplot at 0x7f436e994fd0>"
            ]
          },
          "metadata": {
            "tags": []
          },
          "execution_count": 25
        },
        {
          "output_type": "display_data",
          "data": {
            "image/png": "[encoded data removed]",
            "text/plain": [
              "<Figure size 432x288 with 1 Axes>"
            ]
          },
          "metadata": {
            "tags": []
          }
        }
      ]
    },
    {
      "cell_type": "code",
      "metadata": {
        "colab": {
          "base_uri": "https://localhost:8080/",
          "height": 294
        },
        "id": "PWMX8TWnqQBF",
        "outputId": "b4e59d71-6b7b-4011-b4d3-9e789678a5ce"
      },
      "source": [
        "samsung['Close'].plot()"
      ],
      "execution_count": 26,
      "outputs": [
        {
          "output_type": "execute_result",
          "data": {
            "text/plain": [
              "<matplotlib.axes._subplots.AxesSubplot at 0x7f436eb51438>"
            ]
          },
          "metadata": {
            "tags": []
          },
          "execution_count": 26
        },
        {
          "output_type": "display_data",
          "data": {
            "image/png": "[encoded data removed]",
            "text/plain": [
              "<Figure size 432x288 with 1 Axes>"
            ]
          },
          "metadata": {
            "tags": []
          }
        }
      ]
    },
    {
      "cell_type": "markdown",
      "metadata": {
        "id": "KxO3yfInslIm"
      },
      "source": [
        "## 수집된 데이터를 기반으로 새로운 데이터 생성\r\n",
        "*  "
      ]
    },
    {
      "cell_type": "code",
      "metadata": {
        "id": "ro1JKWlWhf0a"
      },
      "source": [
        "#VIX = VIX.drop(['Open','High','Low', 'Volume','Change'], axis=1) \r\n",
        "VIX = VIX.drop(['Open','High','Low', 'Change'], axis=1) \r\n",
        "# 필요없는거 버리고 close만 쓸거임"
      ],
      "execution_count": 28,
      "outputs": []
    },
    {
      "cell_type": "code",
      "metadata": {
        "colab": {
          "base_uri": "https://localhost:8080/",
          "height": 431
        },
        "id": "uOnM13GqgHJA",
        "outputId": "074c88c3-5188-4abb-fa0a-acb45869b92e"
      },
      "source": [
        "VIX.columns = ['VIX_Close']\r\n",
        "VIX"
      ],
      "execution_count": 30,
      "outputs": [
        {
          "output_type": "execute_result",
          "data": {
            "text/html": [
              "<div>\n",
              "<style scoped>\n",
              "    .dataframe tbody tr th:only-of-type {\n",
              "        vertical-align: middle;\n",
              "    }\n",
              "\n",
              "    .dataframe tbody tr th {\n",
              "        vertical-align: top;\n",
              "    }\n",
              "\n",
              "    .dataframe thead th {\n",
              "        text-align: right;\n",
              "    }\n",
              "</style>\n",
              "<table border=\"1\" class=\"dataframe\">\n",
              "  <thead>\n",
              "    <tr style=\"text-align: right;\">\n",
              "      <th></th>\n",
              "      <th>VIX_Close</th>\n",
              "    </tr>\n",
              "    <tr>\n",
              "      <th>Date</th>\n",
              "      <th></th>\n",
              "    </tr>\n",
              "  </thead>\n",
              "  <tbody>\n",
              "    <tr>\n",
              "      <th>2010-01-01</th>\n",
              "      <td>1166.08</td>\n",
              "    </tr>\n",
              "    <tr>\n",
              "      <th>2010-01-04</th>\n",
              "      <td>1150.00</td>\n",
              "    </tr>\n",
              "    <tr>\n",
              "      <th>2010-01-05</th>\n",
              "      <td>1140.20</td>\n",
              "    </tr>\n",
              "    <tr>\n",
              "      <th>2010-01-06</th>\n",
              "      <td>1129.20</td>\n",
              "    </tr>\n",
              "    <tr>\n",
              "      <th>2010-01-07</th>\n",
              "      <td>1138.20</td>\n",
              "    </tr>\n",
              "    <tr>\n",
              "      <th>...</th>\n",
              "      <td>...</td>\n",
              "    </tr>\n",
              "    <tr>\n",
              "      <th>2020-12-17</th>\n",
              "      <td>1093.01</td>\n",
              "    </tr>\n",
              "    <tr>\n",
              "      <th>2020-12-18</th>\n",
              "      <td>1099.39</td>\n",
              "    </tr>\n",
              "    <tr>\n",
              "      <th>2020-12-21</th>\n",
              "      <td>1102.55</td>\n",
              "    </tr>\n",
              "    <tr>\n",
              "      <th>2020-12-22</th>\n",
              "      <td>1109.72</td>\n",
              "    </tr>\n",
              "    <tr>\n",
              "      <th>2020-12-23</th>\n",
              "      <td>1107.61</td>\n",
              "    </tr>\n",
              "  </tbody>\n",
              "</table>\n",
              "<p>2864 rows × 1 columns</p>\n",
              "</div>"
            ],
            "text/plain": [
              "            VIX_Close\n",
              "Date                 \n",
              "2010-01-01    1166.08\n",
              "2010-01-04    1150.00\n",
              "2010-01-05    1140.20\n",
              "2010-01-06    1129.20\n",
              "2010-01-07    1138.20\n",
              "...               ...\n",
              "2020-12-17    1093.01\n",
              "2020-12-18    1099.39\n",
              "2020-12-21    1102.55\n",
              "2020-12-22    1109.72\n",
              "2020-12-23    1107.61\n",
              "\n",
              "[2864 rows x 1 columns]"
            ]
          },
          "metadata": {
            "tags": []
          },
          "execution_count": 30
        }
      ]
    },
    {
      "cell_type": "code",
      "metadata": {
        "colab": {
          "base_uri": "https://localhost:8080/"
        },
        "id": "1Rb-xfPukrDm",
        "outputId": "27f6a510-0204-4630-bfab-e727a214b8ab"
      },
      "source": [
        "VIX.isnull().sum()"
      ],
      "execution_count": 31,
      "outputs": [
        {
          "output_type": "execute_result",
          "data": {
            "text/plain": [
              "VIX_Close    0\n",
              "dtype: int64"
            ]
          },
          "metadata": {
            "tags": []
          },
          "execution_count": 31
        }
      ]
    },
    {
      "cell_type": "code",
      "metadata": {
        "colab": {
          "base_uri": "https://localhost:8080/",
          "height": 431
        },
        "id": "io3Qz4Ucf6KN",
        "outputId": "2f5bb9b7-3c65-49ed-ef51-0f786089a568"
      },
      "source": [
        "snv = pd.concat([samsung,VIX],axis=1)\r\n",
        "snv"
      ],
      "execution_count": 32,
      "outputs": [
        {
          "output_type": "execute_result",
          "data": {
            "text/html": [
              "<div>\n",
              "<style scoped>\n",
              "    .dataframe tbody tr th:only-of-type {\n",
              "        vertical-align: middle;\n",
              "    }\n",
              "\n",
              "    .dataframe tbody tr th {\n",
              "        vertical-align: top;\n",
              "    }\n",
              "\n",
              "    .dataframe thead th {\n",
              "        text-align: right;\n",
              "    }\n",
              "</style>\n",
              "<table border=\"1\" class=\"dataframe\">\n",
              "  <thead>\n",
              "    <tr style=\"text-align: right;\">\n",
              "      <th></th>\n",
              "      <th>Open</th>\n",
              "      <th>High</th>\n",
              "      <th>Low</th>\n",
              "      <th>Close</th>\n",
              "      <th>Volume</th>\n",
              "      <th>Change</th>\n",
              "      <th>VIX_Close</th>\n",
              "    </tr>\n",
              "    <tr>\n",
              "      <th>Date</th>\n",
              "      <th></th>\n",
              "      <th></th>\n",
              "      <th></th>\n",
              "      <th></th>\n",
              "      <th></th>\n",
              "      <th></th>\n",
              "      <th></th>\n",
              "    </tr>\n",
              "  </thead>\n",
              "  <tbody>\n",
              "    <tr>\n",
              "      <th>2010-01-01</th>\n",
              "      <td>NaN</td>\n",
              "      <td>NaN</td>\n",
              "      <td>NaN</td>\n",
              "      <td>NaN</td>\n",
              "      <td>NaN</td>\n",
              "      <td>NaN</td>\n",
              "      <td>1166.08</td>\n",
              "    </tr>\n",
              "    <tr>\n",
              "      <th>2010-01-04</th>\n",
              "      <td>16060.0</td>\n",
              "      <td>16180.0</td>\n",
              "      <td>16000.0</td>\n",
              "      <td>16180.0</td>\n",
              "      <td>239271.0</td>\n",
              "      <td>0.012516</td>\n",
              "      <td>1150.00</td>\n",
              "    </tr>\n",
              "    <tr>\n",
              "      <th>2010-01-05</th>\n",
              "      <td>16520.0</td>\n",
              "      <td>16580.0</td>\n",
              "      <td>16300.0</td>\n",
              "      <td>16440.0</td>\n",
              "      <td>559219.0</td>\n",
              "      <td>0.016069</td>\n",
              "      <td>1140.20</td>\n",
              "    </tr>\n",
              "    <tr>\n",
              "      <th>2010-01-06</th>\n",
              "      <td>16580.0</td>\n",
              "      <td>16820.0</td>\n",
              "      <td>16520.0</td>\n",
              "      <td>16820.0</td>\n",
              "      <td>459755.0</td>\n",
              "      <td>0.023114</td>\n",
              "      <td>1129.20</td>\n",
              "    </tr>\n",
              "    <tr>\n",
              "      <th>2010-01-07</th>\n",
              "      <td>16820.0</td>\n",
              "      <td>16820.0</td>\n",
              "      <td>16260.0</td>\n",
              "      <td>16260.0</td>\n",
              "      <td>443237.0</td>\n",
              "      <td>-0.033294</td>\n",
              "      <td>1138.20</td>\n",
              "    </tr>\n",
              "    <tr>\n",
              "      <th>...</th>\n",
              "      <td>...</td>\n",
              "      <td>...</td>\n",
              "      <td>...</td>\n",
              "      <td>...</td>\n",
              "      <td>...</td>\n",
              "      <td>...</td>\n",
              "      <td>...</td>\n",
              "    </tr>\n",
              "    <tr>\n",
              "      <th>2020-12-17</th>\n",
              "      <td>73400.0</td>\n",
              "      <td>73700.0</td>\n",
              "      <td>72600.0</td>\n",
              "      <td>73300.0</td>\n",
              "      <td>24293214.0</td>\n",
              "      <td>-0.006775</td>\n",
              "      <td>1093.01</td>\n",
              "    </tr>\n",
              "    <tr>\n",
              "      <th>2020-12-18</th>\n",
              "      <td>73300.0</td>\n",
              "      <td>73700.0</td>\n",
              "      <td>73000.0</td>\n",
              "      <td>73000.0</td>\n",
              "      <td>17613029.0</td>\n",
              "      <td>-0.004093</td>\n",
              "      <td>1099.39</td>\n",
              "    </tr>\n",
              "    <tr>\n",
              "      <th>2020-12-21</th>\n",
              "      <td>73100.0</td>\n",
              "      <td>73400.0</td>\n",
              "      <td>72000.0</td>\n",
              "      <td>73000.0</td>\n",
              "      <td>20367355.0</td>\n",
              "      <td>0.000000</td>\n",
              "      <td>1102.55</td>\n",
              "    </tr>\n",
              "    <tr>\n",
              "      <th>2020-12-22</th>\n",
              "      <td>72500.0</td>\n",
              "      <td>73200.0</td>\n",
              "      <td>72100.0</td>\n",
              "      <td>72300.0</td>\n",
              "      <td>16304910.0</td>\n",
              "      <td>-0.009589</td>\n",
              "      <td>1109.72</td>\n",
              "    </tr>\n",
              "    <tr>\n",
              "      <th>2020-12-23</th>\n",
              "      <td>72400.0</td>\n",
              "      <td>74000.0</td>\n",
              "      <td>72300.0</td>\n",
              "      <td>73900.0</td>\n",
              "      <td>19321971.0</td>\n",
              "      <td>0.022130</td>\n",
              "      <td>1107.61</td>\n",
              "    </tr>\n",
              "  </tbody>\n",
              "</table>\n",
              "<p>2864 rows × 7 columns</p>\n",
              "</div>"
            ],
            "text/plain": [
              "               Open     High      Low    Close      Volume    Change  VIX_Close\n",
              "Date                                                                           \n",
              "2010-01-01      NaN      NaN      NaN      NaN         NaN       NaN    1166.08\n",
              "2010-01-04  16060.0  16180.0  16000.0  16180.0    239271.0  0.012516    1150.00\n",
              "2010-01-05  16520.0  16580.0  16300.0  16440.0    559219.0  0.016069    1140.20\n",
              "2010-01-06  16580.0  16820.0  16520.0  16820.0    459755.0  0.023114    1129.20\n",
              "2010-01-07  16820.0  16820.0  16260.0  16260.0    443237.0 -0.033294    1138.20\n",
              "...             ...      ...      ...      ...         ...       ...        ...\n",
              "2020-12-17  73400.0  73700.0  72600.0  73300.0  24293214.0 -0.006775    1093.01\n",
              "2020-12-18  73300.0  73700.0  73000.0  73000.0  17613029.0 -0.004093    1099.39\n",
              "2020-12-21  73100.0  73400.0  72000.0  73000.0  20367355.0  0.000000    1102.55\n",
              "2020-12-22  72500.0  73200.0  72100.0  72300.0  16304910.0 -0.009589    1109.72\n",
              "2020-12-23  72400.0  74000.0  72300.0  73900.0  19321971.0  0.022130    1107.61\n",
              "\n",
              "[2864 rows x 7 columns]"
            ]
          },
          "metadata": {
            "tags": []
          },
          "execution_count": 32
        }
      ]
    },
    {
      "cell_type": "code",
      "metadata": {
        "colab": {
          "base_uri": "https://localhost:8080/"
        },
        "id": "iKA6vMgelyIK",
        "outputId": "fe7397c4-ae07-44f9-c94a-f8a501b8a67b"
      },
      "source": [
        "snv.isnull().sum()\r\n",
        "# 한국과 미국 영업일이 달라서 합쳤을 때 결측치가 생겨버림.."
      ],
      "execution_count": 33,
      "outputs": [
        {
          "output_type": "execute_result",
          "data": {
            "text/plain": [
              "Open         154\n",
              "High         154\n",
              "Low          154\n",
              "Close        154\n",
              "Volume       154\n",
              "Change       154\n",
              "VIX_Close      0\n",
              "dtype: int64"
            ]
          },
          "metadata": {
            "tags": []
          },
          "execution_count": 33
        }
      ]
    },
    {
      "cell_type": "code",
      "metadata": {
        "id": "DD83rXr2l861"
      },
      "source": [
        "snv = snv.dropna()\r\n",
        "# 없애버리자"
      ],
      "execution_count": 34,
      "outputs": []
    },
    {
      "cell_type": "code",
      "metadata": {
        "colab": {
          "base_uri": "https://localhost:8080/"
        },
        "id": "bz_OzAs_mCQP",
        "outputId": "e0b2f066-4385-4a65-dcaf-1e5bb0258922"
      },
      "source": [
        "snv.info()\r\n",
        "# 건수가 좀 줄었지만 크게 줄지 않았음.."
      ],
      "execution_count": 35,
      "outputs": [
        {
          "output_type": "stream",
          "text": [
            "<class 'pandas.core.frame.DataFrame'>\n",
            "DatetimeIndex: 2710 entries, 2010-01-04 to 2020-12-23\n",
            "Data columns (total 7 columns):\n",
            " #   Column     Non-Null Count  Dtype  \n",
            "---  ------     --------------  -----  \n",
            " 0   Open       2710 non-null   float64\n",
            " 1   High       2710 non-null   float64\n",
            " 2   Low        2710 non-null   float64\n",
            " 3   Close      2710 non-null   float64\n",
            " 4   Volume     2710 non-null   float64\n",
            " 5   Change     2710 non-null   float64\n",
            " 6   VIX_Close  2710 non-null   float64\n",
            "dtypes: float64(7)\n",
            "memory usage: 169.4 KB\n"
          ],
          "name": "stdout"
        }
      ]
    },
    {
      "cell_type": "markdown",
      "metadata": {
        "id": "CJ5UfgeURB-X"
      },
      "source": [
        "## 머신러닝"
      ]
    },
    {
      "cell_type": "code",
      "metadata": {
        "id": "4R75BDQZaidl"
      },
      "source": [
        "#snv['MA5'] = talib.SMA(snv['Close'], timeperiod=5)\r\n",
        "#snv['MA10'] = talib.SMA(snv['Close'], timeperiod=10)\r\n",
        "#snv['RASD5'] = talib.SMA(talib.STDDEV(snv['Close'], timeperiod=5, nbdev=1),timeperiod=5)\r\n",
        "#snv['RASD10'] = talib.SMA(talib.STDDEV(snv['Close'], timeperiod=5, nbdev=1),timeperiod=10)"
      ],
      "execution_count": null,
      "outputs": []
    },
    {
      "cell_type": "code",
      "metadata": {
        "id": "ut5SBUNkkNI3"
      },
      "source": [
        "def moving_average(df, n):\r\n",
        "    MA = pd.Series(df['Close'].rolling(n, min_periods=n).mean(), name='MA_' + str(n))\r\n",
        "    df = df.join(MA)\r\n",
        "    return df"
      ],
      "execution_count": 36,
      "outputs": []
    },
    {
      "cell_type": "code",
      "metadata": {
        "id": "kSvQM68MkTYT"
      },
      "source": [
        "snv = moving_average(snv, 10) #10일평균이동선"
      ],
      "execution_count": 37,
      "outputs": []
    },
    {
      "cell_type": "code",
      "metadata": {
        "colab": {
          "base_uri": "https://localhost:8080/"
        },
        "id": "qGSyMi3ZRi0k",
        "outputId": "6484a9a9-42bc-49d3-a7a2-5216443e2250"
      },
      "source": [
        "snv.isnull().sum()"
      ],
      "execution_count": 38,
      "outputs": [
        {
          "output_type": "execute_result",
          "data": {
            "text/plain": [
              "Open         0\n",
              "High         0\n",
              "Low          0\n",
              "Close        0\n",
              "Volume       0\n",
              "Change       0\n",
              "VIX_Close    0\n",
              "MA_10        9\n",
              "dtype: int64"
            ]
          },
          "metadata": {
            "tags": []
          },
          "execution_count": 38
        }
      ]
    },
    {
      "cell_type": "code",
      "metadata": {
        "id": "iFe9iaKWRi3F"
      },
      "source": [
        "snv = snv.dropna()\r\n",
        "# 맨앞 9개 날림"
      ],
      "execution_count": 39,
      "outputs": []
    },
    {
      "cell_type": "code",
      "metadata": {
        "colab": {
          "base_uri": "https://localhost:8080/"
        },
        "id": "hBWZFOIvRi5c",
        "outputId": "551cc886-bf8f-41f8-b87f-ccddc96612e9"
      },
      "source": [
        "len(snv)"
      ],
      "execution_count": 40,
      "outputs": [
        {
          "output_type": "execute_result",
          "data": {
            "text/plain": [
              "2701"
            ]
          },
          "metadata": {
            "tags": []
          },
          "execution_count": 40
        }
      ]
    },
    {
      "cell_type": "code",
      "metadata": {
        "id": "Pwp8_FimUH_v"
      },
      "source": [
        "snv['target'] = snv['Close'].pct_change()"
      ],
      "execution_count": 41,
      "outputs": []
    },
    {
      "cell_type": "code",
      "metadata": {
        "id": "vq0UHJSjU39j"
      },
      "source": [
        "snv = snv.dropna()"
      ],
      "execution_count": 42,
      "outputs": []
    },
    {
      "cell_type": "code",
      "metadata": {
        "colab": {
          "base_uri": "https://localhost:8080/"
        },
        "id": "VPMLyd-FUIEV",
        "outputId": "43e9d613-9184-4848-a0d4-760fe4784396"
      },
      "source": [
        "snv['target'].describe()"
      ],
      "execution_count": 43,
      "outputs": [
        {
          "output_type": "execute_result",
          "data": {
            "text/plain": [
              "count    2700.000000\n",
              "mean        0.000697\n",
              "std         0.017284\n",
              "min        -0.080357\n",
              "25%        -0.009780\n",
              "50%         0.000194\n",
              "75%         0.010327\n",
              "max         0.104706\n",
              "Name: target, dtype: float64"
            ]
          },
          "metadata": {
            "tags": []
          },
          "execution_count": 43
        }
      ]
    },
    {
      "cell_type": "code",
      "metadata": {
        "colab": {
          "base_uri": "https://localhost:8080/",
          "height": 431
        },
        "id": "VkvqzraiUIGk",
        "outputId": "462c8443-d1bf-46fb-c77f-6d79327dda37"
      },
      "source": [
        "snv"
      ],
      "execution_count": 44,
      "outputs": [
        {
          "output_type": "execute_result",
          "data": {
            "text/html": [
              "<div>\n",
              "<style scoped>\n",
              "    .dataframe tbody tr th:only-of-type {\n",
              "        vertical-align: middle;\n",
              "    }\n",
              "\n",
              "    .dataframe tbody tr th {\n",
              "        vertical-align: top;\n",
              "    }\n",
              "\n",
              "    .dataframe thead th {\n",
              "        text-align: right;\n",
              "    }\n",
              "</style>\n",
              "<table border=\"1\" class=\"dataframe\">\n",
              "  <thead>\n",
              "    <tr style=\"text-align: right;\">\n",
              "      <th></th>\n",
              "      <th>Open</th>\n",
              "      <th>High</th>\n",
              "      <th>Low</th>\n",
              "      <th>Close</th>\n",
              "      <th>Volume</th>\n",
              "      <th>Change</th>\n",
              "      <th>VIX_Close</th>\n",
              "      <th>MA_10</th>\n",
              "      <th>target</th>\n",
              "    </tr>\n",
              "    <tr>\n",
              "      <th>Date</th>\n",
              "      <th></th>\n",
              "      <th></th>\n",
              "      <th></th>\n",
              "      <th></th>\n",
              "      <th></th>\n",
              "      <th></th>\n",
              "      <th></th>\n",
              "      <th></th>\n",
              "      <th></th>\n",
              "    </tr>\n",
              "  </thead>\n",
              "  <tbody>\n",
              "    <tr>\n",
              "      <th>2010-01-18</th>\n",
              "      <td>16800.0</td>\n",
              "      <td>16920.0</td>\n",
              "      <td>16560.0</td>\n",
              "      <td>16860.0</td>\n",
              "      <td>261691.0</td>\n",
              "      <td>0.001188</td>\n",
              "      <td>1124.60</td>\n",
              "      <td>16424.0</td>\n",
              "      <td>0.001188</td>\n",
              "    </tr>\n",
              "    <tr>\n",
              "      <th>2010-01-19</th>\n",
              "      <td>17000.0</td>\n",
              "      <td>17000.0</td>\n",
              "      <td>16440.0</td>\n",
              "      <td>16460.0</td>\n",
              "      <td>241308.0</td>\n",
              "      <td>-0.023725</td>\n",
              "      <td>1130.30</td>\n",
              "      <td>16426.0</td>\n",
              "      <td>-0.023725</td>\n",
              "    </tr>\n",
              "    <tr>\n",
              "      <th>2010-01-20</th>\n",
              "      <td>16460.0</td>\n",
              "      <td>16740.0</td>\n",
              "      <td>16460.0</td>\n",
              "      <td>16680.0</td>\n",
              "      <td>384306.0</td>\n",
              "      <td>0.013366</td>\n",
              "      <td>1144.30</td>\n",
              "      <td>16412.0</td>\n",
              "      <td>0.013366</td>\n",
              "    </tr>\n",
              "    <tr>\n",
              "      <th>2010-01-21</th>\n",
              "      <td>16400.0</td>\n",
              "      <td>17000.0</td>\n",
              "      <td>16400.0</td>\n",
              "      <td>17000.0</td>\n",
              "      <td>340148.0</td>\n",
              "      <td>0.019185</td>\n",
              "      <td>1145.00</td>\n",
              "      <td>16486.0</td>\n",
              "      <td>0.019185</td>\n",
              "    </tr>\n",
              "    <tr>\n",
              "      <th>2010-01-22</th>\n",
              "      <td>16800.0</td>\n",
              "      <td>16900.0</td>\n",
              "      <td>16360.0</td>\n",
              "      <td>16500.0</td>\n",
              "      <td>470536.0</td>\n",
              "      <td>-0.029412</td>\n",
              "      <td>1154.00</td>\n",
              "      <td>16494.0</td>\n",
              "      <td>-0.029412</td>\n",
              "    </tr>\n",
              "    <tr>\n",
              "      <th>...</th>\n",
              "      <td>...</td>\n",
              "      <td>...</td>\n",
              "      <td>...</td>\n",
              "      <td>...</td>\n",
              "      <td>...</td>\n",
              "      <td>...</td>\n",
              "      <td>...</td>\n",
              "      <td>...</td>\n",
              "      <td>...</td>\n",
              "    </tr>\n",
              "    <tr>\n",
              "      <th>2020-12-17</th>\n",
              "      <td>73400.0</td>\n",
              "      <td>73700.0</td>\n",
              "      <td>72600.0</td>\n",
              "      <td>73300.0</td>\n",
              "      <td>24293214.0</td>\n",
              "      <td>-0.006775</td>\n",
              "      <td>1093.01</td>\n",
              "      <td>73100.0</td>\n",
              "      <td>-0.006775</td>\n",
              "    </tr>\n",
              "    <tr>\n",
              "      <th>2020-12-18</th>\n",
              "      <td>73300.0</td>\n",
              "      <td>73700.0</td>\n",
              "      <td>73000.0</td>\n",
              "      <td>73000.0</td>\n",
              "      <td>17613029.0</td>\n",
              "      <td>-0.004093</td>\n",
              "      <td>1099.39</td>\n",
              "      <td>73250.0</td>\n",
              "      <td>-0.004093</td>\n",
              "    </tr>\n",
              "    <tr>\n",
              "      <th>2020-12-21</th>\n",
              "      <td>73100.0</td>\n",
              "      <td>73400.0</td>\n",
              "      <td>72000.0</td>\n",
              "      <td>73000.0</td>\n",
              "      <td>20367355.0</td>\n",
              "      <td>0.000000</td>\n",
              "      <td>1102.55</td>\n",
              "      <td>73260.0</td>\n",
              "      <td>0.000000</td>\n",
              "    </tr>\n",
              "    <tr>\n",
              "      <th>2020-12-22</th>\n",
              "      <td>72500.0</td>\n",
              "      <td>73200.0</td>\n",
              "      <td>72100.0</td>\n",
              "      <td>72300.0</td>\n",
              "      <td>16304910.0</td>\n",
              "      <td>-0.009589</td>\n",
              "      <td>1109.72</td>\n",
              "      <td>73320.0</td>\n",
              "      <td>-0.009589</td>\n",
              "    </tr>\n",
              "    <tr>\n",
              "      <th>2020-12-23</th>\n",
              "      <td>72400.0</td>\n",
              "      <td>74000.0</td>\n",
              "      <td>72300.0</td>\n",
              "      <td>73900.0</td>\n",
              "      <td>19321971.0</td>\n",
              "      <td>0.022130</td>\n",
              "      <td>1107.61</td>\n",
              "      <td>73320.0</td>\n",
              "      <td>0.022130</td>\n",
              "    </tr>\n",
              "  </tbody>\n",
              "</table>\n",
              "<p>2700 rows × 9 columns</p>\n",
              "</div>"
            ],
            "text/plain": [
              "               Open     High      Low  ...  VIX_Close    MA_10    target\n",
              "Date                                   ...                              \n",
              "2010-01-18  16800.0  16920.0  16560.0  ...    1124.60  16424.0  0.001188\n",
              "2010-01-19  17000.0  17000.0  16440.0  ...    1130.30  16426.0 -0.023725\n",
              "2010-01-20  16460.0  16740.0  16460.0  ...    1144.30  16412.0  0.013366\n",
              "2010-01-21  16400.0  17000.0  16400.0  ...    1145.00  16486.0  0.019185\n",
              "2010-01-22  16800.0  16900.0  16360.0  ...    1154.00  16494.0 -0.029412\n",
              "...             ...      ...      ...  ...        ...      ...       ...\n",
              "2020-12-17  73400.0  73700.0  72600.0  ...    1093.01  73100.0 -0.006775\n",
              "2020-12-18  73300.0  73700.0  73000.0  ...    1099.39  73250.0 -0.004093\n",
              "2020-12-21  73100.0  73400.0  72000.0  ...    1102.55  73260.0  0.000000\n",
              "2020-12-22  72500.0  73200.0  72100.0  ...    1109.72  73320.0 -0.009589\n",
              "2020-12-23  72400.0  74000.0  72300.0  ...    1107.61  73320.0  0.022130\n",
              "\n",
              "[2700 rows x 9 columns]"
            ]
          },
          "metadata": {
            "tags": []
          },
          "execution_count": 44
        }
      ]
    },
    {
      "cell_type": "code",
      "metadata": {
        "colab": {
          "base_uri": "https://localhost:8080/"
        },
        "id": "nSF1bkRCUII8",
        "outputId": "c4314cde-e4d8-4ca7-8922-7c620560bb69"
      },
      "source": [
        "snv['target'] = np.where(snv['target'] >= 0 , 1, -1) # 0보다 높거나 같으면 1, 아니면 -1\r\n",
        "snv['target'].value_counts()"
      ],
      "execution_count": 45,
      "outputs": [
        {
          "output_type": "execute_result",
          "data": {
            "text/plain": [
              " 1    1452\n",
              "-1    1248\n",
              "Name: target, dtype: int64"
            ]
          },
          "metadata": {
            "tags": []
          },
          "execution_count": 45
        }
      ]
    },
    {
      "cell_type": "code",
      "metadata": {
        "colab": {
          "base_uri": "https://localhost:8080/",
          "height": 431
        },
        "id": "kcSyHaiCVQ2U",
        "outputId": "ec9e336d-9d6c-4a44-c6b9-f90a82373720"
      },
      "source": [
        "snv"
      ],
      "execution_count": 46,
      "outputs": [
        {
          "output_type": "execute_result",
          "data": {
            "text/html": [
              "<div>\n",
              "<style scoped>\n",
              "    .dataframe tbody tr th:only-of-type {\n",
              "        vertical-align: middle;\n",
              "    }\n",
              "\n",
              "    .dataframe tbody tr th {\n",
              "        vertical-align: top;\n",
              "    }\n",
              "\n",
              "    .dataframe thead th {\n",
              "        text-align: right;\n",
              "    }\n",
              "</style>\n",
              "<table border=\"1\" class=\"dataframe\">\n",
              "  <thead>\n",
              "    <tr style=\"text-align: right;\">\n",
              "      <th></th>\n",
              "      <th>Open</th>\n",
              "      <th>High</th>\n",
              "      <th>Low</th>\n",
              "      <th>Close</th>\n",
              "      <th>Volume</th>\n",
              "      <th>Change</th>\n",
              "      <th>VIX_Close</th>\n",
              "      <th>MA_10</th>\n",
              "      <th>target</th>\n",
              "    </tr>\n",
              "    <tr>\n",
              "      <th>Date</th>\n",
              "      <th></th>\n",
              "      <th></th>\n",
              "      <th></th>\n",
              "      <th></th>\n",
              "      <th></th>\n",
              "      <th></th>\n",
              "      <th></th>\n",
              "      <th></th>\n",
              "      <th></th>\n",
              "    </tr>\n",
              "  </thead>\n",
              "  <tbody>\n",
              "    <tr>\n",
              "      <th>2010-01-18</th>\n",
              "      <td>16800.0</td>\n",
              "      <td>16920.0</td>\n",
              "      <td>16560.0</td>\n",
              "      <td>16860.0</td>\n",
              "      <td>261691.0</td>\n",
              "      <td>0.001188</td>\n",
              "      <td>1124.60</td>\n",
              "      <td>16424.0</td>\n",
              "      <td>1</td>\n",
              "    </tr>\n",
              "    <tr>\n",
              "      <th>2010-01-19</th>\n",
              "      <td>17000.0</td>\n",
              "      <td>17000.0</td>\n",
              "      <td>16440.0</td>\n",
              "      <td>16460.0</td>\n",
              "      <td>241308.0</td>\n",
              "      <td>-0.023725</td>\n",
              "      <td>1130.30</td>\n",
              "      <td>16426.0</td>\n",
              "      <td>-1</td>\n",
              "    </tr>\n",
              "    <tr>\n",
              "      <th>2010-01-20</th>\n",
              "      <td>16460.0</td>\n",
              "      <td>16740.0</td>\n",
              "      <td>16460.0</td>\n",
              "      <td>16680.0</td>\n",
              "      <td>384306.0</td>\n",
              "      <td>0.013366</td>\n",
              "      <td>1144.30</td>\n",
              "      <td>16412.0</td>\n",
              "      <td>1</td>\n",
              "    </tr>\n",
              "    <tr>\n",
              "      <th>2010-01-21</th>\n",
              "      <td>16400.0</td>\n",
              "      <td>17000.0</td>\n",
              "      <td>16400.0</td>\n",
              "      <td>17000.0</td>\n",
              "      <td>340148.0</td>\n",
              "      <td>0.019185</td>\n",
              "      <td>1145.00</td>\n",
              "      <td>16486.0</td>\n",
              "      <td>1</td>\n",
              "    </tr>\n",
              "    <tr>\n",
              "      <th>2010-01-22</th>\n",
              "      <td>16800.0</td>\n",
              "      <td>16900.0</td>\n",
              "      <td>16360.0</td>\n",
              "      <td>16500.0</td>\n",
              "      <td>470536.0</td>\n",
              "      <td>-0.029412</td>\n",
              "      <td>1154.00</td>\n",
              "      <td>16494.0</td>\n",
              "      <td>-1</td>\n",
              "    </tr>\n",
              "    <tr>\n",
              "      <th>...</th>\n",
              "      <td>...</td>\n",
              "      <td>...</td>\n",
              "      <td>...</td>\n",
              "      <td>...</td>\n",
              "      <td>...</td>\n",
              "      <td>...</td>\n",
              "      <td>...</td>\n",
              "      <td>...</td>\n",
              "      <td>...</td>\n",
              "    </tr>\n",
              "    <tr>\n",
              "      <th>2020-12-17</th>\n",
              "      <td>73400.0</td>\n",
              "      <td>73700.0</td>\n",
              "      <td>72600.0</td>\n",
              "      <td>73300.0</td>\n",
              "      <td>24293214.0</td>\n",
              "      <td>-0.006775</td>\n",
              "      <td>1093.01</td>\n",
              "      <td>73100.0</td>\n",
              "      <td>-1</td>\n",
              "    </tr>\n",
              "    <tr>\n",
              "      <th>2020-12-18</th>\n",
              "      <td>73300.0</td>\n",
              "      <td>73700.0</td>\n",
              "      <td>73000.0</td>\n",
              "      <td>73000.0</td>\n",
              "      <td>17613029.0</td>\n",
              "      <td>-0.004093</td>\n",
              "      <td>1099.39</td>\n",
              "      <td>73250.0</td>\n",
              "      <td>-1</td>\n",
              "    </tr>\n",
              "    <tr>\n",
              "      <th>2020-12-21</th>\n",
              "      <td>73100.0</td>\n",
              "      <td>73400.0</td>\n",
              "      <td>72000.0</td>\n",
              "      <td>73000.0</td>\n",
              "      <td>20367355.0</td>\n",
              "      <td>0.000000</td>\n",
              "      <td>1102.55</td>\n",
              "      <td>73260.0</td>\n",
              "      <td>1</td>\n",
              "    </tr>\n",
              "    <tr>\n",
              "      <th>2020-12-22</th>\n",
              "      <td>72500.0</td>\n",
              "      <td>73200.0</td>\n",
              "      <td>72100.0</td>\n",
              "      <td>72300.0</td>\n",
              "      <td>16304910.0</td>\n",
              "      <td>-0.009589</td>\n",
              "      <td>1109.72</td>\n",
              "      <td>73320.0</td>\n",
              "      <td>-1</td>\n",
              "    </tr>\n",
              "    <tr>\n",
              "      <th>2020-12-23</th>\n",
              "      <td>72400.0</td>\n",
              "      <td>74000.0</td>\n",
              "      <td>72300.0</td>\n",
              "      <td>73900.0</td>\n",
              "      <td>19321971.0</td>\n",
              "      <td>0.022130</td>\n",
              "      <td>1107.61</td>\n",
              "      <td>73320.0</td>\n",
              "      <td>1</td>\n",
              "    </tr>\n",
              "  </tbody>\n",
              "</table>\n",
              "<p>2700 rows × 9 columns</p>\n",
              "</div>"
            ],
            "text/plain": [
              "               Open     High      Low  ...  VIX_Close    MA_10  target\n",
              "Date                                   ...                            \n",
              "2010-01-18  16800.0  16920.0  16560.0  ...    1124.60  16424.0       1\n",
              "2010-01-19  17000.0  17000.0  16440.0  ...    1130.30  16426.0      -1\n",
              "2010-01-20  16460.0  16740.0  16460.0  ...    1144.30  16412.0       1\n",
              "2010-01-21  16400.0  17000.0  16400.0  ...    1145.00  16486.0       1\n",
              "2010-01-22  16800.0  16900.0  16360.0  ...    1154.00  16494.0      -1\n",
              "...             ...      ...      ...  ...        ...      ...     ...\n",
              "2020-12-17  73400.0  73700.0  72600.0  ...    1093.01  73100.0      -1\n",
              "2020-12-18  73300.0  73700.0  73000.0  ...    1099.39  73250.0      -1\n",
              "2020-12-21  73100.0  73400.0  72000.0  ...    1102.55  73260.0       1\n",
              "2020-12-22  72500.0  73200.0  72100.0  ...    1109.72  73320.0      -1\n",
              "2020-12-23  72400.0  74000.0  72300.0  ...    1107.61  73320.0       1\n",
              "\n",
              "[2700 rows x 9 columns]"
            ]
          },
          "metadata": {
            "tags": []
          },
          "execution_count": 46
        }
      ]
    },
    {
      "cell_type": "code",
      "metadata": {
        "id": "pnh2hCa3VQ4r"
      },
      "source": [
        "snv['target'] = snv['target'].shift(-1)"
      ],
      "execution_count": 47,
      "outputs": []
    },
    {
      "cell_type": "code",
      "metadata": {
        "id": "6gisFsi5VQ7J"
      },
      "source": [
        "snv = snv.dropna()\r\n",
        "#samsung['target'] = samsung['target'].astype(np.int64)\r\n",
        "y_var = snv['target']\r\n",
        "# 예측에 사용하지 않는 변수 삭제\r\n",
        "x_var = snv.drop(['target', 'Open','High','Low', 'Close', 'Volume','Change'], axis=1)\r\n",
        "# x값에는 10일 평균이동선과, VIX 지수만 넣어보고 관계를 보자\r\n",
        "# y값에는 올랐다, 떨어졌다 즉 1또는 -1"
      ],
      "execution_count": 48,
      "outputs": []
    },
    {
      "cell_type": "code",
      "metadata": {
        "colab": {
          "base_uri": "https://localhost:8080/",
          "height": 431
        },
        "id": "YTM1zWXZmaA7",
        "outputId": "85bbeaf8-9694-4708-8780-f3df6ec85076"
      },
      "source": [
        "x_var"
      ],
      "execution_count": 49,
      "outputs": [
        {
          "output_type": "execute_result",
          "data": {
            "text/html": [
              "<div>\n",
              "<style scoped>\n",
              "    .dataframe tbody tr th:only-of-type {\n",
              "        vertical-align: middle;\n",
              "    }\n",
              "\n",
              "    .dataframe tbody tr th {\n",
              "        vertical-align: top;\n",
              "    }\n",
              "\n",
              "    .dataframe thead th {\n",
              "        text-align: right;\n",
              "    }\n",
              "</style>\n",
              "<table border=\"1\" class=\"dataframe\">\n",
              "  <thead>\n",
              "    <tr style=\"text-align: right;\">\n",
              "      <th></th>\n",
              "      <th>VIX_Close</th>\n",
              "      <th>MA_10</th>\n",
              "    </tr>\n",
              "    <tr>\n",
              "      <th>Date</th>\n",
              "      <th></th>\n",
              "      <th></th>\n",
              "    </tr>\n",
              "  </thead>\n",
              "  <tbody>\n",
              "    <tr>\n",
              "      <th>2010-01-18</th>\n",
              "      <td>1124.60</td>\n",
              "      <td>16424.0</td>\n",
              "    </tr>\n",
              "    <tr>\n",
              "      <th>2010-01-19</th>\n",
              "      <td>1130.30</td>\n",
              "      <td>16426.0</td>\n",
              "    </tr>\n",
              "    <tr>\n",
              "      <th>2010-01-20</th>\n",
              "      <td>1144.30</td>\n",
              "      <td>16412.0</td>\n",
              "    </tr>\n",
              "    <tr>\n",
              "      <th>2010-01-21</th>\n",
              "      <td>1145.00</td>\n",
              "      <td>16486.0</td>\n",
              "    </tr>\n",
              "    <tr>\n",
              "      <th>2010-01-22</th>\n",
              "      <td>1154.00</td>\n",
              "      <td>16494.0</td>\n",
              "    </tr>\n",
              "    <tr>\n",
              "      <th>...</th>\n",
              "      <td>...</td>\n",
              "      <td>...</td>\n",
              "    </tr>\n",
              "    <tr>\n",
              "      <th>2020-12-16</th>\n",
              "      <td>1092.36</td>\n",
              "      <td>72740.0</td>\n",
              "    </tr>\n",
              "    <tr>\n",
              "      <th>2020-12-17</th>\n",
              "      <td>1093.01</td>\n",
              "      <td>73100.0</td>\n",
              "    </tr>\n",
              "    <tr>\n",
              "      <th>2020-12-18</th>\n",
              "      <td>1099.39</td>\n",
              "      <td>73250.0</td>\n",
              "    </tr>\n",
              "    <tr>\n",
              "      <th>2020-12-21</th>\n",
              "      <td>1102.55</td>\n",
              "      <td>73260.0</td>\n",
              "    </tr>\n",
              "    <tr>\n",
              "      <th>2020-12-22</th>\n",
              "      <td>1109.72</td>\n",
              "      <td>73320.0</td>\n",
              "    </tr>\n",
              "  </tbody>\n",
              "</table>\n",
              "<p>2699 rows × 2 columns</p>\n",
              "</div>"
            ],
            "text/plain": [
              "            VIX_Close    MA_10\n",
              "Date                          \n",
              "2010-01-18    1124.60  16424.0\n",
              "2010-01-19    1130.30  16426.0\n",
              "2010-01-20    1144.30  16412.0\n",
              "2010-01-21    1145.00  16486.0\n",
              "2010-01-22    1154.00  16494.0\n",
              "...               ...      ...\n",
              "2020-12-16    1092.36  72740.0\n",
              "2020-12-17    1093.01  73100.0\n",
              "2020-12-18    1099.39  73250.0\n",
              "2020-12-21    1102.55  73260.0\n",
              "2020-12-22    1109.72  73320.0\n",
              "\n",
              "[2699 rows x 2 columns]"
            ]
          },
          "metadata": {
            "tags": []
          },
          "execution_count": 49
        }
      ]
    },
    {
      "cell_type": "markdown",
      "metadata": {
        "id": "ugR71k_NmpFh"
      },
      "source": [
        "## 모델학습"
      ]
    },
    {
      "cell_type": "code",
      "metadata": {
        "colab": {
          "base_uri": "https://localhost:8080/"
        },
        "id": "w_Ow8a-ZmjQK",
        "outputId": "b35003b3-d0bc-4e6e-fdfe-b3e45ff35042"
      },
      "source": [
        "#훈련 세트와 테스트 세트를 나눈다.\r\n",
        "#shuffle=False을 설정해 기간이 섞이지 않도록 만든다.\r\n",
        "X_train, X_test, y_train, y_test = train_test_split(x_var, \r\n",
        "                                                    y_var, \r\n",
        "                                                    test_size=0.3, \r\n",
        "                                                    shuffle=False, \r\n",
        "                                                    random_state=3)\r\n",
        "\r\n",
        "#훈련 세트와 테스트 세트에 포함된 양성 샘플(up) 비율을 확인한다.\r\n",
        "train_count = y_train.count()\r\n",
        "test_count = y_test.count()\r\n",
        "\r\n",
        "print('train set label ratio')\r\n",
        "print(y_train.value_counts()/train_count)\r\n",
        "print('test set label ratio')\r\n",
        "print(y_test.value_counts()/test_count)"
      ],
      "execution_count": 50,
      "outputs": [
        {
          "output_type": "stream",
          "text": [
            "train set label ratio\n",
            " 1.0    0.52991\n",
            "-1.0    0.47009\n",
            "Name: target, dtype: float64\n",
            "test set label ratio\n",
            " 1.0    0.555556\n",
            "-1.0    0.444444\n",
            "Name: target, dtype: float64\n"
          ],
          "name": "stdout"
        }
      ]
    },
    {
      "cell_type": "code",
      "metadata": {
        "id": "6lUpPvGkmuWU"
      },
      "source": [
        "def get_confusion_matrix(y_test, pred):\r\n",
        "    confusion = confusion_matrix(y_test, pred)\r\n",
        "    accuracy = accuracy_score(y_test, pred)\r\n",
        "    precision = precision_score(y_test, pred)\r\n",
        "    recall = recall_score(y_test, pred)\r\n",
        "    f1 = f1_score(y_test, pred)\r\n",
        "    roc_score = roc_auc_score(y_test, pred)\r\n",
        "    print('confusion matrix')\r\n",
        "    print('accuracy:{0:.4f},precision:{1:.4f},recall:{2:.4f},F1:{3:.4f},ROC AUC score:{4:.4f}'.format(accuracy, precision, recall, f1,roc_score))"
      ],
      "execution_count": 51,
      "outputs": []
    },
    {
      "cell_type": "code",
      "metadata": {
        "id": "utwtH_qwmoZe"
      },
      "source": [
        "xgb_dis = XGBClassifier(n_estimators=400, learning_rate=0.1, max_depth=3)\r\n",
        "xgb_dis.fit(X_train, y_train)\r\n",
        "xgb_pred = xgb_dis.predict(X_test)"
      ],
      "execution_count": 52,
      "outputs": []
    },
    {
      "cell_type": "code",
      "metadata": {
        "colab": {
          "base_uri": "https://localhost:8080/"
        },
        "id": "xpHNAW_FmxFm",
        "outputId": "e6003edd-3537-4f3c-fa7b-00fcd1b72cc7"
      },
      "source": [
        "xgb_dis"
      ],
      "execution_count": 53,
      "outputs": [
        {
          "output_type": "execute_result",
          "data": {
            "text/plain": [
              "XGBClassifier(base_score=0.5, booster='gbtree', colsample_bylevel=1,\n",
              "              colsample_bynode=1, colsample_bytree=1, gamma=0,\n",
              "              learning_rate=0.1, max_delta_step=0, max_depth=3,\n",
              "              min_child_weight=1, missing=None, n_estimators=400, n_jobs=1,\n",
              "              nthread=None, objective='binary:logistic', random_state=0,\n",
              "              reg_alpha=0, reg_lambda=1, scale_pos_weight=1, seed=None,\n",
              "              silent=None, subsample=1, verbosity=1)"
            ]
          },
          "metadata": {
            "tags": []
          },
          "execution_count": 53
        }
      ]
    },
    {
      "cell_type": "code",
      "metadata": {
        "colab": {
          "base_uri": "https://localhost:8080/"
        },
        "id": "KnTc1dIwmxH9",
        "outputId": "02d28eef-9d59-4f5a-e7f6-bd745579d4ea"
      },
      "source": [
        "print(xgb_dis.score(X_train, y_train))"
      ],
      "execution_count": 54,
      "outputs": [
        {
          "output_type": "stream",
          "text": [
            "0.7930121757543674\n"
          ],
          "name": "stdout"
        }
      ]
    },
    {
      "cell_type": "code",
      "metadata": {
        "colab": {
          "base_uri": "https://localhost:8080/"
        },
        "id": "VUEAliX1m07D",
        "outputId": "f2f18776-fed8-4079-9c8a-411c66c2b2c9"
      },
      "source": [
        "get_confusion_matrix(y_test, xgb_pred)"
      ],
      "execution_count": 55,
      "outputs": [
        {
          "output_type": "stream",
          "text": [
            "confusion matrix\n",
            "accuracy:0.4840,precision:0.5465,recall:0.4178,F1:0.4736,ROC AUC score:0.4922\n"
          ],
          "name": "stdout"
        }
      ]
    },
    {
      "cell_type": "code",
      "metadata": {
        "id": "5HVnt1Ffm09i"
      },
      "source": [
        "n_estimators = range(10,20,5)\r\n",
        "\r\n",
        "params = {\r\n",
        "    'bootstrap': [True],\r\n",
        "    'n_estimators':n_estimators,\r\n",
        "    'max_depth':[2,3],\r\n",
        "    'min_samples_leaf': [2, 3],\r\n",
        "    'min_samples_split': [2, 4, 6, 8],\r\n",
        "    'max_features':[2]\r\n",
        "}"
      ],
      "execution_count": 56,
      "outputs": []
    },
    {
      "cell_type": "code",
      "metadata": {
        "id": "AYTO9uZWm0_u"
      },
      "source": [
        "my_cv = TimeSeriesSplit(n_splits=5).split(X_train)"
      ],
      "execution_count": 57,
      "outputs": []
    },
    {
      "cell_type": "code",
      "metadata": {
        "colab": {
          "base_uri": "https://localhost:8080/"
        },
        "id": "kqts1mLIm1CM",
        "outputId": "38e340b9-c700-40c8-fe72-98874be2d561"
      },
      "source": [
        "clf = GridSearchCV(RandomForestClassifier(), params, cv=my_cv, n_jobs=-1)\r\n",
        "clf.fit(X_train, y_train)"
      ],
      "execution_count": 58,
      "outputs": [
        {
          "output_type": "execute_result",
          "data": {
            "text/plain": [
              "GridSearchCV(cv=<generator object TimeSeriesSplit.split at 0x7f436e3b4db0>,\n",
              "             error_score=nan,\n",
              "             estimator=RandomForestClassifier(bootstrap=True, ccp_alpha=0.0,\n",
              "                                              class_weight=None,\n",
              "                                              criterion='gini', max_depth=None,\n",
              "                                              max_features='auto',\n",
              "                                              max_leaf_nodes=None,\n",
              "                                              max_samples=None,\n",
              "                                              min_impurity_decrease=0.0,\n",
              "                                              min_impurity_split=None,\n",
              "                                              min_samples_leaf=1,\n",
              "                                              min_samples_split=2,\n",
              "                                              min_w...\n",
              "                                              n_estimators=100, n_jobs=None,\n",
              "                                              oob_score=False,\n",
              "                                              random_state=None, verbose=0,\n",
              "                                              warm_start=False),\n",
              "             iid='deprecated', n_jobs=-1,\n",
              "             param_grid={'bootstrap': [True], 'max_depth': [2, 3],\n",
              "                         'max_features': [2], 'min_samples_leaf': [2, 3],\n",
              "                         'min_samples_split': [2, 4, 6, 8],\n",
              "                         'n_estimators': range(10, 20, 5)},\n",
              "             pre_dispatch='2*n_jobs', refit=True, return_train_score=False,\n",
              "             scoring=None, verbose=0)"
            ]
          },
          "metadata": {
            "tags": []
          },
          "execution_count": 58
        }
      ]
    },
    {
      "cell_type": "code",
      "metadata": {
        "colab": {
          "base_uri": "https://localhost:8080/"
        },
        "id": "8YuzLtZdmxKP",
        "outputId": "d1d72b05-d468-48a3-cb72-f6942ccf659d"
      },
      "source": [
        "print('best parameter:\\n', clf.best_params_)\r\n",
        "print('best prediction:{0:.4f}'.format(clf.best_score_))"
      ],
      "execution_count": 59,
      "outputs": [
        {
          "output_type": "stream",
          "text": [
            "best parameter:\n",
            " {'bootstrap': True, 'max_depth': 3, 'max_features': 2, 'min_samples_leaf': 2, 'min_samples_split': 8, 'n_estimators': 15}\n",
            "best prediction:0.5306\n"
          ],
          "name": "stdout"
        }
      ]
    },
    {
      "cell_type": "code",
      "metadata": {
        "colab": {
          "base_uri": "https://localhost:8080/"
        },
        "id": "fFooj-kmm-oZ",
        "outputId": "3468aee6-5bce-4cb4-9873-153918482e7c"
      },
      "source": [
        "pred_con = clf.predict(X_test)\r\n",
        "accuracy_con = accuracy_score(y_test, pred_con)\r\n",
        "print('accuracy:{0:.4f}'.format(accuracy_con))\r\n",
        "get_confusion_matrix(y_test, pred_con)"
      ],
      "execution_count": 60,
      "outputs": [
        {
          "output_type": "stream",
          "text": [
            "accuracy:0.4926\n",
            "confusion matrix\n",
            "accuracy:0.4926,precision:0.5675,recall:0.3644,F1:0.4438,ROC AUC score:0.5086\n"
          ],
          "name": "stdout"
        }
      ]
    },
    {
      "cell_type": "code",
      "metadata": {
        "id": "OvD4iVtxm-zg"
      },
      "source": [
        ""
      ],
      "execution_count": null,
      "outputs": []
    },
    {
      "cell_type": "markdown",
      "metadata": {
        "id": "GLZyFTppRkPA"
      },
      "source": [
        "## 딥러닝 LSTM"
      ]
    },
    {
      "cell_type": "code",
      "metadata": {
        "colab": {
          "base_uri": "https://localhost:8080/",
          "height": 343
        },
        "id": "aUBomrmztgFm",
        "outputId": "5341a2b2-98d7-483d-c0c3-a64cde37497a"
      },
      "source": [
        "samsung_st_date = '2010-12-16'\r\n",
        "samsung_enddate = '2020-12-16'\r\n",
        "samsung = data.DataReader('005930.ks', 'yahoo', samsung_st_date, samsung_enddate)\r\n",
        "samsung.head(9)\r\n",
        "#samsung = fdr.DataReader('005930', '2015') #2010년 이후 삼성 주가 가져옴"
      ],
      "execution_count": 61,
      "outputs": [
        {
          "output_type": "execute_result",
          "data": {
            "text/html": [
              "<div>\n",
              "<style scoped>\n",
              "    .dataframe tbody tr th:only-of-type {\n",
              "        vertical-align: middle;\n",
              "    }\n",
              "\n",
              "    .dataframe tbody tr th {\n",
              "        vertical-align: top;\n",
              "    }\n",
              "\n",
              "    .dataframe thead th {\n",
              "        text-align: right;\n",
              "    }\n",
              "</style>\n",
              "<table border=\"1\" class=\"dataframe\">\n",
              "  <thead>\n",
              "    <tr style=\"text-align: right;\">\n",
              "      <th></th>\n",
              "      <th>High</th>\n",
              "      <th>Low</th>\n",
              "      <th>Open</th>\n",
              "      <th>Close</th>\n",
              "      <th>Volume</th>\n",
              "      <th>Adj Close</th>\n",
              "    </tr>\n",
              "    <tr>\n",
              "      <th>Date</th>\n",
              "      <th></th>\n",
              "      <th></th>\n",
              "      <th></th>\n",
              "      <th></th>\n",
              "      <th></th>\n",
              "      <th></th>\n",
              "    </tr>\n",
              "  </thead>\n",
              "  <tbody>\n",
              "    <tr>\n",
              "      <th>2010-12-16</th>\n",
              "      <td>18380.0</td>\n",
              "      <td>18160.0</td>\n",
              "      <td>18160.0</td>\n",
              "      <td>18220.0</td>\n",
              "      <td>11684200.0</td>\n",
              "      <td>9.610845</td>\n",
              "    </tr>\n",
              "    <tr>\n",
              "      <th>2010-12-17</th>\n",
              "      <td>18580.0</td>\n",
              "      <td>18240.0</td>\n",
              "      <td>18280.0</td>\n",
              "      <td>18520.0</td>\n",
              "      <td>17297200.0</td>\n",
              "      <td>9.769093</td>\n",
              "    </tr>\n",
              "    <tr>\n",
              "      <th>2010-12-20</th>\n",
              "      <td>18640.0</td>\n",
              "      <td>18280.0</td>\n",
              "      <td>18340.0</td>\n",
              "      <td>18640.0</td>\n",
              "      <td>16911750.0</td>\n",
              "      <td>9.832390</td>\n",
              "    </tr>\n",
              "    <tr>\n",
              "      <th>2010-12-21</th>\n",
              "      <td>18800.0</td>\n",
              "      <td>18500.0</td>\n",
              "      <td>18620.0</td>\n",
              "      <td>18720.0</td>\n",
              "      <td>12599300.0</td>\n",
              "      <td>9.874586</td>\n",
              "    </tr>\n",
              "    <tr>\n",
              "      <th>2010-12-22</th>\n",
              "      <td>19060.0</td>\n",
              "      <td>18720.0</td>\n",
              "      <td>18780.0</td>\n",
              "      <td>18780.0</td>\n",
              "      <td>16626800.0</td>\n",
              "      <td>9.906237</td>\n",
              "    </tr>\n",
              "    <tr>\n",
              "      <th>2010-12-23</th>\n",
              "      <td>18760.0</td>\n",
              "      <td>18500.0</td>\n",
              "      <td>18720.0</td>\n",
              "      <td>18720.0</td>\n",
              "      <td>10985500.0</td>\n",
              "      <td>9.874586</td>\n",
              "    </tr>\n",
              "    <tr>\n",
              "      <th>2010-12-24</th>\n",
              "      <td>18780.0</td>\n",
              "      <td>18500.0</td>\n",
              "      <td>18780.0</td>\n",
              "      <td>18500.0</td>\n",
              "      <td>8471650.0</td>\n",
              "      <td>9.758541</td>\n",
              "    </tr>\n",
              "    <tr>\n",
              "      <th>2010-12-27</th>\n",
              "      <td>18600.0</td>\n",
              "      <td>18300.0</td>\n",
              "      <td>18500.0</td>\n",
              "      <td>18440.0</td>\n",
              "      <td>10524200.0</td>\n",
              "      <td>9.726891</td>\n",
              "    </tr>\n",
              "    <tr>\n",
              "      <th>2010-12-28</th>\n",
              "      <td>19000.0</td>\n",
              "      <td>18520.0</td>\n",
              "      <td>18560.0</td>\n",
              "      <td>18760.0</td>\n",
              "      <td>15650700.0</td>\n",
              "      <td>9.895689</td>\n",
              "    </tr>\n",
              "  </tbody>\n",
              "</table>\n",
              "</div>"
            ],
            "text/plain": [
              "               High      Low     Open    Close      Volume  Adj Close\n",
              "Date                                                                 \n",
              "2010-12-16  18380.0  18160.0  18160.0  18220.0  11684200.0   9.610845\n",
              "2010-12-17  18580.0  18240.0  18280.0  18520.0  17297200.0   9.769093\n",
              "2010-12-20  18640.0  18280.0  18340.0  18640.0  16911750.0   9.832390\n",
              "2010-12-21  18800.0  18500.0  18620.0  18720.0  12599300.0   9.874586\n",
              "2010-12-22  19060.0  18720.0  18780.0  18780.0  16626800.0   9.906237\n",
              "2010-12-23  18760.0  18500.0  18720.0  18720.0  10985500.0   9.874586\n",
              "2010-12-24  18780.0  18500.0  18780.0  18500.0   8471650.0   9.758541\n",
              "2010-12-27  18600.0  18300.0  18500.0  18440.0  10524200.0   9.726891\n",
              "2010-12-28  19000.0  18520.0  18560.0  18760.0  15650700.0   9.895689"
            ]
          },
          "metadata": {
            "tags": []
          },
          "execution_count": 61
        }
      ]
    },
    {
      "cell_type": "code",
      "metadata": {
        "id": "ZWVwyHo0RD9o"
      },
      "source": [
        "high_prices = samsung['High'].values\r\n",
        "low_prices = samsung['Low'].values\r\n",
        "mid_prices = (high_prices + low_prices)/2 # 중간가격"
      ],
      "execution_count": 62,
      "outputs": []
    },
    {
      "cell_type": "code",
      "metadata": {
        "colab": {
          "base_uri": "https://localhost:8080/",
          "height": 431
        },
        "id": "n96C9OOotlAB",
        "outputId": "bc91f218-ff1f-40cd-b532-26234b00fc40"
      },
      "source": [
        "samsung"
      ],
      "execution_count": 63,
      "outputs": [
        {
          "output_type": "execute_result",
          "data": {
            "text/html": [
              "<div>\n",
              "<style scoped>\n",
              "    .dataframe tbody tr th:only-of-type {\n",
              "        vertical-align: middle;\n",
              "    }\n",
              "\n",
              "    .dataframe tbody tr th {\n",
              "        vertical-align: top;\n",
              "    }\n",
              "\n",
              "    .dataframe thead th {\n",
              "        text-align: right;\n",
              "    }\n",
              "</style>\n",
              "<table border=\"1\" class=\"dataframe\">\n",
              "  <thead>\n",
              "    <tr style=\"text-align: right;\">\n",
              "      <th></th>\n",
              "      <th>High</th>\n",
              "      <th>Low</th>\n",
              "      <th>Open</th>\n",
              "      <th>Close</th>\n",
              "      <th>Volume</th>\n",
              "      <th>Adj Close</th>\n",
              "    </tr>\n",
              "    <tr>\n",
              "      <th>Date</th>\n",
              "      <th></th>\n",
              "      <th></th>\n",
              "      <th></th>\n",
              "      <th></th>\n",
              "      <th></th>\n",
              "      <th></th>\n",
              "    </tr>\n",
              "  </thead>\n",
              "  <tbody>\n",
              "    <tr>\n",
              "      <th>2010-12-16</th>\n",
              "      <td>18380.0</td>\n",
              "      <td>18160.0</td>\n",
              "      <td>18160.0</td>\n",
              "      <td>18220.0</td>\n",
              "      <td>11684200.0</td>\n",
              "      <td>9.610845</td>\n",
              "    </tr>\n",
              "    <tr>\n",
              "      <th>2010-12-17</th>\n",
              "      <td>18580.0</td>\n",
              "      <td>18240.0</td>\n",
              "      <td>18280.0</td>\n",
              "      <td>18520.0</td>\n",
              "      <td>17297200.0</td>\n",
              "      <td>9.769093</td>\n",
              "    </tr>\n",
              "    <tr>\n",
              "      <th>2010-12-20</th>\n",
              "      <td>18640.0</td>\n",
              "      <td>18280.0</td>\n",
              "      <td>18340.0</td>\n",
              "      <td>18640.0</td>\n",
              "      <td>16911750.0</td>\n",
              "      <td>9.832390</td>\n",
              "    </tr>\n",
              "    <tr>\n",
              "      <th>2010-12-21</th>\n",
              "      <td>18800.0</td>\n",
              "      <td>18500.0</td>\n",
              "      <td>18620.0</td>\n",
              "      <td>18720.0</td>\n",
              "      <td>12599300.0</td>\n",
              "      <td>9.874586</td>\n",
              "    </tr>\n",
              "    <tr>\n",
              "      <th>2010-12-22</th>\n",
              "      <td>19060.0</td>\n",
              "      <td>18720.0</td>\n",
              "      <td>18780.0</td>\n",
              "      <td>18780.0</td>\n",
              "      <td>16626800.0</td>\n",
              "      <td>9.906237</td>\n",
              "    </tr>\n",
              "    <tr>\n",
              "      <th>...</th>\n",
              "      <td>...</td>\n",
              "      <td>...</td>\n",
              "      <td>...</td>\n",
              "      <td>...</td>\n",
              "      <td>...</td>\n",
              "      <td>...</td>\n",
              "    </tr>\n",
              "    <tr>\n",
              "      <th>2020-12-11</th>\n",
              "      <td>73800.0</td>\n",
              "      <td>73100.0</td>\n",
              "      <td>73500.0</td>\n",
              "      <td>73400.0</td>\n",
              "      <td>18486672.0</td>\n",
              "      <td>73400.000000</td>\n",
              "    </tr>\n",
              "    <tr>\n",
              "      <th>2020-12-14</th>\n",
              "      <td>74500.0</td>\n",
              "      <td>73200.0</td>\n",
              "      <td>73600.0</td>\n",
              "      <td>73800.0</td>\n",
              "      <td>21510415.0</td>\n",
              "      <td>73800.000000</td>\n",
              "    </tr>\n",
              "    <tr>\n",
              "      <th>2020-12-15</th>\n",
              "      <td>74100.0</td>\n",
              "      <td>73300.0</td>\n",
              "      <td>73800.0</td>\n",
              "      <td>73800.0</td>\n",
              "      <td>20863671.0</td>\n",
              "      <td>73800.000000</td>\n",
              "    </tr>\n",
              "    <tr>\n",
              "      <th>2020-12-16</th>\n",
              "      <td>74500.0</td>\n",
              "      <td>73400.0</td>\n",
              "      <td>74100.0</td>\n",
              "      <td>73800.0</td>\n",
              "      <td>17512081.0</td>\n",
              "      <td>73800.000000</td>\n",
              "    </tr>\n",
              "    <tr>\n",
              "      <th>2020-12-17</th>\n",
              "      <td>73700.0</td>\n",
              "      <td>72600.0</td>\n",
              "      <td>73400.0</td>\n",
              "      <td>73300.0</td>\n",
              "      <td>24293214.0</td>\n",
              "      <td>73300.000000</td>\n",
              "    </tr>\n",
              "  </tbody>\n",
              "</table>\n",
              "<p>2460 rows × 6 columns</p>\n",
              "</div>"
            ],
            "text/plain": [
              "               High      Low     Open    Close      Volume     Adj Close\n",
              "Date                                                                    \n",
              "2010-12-16  18380.0  18160.0  18160.0  18220.0  11684200.0      9.610845\n",
              "2010-12-17  18580.0  18240.0  18280.0  18520.0  17297200.0      9.769093\n",
              "2010-12-20  18640.0  18280.0  18340.0  18640.0  16911750.0      9.832390\n",
              "2010-12-21  18800.0  18500.0  18620.0  18720.0  12599300.0      9.874586\n",
              "2010-12-22  19060.0  18720.0  18780.0  18780.0  16626800.0      9.906237\n",
              "...             ...      ...      ...      ...         ...           ...\n",
              "2020-12-11  73800.0  73100.0  73500.0  73400.0  18486672.0  73400.000000\n",
              "2020-12-14  74500.0  73200.0  73600.0  73800.0  21510415.0  73800.000000\n",
              "2020-12-15  74100.0  73300.0  73800.0  73800.0  20863671.0  73800.000000\n",
              "2020-12-16  74500.0  73400.0  74100.0  73800.0  17512081.0  73800.000000\n",
              "2020-12-17  73700.0  72600.0  73400.0  73300.0  24293214.0  73300.000000\n",
              "\n",
              "[2460 rows x 6 columns]"
            ]
          },
          "metadata": {
            "tags": []
          },
          "execution_count": 63
        }
      ]
    },
    {
      "cell_type": "code",
      "metadata": {
        "id": "ZVKQhRtXOzzy"
      },
      "source": [
        "seq_len = 30\r\n",
        "sequence_length = seq_len + 1 \r\n",
        "result = []\r\n",
        "# 총갯수 - sequence_length를 뺀 만큼만 돌림\r\n",
        "for i in range(len(mid_prices) - sequence_length): \r\n",
        "    result.append(mid_prices[i:i+sequence_length]) "
      ],
      "execution_count": 64,
      "outputs": []
    },
    {
      "cell_type": "markdown",
      "metadata": {
        "id": "PFCw-YLC4QBL"
      },
      "source": [
        "### DATA 정규화"
      ]
    },
    {
      "cell_type": "code",
      "metadata": {
        "id": "kSDHmk49QT-O"
      },
      "source": [
        "normalized_data = []\r\n",
        "for window in result: \r\n",
        "    normalized_window = [((float(p) / float(window[0]))-1)for p in window] \r\n",
        "    normalized_data.append(normalized_window)\r\n",
        "    \r\n",
        "result = np.array(normalized_data)"
      ],
      "execution_count": 65,
      "outputs": []
    },
    {
      "cell_type": "markdown",
      "metadata": {
        "id": "GhXXpj_J4U8N"
      },
      "source": [
        "### train, test 분리"
      ]
    },
    {
      "cell_type": "code",
      "metadata": {
        "colab": {
          "base_uri": "https://localhost:8080/"
        },
        "id": "3bzt2qvBO2qB",
        "outputId": "682e4662-d8fe-4d59-84c4-e22ea5068f63"
      },
      "source": [
        "row = int(round(result.shape[0]*0.9)) \r\n",
        "train = result[:row,:]        \r\n",
        "np.random.shuffle(train)       \r\n",
        "\r\n",
        "x_train = train[:,:-1]\r\n",
        "x_train = np.reshape(x_train, (x_train.shape[0], x_train.shape[1],1))\r\n",
        "y_train = train[:,-1]\r\n",
        "\r\n",
        "x_test = result[row:,:-1]\r\n",
        "x_test = np.reshape(x_test, (x_test.shape[0], x_test.shape[1],1))\r\n",
        "y_test = result[row:,-1]\r\n",
        "\r\n",
        "x_train.shape, x_test.shape"
      ],
      "execution_count": 66,
      "outputs": [
        {
          "output_type": "execute_result",
          "data": {
            "text/plain": [
              "((2186, 30, 1), (243, 30, 1))"
            ]
          },
          "metadata": {
            "tags": []
          },
          "execution_count": 66
        }
      ]
    },
    {
      "cell_type": "code",
      "metadata": {
        "colab": {
          "base_uri": "https://localhost:8080/"
        },
        "id": "BMIIsqUS_fj5",
        "outputId": "efb92474-1f9c-45d5-b35c-502812b7699a"
      },
      "source": [
        "x_train[2185] \r\n",
        "# 맨 마지막 결과를 찍어본다.\r\n",
        "#x_test[244]\r\n",
        "\r\n"
      ],
      "execution_count": 67,
      "outputs": [
        {
          "output_type": "execute_result",
          "data": {
            "text/plain": [
              "array([[ 0.        ],\n",
              "       [-0.0036049 ],\n",
              "       [-0.00793079],\n",
              "       [-0.01333814],\n",
              "       [-0.0147801 ],\n",
              "       [-0.01261716],\n",
              "       [-0.01225667],\n",
              "       [-0.02126893],\n",
              "       [-0.02307138],\n",
              "       [-0.00648882],\n",
              "       [ 0.00108147],\n",
              "       [-0.01658255],\n",
              "       [-0.03064167],\n",
              "       [-0.02451334],\n",
              "       [-0.01405912],\n",
              "       [-0.01189618],\n",
              "       [-0.00648882],\n",
              "       [-0.0075703 ],\n",
              "       [-0.00576784],\n",
              "       [-0.00937275],\n",
              "       [-0.0147801 ],\n",
              "       [ 0.00576784],\n",
              "       [ 0.02487383],\n",
              "       [ 0.02739726],\n",
              "       [ 0.03100216],\n",
              "       [ 0.02919971],\n",
              "       [ 0.03100216],\n",
              "       [ 0.03208363],\n",
              "       [ 0.0443403 ],\n",
              "       [ 0.05263158]])"
            ]
          },
          "metadata": {
            "tags": []
          },
          "execution_count": 67
        }
      ]
    },
    {
      "cell_type": "markdown",
      "metadata": {
        "id": "uEzccfqJ4aPI"
      },
      "source": [
        "### window 사이즈에 대한 y값 찍어보기\r\n",
        "\r\n",
        "*  window size 30으로 했을 때, 첫 train 셋의 30일(영업일)치의 x값과, 31일(영업일)차의 y값을 찍어봄"
      ]
    },
    {
      "cell_type": "code",
      "metadata": {
        "colab": {
          "base_uri": "https://localhost:8080/",
          "height": 286
        },
        "id": "BTgU_tSc-zMm",
        "outputId": "bc5a0c4f-e7f5-44cf-89bc-6f191d71bc1e"
      },
      "source": [
        "#plt.plot([0, 1, 2,3, 4], x_train[0].flatten(), 'bo-', label=\"X_train\")\r\n",
        "plt.plot(range(0,30), x_train[0].flatten(), 'bo-', label=\"X_train\")\r\n",
        "plt.plot([30], y_train[0], 'ro', label=\"Y_train\")\r\n",
        "plt.legend()\r\n"
      ],
      "execution_count": 71,
      "outputs": [
        {
          "output_type": "execute_result",
          "data": {
            "text/plain": [
              "<matplotlib.legend.Legend at 0x7f43606a0e10>"
            ]
          },
          "metadata": {
            "tags": []
          },
          "execution_count": 71
        },
        {
          "output_type": "display_data",
          "data": {
            "image/png": "[encoded data removed]",
            "text/plain": [
              "<Figure size 432x288 with 1 Axes>"
            ]
          },
          "metadata": {
            "tags": []
          }
        }
      ]
    },
    {
      "cell_type": "markdown",
      "metadata": {
        "id": "1_H6b6C6O8Ml"
      },
      "source": [
        "## 딥러닝 모델생성\r\n",
        "*  위의 데이터를 가지고 모델 만들기"
      ]
    },
    {
      "cell_type": "code",
      "metadata": {
        "colab": {
          "base_uri": "https://localhost:8080/"
        },
        "id": "fz7CbQBJO7uI",
        "outputId": "edae86e8-27e5-4ec3-82d8-4f382a42b118"
      },
      "source": [
        "model = Sequential() \r\n",
        "model.add(LSTM(30, return_sequences=True, input_shape=(30,1))) #30개\r\n",
        "model.add(LSTM(64, return_sequences=False))  \r\n",
        "model.add(Dense(1, activation='linear')) \r\n",
        "#model.compile(loss='mse', optimizer='rmsprop')\r\n",
        "model.compile(loss='mse', optimizer='adam')\r\n",
        "model.summary()"
      ],
      "execution_count": 74,
      "outputs": [
        {
          "output_type": "stream",
          "text": [
            "Model: \"sequential_1\"\n",
            "_________________________________________________________________\n",
            "Layer (type)                 Output Shape              Param #   \n",
            "=================================================================\n",
            "lstm_2 (LSTM)                (None, 30, 30)            3840      \n",
            "_________________________________________________________________\n",
            "lstm_3 (LSTM)                (None, 64)                24320     \n",
            "_________________________________________________________________\n",
            "dense_1 (Dense)              (None, 1)                 65        \n",
            "=================================================================\n",
            "Total params: 28,225\n",
            "Trainable params: 28,225\n",
            "Non-trainable params: 0\n",
            "_________________________________________________________________\n"
          ],
          "name": "stdout"
        }
      ]
    },
    {
      "cell_type": "markdown",
      "metadata": {
        "id": "T_ze_nUB5wIS"
      },
      "source": [
        "### 모델 학습\r\n",
        "* EarlyStopping callback을 활용해 val_lose의 개선이 없을경우 학습 조기 종료"
      ]
    },
    {
      "cell_type": "code",
      "metadata": {
        "colab": {
          "base_uri": "https://localhost:8080/"
        },
        "id": "czhv5qdGPMVx",
        "outputId": "ff0093ac-4ee3-4428-e965-ff1b9f4f89d8"
      },
      "source": [
        "early_stop = EarlyStopping(monitor='val_loss', patience=20, verbose=1)\r\n",
        "training_result = model.fit(x_train, y_train,                 \r\n",
        "         validation_data=(x_test, y_test),  \r\n",
        "         batch_size=10,                     \r\n",
        "         epochs=20)"
      ],
      "execution_count": 80,
      "outputs": [
        {
          "output_type": "stream",
          "text": [
            "Epoch 1/20\n",
            "219/219 [==============================] - 1s 6ms/step - loss: 2.0196e-04 - val_loss: 2.9867e-04\n",
            "Epoch 2/20\n",
            "219/219 [==============================] - 1s 6ms/step - loss: 2.0641e-04 - val_loss: 2.9917e-04\n",
            "Epoch 3/20\n",
            "219/219 [==============================] - 1s 6ms/step - loss: 2.0662e-04 - val_loss: 2.9628e-04\n",
            "Epoch 4/20\n",
            "219/219 [==============================] - 1s 6ms/step - loss: 2.0065e-04 - val_loss: 3.1983e-04\n",
            "Epoch 5/20\n",
            "219/219 [==============================] - 1s 6ms/step - loss: 2.1311e-04 - val_loss: 3.2559e-04\n",
            "Epoch 6/20\n",
            "219/219 [==============================] - 1s 6ms/step - loss: 2.1075e-04 - val_loss: 3.1886e-04\n",
            "Epoch 7/20\n",
            "219/219 [==============================] - 1s 6ms/step - loss: 2.0093e-04 - val_loss: 2.9666e-04\n",
            "Epoch 8/20\n",
            "219/219 [==============================] - 1s 6ms/step - loss: 2.0392e-04 - val_loss: 3.1267e-04\n",
            "Epoch 9/20\n",
            "219/219 [==============================] - 1s 6ms/step - loss: 2.0483e-04 - val_loss: 3.0626e-04\n",
            "Epoch 10/20\n",
            "219/219 [==============================] - 1s 6ms/step - loss: 2.0535e-04 - val_loss: 3.1127e-04\n",
            "Epoch 11/20\n",
            "219/219 [==============================] - 1s 6ms/step - loss: 2.0090e-04 - val_loss: 2.9498e-04\n",
            "Epoch 12/20\n",
            "219/219 [==============================] - 1s 6ms/step - loss: 1.9985e-04 - val_loss: 2.9524e-04\n",
            "Epoch 13/20\n",
            "219/219 [==============================] - 1s 6ms/step - loss: 2.0551e-04 - val_loss: 3.0636e-04\n",
            "Epoch 14/20\n",
            "219/219 [==============================] - 1s 6ms/step - loss: 1.9977e-04 - val_loss: 2.9469e-04\n",
            "Epoch 15/20\n",
            "219/219 [==============================] - 1s 6ms/step - loss: 2.0771e-04 - val_loss: 3.4184e-04\n",
            "Epoch 16/20\n",
            "219/219 [==============================] - 1s 6ms/step - loss: 2.0146e-04 - val_loss: 3.0247e-04\n",
            "Epoch 17/20\n",
            "219/219 [==============================] - 1s 6ms/step - loss: 1.9817e-04 - val_loss: 3.0224e-04\n",
            "Epoch 18/20\n",
            "219/219 [==============================] - 1s 6ms/step - loss: 2.0069e-04 - val_loss: 2.9365e-04\n",
            "Epoch 19/20\n",
            "219/219 [==============================] - 1s 6ms/step - loss: 1.9980e-04 - val_loss: 3.0415e-04\n",
            "Epoch 20/20\n",
            "219/219 [==============================] - 1s 6ms/step - loss: 2.0664e-04 - val_loss: 2.8712e-04\n"
          ],
          "name": "stdout"
        }
      ]
    },
    {
      "cell_type": "markdown",
      "metadata": {
        "id": "YhzTAuv-PWRz"
      },
      "source": [
        "### 학습된 모델로 예측한 주식 결과 출력\r\n",
        "* 예측"
      ]
    },
    {
      "cell_type": "code",
      "metadata": {
        "colab": {
          "base_uri": "https://localhost:8080/",
          "height": 268
        },
        "id": "6tGR1SoLPTMw",
        "outputId": "3bb6a09e-b369-447d-ac50-816d590cef61"
      },
      "source": [
        "pred = model.predict(x_test) \r\n",
        "fig = plt.figure(facecolor = 'white')\r\n",
        "ax = fig.add_subplot(111)\r\n",
        "ax.plot(y_test, label='True')\r\n",
        "ax.plot(pred, label='Prediction')\r\n",
        "ax.legend()\r\n",
        "plt.show()"
      ],
      "execution_count": 81,
      "outputs": [
        {
          "output_type": "display_data",
          "data": {
            "image/png": "[encoded data removed]",
            "text/plain": [
              "<Figure size 432x288 with 1 Axes>"
            ]
          },
          "metadata": {
            "tags": []
          }
        }
      ]
    },
    {
      "cell_type": "markdown",
      "metadata": {
        "id": "cyqenZt36uc1"
      },
      "source": [
        "### 학습 과정 출력\r\n",
        "*  loss와 val_loss 지표로 과적합 유무 판단하기"
      ]
    },
    {
      "cell_type": "code",
      "metadata": {
        "colab": {
          "base_uri": "https://localhost:8080/",
          "height": 285
        },
        "id": "_dndoztUESP5",
        "outputId": "599740fa-63d4-4174-cf21-92cc07b11ea5"
      },
      "source": [
        "plt.plot(training_result.history['loss'], 'y', label='train loss')\r\n",
        "plt.plot(training_result.history['val_loss'], 'r', label='val loss')\r\n",
        "plt.xlabel('epoch')\r\n",
        "plt.ylabel('loss')\r\n",
        "plt.legend(loc='upper left')\r\n",
        "\r\n",
        "plt.show()"
      ],
      "execution_count": 82,
      "outputs": [
        {
          "output_type": "display_data",
          "data": {
            "image/png": "[encoded data removed]",
            "text/plain": [
              "<Figure size 432x288 with 1 Axes>"
            ]
          },
          "metadata": {
            "tags": []
          }
        }
      ]
    },
    {
      "cell_type": "markdown",
      "metadata": {
        "id": "cGDIkYnH69Jh"
      },
      "source": [
        "### Model 저장/불러오기 기능\r\n"
      ]
    },
    {
      "cell_type": "code",
      "metadata": {
        "id": "juNQxpey7AjI"
      },
      "source": [
        "model.save('model.h5')\r\n",
        "from keras.models import load_model\r\n",
        "model_2 = load_model('model.h5')"
      ],
      "execution_count": 83,
      "outputs": []
    },
    {
      "cell_type": "markdown",
      "metadata": {
        "id": "w0qVKekA7OYz"
      },
      "source": [
        "* 저장한 모델을 불러와 x_test 적용"
      ]
    },
    {
      "cell_type": "code",
      "metadata": {
        "colab": {
          "base_uri": "https://localhost:8080/",
          "height": 322
        },
        "id": "gMJp0-U-7Hpd",
        "outputId": "430db45b-d59b-4d67-cb25-de822b205d92"
      },
      "source": [
        "pred = model_2.predict(x_test)\r\n",
        "\r\n",
        "plt.rcParams[\"figure.figsize\"] = (10,5)\r\n",
        "plt.rcParams['lines.linewidth'] = 3\r\n",
        "plt.rcParams['axes.grid'] = True \r\n",
        "\r\n",
        "plt.plot(y_test, color='b', label='True')\r\n",
        "plt.plot(pred, color='r', label='Prediction')\r\n",
        "plt.legend()\r\n",
        "plt.show()"
      ],
      "execution_count": 84,
      "outputs": [
        {
          "output_type": "display_data",
          "data": {
            "image/png": "[encoded data removed]",
            "text/plain": [
              "<Figure size 720x360 with 1 Axes>"
            ]
          },
          "metadata": {
            "tags": []
          }
        }
      ]
    }
  ]
}
