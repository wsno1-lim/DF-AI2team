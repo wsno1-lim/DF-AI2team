{
  "nbformat": 4,
  "nbformat_minor": 0,
  "metadata": {
    "kernelspec": {
      "display_name": "Python 3",
      "language": "python",
      "name": "python3"
    },
    "language_info": {
      "codemirror_mode": {
        "name": "ipython",
        "version": 3
      },
      "file_extension": ".py",
      "mimetype": "text/x-python",
      "name": "python",
      "nbconvert_exporter": "python",
      "pygments_lexer": "ipython3",
      "version": "3.8.5"
    },
    "colab": {
      "name": "모델 베이스라인 만들기 초안.ipynb",
      "provenance": [],
      "collapsed_sections": [
        "hQF6Wz9_JuaO",
        "GxIodIU8JuaQ",
        "-a5CY_5oJuaR"
      ],
      "include_colab_link": true
    }
  },
  "cells": [
    {
      "cell_type": "markdown",
      "metadata": {
        "id": "view-in-github",
        "colab_type": "text"
      },
      "source": [
        "<a href=\"https://colab.research.google.com/github/wsno1-lim/DF-AI2team/blob/main/99.%EC%8A%A4%ED%84%B0%EB%94%94/Kaggle/%EB%AA%A8%EB%8D%B8_%EB%B2%A0%EC%9D%B4%EC%8A%A4%EB%9D%BC%EC%9D%B8_%EB%A7%8C%EB%93%A4%EA%B8%B0_%EC%B4%88%EC%95%88.ipynb\" target=\"_parent\"><img src=\"https://colab.research.google.com/assets/colab-badge.svg\" alt=\"Open In Colab\"/></a>"
      ]
    },
    {
      "cell_type": "markdown",
      "metadata": {
        "id": "dnXG5X9jJuaL"
      },
      "source": [
        "# 0. 문제 정의"
      ]
    },
    {
      "cell_type": "markdown",
      "metadata": {
        "id": "5AoQP1YwJuaL"
      },
      "source": [
        "* 내가 하고자 하는 것은?\n",
        "    - 어떤 데이터로?\n",
        "    - 어떤 알고리즘을 써서?\n",
        "    - 어떤 값을 예측할 것인지?\n",
        "* 내 생각..\n",
        "    - 모든 종목의 모든 데이터를 넣는다\n",
        "    - 예측값의 종합 RANK 를 매겨 종목 선정\n",
        "    - 켈리의 법칙을 따라 투자\n",
        "      - https://towardsdatascience.com/python-risk-management-kelly-criterion-526e8fb6d6fd\n",
        "    - 예측값 ? 수익률, 분산, 기업의 안정성, ..."
      ]
    },
    {
      "cell_type": "markdown",
      "metadata": {
        "id": "gDPnTo2PJuaM"
      },
      "source": [
        "# 1. 데이터 수집하기"
      ]
    },
    {
      "cell_type": "markdown",
      "metadata": {
        "id": "WsrWcTJ4JuaM"
      },
      "source": [
        "## 1.1. 수집 데이터"
      ]
    },
    {
      "cell_type": "markdown",
      "metadata": {
        "id": "KhIdxof0JuaM"
      },
      "source": [
        "### 1.1.1. 기본\n",
        "----\n",
        "* 데이터는 어떤 항목으로 구성되어 있는가?\n",
        "* 주가\n",
        "* 종목 리스트\n",
        "* 재무제표"
      ]
    },
    {
      "cell_type": "markdown",
      "metadata": {
        "id": "08VUOlUlJuaM"
      },
      "source": [
        "### 1.1.2. 추가\n",
        "----\n",
        "* 코로나 현황 - 발생일, 일별 확진자수, 백신, 금리 등\n",
        "* 경제 - 실업률, 이슈\n",
        "* 산업통상자원부 수출자료 리포트"
      ]
    },
    {
      "cell_type": "code",
      "metadata": {
        "id": "zAfzZdd2JuaM"
      },
      "source": [
        "# 데이터 가져와서 df 로 만들기\n"
      ],
      "execution_count": null,
      "outputs": []
    },
    {
      "cell_type": "markdown",
      "metadata": {
        "id": "iBlynGsfJuaN"
      },
      "source": [
        "## 1.2. 가공 데이터"
      ]
    },
    {
      "cell_type": "markdown",
      "metadata": {
        "id": "fwdnUHK1JuaN"
      },
      "source": [
        "### 1.2.1. 전통전략\n",
        "---\n",
        "* 볼린저 밴드\n",
        "* 변동성\n",
        "* 모멘텀\n",
        "* RSI 지수\n",
        "* 수익률\n",
        "..."
      ]
    },
    {
      "cell_type": "code",
      "metadata": {
        "id": "PoHlW2H0JuaN"
      },
      "source": [
        "# 각 지표 계산할 수 있는 api 만들기\n"
      ],
      "execution_count": null,
      "outputs": []
    },
    {
      "cell_type": "markdown",
      "metadata": {
        "id": "hBwruJE8JuaN"
      },
      "source": [
        "### 1.2.2. 아이디어 내보기 : 유용한 지표?\n",
        "---\n",
        "* 종목 별 업종으로 분류해보기\n",
        "* 특정 주기(EX:수요일마다/매월25일마다 등) 패턴이 있을까? - 주기 데이터 만들기\n",
        "* 테마주(EX:조국 테마주)\n",
        "* 페어 트레이딩"
      ]
    },
    {
      "cell_type": "code",
      "metadata": {
        "id": "IpaNWjWxJuaN"
      },
      "source": [
        "# 커스텀 지표 구현하기\n"
      ],
      "execution_count": null,
      "outputs": []
    },
    {
      "cell_type": "markdown",
      "metadata": {
        "id": "fIFzZqS3JuaO"
      },
      "source": [
        "# 2. EDA"
      ]
    },
    {
      "cell_type": "markdown",
      "metadata": {
        "id": "RdXQKLl-JuaO"
      },
      "source": [
        "## 2.1. 주어진 데이터 시각화\n",
        "---\n",
        "* 데이터끼리의 숨겨진 상관관계 / 인과관계 찾기\n",
        "    - ex) corr() 를 이용해 종목간의 상관관계 찾기\n",
        "* 주어진 데이터 외에 어떤 데이터가 더 필요할지 생각해보기"
      ]
    },
    {
      "cell_type": "markdown",
      "metadata": {
        "id": "rZjSwt5MJuaO"
      },
      "source": [
        "## 2.2. 기술적 지표 및 커스텀 지표 시각화\n",
        "---\n",
        "* 지표 데이터를 시각화해서 숨겨진 특성을 찾아내자"
      ]
    },
    {
      "cell_type": "code",
      "metadata": {
        "id": "ARnmYsMjJuaO"
      },
      "source": [
        "# 시각화 api 만들기\n"
      ],
      "execution_count": null,
      "outputs": []
    },
    {
      "cell_type": "markdown",
      "metadata": {
        "id": "hQF6Wz9_JuaO"
      },
      "source": [
        "## 2.3. 시계열 분석\n",
        "---\n",
        "* decomposition 해서 각각의 요소에 대한 패턴 찾기"
      ]
    },
    {
      "cell_type": "markdown",
      "metadata": {
        "id": "A99NxW3FJuaO"
      },
      "source": [
        "# 3. 결측치/이상치 처리하기"
      ]
    },
    {
      "cell_type": "markdown",
      "metadata": {
        "id": "ATcBvgCnJuaO"
      },
      "source": [
        "## 3.1. 결측치 확인\n",
        "---\n",
        "* NaN 값, 무한값 확인"
      ]
    },
    {
      "cell_type": "code",
      "metadata": {
        "id": "-mQs-_txJuaO"
      },
      "source": [
        "# 결측치 확인 코드\n"
      ],
      "execution_count": null,
      "outputs": []
    },
    {
      "cell_type": "markdown",
      "metadata": {
        "id": "XZPcwIiSJuaO"
      },
      "source": [
        "## 3.2. 결측치 처리\n",
        "---\n",
        "* 어떤 값으로 처리하는게 좋을까?\n",
        "* 변수마다 채워야 하는 값이 다를 수 있다"
      ]
    },
    {
      "cell_type": "code",
      "metadata": {
        "id": "3CvN3sRZJuaO"
      },
      "source": [
        "# 결측치 처리 코드\n"
      ],
      "execution_count": null,
      "outputs": []
    },
    {
      "cell_type": "markdown",
      "metadata": {
        "id": "4NdhnJjSJuaO"
      },
      "source": [
        "## 3.3. 이상치 확인\n",
        "---\n",
        "* 어떤 값을 이상치로 판단할 것인가?\n",
        "    - ex) 코로나 이전 데이터만 가지고 학습하기\n",
        "    - ex2) 너무 변동이 심했던 구간은 제외하기"
      ]
    },
    {
      "cell_type": "code",
      "metadata": {
        "id": "i59rt4UNJuaO"
      },
      "source": [
        "# 이상치 판단 코드\n"
      ],
      "execution_count": null,
      "outputs": []
    },
    {
      "cell_type": "markdown",
      "metadata": {
        "id": "IlbPnzb-JuaO"
      },
      "source": [
        "## 3.4. 이상치 처리"
      ]
    },
    {
      "cell_type": "code",
      "metadata": {
        "id": "3UP5nRetJuaO"
      },
      "source": [
        "# 이상치 처리 코드\n"
      ],
      "execution_count": null,
      "outputs": []
    },
    {
      "cell_type": "markdown",
      "metadata": {
        "id": "VIBNvfdkJuaO"
      },
      "source": [
        "# 4. 학습 데이터 추출"
      ]
    },
    {
      "cell_type": "markdown",
      "metadata": {
        "id": "5SeAOtCCJuaP"
      },
      "source": [
        "## 4.1. X, Y 만들기"
      ]
    },
    {
      "cell_type": "markdown",
      "metadata": {
        "id": "c7k7pjTZJuaP"
      },
      "source": [
        "* 변수에 들어갈 데이터들 추출하기\n",
        "    * 불필요한 변수가 있다면 그 이유는?"
      ]
    },
    {
      "cell_type": "code",
      "metadata": {
        "id": "VoXpjduHJuaP"
      },
      "source": [
        "# X, Y 정의하기\n"
      ],
      "execution_count": null,
      "outputs": []
    },
    {
      "cell_type": "markdown",
      "metadata": {
        "id": "TLNdIOVkJuaP"
      },
      "source": [
        "## 4.2. 데이터 정규화"
      ]
    },
    {
      "cell_type": "markdown",
      "metadata": {
        "id": "K2hyC5rxJuaP"
      },
      "source": [
        "* 데이터가 고르게 분포되었는지?\n",
        "* 데이터 MIN ~ MAX 값 정규화\n",
        "* 문자열 데이터는 벡터화(임베딩)"
      ]
    },
    {
      "cell_type": "code",
      "metadata": {
        "id": "c3Rb4t9MJuaP"
      },
      "source": [
        "# 데이터 정규화 api 만들기\n"
      ],
      "execution_count": null,
      "outputs": []
    },
    {
      "cell_type": "markdown",
      "metadata": {
        "id": "6E7z2d4PJuaP"
      },
      "source": [
        "## 4.3. Train / Test / Valid 나누기\n",
        "---\n",
        "* train / valid / test 의 분할 비율 정하고 시각화 해보기\n",
        "    * train 에 충분한 경향성이 반영되어 있는가?"
      ]
    },
    {
      "cell_type": "code",
      "metadata": {
        "id": "JUKpq41uJuaP"
      },
      "source": [
        "# train / valid / test 분할 후 시각화하기\n"
      ],
      "execution_count": null,
      "outputs": []
    },
    {
      "cell_type": "markdown",
      "metadata": {
        "id": "MQi1yow9JuaP"
      },
      "source": [
        "# 5. 모델 생성\n",
        "---\n",
        "* 어떤 알고리즘을 사용하는 것이 좋을까?\n",
        "* 해당 알고리즘의 활성화 함수와 파라미터 확인, 튜닝\n",
        "* 예측값 : 수익률, 분산, 종가 등\n",
        "* 얼마를 배팅할 것인가 : 켈리의 법칙 / 기대효용 등\n",
        "* 모델이 몇 %로 확신하였을때 정답으로 할 것인가\n",
        "* 기존에 잘 설계된 모델(CNN - ResNet 등)을 가져다 쓸 수 있을까?"
      ]
    },
    {
      "cell_type": "markdown",
      "metadata": {
        "id": "le1EBxHvJuaP"
      },
      "source": [
        "## 5.1. 머신러닝"
      ]
    },
    {
      "cell_type": "code",
      "metadata": {
        "id": "jr18EBr_JuaP"
      },
      "source": [
        "# 모델 설계\n"
      ],
      "execution_count": null,
      "outputs": []
    },
    {
      "cell_type": "markdown",
      "metadata": {
        "id": "iYEGprofJuaP"
      },
      "source": [
        "## 5.2. 딥러닝\n",
        "---\n",
        "* LSTM / GRU 등의 경우, input shape 을 어떻게 잡을 것인가?\n",
        "    - ex) time step 을 60일로 잡고, 그 다음날의 종가 예측\n",
        "* CNN 을 사용할 경우, 차원수 / 필터 등은 어떻게 잡을 것인가?"
      ]
    },
    {
      "cell_type": "code",
      "metadata": {
        "id": "hq7jWusJJuaP"
      },
      "source": [
        "# 모델 설계\n"
      ],
      "execution_count": null,
      "outputs": []
    },
    {
      "cell_type": "markdown",
      "metadata": {
        "id": "dPR9zI6sJuaP"
      },
      "source": [
        "# 6. 검증"
      ]
    },
    {
      "cell_type": "markdown",
      "metadata": {
        "id": "xGQhJQPJJuaP"
      },
      "source": [
        "## 6.1 예측"
      ]
    },
    {
      "cell_type": "markdown",
      "metadata": {
        "id": "m0mxnw4pJuaP"
      },
      "source": [
        "* 예측값만으로 N일치 구성해서 비교해보기"
      ]
    },
    {
      "cell_type": "code",
      "metadata": {
        "id": "L0UoisD_JuaP"
      },
      "source": [
        "# 테스트 데이터로 확인\n"
      ],
      "execution_count": null,
      "outputs": []
    },
    {
      "cell_type": "code",
      "metadata": {
        "id": "9b6Dnu7bJuaP"
      },
      "source": [
        "# 예측값 시퀀스 생성하여 확인\n"
      ],
      "execution_count": null,
      "outputs": []
    },
    {
      "cell_type": "markdown",
      "metadata": {
        "id": "IN1Ksl9MJuaQ"
      },
      "source": [
        "## 6.2. 검증"
      ]
    },
    {
      "cell_type": "markdown",
      "metadata": {
        "id": "hsVEvY6lJuaQ"
      },
      "source": [
        "* 검증 함수 정의 \n",
        "    - f1 score, auc-roc 등\n",
        "    - 수익률, 위험성(샤프 지수) 등"
      ]
    },
    {
      "cell_type": "code",
      "metadata": {
        "id": "LLGucDnqJuaQ"
      },
      "source": [
        "# 검증 api 만들기\n"
      ],
      "execution_count": null,
      "outputs": []
    },
    {
      "cell_type": "markdown",
      "metadata": {
        "id": "D873nwnfJuaQ"
      },
      "source": [
        "## 6.3. 알고리즘 별 정확도 비교\n",
        "\n",
        "* 머신러닝과 딥러닝 각각의 알고리즘 사용에 따른 예측값 비교해보기"
      ]
    },
    {
      "cell_type": "code",
      "metadata": {
        "id": "gibK3QnJJuaQ"
      },
      "source": [
        "# 각 알고리즘 예측값에 대하여 한눈에 비교할 수 있게 시각화 해보기\n",
        "# 가장 예측값이 정확한 알고리즘 찾고 원인 확인하기\n"
      ],
      "execution_count": null,
      "outputs": []
    },
    {
      "cell_type": "markdown",
      "metadata": {
        "id": "GAYtw9mMJuaQ"
      },
      "source": [
        "# 7. 개선\n",
        "---\n",
        "* 우리 코드의 \"보이지 않는\" 문제점은 무엇일까?\n",
        "    * 정확도가 너무 높게 나왔다면, 그 이유는?"
      ]
    },
    {
      "cell_type": "markdown",
      "metadata": {
        "id": "JDJ4FtntJuaQ"
      },
      "source": [
        "## 7.1. 데이터 개선\n",
        "---\n",
        "* 데이터 분할 방법 (cross-validation)\n",
        "    * 데이터 누설 문제\n",
        "* 불필요 변수 제거\n",
        "* 코드 상에 문제점은 없는가?"
      ]
    },
    {
      "cell_type": "code",
      "metadata": {
        "id": "5ejsXOxyJuaQ"
      },
      "source": [
        "# 데이터 분할에 대한 다양한 방법 사용해보기 (api 구현)\n"
      ],
      "execution_count": null,
      "outputs": []
    },
    {
      "cell_type": "markdown",
      "metadata": {
        "id": "81IfC6JQJuaQ"
      },
      "source": [
        "## 7.2. 학습 개선"
      ]
    },
    {
      "cell_type": "code",
      "metadata": {
        "id": "ptzIcKzrJuaQ"
      },
      "source": [
        "# early stopping, dropout 등으로 학습 개선하기\n",
        "# 모델 레이어 / unit 수 변경해보기\n",
        "# 레이어 중간에 정규화하기"
      ],
      "execution_count": null,
      "outputs": []
    },
    {
      "cell_type": "markdown",
      "metadata": {
        "id": "ujsIwXcNJuaQ"
      },
      "source": [
        "## 7.3. 파라미터 최적화"
      ]
    },
    {
      "cell_type": "code",
      "metadata": {
        "id": "nEmW0Qt_JuaQ"
      },
      "source": [
        "# 머신러닝 : GridSearchCV로 최적화 파라미터 찾기\n",
        "# 해당 알고리즘의 모든 파라미터에 대해 바꿔서 돌려보고, 파라미터 별 영향도 확인하기\n"
      ],
      "execution_count": null,
      "outputs": []
    },
    {
      "cell_type": "code",
      "metadata": {
        "id": "hEOo9A3lJuaQ"
      },
      "source": [
        "# 딥러닝 : 활성화 함수, 파라미터 최적화하기\n",
        "# input 차원과 output 차원, output 값 변경해보기(ex: 종가예측 -> 수익률예측)\n"
      ],
      "execution_count": null,
      "outputs": []
    },
    {
      "cell_type": "markdown",
      "metadata": {
        "id": "fhtKGo3vJuaQ"
      },
      "source": [
        "## 7.4. 기타 방법"
      ]
    },
    {
      "cell_type": "markdown",
      "metadata": {
        "id": "UOUZcCLqJuaQ"
      },
      "source": [
        "* 다른 알고리즘 사용해보기 등"
      ]
    },
    {
      "cell_type": "markdown",
      "metadata": {
        "id": "d2HhK2EoJuaQ"
      },
      "source": [
        "# 도전해보기"
      ]
    },
    {
      "cell_type": "markdown",
      "metadata": {
        "id": "GxIodIU8JuaQ"
      },
      "source": [
        "### 1. 강화학습"
      ]
    },
    {
      "cell_type": "markdown",
      "metadata": {
        "id": "-a5CY_5oJuaR"
      },
      "source": [
        "### 2. attention"
      ]
    },
    {
      "cell_type": "markdown",
      "metadata": {
        "id": "19Ly4KFVJuaR"
      },
      "source": [
        "### 3. 자연어 처리\n",
        "---\n",
        "* 뉴스/sns/사설칼럼 등 분석해서 주가 예측에 적용하기"
      ]
    },
    {
      "cell_type": "code",
      "metadata": {
        "id": "M4FPI-C4JuaR"
      },
      "source": [
        ""
      ],
      "execution_count": null,
      "outputs": []
    }
  ]
}