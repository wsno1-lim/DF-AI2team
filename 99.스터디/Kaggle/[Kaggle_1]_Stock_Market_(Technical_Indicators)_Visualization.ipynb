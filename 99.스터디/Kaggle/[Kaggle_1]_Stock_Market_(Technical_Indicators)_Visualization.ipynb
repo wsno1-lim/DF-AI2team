{
  "nbformat": 4,
  "nbformat_minor": 0,
  "metadata": {
    "colab": {
      "name": "[Kaggle-1] Stock Market (Technical Indicators) Visualization",
      "provenance": [],
      "collapsed_sections": [],
      "authorship_tag": "ABX9TyOg74TCiOShofnDJSbip6Xk",
      "include_colab_link": true
    },
    "kernelspec": {
      "name": "python3",
      "display_name": "Python 3"
    }
  },
  "cells": [
    {
      "cell_type": "markdown",
      "metadata": {
        "id": "view-in-github",
        "colab_type": "text"
      },
      "source": [
        "<a href=\"https://colab.research.google.com/github/wsno1-lim/DF-AI2team/blob/main/99.%EC%8A%A4%ED%84%B0%EB%94%94/Kaggle/%5BKaggle_1%5D_Stock_Market_(Technical_Indicators)_Visualization.ipynb\" target=\"_parent\"><img src=\"https://colab.research.google.com/assets/colab-badge.svg\" alt=\"Open In Colab\"/></a>"
      ]
    },
    {
      "cell_type": "markdown",
      "metadata": {
        "id": "VcOI_-7TQ8x2"
      },
      "source": [
        "# 주가 분석 기술 지표 구현\n",
        "---\n",
        "https://www.kaggle.com/tomfarm/stock-market-technical-indicators-visualization/edit  \n",
        "* Huge Stock Market Dataset 을 기반으로 함\n",
        "* 요약 : 주가 분석 기술 지표 여러가지를 구현해놓았다. 또한 각 지표에 대해서 시각화 할 수 있는 함수들도 구현해 놓았음! 나중에 가져다가 사용하면 됨.\n",
        "* 이 사람이 작성한 다른 문서(LSTM 예측)\n",
        "  - 위에서 작성한 여러 지표들로 예측하기  \n",
        "https://www.kaggle.com/kratisaxena/lstm-gru-models-for-stock-movement-analysis"
      ]
    },
    {
      "cell_type": "code",
      "metadata": {
        "id": "pf97786QQ_gJ"
      },
      "source": [
        "import numpy as np\n",
        "import pandas as pd\n",
        "import os\n",
        "import random\n",
        "import copy\n",
        "import matplotlib.pyplot as plt"
      ],
      "execution_count": 3,
      "outputs": []
    },
    {
      "cell_type": "code",
      "metadata": {
        "id": "4URmm_QHRBFe"
      },
      "source": [
        "# 서브프로세스 실행 후 출력문자열 리턴\n",
        "from subprocess import check_output"
      ],
      "execution_count": 4,
      "outputs": []
    },
    {
      "cell_type": "code",
      "metadata": {
        "colab": {
          "base_uri": "https://localhost:8080/"
        },
        "id": "gckgqe7tUdhp",
        "outputId": "3e788b2b-6040-4810-babe-f687bc8ae024"
      },
      "source": [
        "from google.colab import drive\n",
        "drive.mount('/content/drive')"
      ],
      "execution_count": 5,
      "outputs": [
        {
          "output_type": "stream",
          "text": [
            "Mounted at /content/drive\n"
          ],
          "name": "stdout"
        }
      ]
    },
    {
      "cell_type": "code",
      "metadata": {
        "colab": {
          "base_uri": "https://localhost:8080/"
        },
        "id": "LDD11dhlRDBQ",
        "outputId": "925280d1-5ca2-407b-9142-1d0d7f23770d"
      },
      "source": [
        "# Stocks 폴더 안에 있는 파일 개수\n",
        "os.chdir('/content/drive/MyDrive/hsmd/')\n",
        "list = os.listdir()\n",
        "number_files = len(list)\n",
        "print(number_files)"
      ],
      "execution_count": 6,
      "outputs": [
        {
          "output_type": "stream",
          "text": [
            "10\n"
          ],
          "name": "stdout"
        }
      ]
    },
    {
      "cell_type": "code",
      "metadata": {
        "colab": {
          "base_uri": "https://localhost:8080/"
        },
        "id": "ZCMPvCoPRibU",
        "outputId": "b09fd14e-0ef9-4760-f79d-0199def4411b"
      },
      "source": [
        "# 데이터 중 8개를 랜덤으로 뽑아 분석해본다\n",
        "filenames = random.sample([x for x in list if x.endswith('.txt') and os.path.getsize(os.path.join('', x)) > 0], 8)\n",
        "print(filenames)"
      ],
      "execution_count": 7,
      "outputs": [
        {
          "output_type": "stream",
          "text": [
            "['ncb.us.txt', 'abac.us.txt', 'nby.us.txt', 'aau.us.txt', 'nan.us.txt', 'naov.us.txt', 'nblx.us.txt', 'cern.us.txt']\n"
          ],
          "name": "stdout"
        }
      ]
    },
    {
      "cell_type": "code",
      "metadata": {
        "id": "cG8nCXLyRjvY"
      },
      "source": [
        "# 뽑은 데이터를 데이터프레임으로 만들고, df의 리스트를 생성한다\n",
        "data = []\n",
        "for fn in filenames :\n",
        "    df = pd.read_csv(os.path.join('', fn), sep=',')\n",
        "    label, _, _ = fn.split(sep='.')\n",
        "    df['Label'] = label\n",
        "    df['Date'] = pd.to_datetime(df['Date'])\n",
        "    data.append(df)"
      ],
      "execution_count": 8,
      "outputs": []
    },
    {
      "cell_type": "code",
      "metadata": {
        "colab": {
          "base_uri": "https://localhost:8080/",
          "height": 195
        },
        "id": "K0MRP2kRRlEL",
        "outputId": "99ef0e03-d28b-4577-aba4-70e10b939cb0"
      },
      "source": [
        "data[0].head()"
      ],
      "execution_count": 9,
      "outputs": [
        {
          "output_type": "execute_result",
          "data": {
            "text/html": [
              "<div>\n",
              "<style scoped>\n",
              "    .dataframe tbody tr th:only-of-type {\n",
              "        vertical-align: middle;\n",
              "    }\n",
              "\n",
              "    .dataframe tbody tr th {\n",
              "        vertical-align: top;\n",
              "    }\n",
              "\n",
              "    .dataframe thead th {\n",
              "        text-align: right;\n",
              "    }\n",
              "</style>\n",
              "<table border=\"1\" class=\"dataframe\">\n",
              "  <thead>\n",
              "    <tr style=\"text-align: right;\">\n",
              "      <th></th>\n",
              "      <th>Date</th>\n",
              "      <th>Open</th>\n",
              "      <th>High</th>\n",
              "      <th>Low</th>\n",
              "      <th>Close</th>\n",
              "      <th>Volume</th>\n",
              "      <th>OpenInt</th>\n",
              "      <th>Label</th>\n",
              "    </tr>\n",
              "  </thead>\n",
              "  <tbody>\n",
              "    <tr>\n",
              "      <th>0</th>\n",
              "      <td>2009-04-27</td>\n",
              "      <td>10.477</td>\n",
              "      <td>10.477</td>\n",
              "      <td>10.477</td>\n",
              "      <td>10.477</td>\n",
              "      <td>0</td>\n",
              "      <td>0</td>\n",
              "      <td>ncb</td>\n",
              "    </tr>\n",
              "    <tr>\n",
              "      <th>1</th>\n",
              "      <td>2009-04-28</td>\n",
              "      <td>10.477</td>\n",
              "      <td>10.477</td>\n",
              "      <td>10.208</td>\n",
              "      <td>10.477</td>\n",
              "      <td>168518</td>\n",
              "      <td>0</td>\n",
              "      <td>ncb</td>\n",
              "    </tr>\n",
              "    <tr>\n",
              "      <th>2</th>\n",
              "      <td>2009-04-29</td>\n",
              "      <td>10.477</td>\n",
              "      <td>10.484</td>\n",
              "      <td>10.477</td>\n",
              "      <td>10.477</td>\n",
              "      <td>40489</td>\n",
              "      <td>0</td>\n",
              "      <td>ncb</td>\n",
              "    </tr>\n",
              "    <tr>\n",
              "      <th>3</th>\n",
              "      <td>2009-04-30</td>\n",
              "      <td>10.477</td>\n",
              "      <td>10.477</td>\n",
              "      <td>10.477</td>\n",
              "      <td>10.477</td>\n",
              "      <td>14862</td>\n",
              "      <td>0</td>\n",
              "      <td>ncb</td>\n",
              "    </tr>\n",
              "    <tr>\n",
              "      <th>4</th>\n",
              "      <td>2009-05-01</td>\n",
              "      <td>10.477</td>\n",
              "      <td>10.477</td>\n",
              "      <td>10.439</td>\n",
              "      <td>10.439</td>\n",
              "      <td>1277</td>\n",
              "      <td>0</td>\n",
              "      <td>ncb</td>\n",
              "    </tr>\n",
              "  </tbody>\n",
              "</table>\n",
              "</div>"
            ],
            "text/plain": [
              "        Date    Open    High     Low   Close  Volume  OpenInt Label\n",
              "0 2009-04-27  10.477  10.477  10.477  10.477       0        0   ncb\n",
              "1 2009-04-28  10.477  10.477  10.208  10.477  168518        0   ncb\n",
              "2 2009-04-29  10.477  10.484  10.477  10.477   40489        0   ncb\n",
              "3 2009-04-30  10.477  10.477  10.477  10.477   14862        0   ncb\n",
              "4 2009-05-01  10.477  10.477  10.439  10.439    1277        0   ncb"
            ]
          },
          "metadata": {
            "tags": []
          },
          "execution_count": 9
        }
      ]
    },
    {
      "cell_type": "markdown",
      "metadata": {
        "id": "toY9LoqfRmx0"
      },
      "source": [
        "## 데이터 프레임 안에 다양한 기술 지표 추가하기  \n",
        "---\n",
        "여기서 다룰 기술 지표들은 다음과 같습니다.\n",
        "* RSI, Volume (plain), Bollinger Bands, Aroon, PVT, acceleration bands\n",
        "* Stochastic, Chaikin Money Flow, Parabolic SAR, Rate of Change, Volume weighted average Price, momentum\n",
        "* Commodity Channel Index, On Balance Volume, Keltner Channels, Triple Exponential Moving Average, Normalized Averager True Range, directional movement indicators\n",
        "* MACD, Money flowindex, Ichimoku, William %R, Volume MINMAX, adaptive moving average  \n",
        "  \n",
        "아래는 기본적인 몇가지만 복사해놓았고, 나머지는 링크에서 가져다 사용하면 됨"
      ]
    },
    {
      "cell_type": "code",
      "metadata": {
        "colab": {
          "base_uri": "https://localhost:8080/"
        },
        "id": "1kJqXb1_RoSu",
        "outputId": "deb3c674-9152-4a5f-fa88-a35de73ebff1"
      },
      "source": [
        "TechIndicator = copy.deepcopy(data)\n",
        "TechIndicator"
      ],
      "execution_count": 10,
      "outputs": [
        {
          "output_type": "execute_result",
          "data": {
            "text/plain": [
              "[           Date    Open    High     Low   Close  Volume  OpenInt Label\n",
              " 0    2009-04-27  10.477  10.477  10.477  10.477       0        0   ncb\n",
              " 1    2009-04-28  10.477  10.477  10.208  10.477  168518        0   ncb\n",
              " 2    2009-04-29  10.477  10.484  10.477  10.477   40489        0   ncb\n",
              " 3    2009-04-30  10.477  10.477  10.477  10.477   14862        0   ncb\n",
              " 4    2009-05-01  10.477  10.477  10.439  10.439    1277        0   ncb\n",
              " ...         ...     ...     ...     ...     ...     ...      ...   ...\n",
              " 2125 2017-11-06  17.140  17.140  16.790  16.900   12289        0   ncb\n",
              " 2126 2017-11-07  17.299  17.299  17.000  17.050    7388        0   ncb\n",
              " 2127 2017-11-08  17.076  17.170  17.076  17.150    1212        0   ncb\n",
              " 2128 2017-11-09  17.190  17.220  17.120  17.150    2596        0   ncb\n",
              " 2129 2017-11-10  17.100  17.100  16.950  16.950   16812        0   ncb\n",
              " \n",
              " [2130 rows x 8 columns],\n",
              "            Date     Open     High      Low    Close  Volume  OpenInt Label\n",
              " 0    2010-07-19  24.0000  24.0000  24.0000  24.0000       0        0  abac\n",
              " 1    2010-07-20  25.9600  25.9600  21.0000  21.4000   59250        0  abac\n",
              " 2    2010-07-21  21.0800  21.2400  16.3200  17.0000   56675        0  abac\n",
              " 3    2010-07-22  17.0000  18.3600  16.6000  16.9600   15675        0  abac\n",
              " 4    2010-07-23  16.6000  17.0000  15.5200  16.0800   17550        0  abac\n",
              " ...         ...      ...      ...      ...      ...     ...      ...   ...\n",
              " 1822 2017-11-06   3.2900   3.4400   3.2900   3.4000   14528        0  abac\n",
              " 1823 2017-11-07   3.3941   3.4400   3.2600   3.3540   30441        0  abac\n",
              " 1824 2017-11-08   3.3900   3.5815   3.3000   3.4747   15678        0  abac\n",
              " 1825 2017-11-09   3.4900   3.6952   3.3900   3.5500   28925        0  abac\n",
              " 1826 2017-11-10   3.6300   3.6490   3.3365   3.4800   14639        0  abac\n",
              " \n",
              " [1827 rows x 8 columns],\n",
              "            Date     Open     High     Low    Close  Volume  OpenInt Label\n",
              " 0    2007-10-25  100.000  100.000  100.00  100.000       0        0   nby\n",
              " 1    2007-10-26  105.000  106.250   90.50   90.500   12776        0   nby\n",
              " 2    2007-10-29   91.250   95.000   90.50   93.750    3304        0   nby\n",
              " 3    2007-10-30   96.250   96.250   87.50   94.750    5852        0   nby\n",
              " 4    2007-10-31   97.500   98.750   95.00   97.500    4508        0   nby\n",
              " ...         ...      ...      ...     ...      ...     ...      ...   ...\n",
              " 2522 2017-11-06    4.600    4.600    4.35    4.400    5871        0   nby\n",
              " 2523 2017-11-07    4.250    4.590    4.25    4.450   13487        0   nby\n",
              " 2524 2017-11-08    4.500    4.500    4.40    4.400     346        0   nby\n",
              " 2525 2017-11-09    4.200    4.345    4.20    4.345   11752        0   nby\n",
              " 2526 2017-11-10    4.375    4.375    4.20    4.200    7480        0   nby\n",
              " \n",
              " [2527 rows x 8 columns],\n",
              "            Date  Open    High     Low   Close  Volume  OpenInt Label\n",
              " 0    2005-02-25  1.58  1.5800  1.5300  1.5800    8570        0   aau\n",
              " 1    2005-02-28  1.64  1.6400  1.5400  1.6400   11000        0   aau\n",
              " 2    2005-03-01  1.53  1.6100  1.5300  1.5300    5450        0   aau\n",
              " 3    2005-03-02  1.53  1.5300  1.5300  1.5300    3333        0   aau\n",
              " 4    2005-03-03  1.54  1.5400  1.4900  1.5400    3200        0   aau\n",
              " ...         ...   ...     ...     ...     ...     ...      ...   ...\n",
              " 3172 2017-11-06  0.91  0.9701  0.8800  0.9600  490573        0   aau\n",
              " 3173 2017-11-07  0.96  0.9900  0.9200  0.9595  237297        0   aau\n",
              " 3174 2017-11-08  0.98  1.0100  0.9500  0.9668  250044        0   aau\n",
              " 3175 2017-11-09  0.94  0.9700  0.9177  0.9455  350534        0   aau\n",
              " 3176 2017-11-10  0.95  0.9555  0.9055  0.9219  196553        0   aau\n",
              " \n",
              " [3177 rows x 8 columns],\n",
              "            Date    Open    High     Low   Close  Volume  OpenInt Label\n",
              " 0    2005-02-25  10.422  10.440  10.415  10.440    5320        0   nan\n",
              " 1    2005-02-28  10.440  10.515  10.404  10.451   27171        0   nan\n",
              " 2    2005-03-01  10.515  10.576  10.481  10.484   19981        0   nan\n",
              " 3    2005-03-02  10.515  10.515  10.448  10.492    4169        0   nan\n",
              " 4    2005-03-03  10.552  10.552  10.484  10.506    8484        0   nan\n",
              " ...         ...     ...     ...     ...     ...     ...      ...   ...\n",
              " 3196 2017-11-06  13.820  13.880  13.810  13.830   59709        0   nan\n",
              " 3197 2017-11-07  13.830  13.900  13.820  13.900   33110        0   nan\n",
              " 3198 2017-11-08  13.890  13.960  13.890  13.940   47243        0   nan\n",
              " 3199 2017-11-09  13.930  13.930  13.850  13.900   32214        0   nan\n",
              " 3200 2017-11-10  13.900  13.950  13.860  13.940   55375        0   nan\n",
              " \n",
              " [3201 rows x 8 columns],\n",
              "         Date  Open   High     Low   Close  Volume  OpenInt Label\n",
              " 0 2017-11-02  4.60  4.600  3.6800  4.5000   39014        0  naov\n",
              " 1 2017-11-06  4.89  4.890  4.2501  4.4975   17826        0  naov\n",
              " 2 2017-11-07  4.58  4.600  4.5000  4.5042   14447        0  naov\n",
              " 3 2017-11-08  4.55  4.700  4.5000  4.7000    5547        0  naov\n",
              " 4 2017-11-09  4.25  4.695  4.2500  4.5000    7105        0  naov\n",
              " 5 2017-11-10  4.50  4.700  4.2800  4.6100   18950        0  naov,\n",
              "           Date    Open    High     Low   Close   Volume  OpenInt Label\n",
              " 0   2016-09-15  25.524  26.314  25.042  25.235  9859045        0  nblx\n",
              " 1   2016-09-16  25.042  25.765  25.042  25.293   714972        0  nblx\n",
              " 2   2016-09-19  25.534  25.707  25.081  25.428   570871        0  nblx\n",
              " 3   2016-09-20  25.302  25.476  25.265  25.351   161024        0  nblx\n",
              " 4   2016-09-21  25.610  25.620  25.332  25.438   208890        0  nblx\n",
              " ..         ...     ...     ...     ...     ...      ...      ...   ...\n",
              " 288 2017-11-06  50.730  51.670  50.730  51.460    38147        0  nblx\n",
              " 289 2017-11-07  51.860  52.300  51.830  52.000    35285        0  nblx\n",
              " 290 2017-11-08  52.200  52.340  51.670  52.000    36130        0  nblx\n",
              " 291 2017-11-09  51.750  51.950  51.190  51.560    40366        0  nblx\n",
              " 292 2017-11-10  51.630  52.300  51.450  51.880    35384        0  nblx\n",
              " \n",
              " [293 rows x 8 columns],\n",
              "            Date     Open     High      Low    Close   Volume  OpenInt Label\n",
              " 0    2005-02-25   6.3750   6.5450   6.3650   6.5125  3816664        0  cern\n",
              " 1    2005-02-28   6.4775   6.5400   6.4625   6.5125  4163088        0  cern\n",
              " 2    2005-03-01   6.5225   6.6250   6.5000   6.5950  4320872        0  cern\n",
              " 3    2005-03-02   6.6050   6.6825   6.5625   6.6200  3547720        0  cern\n",
              " 4    2005-03-03   6.6475   6.6825   6.4375   6.5125  3183528        0  cern\n",
              " ...         ...      ...      ...      ...      ...      ...      ...   ...\n",
              " 3196 2017-11-06  65.3600  65.8100  65.0600  65.7100  1359851        0  cern\n",
              " 3197 2017-11-07  65.7800  66.2400  65.6700  65.9300  1404928        0  cern\n",
              " 3198 2017-11-08  65.8500  66.4700  65.6000  66.2800  1331746        0  cern\n",
              " 3199 2017-11-09  65.8700  66.1050  64.6900  65.4800  1491859        0  cern\n",
              " 3200 2017-11-10  65.3100  65.5600  64.9300  65.3100  1327855        0  cern\n",
              " \n",
              " [3201 rows x 8 columns]]"
            ]
          },
          "metadata": {
            "tags": []
          },
          "execution_count": 10
        }
      ]
    },
    {
      "cell_type": "markdown",
      "metadata": {
        "id": "M-MxRcdaRp3A"
      },
      "source": [
        "* RSI 계산하기"
      ]
    },
    {
      "cell_type": "code",
      "metadata": {
        "id": "AMznWYT4Rq5N"
      },
      "source": [
        "# RSI (상대강도지수) : 주가의 상승압력과 하락압력간의 상대적 강도 \n",
        "# RSI 가 클수록 주가의 상승추세가 크고, 작을수록 주가의 하락추세가 크다\n",
        "# up/down - N일동안의 상승폭/하락폭 평균, N은 일반적으로 14일\n",
        "# RSI 시그널 : N`일 이동평균선, N`는 일반적으로 6일\n",
        "# RSI 70% 이상, 시그널 하향돌파(데드크로스) 시 매도 / 30% 이하, 시그널 상향돌파(골든크로스) 시 매수\n",
        "def rsi(values) :\n",
        "    up = values[values > 0].mean()\n",
        "    down = -1 * values[values < 0].mean()\n",
        "    return 100 * up / (up + down)"
      ],
      "execution_count": 11,
      "outputs": []
    },
    {
      "cell_type": "code",
      "metadata": {
        "colab": {
          "base_uri": "https://localhost:8080/",
          "height": 195
        },
        "id": "pFfORwxURr71",
        "outputId": "aff4af26-189d-4ace-d7b2-88b739623e53"
      },
      "source": [
        "# TechIndicator 안에 있는 8개 종목에 대해 각각 RSI 구하기\n",
        "for stock in range(len(TechIndicator)) :\n",
        "    TechIndicator[stock]['Momentum_1D'] = (TechIndicator[stock]['Close'] - TechIndicator[stock]['Close'].shift(1)).fillna(0)\n",
        "    TechIndicator[stock]['RSI_14D'] = TechIndicator[stock]['Momentum_1D'].rolling(center=False, window=14).apply(rsi).fillna(0)\n",
        "TechIndicator[0].tail(5)"
      ],
      "execution_count": 12,
      "outputs": [
        {
          "output_type": "execute_result",
          "data": {
            "text/html": [
              "<div>\n",
              "<style scoped>\n",
              "    .dataframe tbody tr th:only-of-type {\n",
              "        vertical-align: middle;\n",
              "    }\n",
              "\n",
              "    .dataframe tbody tr th {\n",
              "        vertical-align: top;\n",
              "    }\n",
              "\n",
              "    .dataframe thead th {\n",
              "        text-align: right;\n",
              "    }\n",
              "</style>\n",
              "<table border=\"1\" class=\"dataframe\">\n",
              "  <thead>\n",
              "    <tr style=\"text-align: right;\">\n",
              "      <th></th>\n",
              "      <th>Date</th>\n",
              "      <th>Open</th>\n",
              "      <th>High</th>\n",
              "      <th>Low</th>\n",
              "      <th>Close</th>\n",
              "      <th>Volume</th>\n",
              "      <th>OpenInt</th>\n",
              "      <th>Label</th>\n",
              "      <th>Momentum_1D</th>\n",
              "      <th>RSI_14D</th>\n",
              "    </tr>\n",
              "  </thead>\n",
              "  <tbody>\n",
              "    <tr>\n",
              "      <th>2125</th>\n",
              "      <td>2017-11-06</td>\n",
              "      <td>17.140</td>\n",
              "      <td>17.140</td>\n",
              "      <td>16.790</td>\n",
              "      <td>16.90</td>\n",
              "      <td>12289</td>\n",
              "      <td>0</td>\n",
              "      <td>ncb</td>\n",
              "      <td>-0.10</td>\n",
              "      <td>30.583501</td>\n",
              "    </tr>\n",
              "    <tr>\n",
              "      <th>2126</th>\n",
              "      <td>2017-11-07</td>\n",
              "      <td>17.299</td>\n",
              "      <td>17.299</td>\n",
              "      <td>17.000</td>\n",
              "      <td>17.05</td>\n",
              "      <td>7388</td>\n",
              "      <td>0</td>\n",
              "      <td>ncb</td>\n",
              "      <td>0.15</td>\n",
              "      <td>29.447853</td>\n",
              "    </tr>\n",
              "    <tr>\n",
              "      <th>2127</th>\n",
              "      <td>2017-11-08</td>\n",
              "      <td>17.076</td>\n",
              "      <td>17.170</td>\n",
              "      <td>17.076</td>\n",
              "      <td>17.15</td>\n",
              "      <td>1212</td>\n",
              "      <td>0</td>\n",
              "      <td>ncb</td>\n",
              "      <td>0.10</td>\n",
              "      <td>31.137725</td>\n",
              "    </tr>\n",
              "    <tr>\n",
              "      <th>2128</th>\n",
              "      <td>2017-11-09</td>\n",
              "      <td>17.190</td>\n",
              "      <td>17.220</td>\n",
              "      <td>17.120</td>\n",
              "      <td>17.15</td>\n",
              "      <td>2596</td>\n",
              "      <td>0</td>\n",
              "      <td>ncb</td>\n",
              "      <td>0.00</td>\n",
              "      <td>30.434783</td>\n",
              "    </tr>\n",
              "    <tr>\n",
              "      <th>2129</th>\n",
              "      <td>2017-11-10</td>\n",
              "      <td>17.100</td>\n",
              "      <td>17.100</td>\n",
              "      <td>16.950</td>\n",
              "      <td>16.95</td>\n",
              "      <td>16812</td>\n",
              "      <td>0</td>\n",
              "      <td>ncb</td>\n",
              "      <td>-0.20</td>\n",
              "      <td>28.526646</td>\n",
              "    </tr>\n",
              "  </tbody>\n",
              "</table>\n",
              "</div>"
            ],
            "text/plain": [
              "           Date    Open    High     Low  ...  OpenInt  Label  Momentum_1D    RSI_14D\n",
              "2125 2017-11-06  17.140  17.140  16.790  ...        0    ncb        -0.10  30.583501\n",
              "2126 2017-11-07  17.299  17.299  17.000  ...        0    ncb         0.15  29.447853\n",
              "2127 2017-11-08  17.076  17.170  17.076  ...        0    ncb         0.10  31.137725\n",
              "2128 2017-11-09  17.190  17.220  17.120  ...        0    ncb         0.00  30.434783\n",
              "2129 2017-11-10  17.100  17.100  16.950  ...        0    ncb        -0.20  28.526646\n",
              "\n",
              "[5 rows x 10 columns]"
            ]
          },
          "metadata": {
            "tags": []
          },
          "execution_count": 12
        }
      ]
    },
    {
      "cell_type": "markdown",
      "metadata": {
        "id": "9Mn1eqLRRtx2"
      },
      "source": [
        "* 거래량 : 기존 거래량 칼럼에 있는 값을 사용한다"
      ]
    },
    {
      "cell_type": "code",
      "metadata": {
        "colab": {
          "base_uri": "https://localhost:8080/",
          "height": 299
        },
        "id": "PpTllsNURuxJ",
        "outputId": "537a72e4-7bf1-4b05-f410-6a4a1765267e"
      },
      "source": [
        "for stock in range(len(TechIndicator)) :\n",
        "    TechIndicator[stock]['Volume_plain'] = TechIndicator[stock]['Volume'].fillna(0)\n",
        "TechIndicator[0].tail()"
      ],
      "execution_count": 13,
      "outputs": [
        {
          "output_type": "execute_result",
          "data": {
            "text/html": [
              "<div>\n",
              "<style scoped>\n",
              "    .dataframe tbody tr th:only-of-type {\n",
              "        vertical-align: middle;\n",
              "    }\n",
              "\n",
              "    .dataframe tbody tr th {\n",
              "        vertical-align: top;\n",
              "    }\n",
              "\n",
              "    .dataframe thead th {\n",
              "        text-align: right;\n",
              "    }\n",
              "</style>\n",
              "<table border=\"1\" class=\"dataframe\">\n",
              "  <thead>\n",
              "    <tr style=\"text-align: right;\">\n",
              "      <th></th>\n",
              "      <th>Date</th>\n",
              "      <th>Open</th>\n",
              "      <th>High</th>\n",
              "      <th>Low</th>\n",
              "      <th>Close</th>\n",
              "      <th>Volume</th>\n",
              "      <th>OpenInt</th>\n",
              "      <th>Label</th>\n",
              "      <th>Momentum_1D</th>\n",
              "      <th>RSI_14D</th>\n",
              "      <th>Volume_plain</th>\n",
              "    </tr>\n",
              "  </thead>\n",
              "  <tbody>\n",
              "    <tr>\n",
              "      <th>2125</th>\n",
              "      <td>2017-11-06</td>\n",
              "      <td>17.140</td>\n",
              "      <td>17.140</td>\n",
              "      <td>16.790</td>\n",
              "      <td>16.90</td>\n",
              "      <td>12289</td>\n",
              "      <td>0</td>\n",
              "      <td>ncb</td>\n",
              "      <td>-0.10</td>\n",
              "      <td>30.583501</td>\n",
              "      <td>12289</td>\n",
              "    </tr>\n",
              "    <tr>\n",
              "      <th>2126</th>\n",
              "      <td>2017-11-07</td>\n",
              "      <td>17.299</td>\n",
              "      <td>17.299</td>\n",
              "      <td>17.000</td>\n",
              "      <td>17.05</td>\n",
              "      <td>7388</td>\n",
              "      <td>0</td>\n",
              "      <td>ncb</td>\n",
              "      <td>0.15</td>\n",
              "      <td>29.447853</td>\n",
              "      <td>7388</td>\n",
              "    </tr>\n",
              "    <tr>\n",
              "      <th>2127</th>\n",
              "      <td>2017-11-08</td>\n",
              "      <td>17.076</td>\n",
              "      <td>17.170</td>\n",
              "      <td>17.076</td>\n",
              "      <td>17.15</td>\n",
              "      <td>1212</td>\n",
              "      <td>0</td>\n",
              "      <td>ncb</td>\n",
              "      <td>0.10</td>\n",
              "      <td>31.137725</td>\n",
              "      <td>1212</td>\n",
              "    </tr>\n",
              "    <tr>\n",
              "      <th>2128</th>\n",
              "      <td>2017-11-09</td>\n",
              "      <td>17.190</td>\n",
              "      <td>17.220</td>\n",
              "      <td>17.120</td>\n",
              "      <td>17.15</td>\n",
              "      <td>2596</td>\n",
              "      <td>0</td>\n",
              "      <td>ncb</td>\n",
              "      <td>0.00</td>\n",
              "      <td>30.434783</td>\n",
              "      <td>2596</td>\n",
              "    </tr>\n",
              "    <tr>\n",
              "      <th>2129</th>\n",
              "      <td>2017-11-10</td>\n",
              "      <td>17.100</td>\n",
              "      <td>17.100</td>\n",
              "      <td>16.950</td>\n",
              "      <td>16.95</td>\n",
              "      <td>16812</td>\n",
              "      <td>0</td>\n",
              "      <td>ncb</td>\n",
              "      <td>-0.20</td>\n",
              "      <td>28.526646</td>\n",
              "      <td>16812</td>\n",
              "    </tr>\n",
              "  </tbody>\n",
              "</table>\n",
              "</div>"
            ],
            "text/plain": [
              "           Date    Open    High  ...  Momentum_1D    RSI_14D  Volume_plain\n",
              "2125 2017-11-06  17.140  17.140  ...        -0.10  30.583501         12289\n",
              "2126 2017-11-07  17.299  17.299  ...         0.15  29.447853          7388\n",
              "2127 2017-11-08  17.076  17.170  ...         0.10  31.137725          1212\n",
              "2128 2017-11-09  17.190  17.220  ...         0.00  30.434783          2596\n",
              "2129 2017-11-10  17.100  17.100  ...        -0.20  28.526646         16812\n",
              "\n",
              "[5 rows x 11 columns]"
            ]
          },
          "metadata": {
            "tags": []
          },
          "execution_count": 13
        }
      ]
    },
    {
      "cell_type": "markdown",
      "metadata": {
        "id": "Bp8WmJ5RRv8t"
      },
      "source": [
        "* 볼린저 밴드 계산하기"
      ]
    },
    {
      "cell_type": "code",
      "metadata": {
        "id": "uLvnO62mRw_0"
      },
      "source": [
        "def bbands(price, length=30, numsd=2) :\n",
        "    ave = price.rolling(window=length, center=False).mean()\n",
        "    sd = price.rolling(window=length, center=False).std()\n",
        "    upb = ave + (sd * numsd)\n",
        "    dnb = ave - (sd * numsd)\n",
        "    return np.round(ave, 3), np.round(upb, 3), np.round(dnb, 3)"
      ],
      "execution_count": 14,
      "outputs": []
    },
    {
      "cell_type": "code",
      "metadata": {
        "colab": {
          "base_uri": "https://localhost:8080/",
          "height": 299
        },
        "id": "gyacNZrKRx7e",
        "outputId": "ea23b51a-9bb3-4e0c-87c3-cb69dd206e83"
      },
      "source": [
        "for stock in range(len(TechIndicator)) :\n",
        "    TechIndicator[stock]['BB_Middle_Band'], TechIndicator[stock]['BB_Upper_Band'], TechIndicator[stock]['BB_Lower_Band'] = bbands(TechIndicator[stock]['Close'], length=20, numsd=1)\n",
        "    TechIndicator[stock]['BB_Middle_Band'].fillna(0)\n",
        "    TechIndicator[stock]['BB_Upper_Band'].fillna(0)\n",
        "    TechIndicator[stock]['BB_Lower_Band'].fillna(0)\n",
        "TechIndicator[0].tail()"
      ],
      "execution_count": 15,
      "outputs": [
        {
          "output_type": "execute_result",
          "data": {
            "text/html": [
              "<div>\n",
              "<style scoped>\n",
              "    .dataframe tbody tr th:only-of-type {\n",
              "        vertical-align: middle;\n",
              "    }\n",
              "\n",
              "    .dataframe tbody tr th {\n",
              "        vertical-align: top;\n",
              "    }\n",
              "\n",
              "    .dataframe thead th {\n",
              "        text-align: right;\n",
              "    }\n",
              "</style>\n",
              "<table border=\"1\" class=\"dataframe\">\n",
              "  <thead>\n",
              "    <tr style=\"text-align: right;\">\n",
              "      <th></th>\n",
              "      <th>Date</th>\n",
              "      <th>Open</th>\n",
              "      <th>High</th>\n",
              "      <th>Low</th>\n",
              "      <th>Close</th>\n",
              "      <th>Volume</th>\n",
              "      <th>OpenInt</th>\n",
              "      <th>Label</th>\n",
              "      <th>Momentum_1D</th>\n",
              "      <th>RSI_14D</th>\n",
              "      <th>Volume_plain</th>\n",
              "      <th>BB_Middle_Band</th>\n",
              "      <th>BB_Upper_Band</th>\n",
              "      <th>BB_Lower_Band</th>\n",
              "    </tr>\n",
              "  </thead>\n",
              "  <tbody>\n",
              "    <tr>\n",
              "      <th>2125</th>\n",
              "      <td>2017-11-06</td>\n",
              "      <td>17.140</td>\n",
              "      <td>17.140</td>\n",
              "      <td>16.790</td>\n",
              "      <td>16.90</td>\n",
              "      <td>12289</td>\n",
              "      <td>0</td>\n",
              "      <td>ncb</td>\n",
              "      <td>-0.10</td>\n",
              "      <td>30.583501</td>\n",
              "      <td>12289</td>\n",
              "      <td>17.380</td>\n",
              "      <td>17.768</td>\n",
              "      <td>16.992</td>\n",
              "    </tr>\n",
              "    <tr>\n",
              "      <th>2126</th>\n",
              "      <td>2017-11-07</td>\n",
              "      <td>17.299</td>\n",
              "      <td>17.299</td>\n",
              "      <td>17.000</td>\n",
              "      <td>17.05</td>\n",
              "      <td>7388</td>\n",
              "      <td>0</td>\n",
              "      <td>ncb</td>\n",
              "      <td>0.15</td>\n",
              "      <td>29.447853</td>\n",
              "      <td>7388</td>\n",
              "      <td>17.362</td>\n",
              "      <td>17.757</td>\n",
              "      <td>16.967</td>\n",
              "    </tr>\n",
              "    <tr>\n",
              "      <th>2127</th>\n",
              "      <td>2017-11-08</td>\n",
              "      <td>17.076</td>\n",
              "      <td>17.170</td>\n",
              "      <td>17.076</td>\n",
              "      <td>17.15</td>\n",
              "      <td>1212</td>\n",
              "      <td>0</td>\n",
              "      <td>ncb</td>\n",
              "      <td>0.10</td>\n",
              "      <td>31.137725</td>\n",
              "      <td>1212</td>\n",
              "      <td>17.347</td>\n",
              "      <td>17.744</td>\n",
              "      <td>16.950</td>\n",
              "    </tr>\n",
              "    <tr>\n",
              "      <th>2128</th>\n",
              "      <td>2017-11-09</td>\n",
              "      <td>17.190</td>\n",
              "      <td>17.220</td>\n",
              "      <td>17.120</td>\n",
              "      <td>17.15</td>\n",
              "      <td>2596</td>\n",
              "      <td>0</td>\n",
              "      <td>ncb</td>\n",
              "      <td>0.00</td>\n",
              "      <td>30.434783</td>\n",
              "      <td>2596</td>\n",
              "      <td>17.318</td>\n",
              "      <td>17.705</td>\n",
              "      <td>16.930</td>\n",
              "    </tr>\n",
              "    <tr>\n",
              "      <th>2129</th>\n",
              "      <td>2017-11-10</td>\n",
              "      <td>17.100</td>\n",
              "      <td>17.100</td>\n",
              "      <td>16.950</td>\n",
              "      <td>16.95</td>\n",
              "      <td>16812</td>\n",
              "      <td>0</td>\n",
              "      <td>ncb</td>\n",
              "      <td>-0.20</td>\n",
              "      <td>28.526646</td>\n",
              "      <td>16812</td>\n",
              "      <td>17.283</td>\n",
              "      <td>17.670</td>\n",
              "      <td>16.895</td>\n",
              "    </tr>\n",
              "  </tbody>\n",
              "</table>\n",
              "</div>"
            ],
            "text/plain": [
              "           Date    Open    High  ...  BB_Middle_Band  BB_Upper_Band  BB_Lower_Band\n",
              "2125 2017-11-06  17.140  17.140  ...          17.380         17.768         16.992\n",
              "2126 2017-11-07  17.299  17.299  ...          17.362         17.757         16.967\n",
              "2127 2017-11-08  17.076  17.170  ...          17.347         17.744         16.950\n",
              "2128 2017-11-09  17.190  17.220  ...          17.318         17.705         16.930\n",
              "2129 2017-11-10  17.100  17.100  ...          17.283         17.670         16.895\n",
              "\n",
              "[5 rows x 14 columns]"
            ]
          },
          "metadata": {
            "tags": []
          },
          "execution_count": 15
        }
      ]
    },
    {
      "cell_type": "markdown",
      "metadata": {
        "id": "K57yADIt0i_l"
      },
      "source": [
        "* Aroon Oscillator 계산"
      ]
    },
    {
      "cell_type": "code",
      "metadata": {
        "id": "pMCcWvtpUrCC"
      },
      "source": [
        "def aroon(df, tf=25):\n",
        "    aroonup = []\n",
        "    aroondown = []\n",
        "    x = tf\n",
        "    while x< len(df['Date']):\n",
        "        aroon_up = ((df['High'][x-tf:x].tolist().index(max(df['High'][x-tf:x])))/float(tf))*100\n",
        "        aroon_down = ((df['Low'][x-tf:x].tolist().index(min(df['Low'][x-tf:x])))/float(tf))*100\n",
        "        aroonup.append(aroon_up)\n",
        "        aroondown.append(aroon_down)\n",
        "        x+=1\n",
        "    return aroonup, aroondown"
      ],
      "execution_count": 16,
      "outputs": []
    },
    {
      "cell_type": "code",
      "metadata": {
        "id": "gRGQ5kon0p5P"
      },
      "source": [
        "for stock in range(len(TechIndicator)):\n",
        "    listofzeros = [0] * 25\n",
        "    up, down = aroon(TechIndicator[stock])\n",
        "    aroon_list = [x - y for x, y in zip(up,down)]\n",
        "    if len(aroon_list)==0:\n",
        "        aroon_list = [0] * TechIndicator[stock].shape[0]\n",
        "        TechIndicator[stock]['Aroon_Oscillator'] = aroon_list\n",
        "    else:\n",
        "        TechIndicator[stock]['Aroon_Oscillator'] = listofzeros+aroon_list"
      ],
      "execution_count": 17,
      "outputs": []
    },
    {
      "cell_type": "markdown",
      "metadata": {
        "id": "k4i3Ap0t0uRO"
      },
      "source": [
        "* Price Volume Trend 계산  \n",
        "PVT = [((CurrentClose - PreviousClose) / PreviousClose) x Volume] + PreviousPVT"
      ]
    },
    {
      "cell_type": "code",
      "metadata": {
        "colab": {
          "base_uri": "https://localhost:8080/",
          "height": 299
        },
        "id": "XNw5wafC0r6K",
        "outputId": "bd66ae2d-6ac3-4a0b-fa88-9ef43fa0881e"
      },
      "source": [
        "for stock in range(len(TechIndicator)):\n",
        "    TechIndicator[stock][\"PVT\"] = (TechIndicator[stock]['Momentum_1D']/ TechIndicator[stock]['Close'].shift(1))*TechIndicator[stock]['Volume']\n",
        "    TechIndicator[stock][\"PVT\"] = TechIndicator[stock][\"PVT\"]-TechIndicator[stock][\"PVT\"].shift(1)\n",
        "    TechIndicator[stock][\"PVT\"] = TechIndicator[stock][\"PVT\"].fillna(0)\n",
        "TechIndicator[0].tail()"
      ],
      "execution_count": 18,
      "outputs": [
        {
          "output_type": "execute_result",
          "data": {
            "text/html": [
              "<div>\n",
              "<style scoped>\n",
              "    .dataframe tbody tr th:only-of-type {\n",
              "        vertical-align: middle;\n",
              "    }\n",
              "\n",
              "    .dataframe tbody tr th {\n",
              "        vertical-align: top;\n",
              "    }\n",
              "\n",
              "    .dataframe thead th {\n",
              "        text-align: right;\n",
              "    }\n",
              "</style>\n",
              "<table border=\"1\" class=\"dataframe\">\n",
              "  <thead>\n",
              "    <tr style=\"text-align: right;\">\n",
              "      <th></th>\n",
              "      <th>Date</th>\n",
              "      <th>Open</th>\n",
              "      <th>High</th>\n",
              "      <th>Low</th>\n",
              "      <th>Close</th>\n",
              "      <th>Volume</th>\n",
              "      <th>OpenInt</th>\n",
              "      <th>Label</th>\n",
              "      <th>Momentum_1D</th>\n",
              "      <th>RSI_14D</th>\n",
              "      <th>Volume_plain</th>\n",
              "      <th>BB_Middle_Band</th>\n",
              "      <th>BB_Upper_Band</th>\n",
              "      <th>BB_Lower_Band</th>\n",
              "      <th>Aroon_Oscillator</th>\n",
              "      <th>PVT</th>\n",
              "    </tr>\n",
              "  </thead>\n",
              "  <tbody>\n",
              "    <tr>\n",
              "      <th>2125</th>\n",
              "      <td>2017-11-06</td>\n",
              "      <td>17.140</td>\n",
              "      <td>17.140</td>\n",
              "      <td>16.790</td>\n",
              "      <td>16.90</td>\n",
              "      <td>12289</td>\n",
              "      <td>0</td>\n",
              "      <td>ncb</td>\n",
              "      <td>-0.10</td>\n",
              "      <td>30.583501</td>\n",
              "      <td>12289</td>\n",
              "      <td>17.380</td>\n",
              "      <td>17.768</td>\n",
              "      <td>16.992</td>\n",
              "      <td>-48.0</td>\n",
              "      <td>-98.696519</td>\n",
              "    </tr>\n",
              "    <tr>\n",
              "      <th>2126</th>\n",
              "      <td>2017-11-07</td>\n",
              "      <td>17.299</td>\n",
              "      <td>17.299</td>\n",
              "      <td>17.000</td>\n",
              "      <td>17.05</td>\n",
              "      <td>7388</td>\n",
              "      <td>0</td>\n",
              "      <td>ncb</td>\n",
              "      <td>0.15</td>\n",
              "      <td>29.447853</td>\n",
              "      <td>7388</td>\n",
              "      <td>17.362</td>\n",
              "      <td>17.757</td>\n",
              "      <td>16.967</td>\n",
              "      <td>-52.0</td>\n",
              "      <td>137.862200</td>\n",
              "    </tr>\n",
              "    <tr>\n",
              "      <th>2127</th>\n",
              "      <td>2017-11-08</td>\n",
              "      <td>17.076</td>\n",
              "      <td>17.170</td>\n",
              "      <td>17.076</td>\n",
              "      <td>17.15</td>\n",
              "      <td>1212</td>\n",
              "      <td>0</td>\n",
              "      <td>ncb</td>\n",
              "      <td>0.10</td>\n",
              "      <td>31.137725</td>\n",
              "      <td>1212</td>\n",
              "      <td>17.347</td>\n",
              "      <td>17.744</td>\n",
              "      <td>16.950</td>\n",
              "      <td>-52.0</td>\n",
              "      <td>-58.465460</td>\n",
              "    </tr>\n",
              "    <tr>\n",
              "      <th>2128</th>\n",
              "      <td>2017-11-09</td>\n",
              "      <td>17.190</td>\n",
              "      <td>17.220</td>\n",
              "      <td>17.120</td>\n",
              "      <td>17.15</td>\n",
              "      <td>2596</td>\n",
              "      <td>0</td>\n",
              "      <td>ncb</td>\n",
              "      <td>0.00</td>\n",
              "      <td>30.434783</td>\n",
              "      <td>2596</td>\n",
              "      <td>17.318</td>\n",
              "      <td>17.705</td>\n",
              "      <td>16.930</td>\n",
              "      <td>-52.0</td>\n",
              "      <td>-7.108504</td>\n",
              "    </tr>\n",
              "    <tr>\n",
              "      <th>2129</th>\n",
              "      <td>2017-11-10</td>\n",
              "      <td>17.100</td>\n",
              "      <td>17.100</td>\n",
              "      <td>16.950</td>\n",
              "      <td>16.95</td>\n",
              "      <td>16812</td>\n",
              "      <td>0</td>\n",
              "      <td>ncb</td>\n",
              "      <td>-0.20</td>\n",
              "      <td>28.526646</td>\n",
              "      <td>16812</td>\n",
              "      <td>17.283</td>\n",
              "      <td>17.670</td>\n",
              "      <td>16.895</td>\n",
              "      <td>-52.0</td>\n",
              "      <td>-196.058309</td>\n",
              "    </tr>\n",
              "  </tbody>\n",
              "</table>\n",
              "</div>"
            ],
            "text/plain": [
              "           Date    Open    High  ...  BB_Lower_Band  Aroon_Oscillator         PVT\n",
              "2125 2017-11-06  17.140  17.140  ...         16.992             -48.0  -98.696519\n",
              "2126 2017-11-07  17.299  17.299  ...         16.967             -52.0  137.862200\n",
              "2127 2017-11-08  17.076  17.170  ...         16.950             -52.0  -58.465460\n",
              "2128 2017-11-09  17.190  17.220  ...         16.930             -52.0   -7.108504\n",
              "2129 2017-11-10  17.100  17.100  ...         16.895             -52.0 -196.058309\n",
              "\n",
              "[5 rows x 16 columns]"
            ]
          },
          "metadata": {
            "tags": []
          },
          "execution_count": 18
        }
      ]
    },
    {
      "cell_type": "markdown",
      "metadata": {
        "id": "bQA8o6on04tC"
      },
      "source": [
        "* Acceleration Bands 계산"
      ]
    },
    {
      "cell_type": "code",
      "metadata": {
        "id": "voAF6wvP065T"
      },
      "source": [
        "def abands(df):\n",
        "    #df['AB_Middle_Band'] = pd.rolling_mean(df['Close'], 20)\n",
        "    df['AB_Middle_Band'] = df['Close'].rolling(window = 20, center=False).mean()\n",
        "    # High * ( 1 + 4 * (High - Low) / (High + Low))\n",
        "    df['aupband'] = df['High'] * (1 + 4 * (df['High']-df['Low'])/(df['High']+df['Low']))\n",
        "    df['AB_Upper_Band'] = df['aupband'].rolling(window=20, center=False).mean()\n",
        "    # Low *(1 - 4 * (High - Low)/ (High + Low))\n",
        "    df['adownband'] = df['Low'] * (1 - 4 * (df['High']-df['Low'])/(df['High']+df['Low']))\n",
        "    df['AB_Lower_Band'] = df['adownband'].rolling(window=20, center=False).mean()"
      ],
      "execution_count": 19,
      "outputs": []
    },
    {
      "cell_type": "code",
      "metadata": {
        "colab": {
          "base_uri": "https://localhost:8080/",
          "height": 299
        },
        "id": "6aR0EnuM07vy",
        "outputId": "9872eee2-84e8-4b8f-c45c-062a97f0c730"
      },
      "source": [
        "for stock in range(len(TechIndicator)):\n",
        "    abands(TechIndicator[stock])\n",
        "    TechIndicator[stock] = TechIndicator[stock].fillna(0)\n",
        "TechIndicator[0].tail()"
      ],
      "execution_count": 20,
      "outputs": [
        {
          "output_type": "execute_result",
          "data": {
            "text/html": [
              "<div>\n",
              "<style scoped>\n",
              "    .dataframe tbody tr th:only-of-type {\n",
              "        vertical-align: middle;\n",
              "    }\n",
              "\n",
              "    .dataframe tbody tr th {\n",
              "        vertical-align: top;\n",
              "    }\n",
              "\n",
              "    .dataframe thead th {\n",
              "        text-align: right;\n",
              "    }\n",
              "</style>\n",
              "<table border=\"1\" class=\"dataframe\">\n",
              "  <thead>\n",
              "    <tr style=\"text-align: right;\">\n",
              "      <th></th>\n",
              "      <th>Date</th>\n",
              "      <th>Open</th>\n",
              "      <th>High</th>\n",
              "      <th>Low</th>\n",
              "      <th>Close</th>\n",
              "      <th>Volume</th>\n",
              "      <th>OpenInt</th>\n",
              "      <th>Label</th>\n",
              "      <th>Momentum_1D</th>\n",
              "      <th>RSI_14D</th>\n",
              "      <th>Volume_plain</th>\n",
              "      <th>BB_Middle_Band</th>\n",
              "      <th>BB_Upper_Band</th>\n",
              "      <th>BB_Lower_Band</th>\n",
              "      <th>Aroon_Oscillator</th>\n",
              "      <th>PVT</th>\n",
              "      <th>AB_Middle_Band</th>\n",
              "      <th>aupband</th>\n",
              "      <th>AB_Upper_Band</th>\n",
              "      <th>adownband</th>\n",
              "      <th>AB_Lower_Band</th>\n",
              "    </tr>\n",
              "  </thead>\n",
              "  <tbody>\n",
              "    <tr>\n",
              "      <th>2125</th>\n",
              "      <td>2017-11-06</td>\n",
              "      <td>17.140</td>\n",
              "      <td>17.140</td>\n",
              "      <td>16.790</td>\n",
              "      <td>16.90</td>\n",
              "      <td>12289</td>\n",
              "      <td>0</td>\n",
              "      <td>ncb</td>\n",
              "      <td>-0.10</td>\n",
              "      <td>30.583501</td>\n",
              "      <td>12289</td>\n",
              "      <td>17.380</td>\n",
              "      <td>17.768</td>\n",
              "      <td>16.992</td>\n",
              "      <td>-48.0</td>\n",
              "      <td>-98.696519</td>\n",
              "      <td>17.38010</td>\n",
              "      <td>17.847221</td>\n",
              "      <td>18.044471</td>\n",
              "      <td>16.097221</td>\n",
              "      <td>16.794821</td>\n",
              "    </tr>\n",
              "    <tr>\n",
              "      <th>2126</th>\n",
              "      <td>2017-11-07</td>\n",
              "      <td>17.299</td>\n",
              "      <td>17.299</td>\n",
              "      <td>17.000</td>\n",
              "      <td>17.05</td>\n",
              "      <td>7388</td>\n",
              "      <td>0</td>\n",
              "      <td>ncb</td>\n",
              "      <td>0.15</td>\n",
              "      <td>29.447853</td>\n",
              "      <td>7388</td>\n",
              "      <td>17.362</td>\n",
              "      <td>17.757</td>\n",
              "      <td>16.967</td>\n",
              "      <td>-52.0</td>\n",
              "      <td>137.862200</td>\n",
              "      <td>17.36205</td>\n",
              "      <td>17.902213</td>\n",
              "      <td>18.037880</td>\n",
              "      <td>16.407213</td>\n",
              "      <td>16.770980</td>\n",
              "    </tr>\n",
              "    <tr>\n",
              "      <th>2127</th>\n",
              "      <td>2017-11-08</td>\n",
              "      <td>17.076</td>\n",
              "      <td>17.170</td>\n",
              "      <td>17.076</td>\n",
              "      <td>17.15</td>\n",
              "      <td>1212</td>\n",
              "      <td>0</td>\n",
              "      <td>ncb</td>\n",
              "      <td>0.10</td>\n",
              "      <td>31.137725</td>\n",
              "      <td>1212</td>\n",
              "      <td>17.347</td>\n",
              "      <td>17.744</td>\n",
              "      <td>16.950</td>\n",
              "      <td>-52.0</td>\n",
              "      <td>-58.465460</td>\n",
              "      <td>17.34700</td>\n",
              "      <td>17.358516</td>\n",
              "      <td>17.996683</td>\n",
              "      <td>16.888516</td>\n",
              "      <td>16.776033</td>\n",
              "    </tr>\n",
              "    <tr>\n",
              "      <th>2128</th>\n",
              "      <td>2017-11-09</td>\n",
              "      <td>17.190</td>\n",
              "      <td>17.220</td>\n",
              "      <td>17.120</td>\n",
              "      <td>17.15</td>\n",
              "      <td>2596</td>\n",
              "      <td>0</td>\n",
              "      <td>ncb</td>\n",
              "      <td>0.00</td>\n",
              "      <td>30.434783</td>\n",
              "      <td>2596</td>\n",
              "      <td>17.318</td>\n",
              "      <td>17.705</td>\n",
              "      <td>16.930</td>\n",
              "      <td>-52.0</td>\n",
              "      <td>-7.108504</td>\n",
              "      <td>17.31750</td>\n",
              "      <td>17.420582</td>\n",
              "      <td>17.928160</td>\n",
              "      <td>16.920582</td>\n",
              "      <td>16.802260</td>\n",
              "    </tr>\n",
              "    <tr>\n",
              "      <th>2129</th>\n",
              "      <td>2017-11-10</td>\n",
              "      <td>17.100</td>\n",
              "      <td>17.100</td>\n",
              "      <td>16.950</td>\n",
              "      <td>16.95</td>\n",
              "      <td>16812</td>\n",
              "      <td>0</td>\n",
              "      <td>ncb</td>\n",
              "      <td>-0.20</td>\n",
              "      <td>28.526646</td>\n",
              "      <td>16812</td>\n",
              "      <td>17.283</td>\n",
              "      <td>17.670</td>\n",
              "      <td>16.895</td>\n",
              "      <td>-52.0</td>\n",
              "      <td>-196.058309</td>\n",
              "      <td>17.28250</td>\n",
              "      <td>17.401322</td>\n",
              "      <td>17.909721</td>\n",
              "      <td>16.651322</td>\n",
              "      <td>16.756321</td>\n",
              "    </tr>\n",
              "  </tbody>\n",
              "</table>\n",
              "</div>"
            ],
            "text/plain": [
              "           Date    Open    High  ...  AB_Upper_Band  adownband  AB_Lower_Band\n",
              "2125 2017-11-06  17.140  17.140  ...      18.044471  16.097221      16.794821\n",
              "2126 2017-11-07  17.299  17.299  ...      18.037880  16.407213      16.770980\n",
              "2127 2017-11-08  17.076  17.170  ...      17.996683  16.888516      16.776033\n",
              "2128 2017-11-09  17.190  17.220  ...      17.928160  16.920582      16.802260\n",
              "2129 2017-11-10  17.100  17.100  ...      17.909721  16.651322      16.756321\n",
              "\n",
              "[5 rows x 21 columns]"
            ]
          },
          "metadata": {
            "tags": []
          },
          "execution_count": 20
        }
      ]
    },
    {
      "cell_type": "markdown",
      "metadata": {
        "id": "lGSGcLlo28el"
      },
      "source": [
        "> 기타 다른 지표에 대해서는 링크에서 직접 참조"
      ]
    },
    {
      "cell_type": "code",
      "metadata": {
        "id": "kqeqIxcf2_nw"
      },
      "source": [
        ""
      ],
      "execution_count": null,
      "outputs": []
    }
  ]
}