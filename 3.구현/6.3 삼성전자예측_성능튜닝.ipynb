{
 "cells": [
  {
   "cell_type": "code",
   "execution_count": 9,
   "metadata": {},
   "outputs": [],
   "source": [
    "import numpy as np\n",
    "import pandas as pd\n",
    "\n",
    "import matplotlib.pyplot as plt\n",
    "import seaborn as sns\n",
    "\n",
    "from sklearn.ensemble import RandomForestClassifier, GradientBoostingClassifier\n",
    "from sklearn.svm import SVC\n",
    "from sklearn.neighbors import KNeighborsClassifier\n",
    "from sklearn.model_selection import train_test_split\n",
    "from sklearn.model_selection import GridSearchCV, train_test_split\n",
    "from sklearn.metrics import accuracy_score\n",
    "from sklearn.model_selection import KFold, RandomizedSearchCV, GridSearchCV\n",
    "from sklearn.ensemble import RandomForestRegressor, GradientBoostingRegressor\n",
    "from sklearn.linear_model import LinearRegression\n",
    "from xgboost import XGBRegressor\n",
    "from lightgbm import LGBMRegressor\n",
    "\n",
    "from xgboost import XGBClassifier\n",
    "from lightgbm import LGBMClassifier\n",
    "\n",
    "from tensorflow.keras.models import Sequential\n",
    "from tensorflow.keras.layers import Dense\n",
    "from sklearn.preprocessing import LabelEncoder\n",
    "\n",
    "import tensorflow as tf\n",
    "from tensorflow.keras.layers import BatchNormalization\n",
    "from datetime import datetime\n",
    "\n",
    "import warnings\n",
    "warnings.filterwarnings('ignore')\n",
    "\n",
    "import FinanceDataReader as fdr\n",
    "\n",
    "# 시각화 사용자 설정\n",
    "from matplotlib import rcParams\n",
    "sns.set_style('whitegrid')\n",
    "%matplotlib inline\n",
    "\n",
    "from sklearn.preprocessing import MinMaxScaler\n",
    "from xgboost import plot_importance as xgb_plot_importance\n",
    "from lightgbm import plot_importance as lgb_plot_importance\n",
    "\n",
    "from sklearn.decomposition import PCA\n",
    "import joblib\n",
    "import time"
   ]
  },
  {
   "cell_type": "code",
   "execution_count": 10,
   "metadata": {},
   "outputs": [],
   "source": [
    "def graph(df, cols, axv_list=[]) :\n",
    "    rcParams['figure.figsize'] = 11.7,8.27\n",
    "    ax = sns.lineplot(data=df[cols])\n",
    "    \n",
    "    plt.title('compare : ' + (', '.join(cols)), fontsize=20)\n",
    "    plt.ylabel('Value', fontsize=14)\n",
    "    plt.xlabel('Date', fontsize=14)\n",
    "    plt.legend(fontsize=12, loc='best')\n",
    "    \n",
    "    if axv_list != [] :\n",
    "        for i in axv_list :\n",
    "            if len(i) == 4 :\n",
    "                color = i[3]\n",
    "            else :\n",
    "                color = 'b'\n",
    "            plt.axvline(x=datetime(i[0], i[1], i[2]), color=color, linestyle='--', linewidth=1)\n",
    "\n",
    "    plt.show()\n",
    "    return"
   ]
  },
  {
   "cell_type": "markdown",
   "metadata": {},
   "source": [
    "### 이진분류 머신러닝 / MLP 함수 정의"
   ]
  },
  {
   "cell_type": "code",
   "execution_count": 11,
   "metadata": {},
   "outputs": [],
   "source": [
    "def machineLearning_Classifier(X_train, y_train, X_test, y_test, modelSave=False) :\n",
    "    neighbor_model = KNeighborsClassifier(n_neighbors=5)\n",
    "    svm_model = SVC()\n",
    "    forest_model = RandomForestClassifier(n_estimators=300)\n",
    "    gbm_model = GradientBoostingClassifier(random_state=10)\n",
    "    xgb_model = XGBClassifier(n_estimators=300, eval_metric = \"logloss\")\n",
    "    lgb_model = LGBMClassifier(n_estimators=300)\n",
    "\n",
    "    model_list = [neighbor_model, svm_model, forest_model, gbm_model, xgb_model, lgb_model]\n",
    "\n",
    "    for model in model_list:\n",
    "        model_name = model.__class__.__name__\n",
    "        model.fit(X_train , y_train)\n",
    "        print('\\n{0} 학습데이터셋 정확도: {1:.4f}'.format(model_name, model.score(X_train , y_train)))\n",
    "\n",
    "        pred = model.predict(X_test)\n",
    "        accuracy = accuracy_score(y_test, pred)    \n",
    "        print('{0} 테스트셋 정확도: {1:.4f}'.format(model_name, accuracy)) \n",
    "        \n",
    "        if modelSave :\n",
    "            joblib.dump(model, model_name+'.pkl')\n",
    "    print()\n",
    "    return model_list\n",
    "\n",
    "def xgb_FeatureImportance(xgb_model) :\n",
    "    print('-------------XGB Plot Importance-------------')\n",
    "    plt.rc('font', family='NanumGothic') # For Windows\n",
    "    fig, ax = plt.subplots(figsize=(10, 12))\n",
    "    xgb_plot_importance(xgb_model, ax=ax)\n",
    "    plt.show()\n",
    "    return\n",
    "\n",
    "def lgb_FeatureImportance(lgb_model) :\n",
    "    print('-------------LGB Plot Importance-------------')\n",
    "    plt.rc('font', family='NanumGothic') # For Windows\n",
    "    fig, ax = plt.subplots(figsize=(10, 12))\n",
    "    lgb_plot_importance(lgb_model, ax=ax)\n",
    "    plt.show()\n",
    "    return\n",
    "\n",
    "def rf_FeatureImportance(forest_model, columns) :\n",
    "    print('-------------FOREST Plot Importance-------------')\n",
    "    plt.rc('font', family='NanumGothic') # For Windows\n",
    "    features = columns\n",
    "    importances = forest_model.feature_importances_\n",
    "    indices = np.argsort(importances)\n",
    "\n",
    "    fig, ax = plt.subplots(figsize=(10, 12))\n",
    "    plt.title('RandomForest Feature Importances')\n",
    "    plt.barh(range(len(indices)), importances[indices], color='b', align='center')\n",
    "    plt.yticks(range(len(indices)), [features[i] for i in indices])\n",
    "    plt.xlabel('Relative Importance')\n",
    "    plt.show()\n",
    "    return\n",
    "\n",
    "def MLP_Classifier(input_dim, X_train, y_train, X_test, y_test, modelSave=False) :\n",
    "    model = Sequential()\n",
    "    model.add(Dense(60, input_dim=input_dim, activation='relu'))\n",
    "    model.add(Dense(1, activation='sigmoid'))\n",
    "\n",
    "    model.compile(loss='binary_crossentropy',\n",
    "                optimizer='adam',\n",
    "                metrics=['accuracy'])\n",
    "\n",
    "    model.fit(X_train, y_train, epochs=10, batch_size=10)\n",
    "    \n",
    "    eval = model.evaluate(X_test, y_test)\n",
    "    print('{0} 정확도: {1:.4f}, Loss: {2:.4f}'.format(model.__class__.__name__, eval[1], eval[0]))\n",
    "    if modelSave :\n",
    "        model.save(model.__class__.__name__+'.h5')\n",
    "    return model"
   ]
  },
  {
   "cell_type": "markdown",
   "metadata": {},
   "source": [
    "### 회귀 머신러닝 / 딥러닝 함수 정의"
   ]
  },
  {
   "cell_type": "code",
   "execution_count": 12,
   "metadata": {},
   "outputs": [],
   "source": [
    "def mse(y, pred):\n",
    "    squared_error = (y - pred) ** 2\n",
    "    mse = np.mean(squared_error)\n",
    "    print('MSE: {0:.8f}'.format(mse))\n",
    "    return mse\n",
    "\n",
    "def machineLearning_Regression(X_train, y_train, X_test, y_test, drawGraph=True) :\n",
    "    lr_model = LinearRegression()\n",
    "    rf_model = RandomForestRegressor(n_estimators=500)\n",
    "    gbm_model = GradientBoostingRegressor(n_estimators=500)\n",
    "    xgb_model = XGBRegressor(n_estimators=500)\n",
    "    lgbm_model = LGBMRegressor(n_estimators=500)\n",
    "\n",
    "    model_list = [lr_model, rf_model, gbm_model, xgb_model, lgbm_model]\n",
    "    for model in model_list:\n",
    "        model.fit(X_train, y_train)\n",
    "        pred = model.predict(X_test)\n",
    "        print('###',model.__class__.__name__,'###')\n",
    "        mse(y_test, pred)\n",
    "        if drawGraph :\n",
    "            tmpDf = pd.DataFrame(index=X_test.index)\n",
    "            tmpDf['pred'] = pred\n",
    "            tmpDf['y_test'] = y_test\n",
    "            graph(tmpDf, tmpDf.columns.tolist())\n",
    "    return model_list\n",
    "\n",
    "def plotFeatureList(model, X):\n",
    "    coef = pd.Series(model.coef_, index=X.columns)\n",
    "    coef_sort = coef.sort_values(ascending=False)\n",
    "    sns.barplot(x=coef_sort.values, y=coef_sort.index)\n",
    "    return\n",
    "\n",
    "def MLP_Regression(input_dim, X_train, y_train, X_test, y_test, epochs=10, batch_size=10, drawGraph=True) :\n",
    "    model = Sequential()\n",
    "    model.add(Dense(60, input_dim= X_train.shape[1], activation='relu'))\n",
    "    #model.add(BatchNormalization())\n",
    "    model.add(Dense(30, activation='relu'))\n",
    "    model.add(Dense(15, activation='relu'))\n",
    "    model.add(Dense(6, activation='relu'))\n",
    "    model.add(Dense(1))\n",
    "\n",
    "    model.compile(loss='mean_squared_error',\n",
    "                  optimizer='adam',\n",
    "                 metrics=['mse'])\n",
    "\n",
    "    model.fit(X_train, y_train, epochs=epochs, batch_size=batch_size)\n",
    "\n",
    "    # 예측 값과 실제 값의 비교\n",
    "    pred = model.predict(X_test).flatten()\n",
    "    print('###',model.__class__.__name__,'###')\n",
    "    mse(y_test, pred)    \n",
    "    if drawGraph :\n",
    "        tmpDf = pd.DataFrame(index=X_test.index)\n",
    "        tmpDf['pred'] = pred\n",
    "        tmpDf['y_test'] = y_test\n",
    "        graph(tmpDf, tmpDf.columns.tolist())\n",
    "    return model"
   ]
  },
  {
   "cell_type": "markdown",
   "metadata": {},
   "source": [
    "### X, Y 정의 (이진분류)"
   ]
  },
  {
   "cell_type": "code",
   "execution_count": 13,
   "metadata": {},
   "outputs": [
    {
     "name": "stdout",
     "output_type": "stream",
     "text": [
      "주성분 18개로 전체 데이터의 분산을 99.76520767034374만큼 설명\n"
     ]
    }
   ],
   "source": [
    "df = pd.read_csv('./df.csv',  index_col=['Date'], parse_dates=True, encoding='euc-kr')\n",
    "\n",
    "# Y\n",
    "df['binClass'] = df.apply(lambda x : 1 if x['samsung'] > 0 else 0, axis=1)\n",
    "df['binClass'] = df['binClass'].shift(-1)\n",
    "df.dropna(inplace=True, axis=0)\n",
    "\n",
    "Y = df['binClass']\n",
    "\n",
    "# X\n",
    "X = df.drop(['binClass'], axis=1,inplace=False)\n",
    "\n",
    "n_components = 18 # 주성분을 몇개로 할지 결정\n",
    "columns = ['PCA_'+str(x) for x in range(0, n_components)]\n",
    "\n",
    "pca = PCA(n_components=n_components) \n",
    "pca_fit = pca.fit(X)\n",
    "# pca 저장\n",
    "joblib.dump(pca_fit, 'pca_fit_classifier.pkl')\n",
    "printcipalComponents = pca_fit.transform(X)\n",
    "principalDf = pd.DataFrame(data=printcipalComponents, columns = columns, index=X.index)\n",
    "print(f'주성분 {n_components}개로 전체 데이터의 분산을 {str(sum(pca.explained_variance_ratio_)*100)}만큼 설명')\n",
    "\n",
    "X_train, X_test, y_train, y_test = train_test_split(principalDf, Y, test_size=0.3, shuffle=False, random_state=0)"
   ]
  },
  {
   "cell_type": "code",
   "execution_count": 14,
   "metadata": {},
   "outputs": [
    {
     "name": "stdout",
     "output_type": "stream",
     "text": [
      "\n",
      "KNeighborsClassifier 학습데이터셋 정확도: 0.7179\n",
      "KNeighborsClassifier 테스트셋 정확도: 0.5130\n",
      "\n",
      "SVC 학습데이터셋 정확도: 0.7235\n",
      "SVC 테스트셋 정확도: 0.6104\n",
      "\n",
      "RandomForestClassifier 학습데이터셋 정확도: 1.0000\n",
      "RandomForestClassifier 테스트셋 정확도: 0.5584\n",
      "\n",
      "GradientBoostingClassifier 학습데이터셋 정확도: 1.0000\n",
      "GradientBoostingClassifier 테스트셋 정확도: 0.5325\n",
      "\n",
      "XGBClassifier 학습데이터셋 정확도: 1.0000\n",
      "XGBClassifier 테스트셋 정확도: 0.5584\n",
      "\n",
      "LGBMClassifier 학습데이터셋 정확도: 1.0000\n",
      "LGBMClassifier 테스트셋 정확도: 0.5714\n",
      "\n"
     ]
    }
   ],
   "source": [
    "model_list = machineLearning_Classifier(X_train, y_train, X_test, y_test)"
   ]
  },
  {
   "cell_type": "markdown",
   "metadata": {},
   "source": [
    "### train 과 test 비율 조정하여 재시도"
   ]
  },
  {
   "cell_type": "code",
   "execution_count": 15,
   "metadata": {},
   "outputs": [
    {
     "name": "stdout",
     "output_type": "stream",
     "text": [
      "\n",
      "KNeighborsClassifier 학습데이터셋 정확도: 0.6993\n",
      "KNeighborsClassifier 테스트셋 정확도: 0.5340\n",
      "\n",
      "SVC 학습데이터셋 정확도: 0.7359\n",
      "SVC 테스트셋 정확도: 0.6408\n",
      "\n",
      "RandomForestClassifier 학습데이터셋 정확도: 1.0000\n",
      "RandomForestClassifier 테스트셋 정확도: 0.6117\n",
      "\n",
      "GradientBoostingClassifier 학습데이터셋 정확도: 0.9976\n",
      "GradientBoostingClassifier 테스트셋 정확도: 0.6214\n",
      "\n",
      "XGBClassifier 학습데이터셋 정확도: 1.0000\n",
      "XGBClassifier 테스트셋 정확도: 0.6214\n",
      "\n",
      "LGBMClassifier 학습데이터셋 정확도: 1.0000\n",
      "LGBMClassifier 테스트셋 정확도: 0.6019\n",
      "\n"
     ]
    }
   ],
   "source": [
    "test_ratio = 0.2\n",
    "X_train, X_test, y_train, y_test = train_test_split(principalDf, Y, test_size=test_ratio, shuffle=False, random_state=0)\n",
    "model_list = machineLearning_Classifier(X_train, y_train, X_test, y_test, modelSave=True)"
   ]
  },
  {
   "cell_type": "markdown",
   "metadata": {},
   "source": [
    "### KNN 으로 RandomSearch 하여 하이퍼파라미터 조정"
   ]
  },
  {
   "cell_type": "code",
   "execution_count": 16,
   "metadata": {},
   "outputs": [
    {
     "name": "stdout",
     "output_type": "stream",
     "text": [
      "최적 하이퍼 파라미터:\n",
      " {'n_neighbors': 3}\n",
      "최고 예측 정확도: 0.5404\n",
      " 훈련 정확도: 0.7677 \n",
      " 시험 정확도: 0.5437\n"
     ]
    }
   ],
   "source": [
    "'''\n",
    "KNeighborsClassifier 학습데이터셋 정확도: 0.6923\n",
    "KNeighborsClassifier 테스트셋 정확도: 0.5545\n",
    "'''\n",
    "\n",
    "k_range = list(range(1, 31))\n",
    "#weight_options = ['uniform', 'distance']\n",
    "#leaf_size = list(range(10, 50))\n",
    "#p = [1, 2]\n",
    "#algorithm = ['auto', 'ball_tree', 'kd_tree', 'brute']\n",
    "\n",
    "#param_grid = dict(n_neighbors=k_range, weights=weight_options, algorithm=algorithm, leaf_size=leaf_size, p=p)\n",
    "param_grid = dict(n_neighbors=k_range)\n",
    "kf = KFold(n_splits=10, shuffle=False)\n",
    "knn = KNeighborsClassifier(n_neighbors=5)\n",
    "\n",
    "random = RandomizedSearchCV(\n",
    "        estimator=knn,\n",
    "        param_distributions = param_grid,\n",
    "        n_iter = 30,\n",
    "        cv = kf,\n",
    "        scoring = 'accuracy')\n",
    "random.fit(X_train, y_train)\n",
    "#random.fit(principalDf, Y)\n",
    "\n",
    "print('최적 하이퍼 파라미터:\\n', random.best_params_)\n",
    "print('최고 예측 정확도: {0:.4f}'.format(random.best_score_))\n",
    "\n",
    "train_preds = random.predict(X_train)\n",
    "test_preds  = random.predict(X_test)\n",
    "\n",
    "print(' 훈련 정확도: {0:.4}'.format(round(accuracy_score(y_train, train_preds), 4)), \"\\n\",\n",
    "      '시험 정확도: {0:.4}'.format(round(accuracy_score(y_test,  test_preds), 4)), )"
   ]
  },
  {
   "cell_type": "code",
   "execution_count": 17,
   "metadata": {},
   "outputs": [
    {
     "name": "stdout",
     "output_type": "stream",
     "text": [
      "\n",
      "학습데이터셋 정확도: 0.7677\n",
      "테스트셋 정확도: 0.5437\n"
     ]
    }
   ],
   "source": [
    "neighbor_model = KNeighborsClassifier(n_neighbors=3)\n",
    "neighbor_model.fit(X_train , y_train)\n",
    "print('\\n학습데이터셋 정확도: {0:.4f}'.format(neighbor_model.score(X_train , y_train)))\n",
    "pred = neighbor_model.predict(X_test)\n",
    "accuracy = accuracy_score(y_test, pred)    \n",
    "print('테스트셋 정확도: {0:.4f}'.format(accuracy))"
   ]
  },
  {
   "cell_type": "markdown",
   "metadata": {},
   "source": [
    "### SVC RandomizedSearch"
   ]
  },
  {
   "cell_type": "code",
   "execution_count": 18,
   "metadata": {},
   "outputs": [
    {
     "name": "stdout",
     "output_type": "stream",
     "text": [
      "최적 하이퍼 파라미터:\n",
      " {'kernel': 'sigmoid', 'C': 1}\n",
      "최고 예측 정확도: 0.5795\n",
      " 훈련 정확도: 0.5575 \n",
      " 시험 정확도: 0.6214\n"
     ]
    }
   ],
   "source": [
    "'''\n",
    "SVC 학습데이터셋 정확도: 0.7320\n",
    "SVC 테스트셋 정확도: 0.6733\n",
    "'''\n",
    "c_range = [0.1,1, 10, 100]\n",
    "kernel = ['rbf', 'poly', 'sigmoid']\n",
    "param_grid = {'C':c_range, 'kernel': kernel}\n",
    "kf = KFold(n_splits=10, shuffle=False)\n",
    "svc = SVC()\n",
    "\n",
    "random = RandomizedSearchCV(\n",
    "        estimator=svc,\n",
    "        param_distributions = param_grid,\n",
    "        n_iter = 10,\n",
    "        cv = kf,\n",
    "        scoring = 'accuracy',)\n",
    "random.fit(X_train, y_train)\n",
    "#random.fit(principalDf, Y)\n",
    "\n",
    "print('최적 하이퍼 파라미터:\\n', random.best_params_)\n",
    "print('최고 예측 정확도: {0:.4f}'.format(random.best_score_))\n",
    "\n",
    "train_preds = random.predict(X_train)\n",
    "test_preds  = random.predict(X_test)\n",
    "\n",
    "print(' 훈련 정확도: {0:.4}'.format(round(accuracy_score(y_train, train_preds), 4)), \"\\n\",\n",
    "      '시험 정확도: {0:.4}'.format(round(accuracy_score(y_test,  test_preds), 4)), )"
   ]
  },
  {
   "cell_type": "markdown",
   "metadata": {},
   "source": [
    "### Voting 모델"
   ]
  },
  {
   "cell_type": "code",
   "execution_count": 19,
   "metadata": {},
   "outputs": [
    {
     "name": "stdout",
     "output_type": "stream",
     "text": [
      "VotingClassifier(hard) 정확도: 0.6893\n",
      "VotingClassifier(soft) 정확도: 0.6505\n"
     ]
    },
    {
     "data": {
      "text/plain": [
       "['VotingClassifier_soft.pkl']"
      ]
     },
     "execution_count": 19,
     "metadata": {},
     "output_type": "execute_result"
    }
   ],
   "source": [
    "from sklearn.tree import DecisionTreeClassifier\n",
    "from sklearn.ensemble import RandomForestClassifier, AdaBoostClassifier, ExtraTreesClassifier, BaggingClassifier, GradientBoostingClassifier\n",
    "from sklearn.svm import SVC\n",
    "from xgboost import XGBClassifier\n",
    "from lightgbm import LGBMClassifier\n",
    "from sklearn.neighbors import KNeighborsClassifier\n",
    "from sklearn.linear_model import LogisticRegressionCV, RidgeClassifier\n",
    "# VotingClassifier\n",
    "from sklearn.ensemble import VotingClassifier\n",
    "\n",
    "models = [\n",
    "    ('ada', AdaBoostClassifier()),\n",
    "    ('bc', BaggingClassifier()),\n",
    "    ('etc',ExtraTreesClassifier()),\n",
    "    ('gbc', GradientBoostingClassifier()),\n",
    "    ('rfc', RandomForestClassifier()),\n",
    "    ('knn', KNeighborsClassifier()),\n",
    "    ('svc', SVC(probability=True)),\n",
    "    ('xgb', XGBClassifier(eval_metric = \"logloss\")),\n",
    "    ('lgbm', LGBMClassifier()),\n",
    "    ('dtc', DecisionTreeClassifier()),\n",
    "    ('lr', LogisticRegressionCV())\n",
    "]\n",
    "\n",
    "# hard vote\n",
    "hard_vote  = VotingClassifier(models, voting='hard')\n",
    "hard_vote.fit(X_train, y_train)\n",
    "pred = hard_vote.predict(X_test)\n",
    "accuracy = accuracy_score(y_test , pred)\n",
    "print('VotingClassifier(hard) 정확도: {0:.4f}'.format(accuracy))\n",
    "\n",
    "# soft vote\n",
    "soft_vote  = VotingClassifier(models, voting='soft')\n",
    "soft_vote.fit(X_train, y_train)\n",
    "pred = soft_vote.predict(X_test)\n",
    "accuracy = accuracy_score(y_test , pred)\n",
    "print('VotingClassifier(soft) 정확도: {0:.4f}'.format(accuracy))\n",
    "\n",
    "joblib.dump(hard_vote, \"VotingClassifier_hard\"+'.pkl')\n",
    "joblib.dump(soft_vote, \"VotingClassifier_soft\"+'.pkl')"
   ]
  },
  {
   "cell_type": "markdown",
   "metadata": {},
   "source": [
    "### MLP 모델"
   ]
  },
  {
   "cell_type": "code",
   "execution_count": 20,
   "metadata": {},
   "outputs": [
    {
     "name": "stdout",
     "output_type": "stream",
     "text": [
      "Epoch 1/10\n",
      "41/41 [==============================] - 0s 1ms/step - loss: 0.6933 - accuracy: 0.4694\n",
      "Epoch 2/10\n",
      "41/41 [==============================] - 0s 1ms/step - loss: 0.6914 - accuracy: 0.5501\n",
      "Epoch 3/10\n",
      "41/41 [==============================] - 0s 1ms/step - loss: 0.6901 - accuracy: 0.5428\n",
      "Epoch 4/10\n",
      "41/41 [==============================] - 0s 2ms/step - loss: 0.6887 - accuracy: 0.5477\n",
      "Epoch 5/10\n",
      "41/41 [==============================] - 0s 3ms/step - loss: 0.6880 - accuracy: 0.5306: 0s - loss: 0.6850 - accuracy: 0.\n",
      "Epoch 6/10\n",
      "41/41 [==============================] - 0s 1ms/step - loss: 0.6869 - accuracy: 0.5403\n",
      "Epoch 7/10\n",
      "41/41 [==============================] - 0s 1ms/step - loss: 0.6850 - accuracy: 0.5550\n",
      "Epoch 8/10\n",
      "41/41 [==============================] - 0s 1ms/step - loss: 0.6833 - accuracy: 0.5550\n",
      "Epoch 9/10\n",
      "41/41 [==============================] - 0s 1ms/step - loss: 0.6818 - accuracy: 0.5844\n",
      "Epoch 10/10\n",
      "41/41 [==============================] - 0s 999us/step - loss: 0.6798 - accuracy: 0.5819\n",
      "4/4 [==============================] - 0s 1ms/step - loss: 0.6812 - accuracy: 0.5825\n",
      "Sequential 정확도: 0.5825, Loss: 0.6812\n"
     ]
    }
   ],
   "source": [
    "model = MLP_Classifier(len(principalDf.columns), X_train, y_train, X_test, y_test, modelSave=True)"
   ]
  },
  {
   "cell_type": "markdown",
   "metadata": {},
   "source": [
    "### X, Y 정의 (회귀)"
   ]
  },
  {
   "cell_type": "code",
   "execution_count": 21,
   "metadata": {},
   "outputs": [
    {
     "name": "stdout",
     "output_type": "stream",
     "text": [
      "주성분 19개로 전체 데이터의 분산을 99.90307940319236만큼 설명\n",
      "\n",
      "y_test의 평균값(0.0030646641358057494)으로 매일 예측했을 때의 MSE는 다음과 같다.\n",
      "MSE: 0.00032094\n",
      "즉, 위 값보다 작은 MSE 가 나와야 함.\n",
      "\n",
      "### LinearRegression ###\n",
      "MSE: 0.00053431\n",
      "### RandomForestRegressor ###\n",
      "MSE: 0.00029770\n",
      "### GradientBoostingRegressor ###\n",
      "MSE: 0.00037105\n",
      "### XGBRegressor ###\n",
      "MSE: 0.00034073\n",
      "### LGBMRegressor ###\n",
      "MSE: 0.00036963\n"
     ]
    }
   ],
   "source": [
    "df = pd.read_csv('./df.csv',  index_col=['Date'], parse_dates=True, encoding='euc-kr')\n",
    "\n",
    "# Y\n",
    "df['predChange'] = df['samsung'].shift(-1)\n",
    "df.dropna(inplace=True, axis=0)\n",
    "\n",
    "Y = df['predChange']\n",
    "\n",
    "# X\n",
    "\n",
    "X = df.drop(['predChange'], axis=1,inplace=False)\n",
    "\n",
    "n_components = 19\n",
    "columns = ['PCA_'+str(x) for x in range(0, n_components)]\n",
    "\n",
    "pca = PCA(n_components=n_components) \n",
    "printcipalComponents = pca.fit_transform(X)\n",
    "principalDf = pd.DataFrame(data=printcipalComponents, columns = columns, index=X.index)\n",
    "print(f'주성분 {n_components}개로 전체 데이터의 분산을 {str(sum(pca.explained_variance_ratio_)*100)}만큼 설명\\n')\n",
    "\n",
    "X_train, X_test, y_train, y_test = train_test_split(principalDf, Y, test_size=0.3, shuffle=False, random_state=0)\n",
    "\n",
    "# 기준선 : 매일 변화율의 평균으로 예측했을 때의 MSE\n",
    "changeMean = y_test.mean()\n",
    "print(f\"y_test의 평균값({changeMean})으로 매일 예측했을 때의 MSE는 다음과 같다.\")\n",
    "mse(y_test, changeMean)\n",
    "print(\"즉, 위 값보다 작은 MSE 가 나와야 함.\\n\")\n",
    "\n",
    "model_list = machineLearning_Regression(X_train, y_train, X_test, y_test, drawGraph=False)"
   ]
  },
  {
   "cell_type": "markdown",
   "metadata": {},
   "source": [
    "### train 과 test 비율 조정하여 재시도"
   ]
  },
  {
   "cell_type": "code",
   "execution_count": 22,
   "metadata": {},
   "outputs": [
    {
     "name": "stdout",
     "output_type": "stream",
     "text": [
      "### LinearRegression ###\n",
      "MSE: 0.00055102\n",
      "### RandomForestRegressor ###\n",
      "MSE: 0.00029995\n",
      "### GradientBoostingRegressor ###\n",
      "MSE: 0.00037623\n",
      "### XGBRegressor ###\n",
      "MSE: 0.00037830\n",
      "### LGBMRegressor ###\n",
      "MSE: 0.00036107\n"
     ]
    }
   ],
   "source": [
    "test_ratio = 0.29\n",
    "X_train, X_test, y_train, y_test = train_test_split(principalDf, Y, test_size=test_ratio, shuffle=False, random_state=0)\n",
    "model_list = machineLearning_Regression(X_train, y_train, X_test, y_test, drawGraph=False)"
   ]
  },
  {
   "cell_type": "markdown",
   "metadata": {},
   "source": [
    "### Voting 모델"
   ]
  },
  {
   "cell_type": "code",
   "execution_count": 23,
   "metadata": {},
   "outputs": [
    {
     "name": "stdout",
     "output_type": "stream",
     "text": [
      "MSE: 0.00032871\n",
      "VotingClassifier MSE: 0.00032871\n"
     ]
    }
   ],
   "source": [
    "# VotingClassifier\n",
    "from sklearn.ensemble import VotingRegressor\n",
    "models = [\n",
    "    ('gbc', GradientBoostingRegressor(n_estimators=500)),\n",
    "    ('rfc', RandomForestRegressor(n_estimators=500)),\n",
    "    ('xgb', XGBRegressor(n_estimators=500)),\n",
    "    ('lgbm', LGBMRegressor(n_estimators=500)),\n",
    "    ('lr', LinearRegression())\n",
    "]\n",
    "\n",
    "vote  = VotingRegressor(models)\n",
    "vote.fit(X_train, y_train)\n",
    "pred = vote.predict(X_test)\n",
    "mseVal = mse(y_test, pred)\n",
    "print('VotingClassifier MSE: {0:.8f}'.format(mseVal))"
   ]
  },
  {
   "cell_type": "markdown",
   "metadata": {},
   "source": [
    "### MLP 모델"
   ]
  },
  {
   "cell_type": "code",
   "execution_count": 24,
   "metadata": {},
   "outputs": [
    {
     "name": "stdout",
     "output_type": "stream",
     "text": [
      "Epoch 1/10\n",
      "19/19 [==============================] - 0s 1ms/step - loss: 3.4555e-04 - mse: 3.4555e-04\n",
      "Epoch 2/10\n",
      "19/19 [==============================] - 0s 2ms/step - loss: 3.3503e-04 - mse: 3.3503e-04\n",
      "Epoch 3/10\n",
      "19/19 [==============================] - 0s 2ms/step - loss: 3.2564e-04 - mse: 3.2564e-04\n",
      "Epoch 4/10\n",
      "19/19 [==============================] - 0s 2ms/step - loss: 3.2213e-04 - mse: 3.2213e-04\n",
      "Epoch 5/10\n",
      "19/19 [==============================] - 0s 2ms/step - loss: 3.0421e-04 - mse: 3.0421e-04\n",
      "Epoch 6/10\n",
      "19/19 [==============================] - 0s 2ms/step - loss: 3.0459e-04 - mse: 3.0459e-04\n",
      "Epoch 7/10\n",
      "19/19 [==============================] - 0s 2ms/step - loss: 2.8098e-04 - mse: 2.8098e-04\n",
      "Epoch 8/10\n",
      "19/19 [==============================] - 0s 2ms/step - loss: 2.7600e-04 - mse: 2.7600e-04\n",
      "Epoch 9/10\n",
      "19/19 [==============================] - 0s 2ms/step - loss: 2.5912e-04 - mse: 2.5912e-04\n",
      "Epoch 10/10\n",
      "19/19 [==============================] - 0s 2ms/step - loss: 2.5496e-04 - mse: 2.5496e-04\n",
      "### Sequential ###\n",
      "MSE: 0.00037845\n"
     ]
    },
    {
     "data": {
      "image/png": "[encoded data removed]",
      "text/plain": [
       "<Figure size 842.4x595.44 with 1 Axes>"
      ]
     },
     "metadata": {
      "needs_background": "light"
     },
     "output_type": "display_data"
    },
    {
     "data": {
      "text/plain": [
       "<tensorflow.python.keras.engine.sequential.Sequential at 0x200abf3a250>"
      ]
     },
     "execution_count": 24,
     "metadata": {},
     "output_type": "execute_result"
    }
   ],
   "source": [
    "MLP_Regression(len(X.columns), X_train, y_train, X_test, y_test, epochs=10, batch_size=20)"
   ]
  },
  {
   "cell_type": "code",
   "execution_count": null,
   "metadata": {},
   "outputs": [],
   "source": []
  }
 ],
 "metadata": {
  "kernelspec": {
   "display_name": "Python 3",
   "language": "python",
   "name": "python3"
  },
  "language_info": {
   "codemirror_mode": {
    "name": "ipython",
    "version": 3
   },
   "file_extension": ".py",
   "mimetype": "text/x-python",
   "name": "python",
   "nbconvert_exporter": "python",
   "pygments_lexer": "ipython3",
   "version": "3.8.5"
  }
 },
 "nbformat": 4,
 "nbformat_minor": 4
}
